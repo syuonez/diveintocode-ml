{
 "cells": [
  {
   "cell_type": "markdown",
   "metadata": {},
   "source": [
    "【問題1】べき乗の算術演算子を使用して作成\n",
    "べき乗の算術演算子を使用したプログラムを作ってください。\n",
    "雛形として紙を1回折った時の厚さを計算するコードを用意しました。これを43回折った時のコードに書き換えてください。"
   ]
  },
  {
   "cell_type": "code",
   "execution_count": 14,
   "metadata": {},
   "outputs": [
    {
     "name": "stdout",
     "output_type": "stream",
     "text": [
      "厚さ： 703687441.77664メートル\n"
     ]
    }
   ],
   "source": [
    "\"\"\"\n",
    "紙を43回折った時の厚さを計算するコード\n",
    "\"\"\"\n",
    "\n",
    "THICKNESS = 0.00008\n",
    "\n",
    "folded_thickness = THICKNESS*2**43\n",
    "\n",
    "print(\"厚さ： {}メートル\".format(folded_thickness))"
   ]
  },
  {
   "cell_type": "markdown",
   "metadata": {},
   "source": [
    "【問題2】単位の変換\n",
    "単位がメートルだと実感が湧きづらいので、◯◯万キロメートル に変換して表示させてください。\n",
    "サンプルとして ◯◯キロメートル に変換したコードを用意したので、参考にして取り組んでください。小数点以下は2桁まで表示されるようにも指定しています。"
   ]
  },
  {
   "cell_type": "code",
   "execution_count": 15,
   "metadata": {},
   "outputs": [
    {
     "name": "stdout",
     "output_type": "stream",
     "text": [
      "厚さ： 70.37万キロメートル\n"
     ]
    }
   ],
   "source": [
    "# メートルをキロメートルに変換して小数点以下2桁で表示する\n",
    "print(\"厚さ： {:.2f}万キロメートル\".format(folded_thickness/10000000))"
   ]
  },
  {
   "cell_type": "markdown",
   "metadata": {},
   "source": [
    "月までの距離　38.44万キロメートル　月まで届く"
   ]
  },
  {
   "cell_type": "markdown",
   "metadata": {},
   "source": [
    "【問題3】for文を使用して作成\n",
    "次に、for文を使用したプログラムを作ってください。\n",
    "\n",
    "べき乗の算術演算子は使ってはいけません。算術演算子は四則演算（+、-、*、/）のみ使えます。"
   ]
  },
  {
   "cell_type": "code",
   "execution_count": 82,
   "metadata": {
    "scrolled": true
   },
   "outputs": [
    {
     "name": "stdout",
     "output_type": "stream",
     "text": [
      "0.00016\n",
      "0.00032\n",
      "0.00064\n"
     ]
    }
   ],
   "source": [
    "result = 0.00008\n",
    "#畳む回数\n",
    "\n",
    "n = 3\n",
    "\n",
    "for a in range(n):\n",
    "        result = (result * 2 )\n",
    "        print(result)"
   ]
  },
  {
   "cell_type": "code",
   "execution_count": 130,
   "metadata": {},
   "outputs": [
    {
     "name": "stdout",
     "output_type": "stream",
     "text": [
      "厚さ： 8.572068857490139e+296メートル\n"
     ]
    }
   ],
   "source": [
    "THICKNESS = 0.00008\n",
    "x = []\n",
    "#畳む回数n\n",
    "n = 43\n",
    "for _  in range( n ):\n",
    "    THICKNESS = (THICKNESS * 2 )\n",
    "    x.append(THICKNESS)\n",
    "    if len(x) == n:\n",
    "        print(\"厚さ： {}メートル\".format(x[-1]))"
   ]
  },
  {
   "cell_type": "code",
   "execution_count": 104,
   "metadata": {},
   "outputs": [
    {
     "name": "stdout",
     "output_type": "stream",
     "text": [
      "\r",
      "厚さ： 0.00万キロメートル\r",
      "厚さ： 0.00万キロメートル\r",
      "厚さ： 0.00万キロメートル\r",
      "厚さ： 0.00万キロメートル\r",
      "厚さ： 0.00万キロメートル\r",
      "厚さ： 0.00万キロメートル\r",
      "厚さ： 0.00万キロメートル\r",
      "厚さ： 0.00万キロメートル\r",
      "厚さ： 0.00万キロメートル\r",
      "厚さ： 0.00万キロメートル\r",
      "厚さ： 0.00万キロメートル\r",
      "厚さ： 0.00万キロメートル\r",
      "厚さ： 0.00万キロメートル\r",
      "厚さ： 0.00万キロメートル\r",
      "厚さ： 0.00万キロメートル\r",
      "厚さ： 0.00万キロメートル\r",
      "厚さ： 0.00万キロメートル\r",
      "厚さ： 0.00万キロメートル\r",
      "厚さ： 0.00万キロメートル\r",
      "厚さ： 0.00万キロメートル\r",
      "厚さ： 0.00万キロメートル\r",
      "厚さ： 0.00万キロメートル\r",
      "厚さ： 0.00万キロメートル\r",
      "厚さ： 0.00万キロメートル\r",
      "厚さ： 0.00万キロメートル\r",
      "厚さ： 0.00万キロメートル\r",
      "厚さ： 0.00万キロメートル\r",
      "厚さ： 0.00万キロメートル\r",
      "厚さ： 0.00万キロメートル\r",
      "厚さ： 0.01万キロメートル\r",
      "厚さ： 0.02万キロメートル\r",
      "厚さ： 0.03万キロメートル\r",
      "厚さ： 0.07万キロメートル\r",
      "厚さ： 0.14万キロメートル\r",
      "厚さ： 0.27万キロメートル\r",
      "厚さ： 0.55万キロメートル\r",
      "厚さ： 1.10万キロメートル\r",
      "厚さ： 2.20万キロメートル\r",
      "厚さ： 4.40万キロメートル\r",
      "厚さ： 8.80万キロメートル\r",
      "厚さ： 17.59万キロメートル\r",
      "厚さ： 35.18万キロメートル\r",
      "厚さ： 70.37万キロメートル"
     ]
    }
   ],
   "source": [
    "import time\n",
    "result = 0.00008\n",
    "n = 43\n",
    "for i in range(n):\n",
    "    result = (result * 2 )\n",
    "    print(\"\\r\"+\"厚さ： {:.2f}万キロメートル\".format(int(result)/10000000),end=\"\")\n",
    "    time.sleep(0.0001)"
   ]
  },
  {
   "cell_type": "markdown",
   "metadata": {},
   "source": [
    "【問題4】計算時間の比較\n",
    "2つの方法はどちらが正しいわけでもありませんが、コードの良さを評価する際には以下のような着目点があります。\n",
    "\n",
    "計算速度\n",
    "メモリの使用量\n",
    "可読性\n",
    "拡張性\n",
    "再利用性\n",
    "今回は計算速度を比較してみます。以下の雛形を使用して、2つの方法の計算時間を出力してください。そして、それぞれの計算時間の関係を簡単に説明してください。どちらの書き方が良さそうでしょうか。なお、変数の定義やprint文など、どちらの方法でも使われている部分は除いた範囲の時間を比較してください。"
   ]
  },
  {
   "cell_type": "code",
   "execution_count": 122,
   "metadata": {},
   "outputs": [
    {
     "name": "stdout",
     "output_type": "stream",
     "text": [
      "time : 0.0020360946655273438[s]\n"
     ]
    }
   ],
   "source": [
    "\"\"\"\n",
    "べき乗で計算\n",
    "\"\"\"\n",
    "import time\n",
    "start = time.time()\n",
    "#####\n",
    "folded_thickness = THICKNESS*2**43\n",
    "#####\n",
    "elapsed_time = time.time() - start\n",
    "print(\"time : {}[s]\".format(elapsed_time))"
   ]
  },
  {
   "cell_type": "code",
   "execution_count": 125,
   "metadata": {},
   "outputs": [
    {
     "name": "stdout",
     "output_type": "stream",
     "text": [
      "time : 0.0005249977111816406[s]\n"
     ]
    }
   ],
   "source": [
    "\"\"\"\n",
    "forで計算\n",
    "\"\"\"\n",
    "start = time.time()\n",
    "#####\n",
    "x = []\n",
    "n = 43\n",
    "for _  in range( n ):\n",
    "    THICKNESS = (THICKNESS * 2 )\n",
    "    x.append(THICKNESS)\n",
    "    if len(x) == n:\n",
    "#####\n",
    "        elapsed_time = time.time() - start\n",
    "        print(\"time : {}[s]\".format(elapsed_time))"
   ]
  },
  {
   "cell_type": "markdown",
   "metadata": {},
   "source": [
    "＃考察\n",
    "計算速度はforで計算した方が、べき乗で計算するより早かった。"
   ]
  },
  {
   "cell_type": "markdown",
   "metadata": {},
   "source": [
    "《発展：繰り返し回数を増やす》\n",
    "43回程度では2つの方法の差が出にくいかもしれません。そういった時は、回数をより増やして差を明確にしてみると良いでしょう"
   ]
  },
  {
   "cell_type": "code",
   "execution_count": 126,
   "metadata": {},
   "outputs": [
    {
     "name": "stdout",
     "output_type": "stream",
     "text": [
      "time : 5.1975250244140625e-05[s]\n"
     ]
    }
   ],
   "source": [
    "\"\"\"\n",
    "べき乗で計算\n",
    "\"\"\"\n",
    "import time\n",
    "start = time.time()\n",
    "#####\n",
    "folded_thickness = THICKNESS*2**1000\n",
    "#####\n",
    "elapsed_time = time.time() - start\n",
    "print(\"time : {}[s]\".format(elapsed_time))"
   ]
  },
  {
   "cell_type": "code",
   "execution_count": 127,
   "metadata": {},
   "outputs": [
    {
     "name": "stdout",
     "output_type": "stream",
     "text": [
      "time : 0.0006940364837646484[s]\n"
     ]
    }
   ],
   "source": [
    "\"\"\"\n",
    "forで計算\n",
    "\"\"\"\n",
    "start = time.time()\n",
    "#####\n",
    "x = []\n",
    "n = 1000\n",
    "for _  in range( n ):\n",
    "    THICKNESS = (THICKNESS * 2 )\n",
    "    x.append(THICKNESS)\n",
    "    if len(x) == n:\n",
    "#####\n",
    "        elapsed_time = time.time() - start\n",
    "        print(\"time : {}[s]\".format(elapsed_time))"
   ]
  },
  {
   "cell_type": "markdown",
   "metadata": {},
   "source": [
    "《発展：マジックコマンドを使う》\n",
    "\n",
    "計算時間は実行するたびに変化します。そのため、複数回計測することが一般的です。timeモジュールとfor文を組み合わせることで実現できる他、Jupyter Notebookでは%timeitという マジックコマンド でも計測が可能です。マジックコマンドはPythonのプログラムとは別に用意された、Jupyter Notebookを便利にするための機能です。\n",
    "計測したいコードを書いたセルのはじめに%%timeitと入れて実行します。"
   ]
  },
  {
   "cell_type": "code",
   "execution_count": 175,
   "metadata": {},
   "outputs": [
    {
     "name": "stdout",
     "output_type": "stream",
     "text": [
      "57.7 ns ± 1.59 ns per loop (mean ± std. dev. of 7 runs, 10000000 loops each)\n"
     ]
    }
   ],
   "source": [
    "%%timeit\n",
    "#####\n",
    "folded_thickness = THICKNESS*2**43\n",
    "#####"
   ]
  },
  {
   "cell_type": "markdown",
   "metadata": {},
   "source": [
    "【問題5】リストへの保存\n",
    "ここまでは43回折った後の最後の値だけを使用していましたが、グラフで可視化するためには過程の値も必要です。for文を使用したコードに、過程の値合計44個を記録するコードを加えてください。\n",
    "\n",
    "《ヒント》\n",
    "空のリストを作成する。\n",
    "折る前の値をリストに追加する。\n",
    "for文の中でn回折った時の値をリストに追加していく。"
   ]
  },
  {
   "cell_type": "code",
   "execution_count": 176,
   "metadata": {
    "scrolled": true
   },
   "outputs": [
    {
     "name": "stdout",
     "output_type": "stream",
     "text": [
      "44\n",
      "[8e-05, 0.00016, 0.00032, 0.00064, 0.00128, 0.00256, 0.00512, 0.01024, 0.02048, 0.04096, 0.08192, 0.16384, 0.32768, 0.65536, 1.31072, 2.62144, 5.24288, 10.48576, 20.97152, 41.94304, 83.88608, 167.77216, 335.54432, 671.08864, 1342.17728, 2684.35456, 5368.70912, 10737.41824, 21474.83648, 42949.67296, 85899.34592, 171798.69184, 343597.38368, 687194.76736, 1374389.53472, 2748779.06944, 5497558.13888, 10995116.27776, 21990232.55552, 43980465.11104, 87960930.22208, 175921860.44416, 351843720.88832, 703687441.77664]\n"
     ]
    }
   ],
   "source": [
    "THICKNESS = 0.00008\n",
    "x = [THICKNESS]\n",
    "#畳む回数n\n",
    "n = 43\n",
    "for _  in range( n ):\n",
    "    THICKNESS = (THICKNESS * 2 )\n",
    "    x.append(THICKNESS)\n",
    "    if len(x) == n+1:\n",
    "        print(len(x))\n",
    "        print(x)"
   ]
  },
  {
   "cell_type": "markdown",
   "metadata": {},
   "source": [
    "【問題6】折れ線グラフの表示\n",
    "グラフの描画には Matplotlib という ライブラリ を用います。リストへ記録するコードの後ろで以下の雛形を使用してください"
   ]
  },
  {
   "cell_type": "code",
   "execution_count": 190,
   "metadata": {},
   "outputs": [
    {
     "name": "stdout",
     "output_type": "stream",
     "text": [
      "44\n",
      "[8e-05, 0.00016, 0.00032, 0.00064, 0.00128, 0.00256, 0.00512, 0.01024, 0.02048, 0.04096, 0.08192, 0.16384, 0.32768, 0.65536, 1.31072, 2.62144, 5.24288, 10.48576, 20.97152, 41.94304, 83.88608, 167.77216, 335.54432, 671.08864, 1342.17728, 2684.35456, 5368.70912, 10737.41824, 21474.83648, 42949.67296, 85899.34592, 171798.69184, 343597.38368, 687194.76736, 1374389.53472, 2748779.06944, 5497558.13888, 10995116.27776, 21990232.55552, 43980465.11104, 87960930.22208, 175921860.44416, 351843720.88832, 703687441.77664]\n"
     ]
    },
    {
     "data": {
      "image/png": "[encoded data removed]",
      "text/plain": [
       "<Figure size 432x288 with 1 Axes>"
      ]
     },
     "metadata": {
      "needs_background": "light"
     },
     "output_type": "display_data"
    }
   ],
   "source": [
    "THICKNESS = 0.00008\n",
    "x = [THICKNESS]\n",
    "#畳む回数n\n",
    "n = 43\n",
    "for _  in range( n ):\n",
    "    THICKNESS = (THICKNESS * 2 )\n",
    "    x.append(THICKNESS)\n",
    "    if len(x) == n+1: \n",
    "        print(len(x))\n",
    "        print(x)\n",
    "\"\"\"\n",
    "グラフを表示する。タイトルと軸ラベル名付き。\n",
    "\"\"\"\n",
    "import matplotlib.pyplot as plt\n",
    "%matplotlib inline\n",
    "\n",
    "plt.title(\"thickness of folded paper\")\n",
    "plt.xlabel(\"number of folds\")\n",
    "plt.ylabel(\"thickness[m]\")\n",
    "plt.plot(x) # 「リスト名」のところにリストの変数名を入れる\n",
    "plt.show()"
   ]
  },
  {
   "cell_type": "markdown",
   "metadata": {},
   "source": [
    "＃考察\n",
    "指数関数の性質と同じように、折りたたむ回数が増えると急激に値（厚さ）が増加している様子がわかる。折りたたむ回数が４３回以外の時も、同様の傾向がみられる。"
   ]
  },
  {
   "cell_type": "markdown",
   "metadata": {},
   "source": [
    "【問題7】グラフのカスタマイズ\n",
    "グラフをより見やすくカスタマイズしてみましょう。カスタマイズしたグラフを最低3種類作成してください"
   ]
  },
  {
   "cell_type": "code",
   "execution_count": 191,
   "metadata": {},
   "outputs": [
    {
     "data": {
      "image/png": "[encoded data removed]",
      "text/plain": [
       "<Figure size 432x288 with 1 Axes>"
      ]
     },
     "metadata": {
      "needs_background": "light"
     },
     "output_type": "display_data"
    }
   ],
   "source": [
    "\"\"\"\n",
    "赤い折れ線グラフを表示する。\n",
    "\"\"\"\n",
    "plt.title(\"thickness of folded paper\")\n",
    "plt.xlabel(\"number of folds\")\n",
    "plt.ylabel(\"thickness[m]\")\n",
    "plt.plot(x, color='red')\n",
    "plt.show()"
   ]
  },
  {
   "cell_type": "code",
   "execution_count": 210,
   "metadata": {
    "scrolled": true
   },
   "outputs": [
    {
     "data": {
      "image/png": "[encoded data removed]",
      "text/plain": [
       "<Figure size 432x288 with 1 Axes>"
      ]
     },
     "metadata": {
      "needs_background": "light"
     },
     "output_type": "display_data"
    }
   ],
   "source": [
    "\"\"\"\n",
    "軸の値を大きく表示する。\n",
    "\"\"\"\n",
    "plt.title(\"thickness of folded paper\")\n",
    "plt.xlabel(\"number of folds\")\n",
    "plt.ylabel(\"thickness[m]\")\n",
    "plt.tick_params(labelsize=20) # 軸の値に関する設定を行う\n",
    "plt.plot(x)\n",
    "plt.show()"
   ]
  },
  {
   "cell_type": "code",
   "execution_count": 194,
   "metadata": {},
   "outputs": [
    {
     "data": {
      "image/png": "[encoded data removed]",
      "text/plain": [
       "<Figure size 432x288 with 1 Axes>"
      ]
     },
     "metadata": {
      "needs_background": "light"
     },
     "output_type": "display_data"
    }
   ],
   "source": [
    "\"\"\"\n",
    "1.折れ線を太くしてグラフを表示する。\n",
    "\"\"\"\n",
    "plt.title(\"thickness of folded paper\")\n",
    "plt.xlabel(\"number of folds\")\n",
    "plt.ylabel(\"thickness[m]\")\n",
    "plt.plot(x, color='red',linewidth=2.5) #線の太さを設定\n",
    "plt.show()"
   ]
  },
  {
   "cell_type": "code",
   "execution_count": 226,
   "metadata": {},
   "outputs": [
    {
     "data": {
      "image/png": "[encoded data removed]",
      "text/plain": [
       "<Figure size 432x288 with 1 Axes>"
      ]
     },
     "metadata": {
      "needs_background": "light"
     },
     "output_type": "display_data"
    }
   ],
   "source": [
    "\"\"\"\n",
    "2.凡例をグラフに表示する。\n",
    "\"\"\"\n",
    "plt.title(\"thickness of folded paper\")\n",
    "plt.xlabel(\"number of folds\")\n",
    "plt.ylabel(\"thickness[m]\")\n",
    "plt.plot(x, color='red',label=\"thickness of folded paper\") # 凡例の名前を設定\n",
    "plt.legend() # 凡例の表示\n",
    "plt.show()\n"
   ]
  },
  {
   "cell_type": "code",
   "execution_count": 222,
   "metadata": {},
   "outputs": [
    {
     "data": {
      "image/png": "[encoded data removed]",
      "text/plain": [
       "<Figure size 432x288 with 1 Axes>"
      ]
     },
     "metadata": {
      "needs_background": "light"
     },
     "output_type": "display_data"
    }
   ],
   "source": [
    "\"\"\"\n",
    "3.ラベルの文字を大きく表示する。\n",
    "\"\"\"\n",
    "plt.title(\"thickness of folded paper\",fontsize=18) #タイトルサイズを設定\n",
    "plt.xlabel(\"number of folds\",fontsize=18) #ラベルサイズを設定\n",
    "plt.ylabel(\"thickness[m]\",fontsize=18) #ラベルサイズを設定\n",
    "plt.plot(x)\n",
    "plt.show()"
   ]
  },
  {
   "cell_type": "code",
   "execution_count": 232,
   "metadata": {},
   "outputs": [
    {
     "data": {
      "image/png": "[encoded data removed]",
      "text/plain": [
       "<Figure size 432x288 with 1 Axes>"
      ]
     },
     "metadata": {
      "needs_background": "light"
     },
     "output_type": "display_data"
    }
   ],
   "source": [
    "\"\"\"\n",
    "４.凡例の位置、余白、文字の大きさ設定\n",
    "\"\"\"\n",
    "plt.title(\"thickness of folded paper\")\n",
    "plt.xlabel(\"number of folds\")\n",
    "plt.ylabel(\"thickness[m]\")\n",
    "plt.plot(x, color='red',label=\"thickness of folded paper\") \n",
    "plt.legend(bbox_to_anchor=(0, 1), loc='upper left', borderaxespad=2, fontsize=14) # 凡例の位置、余白、文字の大きさ設定\n",
    "plt.show()"
   ]
  },
  {
   "cell_type": "code",
   "execution_count": null,
   "metadata": {},
   "outputs": [],
   "source": []
  }
 ],
 "metadata": {
  "kernelspec": {
   "display_name": "Python 3",
   "language": "python",
   "name": "python3"
  },
  "language_info": {
   "codemirror_mode": {
    "name": "ipython",
    "version": 3
   },
   "file_extension": ".py",
   "mimetype": "text/x-python",
   "name": "python",
   "nbconvert_exporter": "python",
   "pygments_lexer": "ipython3",
   "version": "3.7.4"
  }
 },
 "nbformat": 4,
 "nbformat_minor": 2
}
