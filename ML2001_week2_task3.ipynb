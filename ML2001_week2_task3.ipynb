{
 "cells": [
  {
   "cell_type": "markdown",
   "metadata": {},
   "source": [
    "# 2.行列積"
   ]
  },
  {
   "cell_type": "code",
   "execution_count": 1,
   "metadata": {},
   "outputs": [],
   "source": [
    "import numpy as np\n",
    "a_ndarray = np.array([[-1, 2, 3], [4, -5, 6], [7, 8, -9]])\n",
    "b_ndarray = np.array([[0, 2, 1], [0, 2, -8], [2, 9, -1]])"
   ]
  },
  {
   "cell_type": "markdown",
   "metadata": {},
   "source": [
    "# 問題1】行列積を手計算する\n",
    "AとBの行列積を手計算で解いてください。\n",
    "計算過程もマークダウンテキストを用いて説明してください。"
   ]
  },
  {
   "cell_type": "code",
   "execution_count": null,
   "metadata": {},
   "outputs": [],
   "source": [
    "AB = [[ (-1*0) + 2*0 + 3*2  (-1*2 ) + 2*2 + 3*9  (-1*1) + 2*(-8) + 3*(-1)\n",
    "            (4*0) + (-5*0) + 6*2  4*2 + (-5*2) + 6*9  4*1 + (-5)*(-8) + 6*(-1)\n",
    "              7*0 + 8*0 + (-9*2)  7*2 + 8*2 + (-9* 9)  7*1 + 8*(-8) + (-9)*(-1)]]"
   ]
  },
  {
   "cell_type": "markdown",
   "metadata": {},
   "source": [
    "説明　行列Aの1行目と行列Bの１行目を組み合わせて計算　→　(1, 1)成分\n",
    "　　　行列Aの1行目と行列Bの 2行目を組み合わせて計算　→　(1, 2)成分\n",
    "   　　行列Aの1行目と行列Bの 3行目を組み合わせて計算　→　(1, 3)成分\n",
    "  　    行列Aの2行目と行列Bの 1行目を組み合わせて計算　→　(2, 1)成分\n",
    "         行列Aの2行目と行列Bの 2行目を組み合わせて計算　→　(2, 2)成分\n",
    "         行列Aの2行目と行列Bの 3行目を組み合わせて計算　→　(2, 3)成分\n",
    "         行列Aの3行目と行列Bの１行目を組み合わせて計算　→　(3, 1)成分\n",
    "         行列Aの3行目と行列Bの 2行目を組み合わせて計算　→　(3, 2)成分\n",
    "         行列Aの3行目と行列Bの 3行目を組み合わせて計算　→　(3, 3)成分"
   ]
  },
  {
   "cell_type": "code",
   "execution_count": null,
   "metadata": {},
   "outputs": [],
   "source": [
    "       =[[ (0 + 0 + 6)  (-2 + 4 + 27)  (-1 + (-16) + (-3))\n",
    "         (0 + 0 + 12)  (8 + (-10) + 54)  (4 + 40 + (-6))  \n",
    "         (0 + 0 + (-18))  (14 + 16 + (-81)  7 + (-64) + 9)]]"
   ]
  },
  {
   "cell_type": "code",
   "execution_count": null,
   "metadata": {},
   "outputs": [],
   "source": [
    "   = [[6 29 -20\n",
    "        12 52 38\n",
    "        -18 -51 -48]]"
   ]
  },
  {
   "cell_type": "markdown",
   "metadata": {},
   "source": [
    "# 【問題2】NumPyの関数による計算\n",
    "\n",
    "この行列積はNumPyのnp.matmul()やnp.dot()、または@演算子を使うことで簡単に計算できます。\n",
    "これらを使い行列積を計算してください"
   ]
  },
  {
   "cell_type": "code",
   "execution_count": null,
   "metadata": {},
   "outputs": [],
   "source": [
    "a_ndarray = np.array([[-1, 2, 3], [4, -5, 6], [7, 8, -9]])\n",
    "b_ndarray = np.array([[0, 2, 1], [0, 2, -8], [2, 9, -1]])"
   ]
  },
  {
   "cell_type": "code",
   "execution_count": 9,
   "metadata": {},
   "outputs": [
    {
     "data": {
      "text/plain": [
       "array([[  6,  29, -20],\n",
       "       [ 12,  52,  38],\n",
       "       [-18, -51, -48]])"
      ]
     },
     "execution_count": 9,
     "metadata": {},
     "output_type": "execute_result"
    }
   ],
   "source": [
    "# np.matmul()\n",
    "np.matmul(a_ndarray, b_ndarray)"
   ]
  },
  {
   "cell_type": "code",
   "execution_count": 10,
   "metadata": {},
   "outputs": [
    {
     "data": {
      "text/plain": [
       "array([[  6,  29, -20],\n",
       "       [ 12,  52,  38],\n",
       "       [-18, -51, -48]])"
      ]
     },
     "execution_count": 10,
     "metadata": {},
     "output_type": "execute_result"
    }
   ],
   "source": [
    "# np.dot()\n",
    "np.dot(a_ndarray, b_ndarray)"
   ]
  },
  {
   "cell_type": "code",
   "execution_count": 11,
   "metadata": {},
   "outputs": [
    {
     "data": {
      "text/plain": [
       "array([[  6,  29, -20],\n",
       "       [ 12,  52,  38],\n",
       "       [-18, -51, -48]])"
      ]
     },
     "execution_count": 11,
     "metadata": {},
     "output_type": "execute_result"
    }
   ],
   "source": [
    "a_ndarray @ b_ndarray"
   ]
  },
  {
   "cell_type": "markdown",
   "metadata": {},
   "source": [
    "# 【問題3】ある要素の計算を実装"
   ]
  },
  {
   "cell_type": "markdown",
   "metadata": {},
   "source": [
    "この計算をnp.matmul()やnp.dot()、または@演算子を使わずに行うコードを書いてください。"
   ]
  },
  {
   "cell_type": "code",
   "execution_count": 145,
   "metadata": {
    "scrolled": false
   },
   "outputs": [
    {
     "name": "stdout",
     "output_type": "stream",
     "text": [
      "[[6 9 8]]\n",
      "[[4]\n",
      " [7]\n",
      " [1]]\n",
      "1\n",
      "[[0 0 0]]\n",
      "[[24 63  8]]\n"
     ]
    }
   ],
   "source": [
    "K=3\n",
    "matrix1 = np.random.randint(1,10,(1,K)) # 任意の範囲の整数\n",
    "matrix2 = np.random.randint(1,10,(K,1))\n",
    "print(matrix1)\n",
    "print(matrix2)\n",
    "print(matrix1.shape[0])\n",
    "dst0 = np.zeros((matrix1.shape[0],matrix2.shape[0]), dtype=matrix1.dtype) #空の行列作成\n",
    "print(dst0)\n",
    "\n",
    "for i in range(matrix1.shape[0]): #matrix1.shape[0]=1 range(1)  i=0\n",
    "    for k in range(matrix2.shape[0]): # matrix2.shape[0]=3  range(3) k=0,1,2 \n",
    "        dst0[i, k] = dst0[i, k] + matrix1[i, k] * matrix2[k, i]\n",
    "print(dst0)"
   ]
  },
  {
   "cell_type": "markdown",
   "metadata": {},
   "source": [
    "# 【問題4】行列積を行う関数の作成\n",
    "問題3のコードを拡張し、行列積のスクラッチ実装を完成させてください。行列AとBを引数に受け取り、行列積を返す関数としてください。\n",
    "\n",
    "行列積を計算する場合は、問題3の計算を異なる行や列に対して繰り返していくことになります。\n"
   ]
  },
  {
   "cell_type": "code",
   "execution_count": 273,
   "metadata": {},
   "outputs": [
    {
     "name": "stdout",
     "output_type": "stream",
     "text": [
      "mat1 [[2 3 2]\n",
      " [9 1 3]\n",
      " [2 7 1]]\n",
      "mat2 [[1 2 9]\n",
      " [3 7 6]\n",
      " [1 3 5]]\n",
      "dst1 [[ 13  31  46]\n",
      " [ 15  34 102]\n",
      " [ 24  56  65]]\n",
      "dst2 [[ 13  31  46]\n",
      " [ 15  34 102]\n",
      " [ 24  56  65]]\n"
     ]
    }
   ],
   "source": [
    "def matrix_multiplication(mat1,mat2):\n",
    "    dst1 = np.zeros((mat1.shape[0], mat2.shape[1]), dtype=mat1.dtype) #空の行列を作っておく　dtype=mat1.dtypeをつける意味？\n",
    "\n",
    "    for i in range(mat1.shape[0]): #0 1  shape[0] は行 2  mat2.shape[1]は 列２\n",
    "        for j in range(mat2.shape[1]): #0 1\n",
    "            for k in range(mat1.shape[1]): #0 1\n",
    "                dst1[i, j] = dst1[i, j] + mat1[i, k] * mat2[k, j] # 多重ループ　空に入れていく\n",
    "    return dst1\n",
    "\n",
    "\n",
    "mat1 = np.random.randint(1, 10, (3, 3))\n",
    "mat2 = np.random.randint(1, 10, (3, 3))\n",
    "\n",
    "print('mat1', mat1)\n",
    "print('mat2', mat2)\n",
    "\n",
    "x =matrix_multiplication(mat1,mat2)\n",
    "print('dst1', x)\n",
    "\n",
    "# numpy を利用した行列積\n",
    "dst2 = np.matmul(mat1, mat2)\n",
    "print('dst2', dst2)\n",
    "\n"
   ]
  },
  {
   "cell_type": "markdown",
   "metadata": {},
   "source": [
    "# 【問題5】計算が定義されない入力を判定する\n",
    "問題4で作成した関数は、実装方法によってはこのDとEの配列を入力しても動いてしまう可能性があります。この場合、不適切な計算が行われることになります。また、途中でエラーになる場合でも、なぜエラーになったかが直接的には分かりづらいメッセージが表示されます。\n",
    "\n",
    "if文などによってこれを防ぎ、入力される形に問題があることをprint()を使い表示するコードを書き加えてください。\n"
   ]
  },
  {
   "cell_type": "code",
   "execution_count": 248,
   "metadata": {},
   "outputs": [
    {
     "name": "stdout",
     "output_type": "stream",
     "text": [
      "mat1 [[2]\n",
      " [9]\n",
      " [5]]\n",
      "mat2 [[4 1 7]\n",
      " [9 6 9]\n",
      " [6 1 2]]\n",
      "エラー: 行列mat1 の2次元目の要素数と行列mat2の1次元目の要素数が異なるため計算終了\n",
      "dst1 None\n"
     ]
    }
   ],
   "source": [
    "def matrix_multiplication(mat1,mat2):\n",
    "    if x== y: \n",
    "        dst1 = np.zeros((mat1.shape[0], mat2.shape[1]), dtype=mat1.dtype)\n",
    "        for i in range(mat1.shape[0]):\n",
    "            for j in range(mat2.shape[1]): \n",
    "                 for k in range(mat1.shape[1]): \n",
    "                    dst1[i, j] = dst1[i, j] + mat1[i, k] * mat2[k, j] \n",
    "        return dst1\n",
    "    else: \n",
    "          print('エラー: 行列mat1 の2次元目の要素数と行列mat2の1次元目の要素数が異なるため計算終了')\n",
    "            \n",
    "# 行列mat1 の2次元目の要素数 x         \n",
    "x=1 \n",
    "# 行列mat2の1次元目の要素数 y\n",
    "y=3\n",
    "            \n",
    "mat1 = np.random.randint(1, 10, (3, x))\n",
    "mat2 = np.random.randint(1, 10, (y, 3))\n",
    "\n",
    "print('mat1', mat1)\n",
    "print('mat2', mat2)\n",
    "\n",
    "z =matrix_multiplication(mat1,mat2)\n",
    "print('dst1', z)\n"
   ]
  },
  {
   "cell_type": "markdown",
   "metadata": {},
   "source": [
    "# 【問題6】転置\n",
    "片方の行列を転置することで、行列積が計算できるようになります。\n",
    "\n",
    "np.transpose()や.Tアトリビュートを用いて転置し、行列積を計算してください。"
   ]
  },
  {
   "cell_type": "code",
   "execution_count": 274,
   "metadata": {},
   "outputs": [
    {
     "name": "stdout",
     "output_type": "stream",
     "text": [
      "mat1 [[6 7 4 5]\n",
      " [3 9 4 1]]\n",
      "mat2 [[2 1 2 4]\n",
      " [6 6 5 5]]\n",
      "dst1 [[ 47 123]\n",
      " [ 27  97]]\n"
     ]
    }
   ],
   "source": [
    "def matrix_multiplication(mat1,mat2):\n",
    "    if x== y: \n",
    "        dst1 = np.zeros((mat1.shape[0], mat2.shape[1]), dtype=mat1.dtype)\n",
    "        for i in range(mat1.shape[0]):\n",
    "            for j in range(mat2.shape[1]): \n",
    "                 for k in range(mat1.shape[1]): \n",
    "                    dst1[i, j] = dst1[i, j] + mat1[i, k] * mat2[k, j] \n",
    "        return dst1\n",
    "    else:\n",
    "        mat2 = np.transpose(mat2) #ここで転置\n",
    "        dst1 = np.zeros((mat1.shape[0], mat2.shape[1]), dtype=mat1.dtype)\n",
    "        for i in range(mat1.shape[0]):\n",
    "            for j in range(mat2.shape[1]): \n",
    "                 for k in range(mat1.shape[1]): \n",
    "                    dst1[i, j] = dst1[i, j] + mat1[i, k] * mat2[k, j] \n",
    "        return dst1\n",
    "        #print('エラー: 行列mat1 の2次元目の要素数と行列mat2の1次元目の要素数が異なるため計算終了')\n",
    "            \n",
    "# 行列mat1,行列mat2 の2次元目の要素数 x         \n",
    "x=4\n",
    "# 行列mat1,行列mat2の1次元目の要素数 y\n",
    "y=2\n",
    "            \n",
    "mat1 = np.random.randint(1, 10, (y, x))\n",
    "mat2 = np.random.randint(1, 10, (y, x))\n",
    "\n",
    "print('mat1', mat1)\n",
    "print('mat2', mat2)\n",
    "\n",
    "z =matrix_multiplication(mat1,mat2)\n",
    "print('dst1', z)\n"
   ]
  },
  {
   "cell_type": "code",
   "execution_count": null,
   "metadata": {},
   "outputs": [],
   "source": []
  }
 ],
 "metadata": {
  "kernelspec": {
   "display_name": "Python 3",
   "language": "python",
   "name": "python3"
  },
  "language_info": {
   "codemirror_mode": {
    "name": "ipython",
    "version": 3
   },
   "file_extension": ".py",
   "mimetype": "text/x-python",
   "name": "python",
   "nbconvert_exporter": "python",
   "pygments_lexer": "ipython3",
   "version": "3.7.4"
  }
 },
 "nbformat": 4,
 "nbformat_minor": 2
}
