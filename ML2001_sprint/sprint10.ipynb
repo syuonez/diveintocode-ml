{
 "cells": [
  {
   "cell_type": "markdown",
   "metadata": {},
   "source": [
    "# 深層学習スクラッチ　畳み込みニューラルネットワーク"
   ]
  },
  {
   "cell_type": "code",
   "execution_count": 116,
   "metadata": {},
   "outputs": [],
   "source": [
    "#基本ライブラリ\n",
    "import time\n",
    "import pickle\n",
    "import numpy as np\n",
    "import matplotlib.pyplot as plt\n",
    "import pandas as pd\n",
    "import seaborn as sns\n",
    "%matplotlib inline"
   ]
  },
  {
   "cell_type": "code",
   "execution_count": null,
   "metadata": {},
   "outputs": [],
   "source": [
    "from sklearn.preprocessing import StandardScaler\n",
    "from sklearn import metrics\n",
    "from sklearn.model_selection import train_test_split\n",
    "\n",
    "#データセット\n",
    "#from sklearn.datasets import load_iris"
   ]
  },
  {
   "cell_type": "code",
   "execution_count": 117,
   "metadata": {},
   "outputs": [
    {
     "name": "stdout",
     "output_type": "stream",
     "text": [
      "(48000, 784)\n",
      "(12000, 784)\n",
      "(48000, 10)\n",
      "(12000, 10)\n"
     ]
    }
   ],
   "source": [
    "#MNISTデータセット\n",
    "from keras.datasets import mnist\n",
    "(X_train, y_train), (X_test, y_test) = mnist.load_data()\n",
    "\n",
    "#平滑化\n",
    "X_train_f = X_train.reshape(-1, 784)\n",
    "X_test_f = X_test.reshape(-1, 784)\n",
    "\n",
    "#前処理\n",
    "X_train_ff = X_train_f.astype(np.float)\n",
    "X_test_ff = X_test_f.astype(np.float)\n",
    "X_train_ff /= 255\n",
    "X_test_ff /= 255\n",
    "\n",
    "from sklearn.preprocessing import OneHotEncoder\n",
    "enc = OneHotEncoder(handle_unknown='ignore', sparse=False)\n",
    "y_train_one_hot = enc.fit_transform(y_train[:, np.newaxis])\n",
    "y_test_one_hot = enc.transform(y_test[:, np.newaxis])\n",
    "\n",
    "Xt_train, Xt_val, yt_train, yt_val = train_test_split(X_train_ff, y_train_one_hot, test_size=0.2)\n",
    "print(Xt_train.shape) # (48000, 784)\n",
    "print(Xt_val.shape) # (12000, 784)\n",
    "print(yt_train.shape)\n",
    "print(yt_val.shape)"
   ]
  },
  {
   "cell_type": "markdown",
   "metadata": {},
   "source": [
    "# 【問題2】1次元畳み込み後の出力サイズの計算"
   ]
  },
  {
   "cell_type": "code",
   "execution_count": 121,
   "metadata": {},
   "outputs": [
    {
     "name": "stdout",
     "output_type": "stream",
     "text": [
      "[35 50]\n"
     ]
    }
   ],
   "source": [
    "x = np.array([1,2,3,4])\n",
    "w = np.array([3, 5, 7])\n",
    "b = np.array([1])\n",
    "a = np.array([0,0])\n",
    "\n",
    "for i in range(0, len(x) - len(w) + 1):\n",
    "    a[i] = np.sum(x[i: i+len(w)]*w)+b\n",
    "print(a)"
   ]
  },
  {
   "cell_type": "code",
   "execution_count": 122,
   "metadata": {},
   "outputs": [
    {
     "name": "stdout",
     "output_type": "stream",
     "text": [
      "2.0\n"
     ]
    }
   ],
   "source": [
    "def N_out(N_in, P, F, S):\n",
    "    return (N_in + 2*P - F) / S + 1\n",
    "\n",
    "P = 0\n",
    "F = len(w)\n",
    "S = 1\n",
    "\n",
    "print(N_out(len(x), P, F, S))"
   ]
  },
  {
   "cell_type": "markdown",
   "metadata": {},
   "source": [
    "# 【問題3】小さな配列での1次元畳み込み層の実験"
   ]
  },
  {
   "cell_type": "code",
   "execution_count": 124,
   "metadata": {},
   "outputs": [
    {
     "name": "stdout",
     "output_type": "stream",
     "text": [
      "[10 20]\n"
     ]
    }
   ],
   "source": [
    "y = np.array([45, 70])\n",
    "da = y - a\n",
    "print(da)"
   ]
  },
  {
   "cell_type": "code",
   "execution_count": 126,
   "metadata": {},
   "outputs": [
    {
     "name": "stdout",
     "output_type": "stream",
     "text": [
      "バイアスの傾き: 30\n"
     ]
    }
   ],
   "source": [
    "db = np.sum(da)\n",
    "print(\"バイアスの傾き:\", db)"
   ]
  },
  {
   "cell_type": "code",
   "execution_count": 127,
   "metadata": {},
   "outputs": [
    {
     "name": "stdout",
     "output_type": "stream",
     "text": [
      "フィルタの傾き [ 50.  80. 110.]\n"
     ]
    }
   ],
   "source": [
    "dw = np.zeros(3)\n",
    "for i in range(2):\n",
    "    dw += x[i : i + len(w)] * da[i]\n",
    "print(\"フィルタの傾き\", dw)"
   ]
  },
  {
   "cell_type": "code",
   "execution_count": 128,
   "metadata": {},
   "outputs": [
    {
     "name": "stdout",
     "output_type": "stream",
     "text": [
      "xの傾き: [ 30. 110. 170. 140.]\n"
     ]
    }
   ],
   "source": [
    "dx = np.zeros(len(x))\n",
    "for i in range(2):\n",
    "    dx[i : i + len(w)] += da[i] * w\n",
    "print(\"xの傾き:\", dx)"
   ]
  },
  {
   "cell_type": "markdown",
   "metadata": {},
   "source": [
    "# 【問題1】チャンネル数を1に限定した1次元畳み込み層クラスの作成"
   ]
  },
  {
   "cell_type": "code",
   "execution_count": 129,
   "metadata": {},
   "outputs": [],
   "source": [
    "class SimpleConv1d:\n",
    "    \"\"\"\n",
    "    ノード数n_nodes1からn_nodes2への全結合層\n",
    "    Parameters\n",
    "    ----------\n",
    "    n_nodes1 : int\n",
    "      前の層のノード数\n",
    "    n_nodes2 : int\n",
    "      後の層のノード数\n",
    "    initializer : 初期化方法のインスタンス\n",
    "    optimizer : 最適化手法のインスタンス\n",
    "    \"\"\"\n",
    "\n",
    "    def __init__(self, initializer, optimizer, pad=0, fsize=0, stride=1):\n",
    "        self.optimizer = optimizer\n",
    "        # 初期化\n",
    "        # initializerのメソッドを使い、self.Wとself.Bを初期化する\n",
    "        self.pad = pad\n",
    "        self.fsize = fsize\n",
    "        self.stride = stride\n",
    "        self.W = initializer.W(fsize)\n",
    "        self.B = 0\n",
    "\n",
    "    def forward(self, X, w, b, init=False):\n",
    "        \"\"\"\n",
    "        フォワード\n",
    "        Parameters\n",
    "        ----------\n",
    "        X : 次の形のndarray, shape (batch_size, n_nodes1)\n",
    "            入力\n",
    "        Returns\n",
    "        ----------\n",
    "        A : 次の形のndarray, shape (batch_size, n_nodes2)\n",
    "            出力\n",
    "        \"\"\"\n",
    "        if init:\n",
    "            self.X = X\n",
    "            self.W = w\n",
    "            self.B = b\n",
    "            self.LW = np.zeros(len(self.W))\n",
    "            self.LX = np.zeros(len(X))\n",
    "            self.A = np.zeros(int(N_out(len(X), self.pad, self.fsize, self.stride)))\n",
    "\n",
    "        for i in range(0, len(X) - len(self.W) + 1):\n",
    "            self.A[i] = np.sum(X[i : i + len(self.W)] * self.W) + self.B\n",
    "\n",
    "        return self.A\n",
    "\n",
    "    def backward(self, dA):\n",
    "        \"\"\"\n",
    "        バックワード\n",
    "        Parameters\n",
    "        ----------\n",
    "        dA : 次の形のndarray, shape (batch_size, n_nodes2)\n",
    "            後ろから流れてきた勾配\n",
    "        Returns\n",
    "        ----------\n",
    "        dZ : 次の形のndarray, shape (batch_size, n_nodes1)\n",
    "            前に流す勾配\n",
    "        \"\"\"\n",
    "        self.LB = np.sum(dA)\n",
    "\n",
    "        for i in range(len(dA)):\n",
    "            self.LW += self.X[i : i + len(self.W)] * dA[i]\n",
    "\n",
    "        for i in range(2):\n",
    "            self.LX[i : i + len(self.W)] += dA[i] * self.W\n",
    "\n",
    "        LX = self.LX\n",
    "        # 更新\n",
    "        self = self.optimizer.update(self)\n",
    "        # FC2 = FC2.optimizer.updata(FC2)\n",
    "        # FC2 = SGD().update(FC2)\n",
    "\n",
    "        return LX\n",
    "\n",
    "    def N_out(N_in, P, F, S):\n",
    "        return (N_in + 2 * P - F) / S + 1"
   ]
  },
  {
   "cell_type": "code",
   "execution_count": 134,
   "metadata": {},
   "outputs": [
    {
     "name": "stdout",
     "output_type": "stream",
     "text": [
      "A: [35. 50.]\n",
      "dZ: [ 30. 110. 170. 140.]\n",
      "dW: [ 50.  80. 110.]\n",
      "dB: 30\n"
     ]
    }
   ],
   "source": [
    "test = SimpleConv1d(zabi(), SGD(), pad=0, fsize=3, stride=1)\n",
    "\n",
    "x = np.array([1.0,2.0,3.0,4.0])\n",
    "w = np.array([3.0, 5.0, 7.0])\n",
    "b = np.array([1.0])\n",
    "\n",
    "A = test.forward(x, w, b, init=True)\n",
    "print(\"A:\", A)\n",
    "\n",
    "dZ = test.backward(da)\n",
    "print(\"dZ:\", dZ)\n",
    "print(\"dW:\", test.LW)\n",
    "print(\"dB:\",  test.LB)"
   ]
  },
  {
   "cell_type": "code",
   "execution_count": 131,
   "metadata": {},
   "outputs": [],
   "source": [
    "class zabi():\n",
    "    def __init__(self, sigma=0.01):\n",
    "        self.sigma = sigma\n",
    "        \n",
    "    def W(self, w, input_channel=1, output_channel=1 ):\n",
    "        \"\"\"\n",
    "        重みの初期化\n",
    "        Parameters\n",
    "        ----------\n",
    "        n_nodes1 : int\n",
    "          前の層のノード数\n",
    "        n_nodes2 : int\n",
    "          後の層のノード数\n",
    "\n",
    "        Returns\n",
    "        ----------\n",
    "        W :\n",
    "        \"\"\"\n",
    "        W = np.ones((output_channel, input_channel, w))\n",
    "\n",
    "        return W\n",
    "    \n",
    "    def B(self, output_channel):\n",
    "        \"\"\"\n",
    "        バイアスの初期化\n",
    "        Parameters\n",
    "        ----------\n",
    "        n_nodes2 : int\n",
    "          後の層のノード数\n",
    "\n",
    "        Returns\n",
    "        ----------\n",
    "        B :\n",
    "        \"\"\"\n",
    "        B = np.arange(1, output_channel + 1) .astype(float)\n",
    "        \n",
    "        return B"
   ]
  },
  {
   "cell_type": "code",
   "execution_count": 138,
   "metadata": {},
   "outputs": [],
   "source": [
    "#ザビエル for Conv\n",
    "class XavierlInit():\n",
    "    def __init__(self, sigma=0.01):\n",
    "        self.sigma = sigma\n",
    "        \n",
    "    def W(self, w, input_channel=1, output_channel=1 ):\n",
    "        \"\"\"\n",
    "        重みの初期化\n",
    "        Parameters\n",
    "        ----------\n",
    "        n_nodes1 : int\n",
    "          前の層のノード数\n",
    "        n_nodes2 : int\n",
    "          後の層のノード数\n",
    "\n",
    "        Returns\n",
    "        ----------\n",
    "        W :\n",
    "        \"\"\"\n",
    "        xavier = 1 / np.sqrt(w)\n",
    "        W = xavier * np.random.randn((output_channel, input_channel, w))\n",
    "\n",
    "        return W\n",
    "    \n",
    "    def B(self, output_channel):\n",
    "        \"\"\"\n",
    "        バイアスの初期化\n",
    "        Parameters\n",
    "        ----------\n",
    "        n_nodes2 : int\n",
    "          後の層のノード数\n",
    "\n",
    "        Returns\n",
    "        ----------\n",
    "        B :\n",
    "        \"\"\"\n",
    "        B = self.sigma * np.random.randn(1, output_channel) \n",
    "        \n",
    "        return B\n",
    "\n",
    "#ザビエル for NN\n",
    "class XavierInitializer():\n",
    "    def __init__(self, sigma=0.01):\n",
    "        self.sigma = sigma\n",
    "        \n",
    "    def W(self, n_nodes1, n_nodes2):\n",
    "        \"\"\"\n",
    "        重みの初期化\n",
    "        Parameters\n",
    "        ----------\n",
    "        n_nodes1 : int\n",
    "          前の層のノード数\n",
    "        n_nodes2 : int\n",
    "          後の層のノード数\n",
    "\n",
    "        Returns\n",
    "        ----------\n",
    "        W :\n",
    "        \"\"\"\n",
    "        xavier = 1 / np.sqrt(n_nodes1)\n",
    "        W = xavier * np.random.randn(n_nodes1, n_nodes2)\n",
    "\n",
    "        return W\n",
    "    \n",
    "    def B(self, n_nodes2):\n",
    "        \"\"\"\n",
    "        バイアスの初期化\n",
    "        Parameters\n",
    "        ----------\n",
    "        n_nodes2 : int\n",
    "          後の層のノード数\n",
    "\n",
    "        Returns\n",
    "        ----------\n",
    "        B :\n",
    "        \"\"\"\n",
    "        B = self.sigma * np.random.randn(1, n_nodes2) \n",
    "        \n",
    "        return B"
   ]
  },
  {
   "cell_type": "code",
   "execution_count": 139,
   "metadata": {},
   "outputs": [],
   "source": [
    "class HeInitializer():\n",
    "    def __init__(self, sigma=0.01):\n",
    "        self.sigma = sigma\n",
    "        \n",
    "    def W(self, n_nodes1, n_nodes2):\n",
    "        \"\"\"\n",
    "        重みの初期化\n",
    "        Parameters\n",
    "        ----------\n",
    "        n_nodes1 : int\n",
    "          前の層のノード数\n",
    "        n_nodes2 : int\n",
    "          後の層のノード数\n",
    "\n",
    "        Returns\n",
    "        ----------\n",
    "        W :\n",
    "        \"\"\"\n",
    "        he = np.sqrt( 2 / n_nodes1 )\n",
    "        W = he * np.random.randn(n_nodes1, n_nodes2)\n",
    "\n",
    "        return W\n",
    "    \n",
    "    def B(self, n_nodes2):\n",
    "        \"\"\"\n",
    "        バイアスの初期化\n",
    "        Parameters\n",
    "        ----------\n",
    "        n_nodes2 : int\n",
    "          後の層のノード数\n",
    "\n",
    "        Returns\n",
    "        ----------\n",
    "        B :\n",
    "        \"\"\"\n",
    "        B = self.sigma * np.random.randn(1, n_nodes2) \n",
    "        \n",
    "        return B"
   ]
  },
  {
   "cell_type": "code",
   "execution_count": 140,
   "metadata": {},
   "outputs": [],
   "source": [
    "class SGD:\n",
    "    \"\"\"\n",
    "    確率的勾配降下法\n",
    "    Parameters\n",
    "    ----------\n",
    "    lr : 学習率\n",
    "    \"\"\"\n",
    "    def __init__(self, lr=0.01):\n",
    "        self.lr = lr\n",
    "        \n",
    "    def update(self, layer):\n",
    "        \"\"\"\n",
    "        ある層の重みやバイアスの更新\n",
    "        Parameters\n",
    "        ----------\n",
    "        layer : 更新前の層のインスタンス\n",
    "        \"\"\"\n",
    "        layer.W -= self.lr*layer.LW\n",
    "        layer.B -= self.lr*layer.LB\n",
    "\n",
    "#AdaGrad for NN\n",
    "class AdaGrad():\n",
    "    def __init__(self, lr=0.01):\n",
    "        self.lr = lr\n",
    "        self.hw = 0\n",
    "        self.hb = 0\n",
    "        self.hw_mean=[]\n",
    "        self.hb_mean=[]\n",
    "        \n",
    "    def update(self, layer):\n",
    "        \"\"\"\n",
    "        ある層の重みやバイアスの更新\n",
    "        Parameters\n",
    "        ----------\n",
    "        layer : 更新前の層のインスタンス\n",
    "        \"\"\"\n",
    "        self.hw += (layer.LW)**2 \n",
    "        self.hb +=  (layer.LB)**2\n",
    "        self.hw_mean.append(np.mean(self.hw))\n",
    "        self.hb_mean.append(np.mean(self.hb))\n",
    "        \n",
    "        layer.W -= self.lr / np.sqrt(self.hw + 1e-7) * layer.LW\n",
    "        layer.B -= self.lr / np.sqrt(self.hb + 1e-7) * layer.LB"
   ]
  },
  {
   "cell_type": "markdown",
   "metadata": {},
   "source": [
    "# 【問題4】チャンネル数を限定しない1次元畳み込み層クラスの作成"
   ]
  },
  {
   "cell_type": "code",
   "execution_count": 141,
   "metadata": {},
   "outputs": [],
   "source": [
    "class relu:\n",
    "    def __init__(self):\n",
    "        self.mask = None\n",
    "\n",
    "    def forward(self, X):\n",
    "        self.mask = X <= 0\n",
    "        self.mask = self.mask.reshape(1, -1)\n",
    "        return np.maximum(0, X)\n",
    "\n",
    "    def backward(self, LZ, A):\n",
    "        LZ[self.mask] = 0\n",
    "        dx = LZ\n",
    "        return dx\n",
    "\n",
    "\n",
    "class Tanh:\n",
    "    \"\"\"\n",
    "    ハイパボリックタンジェント関数\n",
    "    \"\"\"\n",
    "\n",
    "    def forward(self, X):\n",
    "        return np.tanh(X)\n",
    "\n",
    "    def backward(self, LZ, A):\n",
    "        return LZ * (1 - np.tanh(A) ** 2)\n",
    "\n",
    "\n",
    "class Softmax:\n",
    "    \"\"\"\n",
    "    ソフトマックス関数\n",
    "    \"\"\"\n",
    "\n",
    "    def forward(self, X):\n",
    "        c = np.max(X, axis=1)\n",
    "        exp_x = np.exp(X - c.reshape(-1, 1))  # オーバーフロー対策\n",
    "        sum_exp_x = np.sum(exp_x, axis=1)\n",
    "        y = exp_x / sum_exp_x.reshape(-1, 1)\n",
    "\n",
    "        return y\n",
    "\n",
    "    def backward(self, X):\n",
    "        print(\"Softmax backward isn't made yet\")\n",
    "        pass\n",
    "\n",
    "\n",
    "class FC:\n",
    "    \"\"\"\n",
    "    ノード数n_nodes1からn_nodes2への全結合層\n",
    "    Parameters\n",
    "    ----------\n",
    "    n_nodes1 : int\n",
    "      前の層のノード数\n",
    "    n_nodes2 : int\n",
    "      後の層のノード数\n",
    "    initializer : 初期化方法のインスタンス\n",
    "    optimizer : 最適化手法のインスタンス\n",
    "    \"\"\"\n",
    "\n",
    "    def __init__(self, n_nodes1, n_nodes2, initializer, optimizer, def_name=None):\n",
    "        self.optimizer = optimizer\n",
    "        # 初期化\n",
    "        # initializerのメソッドを使い、self.Wとself.Bを初期化する\n",
    "        self.W = initializer.W(n_nodes1, n_nodes2)\n",
    "        self.B = initializer.B(n_nodes2)\n",
    "\n",
    "    def forward(self, X):\n",
    "        \"\"\"\n",
    "        フォワード\n",
    "        Parameters\n",
    "        ----------\n",
    "        X : 次の形のndarray, shape (batch_size, n_nodes1)\n",
    "            入力\n",
    "        Returns\n",
    "        ----------\n",
    "        A : 次の形のndarray, shape (batch_size, n_nodes2)\n",
    "            出力\n",
    "        \"\"\"\n",
    "        XW = np.dot(X, self.W)\n",
    "        self.A = XW + self.B\n",
    "\n",
    "        return self.A\n",
    "\n",
    "    def backward(self, dA, Z, FC_num):\n",
    "        \"\"\"\n",
    "        バックワード\n",
    "        Parameters\n",
    "        ----------\n",
    "        dA : 次の形のndarray, shape (batch_size, n_nodes2)\n",
    "            後ろから流れてきた勾配\n",
    "        Returns\n",
    "        ----------\n",
    "        dZ : 次の形のndarray, shape (batch_size, n_nodes1)\n",
    "            前に流す勾配\n",
    "        \"\"\"\n",
    "        if FC_num == 0:\n",
    "            self.LB = np.sum(dA, axis=0)\n",
    "            self.LW = np.dot(Z.T, self.LA)\n",
    "            dZ = np.dot(self.LA, self.W.T)\n",
    "        else:\n",
    "            self.LB = np.sum(dA, axis=0)\n",
    "            self.LW = np.dot(Z.T, self.LA)\n",
    "            dZ = np.dot(self.LA, self.W.T)\n",
    "\n",
    "        # 更新\n",
    "        self = self.optimizer.update(self)\n",
    "        # FC2 = FC2.optimizer.updata(FC2)\n",
    "        # FC2 = SGD().update(FC2)\n",
    "\n",
    "        return dZ\n",
    "\n",
    "\n",
    "class GetMiniBatch:\n",
    "    \"\"\"\n",
    "    ミニバッチを取得するイテレータ\n",
    "\n",
    "    Parameters\n",
    "    ----------\n",
    "    X : 次の形のndarray, shape (n_samples, n_features)\n",
    "      訓練用データ\n",
    "    y : 次の形のndarray, shape (n_samples, 1)\n",
    "      正解値\n",
    "    batch_size : int\n",
    "      バッチサイズ\n",
    "    seed : int\n",
    "      NumPyの乱数のシード\n",
    "    \"\"\"\n",
    "\n",
    "    def __init__(self, X, y, batch_size=20, seed=0):\n",
    "        self.batch_size = batch_size\n",
    "        np.random.seed(seed)\n",
    "        shuffle_index = np.random.permutation(np.arange(X.shape[0]))\n",
    "        self._X = X[shuffle_index]\n",
    "        self._y = y[shuffle_index]\n",
    "        self._stop = np.ceil(X.shape[0] / self.batch_size).astype(np.int)\n",
    "\n",
    "    def __len__(self):\n",
    "        return self._stop\n",
    "\n",
    "    def __getitem__(self, item):\n",
    "        p0 = item * self.batch_size\n",
    "        p1 = item * self.batch_size + self.batch_size\n",
    "        return self._X[p0:p1], self._y[p0:p1]\n",
    "\n",
    "    def __iter__(self):\n",
    "        self._counter = 0\n",
    "        return self\n",
    "\n",
    "    def __next__(self):\n",
    "        if self._counter >= self._stop:\n",
    "            raise StopIteration()\n",
    "        p0 = self._counter * self.batch_size\n",
    "        p1 = self._counter * self.batch_size + self.batch_size\n",
    "        self._counter += 1\n",
    "        return self._X[p0:p1], self._y[p0:p1]"
   ]
  },
  {
   "cell_type": "code",
   "execution_count": 142,
   "metadata": {},
   "outputs": [],
   "source": [
    "class ScratchDeepNeuralNetrowkClassifier:\n",
    "    \"\"\"\n",
    "    多層ニューラルネットワーク分類器\n",
    "\n",
    "    Parameters\n",
    "    ----------\n",
    "\n",
    "    Attributes\n",
    "    ----------\n",
    "    \"\"\"\n",
    "\n",
    "    def __init__(\n",
    "        self,\n",
    "        nodes_num_list,\n",
    "        ac_list,\n",
    "        initialize_list,\n",
    "        opt_list,\n",
    "        itr=1000,\n",
    "        verbose=True,\n",
    "        lr=0.00001,\n",
    "        sigma=0.01,\n",
    "        b_size=20,\n",
    "    ):\n",
    "        self.verbose = verbose\n",
    "        self.itr = itr\n",
    "        self.lr = lr  # 学習率\n",
    "        self.sigma = sigma  # ガウス分布の標準偏差\n",
    "        self.b_size = b_size\n",
    "        self.L = []\n",
    "        self.FC = {}  # 各レイヤー格納辞書\n",
    "        self.network = len(nodes_num_list)\n",
    "        self.n_nodes = {i: nodes_num_list[i] for i in range(self.network)}\n",
    "        self.activation = {i: ac_list[i] for i in range(self.network)}\n",
    "        self.initialize_list = initialize_list\n",
    "        for i in range(len(self.initialize_list)):\n",
    "            self.initialize_list[i].sigma = self.sigma\n",
    "        self.opt_list = opt_list\n",
    "        for i in range(len(self.opt_list)):\n",
    "            self.opt_list[i].lr = self.lr\n",
    "\n",
    "    def fit(self, X, y, X_val=None, y_val=None):\n",
    "        \"\"\"\n",
    "        ニューラルネットワーク分類器を学習する。\n",
    "\n",
    "        Parameters\n",
    "        ----------\n",
    "        X : 次の形のndarray, shape (n_samples, n_features)\n",
    "            訓練用データの特徴量\n",
    "        y : 次の形のndarray, shape (n_samples, )\n",
    "            訓練用データの正解値\n",
    "        X_val : 次の形のndarray, shape (n_samples, n_features)\n",
    "            検証用データの特徴量\n",
    "        y_val : 次の形のndarray, shape (n_samples, )\n",
    "            検証用データの正解値\n",
    "        \"\"\"\n",
    "        # 各レイヤーインスタンス化\n",
    "        Z, LZ = [], []\n",
    "        for i in range(self.network):\n",
    "            if i == 0:\n",
    "                self.FC[i] = FC(\n",
    "                    X.shape[1],\n",
    "                    self.n_nodes[i],\n",
    "                    self.initialize_list[i],\n",
    "                    self.opt_list[i],\n",
    "                )\n",
    "            else:\n",
    "                self.FC[i] = FC(\n",
    "                    self.n_nodes[i - 1],\n",
    "                    self.n_nodes[i],\n",
    "                    self.initialize_list[i],\n",
    "                    self.opt_list[i],\n",
    "                )\n",
    "            Z.append(np.array([]))\n",
    "            LZ.append(np.array([]))\n",
    "\n",
    "        # エポック\n",
    "        itr_count = 0\n",
    "        for _ in range(self.itr):\n",
    "            if itr_count % 10 == 0:\n",
    "                print(itr_count, \">\", end=\"\")\n",
    "            Lbatch = np.array([])\n",
    "\n",
    "            get_mini_batch = GetMiniBatch(X, y, batch_size=self.b_size)\n",
    "            for mini_X_train, mini_y_train in get_mini_batch:\n",
    "\n",
    "                \"\"\"フォワード\n",
    "                \"\"\"\n",
    "                for i in range(self.network):\n",
    "                    if i == 0:\n",
    "                        A = self.FC[i].forward(mini_X_train)\n",
    "                        Z[i] = self.activation[i].forward(A)\n",
    "                    else:\n",
    "                        A = self.FC[i].forward(Z[i - 1])\n",
    "                        Z[i] = self.activation[i].forward(A)\n",
    "\n",
    "                \"\"\"バックプロパゲーション\n",
    "                \"\"\"\n",
    "                for i in range(self.network)[::-1]:\n",
    "                    if i == self.network - 1:  # 出力層\n",
    "                        self.FC[i].LA = Z[i] - mini_y_train\n",
    "                        LZ[i] = self.FC[i].backward(self.FC[i].LA, Z[i - 1], i)\n",
    "                    elif i == 0:  # 入力層\n",
    "                        self.FC[i].LA = self.activation[i].backward(\n",
    "                            LZ[i + 1], self.FC[i].A\n",
    "                        )\n",
    "                        LZ[i] = self.FC[i].backward(self.FC[i].LA, mini_X_train, i)\n",
    "                    else:  # 隠れ層\n",
    "                        self.FC[i].LA = self.activation[i].backward(\n",
    "                            LZ[i + 1], self.FC[i].A\n",
    "                        )\n",
    "                        LZ[i] = self.FC[i].backward(self.FC[i].LA, Z[i - 1], i)\n",
    "\n",
    "                \"\"\"損失関数\n",
    "                \"\"\"\n",
    "                Ltmp = 0\n",
    "                for i in range(self.b_size):\n",
    "                    Ltmp += np.sum(mini_y_train[i] * np.log(Z[-1][i]))\n",
    "                Lbatch = np.append(Lbatch, (Ltmp / self.b_size) * -1)\n",
    "\n",
    "            self.L.append(Lbatch.mean())\n",
    "            itr_count += 1\n",
    "            # print(\"---end of epoc---\")\n",
    "\n",
    "        if self.verbose:\n",
    "            # verboseをTrueにした際は学習過程などを出力する\n",
    "            print()\n",
    "        pass\n",
    "\n",
    "    def predict(self, Xt):\n",
    "        \"\"\"\n",
    "        ニューラルネットワーク分類器を使い推定する。\n",
    "\n",
    "        Parameters\n",
    "        ----------\n",
    "        X : 次の形のndarray, shape (n_samples, n_features)\n",
    "            サンプル\n",
    "\n",
    "        Returns\n",
    "        -------\n",
    "            次の形のndarray, shape (n_samples, 1)\n",
    "            推定結果\n",
    "        \"\"\"\n",
    "        pZ = []\n",
    "        for i in range(self.network):\n",
    "            pZ.append(np.array([]))\n",
    "\n",
    "        for i in range(self.network):\n",
    "            if i == 0:\n",
    "                A = self.FC[i].forward(Xt)\n",
    "                pZ[i] = self.activation[i].forward(A)\n",
    "            else:\n",
    "                A = self.FC[i].forward(pZ[i - 1])\n",
    "                pZ[i] = self.activation[i].forward(A)\n",
    "\n",
    "        return pZ[-1]"
   ]
  },
  {
   "cell_type": "code",
   "execution_count": 144,
   "metadata": {},
   "outputs": [],
   "source": [
    "nodes_num_list = [100, 400, 200, 100, 10]\n",
    "ac_list = [relu(), relu(), relu(), relu(), Softmax()]\n",
    "initialize_list = [\n",
    "    HeInitializer(),\n",
    "    HeInitializer(),\n",
    "    HeInitializer(),\n",
    "    HeInitializer(),\n",
    "    XavierInitializer(),\n",
    "]\n",
    "opt_list = [AdaGrad(), AdaGrad(), AdaGrad(), AdaGrad(), AdaGrad()]\n",
    "\n",
    "SDNN = ScratchDeepNeuralNetrowkClassifier(\n",
    "    nodes_num_list, ac_list, initialize_list, opt_list, itr=20, b_size=100, lr=0.01\n",
    ")"
   ]
  },
  {
   "cell_type": "code",
   "execution_count": null,
   "metadata": {},
   "outputs": [],
   "source": [
    "SDNN.fit(Xt_train, yt_train)\n",
    "plt.plot(SDNN.L)"
   ]
  },
  {
   "cell_type": "markdown",
   "metadata": {},
   "source": [
    "# 【問題8】学習と推定"
   ]
  },
  {
   "cell_type": "code",
   "execution_count": null,
   "metadata": {},
   "outputs": [],
   "source": [
    "隠れ層２層の内、前１層をConvに"
   ]
  },
  {
   "cell_type": "code",
   "execution_count": 146,
   "metadata": {},
   "outputs": [],
   "source": [
    "class NN_Conv1d:\n",
    "    \n",
    "    def __init__(self, initializer, optimizer, fsize, in_channel=1, out_channel=1, pad=0, stride=1):\n",
    "        self.optimizer = optimizer\n",
    "        self.initializer = initializer\n",
    "        self.in_channel = in_channel\n",
    "        self.out_channel = out_channel\n",
    "        self.pad = pad\n",
    "        self.fsize = fsize   #1次元\n",
    "        self.stride = stride\n",
    "        self.B = 0\n",
    "    \n",
    "    def init(self, X):\n",
    "        \"\"\"\n",
    "        Xは二次元を想定\n",
    "        \"\"\"\n",
    "        self.X = self.pad_init(X, self.pad)\n",
    "        self.W =  self.initializer.W(1, self.fsize)\n",
    "        self.B = self.initializer.B(1)\n",
    "        self.LB = np.zeros(self.B.shape)\n",
    "        self.LW = np.zeros(self.W.shape)\n",
    "        self.dZ = np.zeros(self.X.shape)\n",
    "        self.A = np.zeros((X.shape[0], int(self.N_out(X.shape[1], self.pad, self.fsize, self.stride))))\n",
    "        self.LA = np.copy(self.A)\n",
    "\n",
    "    def forward(self, X, index):\n",
    "        \"\"\"\n",
    "        Xは１次元を想定\n",
    "        \"\"\"\n",
    "        for i in range(0, len(X) - self.W.shape[1] + 1):\n",
    "            self.A[index, i] = np.sum(X[i: i+self.W.shape[1]] * self.W)+self.B        \n",
    "        \n",
    "        return self.A[index]\n",
    "    \n",
    "    def backward(self, dA, index):\n",
    "        \"\"\"\n",
    "        バックワード\n",
    "        Parameters\n",
    "        ----------\n",
    "        dA : 次の形のndarray, shape (batch_size, n_nodes2)\n",
    "            後ろから流れてきた勾配\n",
    "        Returns\n",
    "        ----------\n",
    "        dZ : 次の形のndarray, shape (batch_size, n_nodes1)\n",
    "            前に流す勾配\n",
    "        \"\"\"\n",
    "        self.LB = np.sum(dA)\n",
    "        \n",
    "        for i in range(len(dA)):\n",
    "            self.LW += (self.X[index, i: i+self.W.shape[1]] * dA[i])\n",
    "        \n",
    "        for i in range(len(dA)):\n",
    "            self.dZ[index, i: i + self.W.shape[1]] += dA[i]*self.W.flatten()\n",
    "        \n",
    "        dZ = self.dZ\n",
    "        \n",
    "        self = self.optimizer.update(self, index)\n",
    "\n",
    "        \n",
    "        return dZ\n",
    "    \n",
    "    def N_out(self, N_in, P, F, S):\n",
    "        return (N_in + 2*P - F) / S + 1\n",
    "\n",
    "    def pad_init(self, X, pad):\n",
    "        \"\"\"\n",
    "        １次元方向にパディングを追加する関数\n",
    "        \"\"\"\n",
    "        for i in range(pad):\n",
    "            X = np.insert(X, 0, 0, axis=1)\n",
    "            X = np.insert(X, X.shape[1], 0, axis=1)\n",
    "        \n",
    "        return X\n",
    "\n",
    "class NN_SGD:\n",
    "    \"\"\"\n",
    "    確率的勾配降下法\n",
    "    Parameters\n",
    "    ----------\n",
    "    lr : 学習率\n",
    "    \"\"\"\n",
    "    def __init__(self, lr=0.01):\n",
    "        self.lr = lr\n",
    "        \n",
    "    def update(self, layer, index):\n",
    "        \"\"\"\n",
    "        ある層の重みやバイアスの更新\n",
    "        Parameters\n",
    "        ----------\n",
    "        layer : 更新前の層のインスタンス\n",
    "        \"\"\"\n",
    "        layer.W -= self.lr*layer.LW\n",
    "        layer.B -= self.lr*layer.LB\n",
    "    "
   ]
  },
  {
   "cell_type": "code",
   "execution_count": 150,
   "metadata": {},
   "outputs": [],
   "source": [
    "class Scratch1dCNNClassifier:\n",
    "    \"\"\"\n",
    "    多層ニューラルネットワーク分類器\n",
    "\n",
    "    Parameters\n",
    "    ----------\n",
    "\n",
    "    Attributes\n",
    "    ----------\n",
    "    \"\"\"\n",
    "\n",
    "    def __init__(\n",
    "        self,\n",
    "        nodes_num_list,\n",
    "        ac_list,\n",
    "        initialize_list,\n",
    "        opt_list,\n",
    "        itr=1000,\n",
    "        verbose=True,\n",
    "        lr=0.00001,\n",
    "        sigma=0.01,\n",
    "        b_size=20,\n",
    "    ):\n",
    "        self.verbose = verbose\n",
    "        self.itr = itr\n",
    "        self.lr = lr  # 学習率\n",
    "        self.sigma = sigma  # ガウス分布の標準偏差\n",
    "        self.b_size = b_size\n",
    "        self.L = []\n",
    "        self.FC = {}  # 各レイヤー格納辞書\n",
    "        self.network = len(nodes_num_list)\n",
    "        self.n_nodes = {i: nodes_num_list[i] for i in range(self.network)}\n",
    "        self.activation = {i: ac_list[i] for i in range(self.network)}\n",
    "        self.initialize_list = initialize_list\n",
    "        for i in range(len(self.initialize_list)):\n",
    "            self.initialize_list[i].sigma = self.sigma\n",
    "        self.opt_list = opt_list\n",
    "        for i in range(len(self.opt_list)):\n",
    "            self.opt_list[i].lr = self.lr\n",
    "\n",
    "    def fit(self, X, y, X_val=None, y_val=None):\n",
    "        \"\"\"\n",
    "        ニューラルネットワーク分類器を学習する。\n",
    "\n",
    "        Parameters\n",
    "        ----------\n",
    "        X : 次の形のndarray, shape (n_samples, n_features)\n",
    "            訓練用データの特徴量\n",
    "        y : 次の形のndarray, shape (n_samples, )\n",
    "            訓練用データの正解値\n",
    "        X_val : 次の形のndarray, shape (n_samples, n_features)\n",
    "            検証用データの特徴量\n",
    "        y_val : 次の形のndarray, shape (n_samples, )\n",
    "            検証用データの正解値\n",
    "        \"\"\"\n",
    "        # 各レイヤーインスタンス化\n",
    "        Z, LZ = [], []\n",
    "        for i in range(self.network):\n",
    "            if i == 0:\n",
    "                self.FC[i] = NN_Conv1d(\n",
    "                    self.initialize_list[i],\n",
    "                    self.opt_list[i],\n",
    "                    fsize=385,\n",
    "                    in_channel=1,\n",
    "                    out_channel=1,\n",
    "                    pad=0,\n",
    "                )\n",
    "            else:\n",
    "                self.FC[i] = FC(\n",
    "                    self.n_nodes[i - 1],\n",
    "                    self.n_nodes[i],\n",
    "                    self.initialize_list[i],\n",
    "                    self.opt_list[i],\n",
    "                )\n",
    "            Z.append(np.array([]))\n",
    "            LZ.append(np.array([]))\n",
    "\n",
    "        # エポック\n",
    "        itr_count = 0\n",
    "        self.FC[0].init(X)\n",
    "        for _ in range(self.itr):\n",
    "            if itr_count % 2 == 0:\n",
    "                print(itr_count, \">>>>>>\", end=\"\")\n",
    "            Lbatch = np.array([])\n",
    "            index = 0\n",
    "\n",
    "            for mini_X_train, mini_y_train in zip(X, y):\n",
    "\n",
    "                \"\"\"フォワード\n",
    "                \"\"\"\n",
    "                for i in range(self.network):\n",
    "                    if i == 0:\n",
    "                        A = self.FC[i].forward(mini_X_train, index)\n",
    "                        Z[i] = self.activation[i].forward(A).reshape(1, 400)\n",
    "\n",
    "                    else:\n",
    "                        A = self.FC[i].forward(Z[i - 1])\n",
    "                        Z[i] = self.activation[i].forward(A)\n",
    "\n",
    "                \"\"\"バックプロパゲーション\n",
    "                \"\"\"\n",
    "                for i in range(self.network)[::-1]:\n",
    "                    if i == self.network - 1:  # 出力層\n",
    "                        self.FC[i].LA = Z[i] - mini_y_train\n",
    "                        LZ[i] = self.FC[i].backward(self.FC[i].LA, Z[i - 1], i)\n",
    "                    elif i == 0:  # Conv層\n",
    "                        self.FC[i].LA[index] = self.activation[i].backward(\n",
    "                            LZ[i + 1], self.FC[i].A[index]\n",
    "                        )\n",
    "                        LZ[i] = self.FC[i].backward(self.FC[i].LA[index], index)\n",
    "                    else:  # 隠れ層\n",
    "                        self.FC[i].LA = self.activation[i].backward(\n",
    "                            LZ[i + 1], self.FC[i].A\n",
    "                        )\n",
    "                        LZ[i] = self.FC[i].backward(self.FC[i].LA, Z[i - 1], i)\n",
    "\n",
    "                \"\"\"損失関数\n",
    "                \"\"\"\n",
    "                Ltmp = 0\n",
    "                for i in range(self.b_size):\n",
    "                    Ltmp += np.sum(mini_y_train[i] * np.log(Z[-1][i]))\n",
    "                Lbatch = np.append(Lbatch, (Ltmp / self.b_size) * -1)\n",
    "                index += 1\n",
    "\n",
    "            self.L.append(Lbatch.mean())\n",
    "            itr_count += 1\n",
    "            # print(\"---end of epoc---\")\n",
    "\n",
    "        if self.verbose:\n",
    "            # verboseをTrueにした際は学習過程などを出力する\n",
    "            print()\n",
    "        pass\n",
    "\n",
    "    def predict(self, Xt):\n",
    "        \"\"\"\n",
    "       ニューラルネットワーク分類器を使い推定する。\n",
    "\n",
    "        Parameters\n",
    "        ----------\n",
    "        X : 次の形のndarray, shape (n_samples, n_features)\n",
    "            サンプル\n",
    "\n",
    "        Returns\n",
    "        -------\n",
    "            次の形のndarray, shape (n_samples, 1)\n",
    "            推定結果\n",
    "        \"\"\"\n",
    "        pZ = []\n",
    "        for i in range(self.network):\n",
    "            pZ.append(np.array([]))\n",
    "\n",
    "        index = 0\n",
    "        for mini_X in Xt:\n",
    "            for i in range(self.network):\n",
    "                if i == 0:\n",
    "                    A = self.FC[i].forward(Xt, index)\n",
    "                    pZ[i] = self.activation[i].forward(A).reshape(1, 400)\n",
    "                elif i == 2:\n",
    "                    A = self.FC[i].forward(pZ[i - 1])\n",
    "                    pZ[i] = np.append(pZ[i], self.activation[i].forward(A))\n",
    "                else:\n",
    "                    A = self.FC[i].forward(pZ[i - 1])\n",
    "                    pZ[i] = self.activation[i].forward(A)\n",
    "\n",
    "            index += 1\n",
    "\n",
    "        return pZ[-1]"
   ]
  },
  {
   "cell_type": "code",
   "execution_count": 151,
   "metadata": {},
   "outputs": [
    {
     "name": "stdout",
     "output_type": "stream",
     "text": [
      "0 >>>>>>2 >>>>>>4 >>>>>>\n"
     ]
    },
    {
     "data": {
      "text/plain": [
       "[<matplotlib.lines.Line2D at 0x7fc5a1fd3c90>]"
      ]
     },
     "execution_count": 151,
     "metadata": {},
     "output_type": "execute_result"
    },
    {
     "data": {
      "image/png": "[encoded data removed]",
      "text/plain": [
       "<Figure size 432x288 with 1 Axes>"
      ]
     },
     "metadata": {
      "needs_background": "light"
     },
     "output_type": "display_data"
    }
   ],
   "source": [
    "Xt_train1d = Xt_train[0:5000]\n",
    "yt_train1d = yt_train[0:5000]\n",
    "\n",
    "nodes_num_list = [400, 200, 10]\n",
    "ac_list = [relu(), relu(), Softmax()]\n",
    "initialize_list = [XavierInitializer(), HeInitializer(), XavierInitializer()]\n",
    "opt_list = [NN_SGD(), AdaGrad(), AdaGrad()]\n",
    "\n",
    "CNN = Scratch1dCNNClassifier(\n",
    "    nodes_num_list, ac_list, initialize_list, opt_list, itr=5, b_size=1, lr=0.0001\n",
    ")\n",
    "CNN.fit(Xt_train1d, yt_train1d)\n",
    "plt.plot(CNN.L)"
   ]
  },
  {
   "cell_type": "code",
   "execution_count": 152,
   "metadata": {},
   "outputs": [
    {
     "data": {
      "text/plain": [
       "[2.216816818759459,\n",
       " 2.182934242593131,\n",
       " 2.182932249494254,\n",
       " 2.182930709177787,\n",
       " 2.182929429623384]"
      ]
     },
     "execution_count": 152,
     "metadata": {},
     "output_type": "execute_result"
    }
   ],
   "source": [
    "CNN.L"
   ]
  },
  {
   "cell_type": "code",
   "execution_count": null,
   "metadata": {},
   "outputs": [],
   "source": []
  },
  {
   "cell_type": "code",
   "execution_count": null,
   "metadata": {},
   "outputs": [],
   "source": []
  },
  {
   "cell_type": "code",
   "execution_count": null,
   "metadata": {},
   "outputs": [],
   "source": []
  },
  {
   "cell_type": "code",
   "execution_count": null,
   "metadata": {},
   "outputs": [],
   "source": []
  },
  {
   "cell_type": "code",
   "execution_count": null,
   "metadata": {},
   "outputs": [],
   "source": []
  },
  {
   "cell_type": "code",
   "execution_count": 3,
   "metadata": {},
   "outputs": [],
   "source": [
    "class GetMiniBatch:\n",
    "    \"\"\"\n",
    "    ミニバッチを取得するイテレータ\n",
    "\n",
    "    Parameters\n",
    "    ----------\n",
    "    X : 次の形のndarray, shape (n_samples, n_features)\n",
    "      訓練データ\n",
    "    y : 次の形のndarray, shape (n_samples, 1)\n",
    "      正解値\n",
    "    batch_size : int\n",
    "      バッチサイズ\n",
    "    seed : int\n",
    "      NumPyの乱数のシード\n",
    "    \"\"\"\n",
    "    def __init__(self, X, y, batch_size = 20, seed=0):\n",
    "        self.batch_size = batch_size\n",
    "        np.random.seed(seed)\n",
    "        shuffle_index = np.random.permutation(np.arange(X.shape[0]))\n",
    "        self._X = X[shuffle_index]\n",
    "        self._y = y[shuffle_index]\n",
    "        self._stop = np.ceil(X.shape[0]/self.batch_size).astype(np.int)\n",
    "    def __len__(self):\n",
    "        return self._stop\n",
    "    def __getitem__(self,item):\n",
    "        p0 = item*self.batch_size\n",
    "        p1 = item*self.batch_size + self.batch_size\n",
    "        return self._X[p0:p1], self._y[p0:p1]        \n",
    "    def __iter__(self):\n",
    "        self._counter = 0\n",
    "        return self\n",
    "    def __next__(self):\n",
    "        if self._counter >= self._stop:\n",
    "            raise StopIteration()\n",
    "        p0 = self._counter*self.batch_size\n",
    "        p1 = self._counter*self.batch_size + self.batch_size\n",
    "        self._counter += 1\n",
    "        return self._X[p0:p1], self._y[p0:p1]"
   ]
  },
  {
   "cell_type": "code",
   "execution_count": null,
   "metadata": {},
   "outputs": [],
   "source": []
  },
  {
   "cell_type": "code",
   "execution_count": 4,
   "metadata": {},
   "outputs": [],
   "source": [
    "from tensorflow.keras.datasets import mnist\n",
    "(X_train, y_train), (X_test, y_test) = mnist.load_data()"
   ]
  },
  {
   "cell_type": "code",
   "execution_count": 5,
   "metadata": {},
   "outputs": [
    {
     "name": "stdout",
     "output_type": "stream",
     "text": [
      "(60000, 28, 28)\n",
      "(10000, 28, 28)\n",
      "uint8\n",
      "[[  0   0   0   0   0   0   0   0   0   0   0   0   0   0   0   0   0   0\n",
      "    0   0   0   0   0   0   0   0   0   0]\n",
      " [  0   0   0   0   0   0   0   0   0   0   0   0   0   0   0   0   0   0\n",
      "    0   0   0   0   0   0   0   0   0   0]\n",
      " [  0   0   0   0   0   0   0   0   0   0   0   0   0   0   0   0   0   0\n",
      "    0   0   0   0   0   0   0   0   0   0]\n",
      " [  0   0   0   0   0   0   0   0   0   0   0   0   0   0   0   0   0   0\n",
      "    0   0   0   0   0   0   0   0   0   0]\n",
      " [  0   0   0   0   0   0   0   0   0   0   0   0   0   0   0   0   0   0\n",
      "    0   0   0   0   0   0   0   0   0   0]\n",
      " [  0   0   0   0   0   0   0   0   0   0   0   0   3  18  18  18 126 136\n",
      "  175  26 166 255 247 127   0   0   0   0]\n",
      " [  0   0   0   0   0   0   0   0  30  36  94 154 170 253 253 253 253 253\n",
      "  225 172 253 242 195  64   0   0   0   0]\n",
      " [  0   0   0   0   0   0   0  49 238 253 253 253 253 253 253 253 253 251\n",
      "   93  82  82  56  39   0   0   0   0   0]\n",
      " [  0   0   0   0   0   0   0  18 219 253 253 253 253 253 198 182 247 241\n",
      "    0   0   0   0   0   0   0   0   0   0]\n",
      " [  0   0   0   0   0   0   0   0  80 156 107 253 253 205  11   0  43 154\n",
      "    0   0   0   0   0   0   0   0   0   0]\n",
      " [  0   0   0   0   0   0   0   0   0  14   1 154 253  90   0   0   0   0\n",
      "    0   0   0   0   0   0   0   0   0   0]\n",
      " [  0   0   0   0   0   0   0   0   0   0   0 139 253 190   2   0   0   0\n",
      "    0   0   0   0   0   0   0   0   0   0]\n",
      " [  0   0   0   0   0   0   0   0   0   0   0  11 190 253  70   0   0   0\n",
      "    0   0   0   0   0   0   0   0   0   0]\n",
      " [  0   0   0   0   0   0   0   0   0   0   0   0  35 241 225 160 108   1\n",
      "    0   0   0   0   0   0   0   0   0   0]\n",
      " [  0   0   0   0   0   0   0   0   0   0   0   0   0  81 240 253 253 119\n",
      "   25   0   0   0   0   0   0   0   0   0]\n",
      " [  0   0   0   0   0   0   0   0   0   0   0   0   0   0  45 186 253 253\n",
      "  150  27   0   0   0   0   0   0   0   0]\n",
      " [  0   0   0   0   0   0   0   0   0   0   0   0   0   0   0  16  93 252\n",
      "  253 187   0   0   0   0   0   0   0   0]\n",
      " [  0   0   0   0   0   0   0   0   0   0   0   0   0   0   0   0   0 249\n",
      "  253 249  64   0   0   0   0   0   0   0]\n",
      " [  0   0   0   0   0   0   0   0   0   0   0   0   0   0  46 130 183 253\n",
      "  253 207   2   0   0   0   0   0   0   0]\n",
      " [  0   0   0   0   0   0   0   0   0   0   0   0  39 148 229 253 253 253\n",
      "  250 182   0   0   0   0   0   0   0   0]\n",
      " [  0   0   0   0   0   0   0   0   0   0  24 114 221 253 253 253 253 201\n",
      "   78   0   0   0   0   0   0   0   0   0]\n",
      " [  0   0   0   0   0   0   0   0  23  66 213 253 253 253 253 198  81   2\n",
      "    0   0   0   0   0   0   0   0   0   0]\n",
      " [  0   0   0   0   0   0  18 171 219 253 253 253 253 195  80   9   0   0\n",
      "    0   0   0   0   0   0   0   0   0   0]\n",
      " [  0   0   0   0  55 172 226 253 253 253 253 244 133  11   0   0   0   0\n",
      "    0   0   0   0   0   0   0   0   0   0]\n",
      " [  0   0   0   0 136 253 253 253 212 135 132  16   0   0   0   0   0   0\n",
      "    0   0   0   0   0   0   0   0   0   0]\n",
      " [  0   0   0   0   0   0   0   0   0   0   0   0   0   0   0   0   0   0\n",
      "    0   0   0   0   0   0   0   0   0   0]\n",
      " [  0   0   0   0   0   0   0   0   0   0   0   0   0   0   0   0   0   0\n",
      "    0   0   0   0   0   0   0   0   0   0]\n",
      " [  0   0   0   0   0   0   0   0   0   0   0   0   0   0   0   0   0   0\n",
      "    0   0   0   0   0   0   0   0   0   0]]\n"
     ]
    }
   ],
   "source": [
    "print(X_train.shape) # (60000, 28, 28)\n",
    "print(X_test.shape) # (10000, 28, 28)\n",
    "print(X_train[0].dtype) # uint8\n",
    "print(X_train[0])\n"
   ]
  },
  {
   "cell_type": "code",
   "execution_count": 6,
   "metadata": {},
   "outputs": [],
   "source": [
    "X_train = X_train.reshape(-1, 784)\n",
    "X_test = X_test.reshape(-1, 784)"
   ]
  },
  {
   "cell_type": "code",
   "execution_count": 7,
   "metadata": {},
   "outputs": [
    {
     "data": {
      "image/png": "[encoded data removed]",
      "text/plain": [
       "<Figure size 432x288 with 1 Axes>"
      ]
     },
     "metadata": {
      "needs_background": "light"
     },
     "output_type": "display_data"
    }
   ],
   "source": [
    "import matplotlib.pyplot as plt\n",
    "%matplotlib inline\n",
    "index = 0\n",
    "image = X_train[index].reshape(28,28)\n",
    "#X_train[index]: (784,)\n",
    "# image: (28, 28)\n",
    "plt.imshow(image, 'gray', vmin = 0, vmax = 255)\n",
    "plt.title('label : {}'.format(y_train[index]))\n",
    "plt.show()"
   ]
  },
  {
   "cell_type": "code",
   "execution_count": 8,
   "metadata": {},
   "outputs": [
    {
     "name": "stdout",
     "output_type": "stream",
     "text": [
      "1.0\n",
      "0.0\n"
     ]
    }
   ],
   "source": [
    "X_train = X_train.astype(np.float)\n",
    "X_test = X_test.astype(np.float)\n",
    "X_train /= 255\n",
    "X_test /= 255\n",
    "print(X_train.max()) # 1.0\n",
    "print(X_train.min()) # 0.0"
   ]
  },
  {
   "cell_type": "code",
   "execution_count": 9,
   "metadata": {},
   "outputs": [
    {
     "name": "stdout",
     "output_type": "stream",
     "text": [
      "(60000,)\n",
      "(60000, 10)\n",
      "float64\n"
     ]
    }
   ],
   "source": [
    "from sklearn.preprocessing import OneHotEncoder\n",
    "enc = OneHotEncoder(handle_unknown='ignore', sparse=False)\n",
    "y_train_one_hot = enc.fit_transform(y_train[:, np.newaxis])\n",
    "y_test_one_hot = enc.transform(y_test[:, np.newaxis])\n",
    "print(y_train.shape) # (60000,)\n",
    "print(y_train_one_hot.shape) # (60000, 10)\n",
    "print(y_train_one_hot.dtype) # float64"
   ]
  },
  {
   "cell_type": "code",
   "execution_count": 10,
   "metadata": {},
   "outputs": [
    {
     "name": "stdout",
     "output_type": "stream",
     "text": [
      "(48000, 784)\n",
      "(12000, 784)\n"
     ]
    }
   ],
   "source": [
    "from sklearn.model_selection import train_test_split\n",
    "X_train, X_val, y_train, y_val = train_test_split(X_train, y_train_one_hot, test_size=0.2)\n",
    "print(X_train.shape) # (48000, 784)\n",
    "print(X_val.shape) # (12000, 784)"
   ]
  },
  {
   "cell_type": "code",
   "execution_count": null,
   "metadata": {},
   "outputs": [],
   "source": []
  },
  {
   "cell_type": "code",
   "execution_count": 11,
   "metadata": {},
   "outputs": [],
   "source": [
    "class SimpleConv1d:\n",
    "    def __init__(self, weight, bias):\n",
    "        self.weight = weight\n",
    "        self.bias = bias\n",
    "        \n",
    "        \n",
    "    def forward(self, x):#X入ってくる\n",
    "        self.x = x\n",
    "        predict = np.zeros([self.x.shape[0]-2, self.weight.shape[0]])\n",
    "        \n",
    "        roop = self.x.shape[0]-self.weight.shape[0] + 1\n",
    "\n",
    "        index = np.arange(self.weight.shape[0])\n",
    "        \n",
    "        self.predict_list = []\n",
    "        \n",
    "        for i in range(roop):\n",
    "            \n",
    "            predict = int(np.dot(self.x[index + i],self.weight) + self.bias)\n",
    "            self.predict_list.append(predict)\n",
    "            \n",
    "        return self.predict_list\n",
    "    \n",
    "    def backward(self,x):\n",
    "        delta_a = np.array([10, 20]) #誤差\n",
    "        delta_B = np.sum(self.predict_list)\n",
    "        self.delta_W_list =[]# np.zeros(self.weight)\n",
    "        \n",
    "        self.delta_W0_list = self.weight.tolist()\n",
    "        self.delta_W0_list.append(0)\n",
    "        self.delta_W0_list.insert(0, 0)\n",
    "        self.delta_X_list = []\n",
    "        \n",
    "        #delta_W\n",
    "        for j in range(self.weight.shape[0]):\n",
    "            delta_W =  (delta_a[0]*self.x[j]) +   (delta_a[1]*self.x[j + 1]) \n",
    "            print(delta_W)\n",
    "            self.delta_W_list.append(delta_W)\n",
    "            \n",
    "        #delta_X\n",
    "        for k in range(self.x.shape[0]):\n",
    "            delta_X = (delta_a[0]*self.delta_W0_list[k+1]) +   (delta_a[1]*self.delta_W0_list[k])\n",
    "            self.delta_X_list.append(delta_X)\n",
    "        return self.delta_X_list\n",
    "        \n",
    "        \n",
    "    "
   ]
  },
  {
   "cell_type": "code",
   "execution_count": 12,
   "metadata": {},
   "outputs": [],
   "source": [
    "x = np.array([1,2,3,4])\n",
    "w = np.array([3, 5, 7])\n",
    "b = np.array([1])"
   ]
  },
  {
   "cell_type": "markdown",
   "metadata": {},
   "source": [
    "イニシャライザー"
   ]
  },
  {
   "cell_type": "code",
   "execution_count": 13,
   "metadata": {},
   "outputs": [],
   "source": [
    "# Xavierをインスタンス化するときはXavier(self.n_nodes)とする\n",
    "\n",
    "class Xavier:\n",
    "    def __init__(self, n_nodes1):\n",
    "        self.n_nodes1= n_nodes1\n",
    "        self.sigma = 1/np.sqrt(self.n_nodes1)\n",
    "               \n",
    "    def W(self, n_nodes1): #フィルタ\n",
    "        return self.sigma*np.random.randn(n_nodes1)\n",
    "    \n",
    "    def B(self, n_nodes2): #1?\n",
    "        return  self.sigma * np.random.randn(n_nodes2)"
   ]
  },
  {
   "cell_type": "code",
   "execution_count": 14,
   "metadata": {},
   "outputs": [],
   "source": [
    "XXX = Xavier(4)"
   ]
  },
  {
   "cell_type": "code",
   "execution_count": 15,
   "metadata": {},
   "outputs": [
    {
     "data": {
      "text/plain": [
       "array([-0.22305639, -0.31210672,  0.2333637 ])"
      ]
     },
     "execution_count": 15,
     "metadata": {},
     "output_type": "execute_result"
    }
   ],
   "source": [
    "XXX.W(3)"
   ]
  },
  {
   "cell_type": "code",
   "execution_count": 44,
   "metadata": {},
   "outputs": [
    {
     "ename": "IndentationError",
     "evalue": "unindent does not match any outer indentation level (<tokenize>, line 11)",
     "output_type": "error",
     "traceback": [
      "\u001b[0;36m  File \u001b[0;32m\"<tokenize>\"\u001b[0;36m, line \u001b[0;32m11\u001b[0m\n\u001b[0;31m    def forward(self, Z):\u001b[0m\n\u001b[0m    ^\u001b[0m\n\u001b[0;31mIndentationError\u001b[0m\u001b[0;31m:\u001b[0m unindent does not match any outer indentation level\n"
     ]
    }
   ],
   "source": [
    "class SimpleConv1d:\n",
    " \n",
    "     def __init__(self, n_nodes1, n_nodes2, initializer, optimizer):\n",
    "        # 初期化\n",
    "        self.optimizer = optimizer\n",
    "        # initializerのメソッドを使い、self.Wとself.Bを初期化する\n",
    "        self.W = initializer.W(n_nodes1)#?\n",
    "        self.B =  initializer.B(n_nodes2)#?\n",
    "        pass\n",
    "        \n",
    "    def forward(self, Z):\n",
    "        self.Z = Z.copy()\n",
    "        return np.dot(Z, self.W) + self.B #output=A\n",
    "        \n",
    "\n",
    "\n",
    "    def backward(self, dA):\n",
    "        \"\"\"\n",
    "        バックワード\n",
    "        Parameters\n",
    "        ----------\n",
    "        dA : 次の形のndarray, shape (batch_size, n_nodes2)\n",
    "            後ろから流れてきた勾配\n",
    "        Returns\n",
    "        ----------\n",
    "        dZ : 次の形のndarray, shape (batch_size, n_nodes1)\n",
    "            前に流す勾配\n",
    "        \"\"\"\n",
    "        \n",
    "        self.dB = dA #b3grad = delta1=dA\n",
    "        #print(self.Z.shape)\n",
    "        #print(dA.shape)\n",
    "        self.dW = np.dot(self.Z.T,dA) #np.dot(___Z2___, dA)shapedW?? = np.dot(self.Z,dA) のshape確認\n",
    "        \n",
    "        dZ = np.dot(dA, self.W.T)#(np.dot(delta1,self.W3.T)\n",
    "        \n",
    "        # 更新\n",
    "        self = self.optimizer.update(self) #??????\n",
    "        return dZ\n",
    "    "
   ]
  },
  {
   "cell_type": "code",
   "execution_count": 18,
   "metadata": {},
   "outputs": [],
   "source": [
    "class ScrachDeepNeuralNetworkRegressor():\n",
    "    \n",
    "    def __init__(self, n_epochs, batch, alpha = np.exp(-7), sigma = 0.01, n_nodes1 = 400, n_nodes2 = 200, n_output = 10):\n",
    "        self.n_epochs = n_epochs\n",
    "        self.batch = batch\n",
    "        self.n_nodes1 = n_nodes1\n",
    "        self.n_nodes2 = n_nodes2\n",
    "        self.n_output = n_output\n",
    "        self.loss = []#np.zeros(n_epochs)\n",
    "        self.val_loss = []#np.zeros(n_epochs)\n",
    "        self.alpha = alpha\n",
    "        self.sigma = sigma\n",
    "        \n",
    "    def fit(self, X, y, X_val=None, y_val=None, val=False):\n",
    "\n",
    "        self.X = X\n",
    "        self.y = y\n",
    "        self.n_features = self.X.shape[1]\n",
    "        train_minibatch = GetMiniBatch(self.X, y, self.batch)\n",
    "        test_minibatch = GetMiniBatch(X_val, y_val, self.batch)\n",
    "        \n",
    "        optimizer = SGD(self.alpha)\n",
    "        #optimizer1 = AdaGrad(self.alpha)\n",
    "        self.FC1 = FC(self.n_features, self.n_nodes1, SimpleInitializer(self.sigma), optimizer)\n",
    "        #self.FC1 = FC(self.n_features, self.n_nodes1, SimpleInitializer(self.sigma), optimizer1)\n",
    "        #self.activation1 = Tanh()\n",
    "        self.activation1 = ReLU()\n",
    "        #optimizer2 = AdaGrad(self.alpha)\n",
    "        self.FC2 = FC(self.n_nodes1, self.n_nodes2, SimpleInitializer(self.sigma), optimizer)\n",
    "        #self.FC2 = FC(self.n_nodes1, self.n_nodes2, SimpleInitializer(self.sigma), optimizer2)\n",
    "        #self.activation2 = Tanh()\n",
    "        self.activation2 = ReLU()\n",
    "        #optimizer3 = AdaGrad(self.alpha)\n",
    "        self.FC3 = FC(self.n_nodes2, self.n_output, SimpleInitializer(self.sigma), optimizer)\n",
    "        #self.FC3 = FC(self.n_nodes2, self.n_output, SimpleInitializer(self.sigma), optimizer3)\n",
    "        self.activation3 = Softmax_with_crossentropyloss()\n",
    "        \n",
    "        for epoch in range(self.n_epochs):\n",
    "            for mini_X, mini_y in train_minibatch:\n",
    "                X = mini_X\n",
    "                y = mini_y#[:,np.newaxis] ############\n",
    "                #フォワード\n",
    "                A1 = self.FC1.forward(X)\n",
    "                Z1 = self.activation1.forward(A1) #Tanh().forward()\n",
    "                A2 = self.FC2.forward(Z1)\n",
    "                Z2 = self.activation2.forward(A2)\n",
    "                A3 = self.FC3.forward(Z2)\n",
    "                Z3 = self.activation3.forward(A3)\n",
    "                #バックワード\n",
    "                dA3 = self.activation3.backward(y) # 交差エントロピー誤差とソフトマックスを合わせている\n",
    "                dZ2 = self.FC3.backward(dA3)\n",
    "                dA2 = self.activation2.backward(dZ2)\n",
    "                dZ1 = self.FC2.backward(dA2)\n",
    "                dA1 = self.activation1.backward(dZ1)\n",
    "                dZ0 = self.FC1.backward(dA1) # dZ0は使用しない\n",
    "\n",
    "\n",
    "\n",
    "                \n",
    "        return\n",
    "            \n",
    "                "
   ]
  },
  {
   "cell_type": "markdown",
   "metadata": {},
   "source": []
  },
  {
   "cell_type": "code",
   "execution_count": 19,
   "metadata": {},
   "outputs": [],
   "source": [
    "def after_out(n_in, filter_size, stride, pad):\n",
    "    n_in = n_in.shape[0]\n",
    "    out = (n_in + 2*pad - filter_size)/stride + 1\n",
    "    return out"
   ]
  },
  {
   "cell_type": "code",
   "execution_count": 20,
   "metadata": {},
   "outputs": [
    {
     "data": {
      "text/plain": [
       "4"
      ]
     },
     "execution_count": 20,
     "metadata": {},
     "output_type": "execute_result"
    }
   ],
   "source": [
    "n_in = np.random.randn(4)\n",
    "n_in.shape[0]"
   ]
  },
  {
   "cell_type": "code",
   "execution_count": 21,
   "metadata": {},
   "outputs": [
    {
     "data": {
      "text/plain": [
       "2.0"
      ]
     },
     "execution_count": 21,
     "metadata": {},
     "output_type": "execute_result"
    }
   ],
   "source": [
    "af = after_out(n_in,3,1,0)\n",
    "af"
   ]
  },
  {
   "cell_type": "markdown",
   "metadata": {},
   "source": []
  },
  {
   "cell_type": "markdown",
   "metadata": {},
   "source": [
    "入力x、重みw、バイアスbを次のようにします。"
   ]
  },
  {
   "cell_type": "code",
   "execution_count": 22,
   "metadata": {},
   "outputs": [],
   "source": [
    "x = np.array([1,2,3,4])\n",
    "w = np.array([3, 5, 7])\n",
    "a = np.zeros([2, 3])\n",
    "b = np.array([1])\n",
    "predict = np.zeros([x.shape[0]-2,w.shape[0]])\n"
   ]
  },
  {
   "cell_type": "code",
   "execution_count": 23,
   "metadata": {},
   "outputs": [],
   "source": [
    "test = SimpleConv1d(w, b)"
   ]
  },
  {
   "cell_type": "code",
   "execution_count": 24,
   "metadata": {},
   "outputs": [
    {
     "data": {
      "text/plain": [
       "[35, 50]"
      ]
     },
     "execution_count": 24,
     "metadata": {},
     "output_type": "execute_result"
    }
   ],
   "source": [
    "yyy = test.forward(x)\n",
    "yyy"
   ]
  },
  {
   "cell_type": "code",
   "execution_count": 25,
   "metadata": {},
   "outputs": [
    {
     "name": "stdout",
     "output_type": "stream",
     "text": [
      "50\n",
      "80\n",
      "110\n"
     ]
    },
    {
     "data": {
      "text/plain": [
       "[30, 110, 170, 140]"
      ]
     },
     "execution_count": 25,
     "metadata": {},
     "output_type": "execute_result"
    }
   ],
   "source": [
    "test.backward(x)"
   ]
  },
  {
   "cell_type": "code",
   "execution_count": 26,
   "metadata": {
    "scrolled": true
   },
   "outputs": [
    {
     "name": "stdout",
     "output_type": "stream",
     "text": [
      "[3 5 7]\n"
     ]
    },
    {
     "data": {
      "text/plain": [
       "array([0., 0., 0.])"
      ]
     },
     "execution_count": 26,
     "metadata": {},
     "output_type": "execute_result"
    }
   ],
   "source": [
    "print(w)\n",
    "delta_W_list = np.zeros(len(w))\n",
    "delta_W_list"
   ]
  },
  {
   "cell_type": "code",
   "execution_count": 27,
   "metadata": {},
   "outputs": [],
   "source": [
    "def im2col(input_data, filter_h, filter_w, stride=1, pad=0):\n",
    "    N, C, H, W = input_data.shape\n",
    "    out_h = (H + 2*pad - filter_h)//stride + 1\n",
    "    out_w = (W + 2*pad - filter_w)//stride + 1\n",
    "\n",
    "    img = np.pad(input_data, [(0,0), (0,0), (pad, pad), (pad, pad)], 'constant')\n",
    "    col = np.zeros((N, C, filter_h, filter_w, out_h, out_w))\n",
    "\n",
    "    for y in range(filter_h):\n",
    "        y_max = y + stride*out_h\n",
    "        for x in range(filter_w):\n",
    "            x_max = x + stride*out_w\n",
    "            col[:, :, y, x, :, :] = img[:, :, y:y_max:stride, x:x_max:stride]\n",
    "\n",
    "    col = col.transpose(0, 4, 5, 1, 2, 3).reshape(N*out_h*out_w, -1)\n",
    "    return col"
   ]
  },
  {
   "cell_type": "code",
   "execution_count": 28,
   "metadata": {},
   "outputs": [
    {
     "name": "stdout",
     "output_type": "stream",
     "text": [
      "(9, 75)\n"
     ]
    }
   ],
   "source": [
    "x1 = np.random.rand(1, 3, 7, 7)\n",
    "col1 = im2col(x1, 5, 5, stride=1, pad= 0)\n",
    "print(col1.shape)"
   ]
  },
  {
   "cell_type": "code",
   "execution_count": 29,
   "metadata": {},
   "outputs": [
    {
     "data": {
      "text/plain": [
       "array([[[[0.41149353, 0.31743926, 0.57216953],\n",
       "         [0.63948939, 0.96565898, 0.87668382],\n",
       "         [0.13853787, 0.98550537, 0.50329796]],\n",
       "\n",
       "        [[0.00416114, 0.00853549, 0.09721422],\n",
       "         [0.72830055, 0.21767349, 0.06555946],\n",
       "         [0.53618484, 0.30941128, 0.30451651]],\n",
       "\n",
       "        [[0.98371654, 0.38787934, 0.15032263],\n",
       "         [0.24521961, 0.32417089, 0.43490609],\n",
       "         [0.4446306 , 0.78062791, 0.74595924]]],\n",
       "\n",
       "\n",
       "       [[[0.12540969, 0.46709371, 0.24766485],\n",
       "         [0.40123331, 0.94784044, 0.61968127],\n",
       "         [0.1837575 , 0.12612049, 0.52954342]],\n",
       "\n",
       "        [[0.60468265, 0.12788636, 0.86863193],\n",
       "         [0.92756783, 0.36762147, 0.26166019],\n",
       "         [0.34761498, 0.28644808, 0.82355617]],\n",
       "\n",
       "        [[0.12460774, 0.95175554, 0.13672596],\n",
       "         [0.41164183, 0.01345122, 0.43901727],\n",
       "         [0.32141284, 0.10460882, 0.6724505 ]]]])"
      ]
     },
     "execution_count": 29,
     "metadata": {},
     "output_type": "execute_result"
    }
   ],
   "source": [
    "w_random = np.random.rand(2, 3, 3, 3)\n",
    "w_random"
   ]
  },
  {
   "cell_type": "code",
   "execution_count": 30,
   "metadata": {},
   "outputs": [
    {
     "data": {
      "text/plain": [
       "array([[0.41149353, 0.31743926, 0.57216953, 0.63948939, 0.96565898,\n",
       "        0.87668382, 0.13853787, 0.98550537, 0.50329796, 0.00416114,\n",
       "        0.00853549, 0.09721422, 0.72830055, 0.21767349, 0.06555946,\n",
       "        0.53618484, 0.30941128, 0.30451651, 0.98371654, 0.38787934,\n",
       "        0.15032263, 0.24521961, 0.32417089, 0.43490609, 0.4446306 ,\n",
       "        0.78062791, 0.74595924],\n",
       "       [0.12540969, 0.46709371, 0.24766485, 0.40123331, 0.94784044,\n",
       "        0.61968127, 0.1837575 , 0.12612049, 0.52954342, 0.60468265,\n",
       "        0.12788636, 0.86863193, 0.92756783, 0.36762147, 0.26166019,\n",
       "        0.34761498, 0.28644808, 0.82355617, 0.12460774, 0.95175554,\n",
       "        0.13672596, 0.41164183, 0.01345122, 0.43901727, 0.32141284,\n",
       "        0.10460882, 0.6724505 ]])"
      ]
     },
     "execution_count": 30,
     "metadata": {},
     "output_type": "execute_result"
    }
   ],
   "source": [
    "w_random.reshape([2,-1])"
   ]
  },
  {
   "cell_type": "code",
   "execution_count": null,
   "metadata": {},
   "outputs": [],
   "source": []
  }
 ],
 "metadata": {
  "kernelspec": {
   "display_name": "Python 3",
   "language": "python",
   "name": "python3"
  },
  "language_info": {
   "codemirror_mode": {
    "name": "ipython",
    "version": 3
   },
   "file_extension": ".py",
   "mimetype": "text/x-python",
   "name": "python",
   "nbconvert_exporter": "python",
   "pygments_lexer": "ipython3",
   "version": "3.7.4"
  },
  "toc": {
   "base_numbering": 1,
   "nav_menu": {},
   "number_sections": true,
   "sideBar": true,
   "skip_h1_title": false,
   "title_cell": "Table of Contents",
   "title_sidebar": "Contents",
   "toc_cell": false,
   "toc_position": {},
   "toc_section_display": true,
   "toc_window_display": false
  },
  "varInspector": {
   "cols": {
    "lenName": 16,
    "lenType": 16,
    "lenVar": 40
   },
   "kernels_config": {
    "python": {
     "delete_cmd_postfix": "",
     "delete_cmd_prefix": "del ",
     "library": "var_list.py",
     "varRefreshCmd": "print(var_dic_list())"
    },
    "r": {
     "delete_cmd_postfix": ") ",
     "delete_cmd_prefix": "rm(",
     "library": "var_list.r",
     "varRefreshCmd": "cat(var_dic_list()) "
    }
   },
   "types_to_exclude": [
    "module",
    "function",
    "builtin_function_or_method",
    "instance",
    "_Feature"
   ],
   "window_display": false
  }
 },
 "nbformat": 4,
 "nbformat_minor": 4
}
