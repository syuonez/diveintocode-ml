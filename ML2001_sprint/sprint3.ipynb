{
 "cells": [
  {
   "cell_type": "markdown",
   "metadata": {},
   "source": [
    "# ロジスティック回帰スクラッチ"
   ]
  },
  {
   "cell_type": "markdown",
   "metadata": {},
   "source": [
    "ロジスティック回帰のクラスをスクラッチで作成していきます。NumPyなど最低限のライブラリのみを使いアルゴリズムを実装していきます。\n",
    "\n",
    "以下に雛形を用意してあります。このScratchLogisticRegressionクラスにコードを書き加えていってください。推定関係のメソッドは線形回帰と異なり、ラベルを出力するpredictメソッドと、確率を出力するpredict_probaメソッドの2種類を作成します"
   ]
  },
  {
   "cell_type": "code",
   "execution_count": 1,
   "metadata": {},
   "outputs": [],
   "source": [
    "import numpy as np\n",
    "import matplotlib.pyplot as plt\n",
    "import pandas as pd\n",
    "import seaborn as sns"
   ]
  },
  {
   "cell_type": "code",
   "execution_count": 2,
   "metadata": {},
   "outputs": [],
   "source": [
    "class ScratchLogisticRegression():\n",
    "    \"\"\"\n",
    "    ロジスティック回帰のスクラッチ実装\n",
    "\n",
    "    Parameters\n",
    "    ----------\n",
    "    num_iter : int\n",
    "      イテレーション数\n",
    "    lr : float\n",
    "      学習率\n",
    "    no_bias : bool\n",
    "      バイアス項を入れない場合はTrue\n",
    "    verbose : bool\n",
    "      学習過程を出力する場合はTrue\n",
    "\n",
    "    Attributes\n",
    "    ----------\n",
    "    self.coef_ : 次の形のndarray, shape (n_features,)\n",
    "      パラメータ\n",
    "    self.loss : 次の形のndarray, shape (self.iter,)\n",
    "      学習用データに対する損失の記録\n",
    "    self.val_loss : 次の形のndarray, shape (self.iter,)\n",
    "      検証用データに対する損失の記録\n",
    "\n",
    "    \"\"\"\n",
    "\n",
    "    def __init__(self, num_iter, lr, bias, verbose, ramuda):\n",
    "        # ハイパーパラメータを属性として記録\n",
    "        self.iter = num_iter\n",
    "        self.lr = lr\n",
    "        self.bias = bias\n",
    "        self.verbose = verbose\n",
    "        # 損失を記録する配列を用意\n",
    "        self.loss = np.zeros(self.iter)\n",
    "        self.val_loss = np.zeros(self.iter)\n",
    "        \n",
    "        self.ramuda = ramuda\n",
    "\n",
    "    def fit(self, X, y, X_val=None, y_val=None, val=False):\n",
    "        \"\"\"\n",
    "        ロジスティック回帰を学習する。検証用データが入力された場合はそれに対する損失と精度もイテレーションごとに計算する。\n",
    "\n",
    "        Parameters\n",
    "        ----------\n",
    "        X : 次の形のndarray, shape (n_samples, n_features)\n",
    "            学習用データの特徴量\n",
    "        y : 次の形のndarray, shape (n_samples, )\n",
    "            学習用データの正解値\n",
    "        X_val : 次の形のndarray, shape (n_samples, n_features)\n",
    "            検証用データの特徴量\n",
    "        y_val : 次の形のndarray, shape (n_samples, )\n",
    "            検証用データの正解値\n",
    "        \"\"\"\n",
    "        \n",
    "        \n",
    "    \n",
    "        if not self.bias:\n",
    "            X_bias= np.ones((X.shape[0],1))\n",
    "            #X_train_bias = np.concatenate([X_bias,X], 1)\n",
    "            X= np.concatenate([X_bias,X], 1)\n",
    "            if val:\n",
    "                X_val_bias_b= np.ones((X_val.shape[0],1))\n",
    "                X_val_bias = np.concatenate([X_val_bias_b,X_val], 1)\n",
    "                \n",
    "        self.X= X\n",
    "        self.y = y\n",
    "        self.X_val = X_val\n",
    "        self.y_val = y_val \n",
    "        \n",
    "        #self.X = X_train_bias\n",
    "           \n",
    "        \n",
    "        #coefの初期値作る\n",
    "        self.coef = np.random.randn(self.X.shape[1],1) #heta 平均0、分散1（標準偏差1）の正規分布（標準正規分布）に従う乱数を返す。\n",
    "        \n",
    "        for i in range(self.iter):\n",
    "            self.loss[i] = self.cost(self.X, self.y)\n",
    "            if val:\n",
    "                self.val_loss[i] = self.cost(self.X_val, self.y_val)\n",
    "                \n",
    "            self._gradient_discent(self.X)\n",
    "\n",
    "        if (self.verbose) & (i % 200 == 0):\n",
    "                print(f'train：{self.loss[i]}')\n",
    "                if val:\n",
    "                    print(f'val：{self.val_loss[i]}')\n",
    "        \n",
    "    \n",
    "    def cost(self, X, y):\n",
    "        \n",
    "        seikikakou = (self.ramuda/(2*X.shape[0]))*(np.sum(np.power(self.coef, 2)))\n",
    "\n",
    "        return (1 / X.shape[0])* (np.dot(-y, np.log(self._h_theta_sigmoido(X))) - np.dot((1-y), np.log(1 - self._h_theta_sigmoido(X)))) + seikikakou    \n",
    "\n",
    "\n",
    "    def _h_theta_sigmoido(self, X):\n",
    "        h_theta = np.dot(X, self.coef)\n",
    "        return (1/(1+np.exp(-h_theta)))\n",
    "    \n",
    "    def _gradient_discent(self, X):\n",
    "        m = self.X.shape[0]\n",
    "        \n",
    "        self.y_re = self.y.reshape([67, 1])\n",
    "        \n",
    "#         self.coef[0] = self.coef[0] - self.lr / m * np.dot(self.X[:, 0].T, (self._h_theta_sigmoido(self.X) - self.y))\n",
    "        self.coef[0] = self.coef[0] - self.lr / m * np.dot(self.X[:, 0].T, (self._h_theta_sigmoido(self.X) - self.y_re))\n",
    "        self.coef[1:] = self.coef[1:] - ((self.lr / m * np.dot(self.X[:, 1:].T, (self._h_theta_sigmoido(self.X) - self.y_re))) + ((self.coef[1:])*self.lr*self.ramuda/m))\n",
    "        \n",
    "\n",
    "\n",
    "    def predict(self, X):\n",
    "        \"\"\"\n",
    "        ロジスティック回帰を使いラベルを推定する。\n",
    "\n",
    "        Parameters\n",
    "        ----------\n",
    "        X : 次の形のndarray, shape (n_samples, n_features)\n",
    "            サンプル\n",
    "\n",
    "        Returns\n",
    "        -------\n",
    "            次の形のndarray, shape (n_samples, 1)\n",
    "            ロジスティック回帰による推定結果\n",
    "        \"\"\"\n",
    "        probably = self.predict_proba(X)\n",
    "        \n",
    "        return np.where(probably < 0.5, 0, 1)\n",
    "\n",
    "    def predict_proba(self, X):\n",
    "        \"\"\"\n",
    "        ロジスティック回帰を使い確率を推定する。\n",
    "\n",
    "        Parameters\n",
    "        ----------\n",
    "        X : 次の形のndarray, shape (n_samples, n_features)\n",
    "            サンプル\n",
    "\n",
    "        Returns\n",
    "        -------\n",
    "            次の形のndarray, shape (n_samples, 1)\n",
    "            ロジスティック回帰による推定結果\n",
    "        \"\"\"\n",
    "        return self._h_theta_sigmoido(X)"
   ]
  },
  {
   "cell_type": "code",
   "execution_count": 3,
   "metadata": {},
   "outputs": [
    {
     "data": {
      "text/plain": [
       "'\\n        print(self.coef.shape)\\n        d = (self.X[:, 0]).T\\n        print(d)\\n        print(d.shape) #67,\\n        print((self._h_theta_sigmoido(self.X)).shape) #67,1\\n        print((self.y).shape) #67\\n        print(\"aaa\")\\n        print(self.y)\\n        print((self.y.reshape([67, 1])).shape) #67\\n        print((self._h_theta_sigmoido(self.X) - self.y.reshape([67, 1])).shape) #67,1\\n        '"
      ]
     },
     "execution_count": 3,
     "metadata": {},
     "output_type": "execute_result"
    }
   ],
   "source": [
    "\"\"\"\n",
    "        print(self.coef.shape)\n",
    "        d = (self.X[:, 0]).T\n",
    "        print(d)\n",
    "        print(d.shape) #67,\n",
    "        print((self._h_theta_sigmoido(self.X)).shape) #67,1\n",
    "        print((self.y).shape) #67\n",
    "        print(\"aaa\")\n",
    "        print(self.y)\n",
    "        print((self.y.reshape([67, 1])).shape) #67\n",
    "        print((self._h_theta_sigmoido(self.X) - self.y.reshape([67, 1])).shape) #67,1\n",
    "        \"\"\""
   ]
  },
  {
   "cell_type": "markdown",
   "metadata": {},
   "source": [
    "# 【問題1】仮定関数"
   ]
  },
  {
   "cell_type": "markdown",
   "metadata": {},
   "source": [
    "ロジスティック回帰の仮定関数のメソッドをScratchLogisticRegressionクラスに実装してください。\n",
    "\n",
    "ロジスティック回帰の仮定関数は、線形回帰の仮定関数を シグモイド関数 に通したものです。"
   ]
  },
  {
   "cell_type": "markdown",
   "metadata": {},
   "source": [
    "線形回帰の仮定関数"
   ]
  },
  {
   "cell_type": "code",
   "execution_count": 4,
   "metadata": {
    "scrolled": true
   },
   "outputs": [],
   "source": [
    "#X = np.arange(6).reshape([2,3])\n",
    "#X"
   ]
  },
  {
   "cell_type": "code",
   "execution_count": 5,
   "metadata": {
    "scrolled": true
   },
   "outputs": [],
   "source": [
    "#y= np.arange(4).reshape([4,1])\n",
    "#y"
   ]
  },
  {
   "cell_type": "code",
   "execution_count": 6,
   "metadata": {},
   "outputs": [],
   "source": [
    "#y[3]"
   ]
  },
  {
   "cell_type": "code",
   "execution_count": 7,
   "metadata": {},
   "outputs": [],
   "source": [
    "# X = np.insert(X, 0, 1, axis = 1)\n",
    "# X[1,:]"
   ]
  },
  {
   "cell_type": "code",
   "execution_count": 8,
   "metadata": {},
   "outputs": [],
   "source": [
    "# X.shape"
   ]
  },
  {
   "cell_type": "code",
   "execution_count": 9,
   "metadata": {
    "scrolled": true
   },
   "outputs": [],
   "source": [
    "# coef = np.random.randn(X.shape[1],1)\n",
    "# coef\n"
   ]
  },
  {
   "cell_type": "code",
   "execution_count": 10,
   "metadata": {},
   "outputs": [],
   "source": [
    "# coef[1:]= 1"
   ]
  },
  {
   "cell_type": "code",
   "execution_count": 11,
   "metadata": {},
   "outputs": [],
   "source": [
    "# coef"
   ]
  },
  {
   "cell_type": "code",
   "execution_count": 12,
   "metadata": {},
   "outputs": [],
   "source": [
    "# h_theta = np.dot(X, coef)\n",
    "# h_theta"
   ]
  },
  {
   "cell_type": "code",
   "execution_count": 13,
   "metadata": {},
   "outputs": [],
   "source": [
    "# h_theta_sigmoido = 1/(1+np.exp(h_theta))\n",
    "# h_theta_sigmoido"
   ]
  },
  {
   "cell_type": "markdown",
   "metadata": {},
   "source": [
    "# 【問題2】最急降下法"
   ]
  },
  {
   "cell_type": "markdown",
   "metadata": {},
   "source": [
    "最急降下法により学習させる実装を行なってください。以下の式で表されるパラメータの更新式のメソッド_gradient_descentを追加し、fit\n",
    "メソッドから呼び出すようにしてください。"
   ]
  },
  {
   "cell_type": "markdown",
   "metadata": {},
   "source": [
    "A.classに実装しました"
   ]
  },
  {
   "cell_type": "markdown",
   "metadata": {},
   "source": [
    "# 【問題3】推定"
   ]
  },
  {
   "cell_type": "markdown",
   "metadata": {},
   "source": [
    "推定する仕組みを実装してください。ScratchLogisticRegressionクラスの雛形に含まれるpredictメソッドとpredict_probaメソッドに書き加えてください。\n",
    "\n",
    "仮定関数 の出力がpredict_probaの返り値、さらにその値に閾値を設けて1と0のラベルとしたものがpredictの返り値となります。"
   ]
  },
  {
   "cell_type": "markdown",
   "metadata": {},
   "source": [
    "# 【問題4】目的関数"
   ]
  },
  {
   "cell_type": "markdown",
   "metadata": {},
   "source": [
    "下の数式で表されるロジスティック回帰の 目的関数（損失関数） を実装してください。そして、これをself.loss, self.val_lossに記録するようにしてください。\n",
    "\n",
    "なお、この数式には正則化項が含まれています。\n",
    "\n",
    "＊数式が見切れる場合、DIVERを全画面にして御覧ください"
   ]
  },
  {
   "cell_type": "markdown",
   "metadata": {},
   "source": [
    "# 【問題5】学習と推定"
   ]
  },
  {
   "cell_type": "markdown",
   "metadata": {},
   "source": [
    "機械学習スクラッチ入門のSprintで用意したirisデータセットのvirgicolorとvirginicaの2値分類に対してスクラッチ実装の学習と推定を行なってください。\n",
    "\n",
    "scikit-learnによる実装と比べ、正しく動いているかを確認してください。\n",
    "\n",
    "AccuracyやPrecision、Recallなどの指標値はscikit-learnを使用してください。"
   ]
  },
  {
   "cell_type": "code",
   "execution_count": 14,
   "metadata": {},
   "outputs": [],
   "source": [
    "from sklearn.datasets import load_iris\n",
    "iris = load_iris()\n",
    "\n",
    "X = pd.DataFrame(iris.data, columns=['sepal_length', 'sepal_width', 'petal_length', 'petal_width'])\n",
    "X = X[['sepal_length','petal_length']]\n",
    "y = pd.DataFrame(iris.target, columns=['Species'])\n",
    "df = pd.concat([X, y], axis=1)\n",
    "df = df[df.Species.isin([1,2])].reset_index(drop=True)\n",
    "df.loc[df.Species == 2, 'Species'] = 0 \n",
    "y = df.Species\n",
    "del df['Species']\n",
    "\n",
    "from sklearn.model_selection import train_test_split\n",
    "train, val_train, y_train, y_val = train_test_split(np.array(df), np.array(y), test_size=0.33, random_state=42)\n",
    "\n",
    "slr = ScratchLogisticRegression(5000, 0.001, bias=True, verbose=False, ramuda=1)"
   ]
  },
  {
   "cell_type": "code",
   "execution_count": 15,
   "metadata": {
    "scrolled": true
   },
   "outputs": [
    {
     "name": "stderr",
     "output_type": "stream",
     "text": [
      "/Users/shinoda/.pyenv/versions/anaconda3-2019.10/lib/python3.7/site-packages/sklearn/linear_model/logistic.py:432: FutureWarning: Default solver will be changed to 'lbfgs' in 0.22. Specify a solver to silence this warning.\n",
      "  FutureWarning)\n"
     ]
    },
    {
     "data": {
      "text/plain": [
       "LogisticRegression(C=1.0, class_weight=None, dual=False, fit_intercept=True,\n",
       "                   intercept_scaling=1, l1_ratio=None, max_iter=100,\n",
       "                   multi_class='warn', n_jobs=None, penalty='l2',\n",
       "                   random_state=None, solver='warn', tol=0.0001, verbose=0,\n",
       "                   warm_start=False)"
      ]
     },
     "execution_count": 15,
     "metadata": {},
     "output_type": "execute_result"
    }
   ],
   "source": [
    "from sklearn.linear_model import LogisticRegression\n",
    "sklearn_slr = LogisticRegression()\n",
    "sklearn_slr.fit(train, y_train)"
   ]
  },
  {
   "cell_type": "code",
   "execution_count": 16,
   "metadata": {},
   "outputs": [],
   "source": [
    "slr.fit(train, y_train, val_train, y_val, val=True)"
   ]
  },
  {
   "cell_type": "code",
   "execution_count": 17,
   "metadata": {},
   "outputs": [
    {
     "data": {
      "text/plain": [
       "array([[ 0.34237461],\n",
       "       [-0.49187786]])"
      ]
     },
     "execution_count": 17,
     "metadata": {},
     "output_type": "execute_result"
    }
   ],
   "source": [
    "slr.coef"
   ]
  },
  {
   "cell_type": "code",
   "execution_count": 18,
   "metadata": {
    "scrolled": true
   },
   "outputs": [
    {
     "data": {
      "text/plain": [
       "array([[0.41299035],\n",
       "       [0.35490305],\n",
       "       [0.39142673],\n",
       "       [0.47144318],\n",
       "       [0.4629209 ],\n",
       "       [0.47889977],\n",
       "       [0.43702583],\n",
       "       [0.3853543 ],\n",
       "       [0.49757516],\n",
       "       [0.52118639],\n",
       "       [0.4773336 ],\n",
       "       [0.50348107],\n",
       "       [0.43702583],\n",
       "       [0.3883319 ],\n",
       "       [0.38684205],\n",
       "       [0.49070028],\n",
       "       [0.44070752],\n",
       "       [0.42025751],\n",
       "       [0.52167047],\n",
       "       [0.51577284],\n",
       "       [0.3442646 ],\n",
       "       [0.4239043 ],\n",
       "       [0.49178415],\n",
       "       [0.5045652 ],\n",
       "       [0.40007764],\n",
       "       [0.53236651],\n",
       "       [0.43015906],\n",
       "       [0.42496374],\n",
       "       [0.4655607 ],\n",
       "       [0.34089751],\n",
       "       [0.48853281],\n",
       "       [0.50191194],\n",
       "       [0.4099504 ]])"
      ]
     },
     "execution_count": 18,
     "metadata": {},
     "output_type": "execute_result"
    }
   ],
   "source": [
    "slr._h_theta_sigmoido(val_train)"
   ]
  },
  {
   "cell_type": "code",
   "execution_count": 19,
   "metadata": {},
   "outputs": [
    {
     "data": {
      "text/plain": [
       "array([[0.41299035],\n",
       "       [0.35490305],\n",
       "       [0.39142673],\n",
       "       [0.47144318],\n",
       "       [0.4629209 ],\n",
       "       [0.47889977],\n",
       "       [0.43702583],\n",
       "       [0.3853543 ],\n",
       "       [0.49757516],\n",
       "       [0.52118639],\n",
       "       [0.4773336 ],\n",
       "       [0.50348107],\n",
       "       [0.43702583],\n",
       "       [0.3883319 ],\n",
       "       [0.38684205],\n",
       "       [0.49070028],\n",
       "       [0.44070752],\n",
       "       [0.42025751],\n",
       "       [0.52167047],\n",
       "       [0.51577284],\n",
       "       [0.3442646 ],\n",
       "       [0.4239043 ],\n",
       "       [0.49178415],\n",
       "       [0.5045652 ],\n",
       "       [0.40007764],\n",
       "       [0.53236651],\n",
       "       [0.43015906],\n",
       "       [0.42496374],\n",
       "       [0.4655607 ],\n",
       "       [0.34089751],\n",
       "       [0.48853281],\n",
       "       [0.50191194],\n",
       "       [0.4099504 ]])"
      ]
     },
     "execution_count": 19,
     "metadata": {},
     "output_type": "execute_result"
    }
   ],
   "source": [
    "slr.predict_proba(val_train)"
   ]
  },
  {
   "cell_type": "code",
   "execution_count": 20,
   "metadata": {},
   "outputs": [
    {
     "data": {
      "text/plain": [
       "array([[0],\n",
       "       [0],\n",
       "       [0],\n",
       "       [0],\n",
       "       [0],\n",
       "       [0],\n",
       "       [0],\n",
       "       [0],\n",
       "       [0],\n",
       "       [1],\n",
       "       [0],\n",
       "       [1],\n",
       "       [0],\n",
       "       [0],\n",
       "       [0],\n",
       "       [0],\n",
       "       [0],\n",
       "       [0],\n",
       "       [1],\n",
       "       [1],\n",
       "       [0],\n",
       "       [0],\n",
       "       [0],\n",
       "       [1],\n",
       "       [0],\n",
       "       [1],\n",
       "       [0],\n",
       "       [0],\n",
       "       [0],\n",
       "       [0],\n",
       "       [0],\n",
       "       [1],\n",
       "       [0]])"
      ]
     },
     "execution_count": 20,
     "metadata": {},
     "output_type": "execute_result"
    }
   ],
   "source": [
    "pred = slr.predict(val_train)\n",
    "pred"
   ]
  },
  {
   "cell_type": "code",
   "execution_count": 21,
   "metadata": {},
   "outputs": [
    {
     "data": {
      "text/plain": [
       "array([0, 0, 0, 1, 1, 1, 0, 0, 1, 1, 1, 1, 0, 0, 0, 1, 1, 0, 1, 1, 0, 0,\n",
       "       1, 1, 0, 1, 0, 0, 1, 0, 1, 1, 0])"
      ]
     },
     "execution_count": 21,
     "metadata": {},
     "output_type": "execute_result"
    }
   ],
   "source": [
    "sklearn_slr.predict(val_train)"
   ]
  },
  {
   "cell_type": "code",
   "execution_count": 22,
   "metadata": {},
   "outputs": [
    {
     "data": {
      "text/plain": [
       "0.5384615384615384"
      ]
     },
     "execution_count": 22,
     "metadata": {},
     "output_type": "execute_result"
    }
   ],
   "source": [
    "from sklearn.metrics import f1_score\n",
    "f1_score(y_val, pred)"
   ]
  },
  {
   "cell_type": "markdown",
   "metadata": {},
   "source": [
    "# 【問題6】学習曲線のプロット"
   ]
  },
  {
   "cell_type": "code",
   "execution_count": 25,
   "metadata": {},
   "outputs": [
    {
     "data": {
      "image/png": "[encoded data removed]",
      "text/plain": [
       "<Figure size 432x288 with 1 Axes>"
      ]
     },
     "metadata": {
      "needs_background": "light"
     },
     "output_type": "display_data"
    }
   ],
   "source": [
    "plt.scatter(list(range(len(slr.loss))), slr.loss, label='train')\n",
    "plt.scatter(list(range(len(slr.loss))), slr.val_loss, label='val')\n",
    "plt.legend()\n",
    "plt.show()"
   ]
  },
  {
   "cell_type": "markdown",
   "metadata": {},
   "source": [
    "# 【問題7】決定領域の可視化"
   ]
  },
  {
   "cell_type": "code",
   "execution_count": 27,
   "metadata": {},
   "outputs": [],
   "source": [
    "from matplotlib.colors import ListedColormap\n",
    "import matplotlib.patches as mpatches\n",
    "\n",
    "\n",
    "def decision_region(\n",
    "    X,\n",
    "    y,\n",
    "    model,\n",
    "    step=0.01,\n",
    "    title=\"decision region\",\n",
    "    xlabel=\"xlabel\",\n",
    "    ylabel=\"ylabel\",\n",
    "    target_names=[\"versicolor\", \"virginica\"],\n",
    "):\n",
    "    # setting\n",
    "    scatter_color = [\"red\", \"blue\"]\n",
    "    contourf_color = [\"pink\", \"skyblue\"]\n",
    "    n_class = 2\n",
    "\n",
    "    # pred\n",
    "    mesh_f0, mesh_f1 = np.meshgrid(\n",
    "        np.arange(np.min(X[:, 0]) - 0.5, np.max(X[:, 0]) + 0.5, step),\n",
    "        np.arange(np.min(X[:, 1]) - 0.5, np.max(X[:, 1]) + 0.5, step),\n",
    "    )\n",
    "    mesh = np.c_[np.ravel(mesh_f0), np.ravel(mesh_f1)]\n",
    "    y_pred = model.predict(mesh).reshape(mesh_f0.shape)\n",
    "\n",
    "    # plot\n",
    "    plt.title(title)\n",
    "    plt.xlabel(xlabel)\n",
    "    plt.ylabel(ylabel)\n",
    "    plt.contourf(\n",
    "        mesh_f0, mesh_f1, y_pred, n_class - 1, cmap=ListedColormap(contourf_color)\n",
    "    )\n",
    "    plt.contour(\n",
    "        mesh_f0, mesh_f1, y_pred, n_class - 1, colors=\"y\", linewidths=3, alpha=0.5\n",
    "    )\n",
    "    for i, target in enumerate(set(y)):\n",
    "        plt.scatter(\n",
    "            X[y == target][:, 0],\n",
    "            X[y == target][:, 1],\n",
    "            s=80,\n",
    "            color=scatter_color[i],\n",
    "            label=target_names[i],\n",
    "            marker=\"o\",\n",
    "        )\n",
    "    patches = [\n",
    "        mpatches.Patch(color=scatter_color[i], label=target_names[i])\n",
    "        for i in range(n_class)\n",
    "    ]\n",
    "    plt.legend(handles=patches)\n",
    "    plt.legend()\n",
    "    plt.show()"
   ]
  },
  {
   "cell_type": "code",
   "execution_count": 29,
   "metadata": {},
   "outputs": [
    {
     "data": {
      "image/png": "[encoded data removed]",
      "text/plain": [
       "<Figure size 432x288 with 1 Axes>"
      ]
     },
     "metadata": {
      "needs_background": "light"
     },
     "output_type": "display_data"
    }
   ],
   "source": [
    "decision_region(train, y_train, slr)"
   ]
  },
  {
   "cell_type": "code",
   "execution_count": 30,
   "metadata": {},
   "outputs": [
    {
     "data": {
      "text/plain": [
       "array([[ 0.34237461],\n",
       "       [-0.49187786]])"
      ]
     },
     "execution_count": 30,
     "metadata": {},
     "output_type": "execute_result"
    }
   ],
   "source": [
    "pd.DataFrame(slr.coef).to_pickle('coef.pkl')\n",
    "slr.coef"
   ]
  },
  {
   "cell_type": "code",
   "execution_count": 31,
   "metadata": {},
   "outputs": [
    {
     "data": {
      "text/html": [
       "<div>\n",
       "<style scoped>\n",
       "    .dataframe tbody tr th:only-of-type {\n",
       "        vertical-align: middle;\n",
       "    }\n",
       "\n",
       "    .dataframe tbody tr th {\n",
       "        vertical-align: top;\n",
       "    }\n",
       "\n",
       "    .dataframe thead th {\n",
       "        text-align: right;\n",
       "    }\n",
       "</style>\n",
       "<table border=\"1\" class=\"dataframe\">\n",
       "  <thead>\n",
       "    <tr style=\"text-align: right;\">\n",
       "      <th></th>\n",
       "      <th>0</th>\n",
       "    </tr>\n",
       "  </thead>\n",
       "  <tbody>\n",
       "    <tr>\n",
       "      <td>0</td>\n",
       "      <td>0.342375</td>\n",
       "    </tr>\n",
       "    <tr>\n",
       "      <td>1</td>\n",
       "      <td>-0.491878</td>\n",
       "    </tr>\n",
       "  </tbody>\n",
       "</table>\n",
       "</div>"
      ],
      "text/plain": [
       "          0\n",
       "0  0.342375\n",
       "1 -0.491878"
      ]
     },
     "execution_count": 31,
     "metadata": {},
     "output_type": "execute_result"
    }
   ],
   "source": [
    "view = pd.read_pickle('coef.pkl')\n",
    "view"
   ]
  },
  {
   "cell_type": "code",
   "execution_count": null,
   "metadata": {},
   "outputs": [],
   "source": []
  }
 ],
 "metadata": {
  "kernelspec": {
   "display_name": "Python 3",
   "language": "python",
   "name": "python3"
  },
  "language_info": {
   "codemirror_mode": {
    "name": "ipython",
    "version": 3
   },
   "file_extension": ".py",
   "mimetype": "text/x-python",
   "name": "python",
   "nbconvert_exporter": "python",
   "pygments_lexer": "ipython3",
   "version": "3.7.4"
  }
 },
 "nbformat": 4,
 "nbformat_minor": 4
}
