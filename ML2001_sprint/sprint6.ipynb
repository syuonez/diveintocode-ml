{
 "cells": [
  {
   "cell_type": "markdown",
   "metadata": {},
   "source": [
    "# 機械学習スクラッチ　クラスタリング"
   ]
  },
  {
   "cell_type": "markdown",
   "metadata": {},
   "source": [
    "# 【問題1】中心点の初期値を決める"
   ]
  },
  {
   "cell_type": "markdown",
   "metadata": {},
   "source": [
    "入力されたデータから \n",
    "K\n",
    " 個の中心点 \n",
    "μ\n",
    "1\n",
    " から \n",
    "μ\n",
    "K\n",
    " の初期値を決めるコードを作成してください。\n",
    "K\n",
    " は指定したクラスタ数です。\n",
    "\n",
    "\n",
    "最もシンプルな初期値の決定方法は、データ点 \n",
    "X\n",
    "n\n",
    " の中からランダムに \n",
    "K\n",
    " 個選ぶことです。今回はこれを実装してください。\n",
    "\n",
    "\n",
    "K-meansの学習結果は中心点 \n",
    "μ\n",
    " の初期値に影響を受けます。そのため、学習時には複数個の初期値で計算を行います。"
   ]
  },
  {
   "cell_type": "code",
   "execution_count": 19,
   "metadata": {},
   "outputs": [],
   "source": [
    "import numpy as np\n",
    "#import matplotlib.pyplot as plt\n",
    "import pandas as pd\n",
    "#import seaborn as sns\n",
    "from operator import itemgetter\n",
    "np.random.seed(seed = 0)"
   ]
  },
  {
   "cell_type": "code",
   "execution_count": 35,
   "metadata": {},
   "outputs": [],
   "source": [
    "import matplotlib.pyplot as plt"
   ]
  },
  {
   "cell_type": "code",
   "execution_count": 20,
   "metadata": {},
   "outputs": [],
   "source": [
    "from sklearn.datasets import make_blobs\n",
    "X, _ = make_blobs(n_samples=100, n_features=2, centers=4, cluster_std=0.5, shuffle=True, random_state=0)"
   ]
  },
  {
   "cell_type": "code",
   "execution_count": 21,
   "metadata": {
    "scrolled": true
   },
   "outputs": [
    {
     "data": {
      "text/plain": [
       "array([[ 0.72086751,  3.71347124],\n",
       "       [-1.89468423,  7.96898545],\n",
       "       [ 1.35678894,  4.36462484],\n",
       "       [ 1.05374379,  4.49286859],\n",
       "       [ 1.59141542,  4.90497725],\n",
       "       [ 0.78260667,  4.15263595],\n",
       "       [-1.95751686,  3.87291474],\n",
       "       [-0.77354537,  7.87923564],\n",
       "       [ 0.12313498,  5.27917503],\n",
       "       [-1.43284669,  7.71577043],\n",
       "       [-0.92819001,  7.02698199],\n",
       "       [-1.74836345,  7.06307447],\n",
       "       [-1.26789718,  7.25141327],\n",
       "       [-0.98661744,  7.74968685],\n",
       "       [-0.81984047,  7.50994722],\n",
       "       [ 2.99684287,  0.22378413],\n",
       "       [ 1.46870582,  1.86947425],\n",
       "       [-0.33533163,  3.390122  ],\n",
       "       [-1.86407034,  2.93379754],\n",
       "       [ 2.62496786,  0.28025075],\n",
       "       [ 2.11114739,  3.57660449],\n",
       "       [-1.8219901 ,  7.61654999],\n",
       "       [-1.91186205,  3.18750686],\n",
       "       [ 2.28809874,  0.12954182],\n",
       "       [ 0.5285368 ,  4.49723858],\n",
       "       [-1.57613028,  2.58614312],\n",
       "       [-0.565433  ,  3.65813966],\n",
       "       [ 0.802314  ,  4.38196181],\n",
       "       [ 2.79939362,  1.84560825],\n",
       "       [ 2.64465731,  0.80770124],\n",
       "       [ 1.7190373 ,  0.71788708],\n",
       "       [-0.93564005,  7.03443119],\n",
       "       [ 2.14398059,  0.69677319],\n",
       "       [ 2.06051753,  1.79059891],\n",
       "       [-1.21986433,  3.3789856 ],\n",
       "       [ 1.13280393,  3.87673946],\n",
       "       [-1.497272  ,  8.80022604],\n",
       "       [ 1.85367905,  1.5088862 ],\n",
       "       [-0.1666378 ,  8.50372399],\n",
       "       [-1.89928142,  2.50466299],\n",
       "       [ 1.04829186,  5.03092408],\n",
       "       [-1.44356727,  3.23539798],\n",
       "       [-1.57006498,  6.72375844],\n",
       "       [-1.98331513,  3.47639041],\n",
       "       [-1.87418794,  2.84306499],\n",
       "       [-1.86097353,  8.2576415 ],\n",
       "       [ 1.61986895,  0.60823883],\n",
       "       [-1.84482705,  3.25609891],\n",
       "       [ 0.72144399,  4.08475018],\n",
       "       [ 0.5323772 ,  3.31338909],\n",
       "       [ 0.3498724 ,  4.69253251],\n",
       "       [ 1.89949126,  0.92574633],\n",
       "       [-1.2386086 ,  2.81373288],\n",
       "       [-1.74448079,  3.84251413],\n",
       "       [-0.96358605,  2.37791651],\n",
       "       [-1.26041884,  7.46644456],\n",
       "       [-0.8623605 ,  8.24721209],\n",
       "       [ 2.4198128 ,  0.96215512],\n",
       "       [ 2.23345072,  1.25095024],\n",
       "       [-0.65424088,  7.99393132],\n",
       "       [-1.42525273,  7.14798437],\n",
       "       [ 1.51989121,  1.42488952],\n",
       "       [ 2.11872357,  1.09865834],\n",
       "       [ 1.74265969,  5.03846671],\n",
       "       [ 1.42002502,  1.38236201],\n",
       "       [-0.69842598,  8.16309188],\n",
       "       [-2.18485772,  2.68708996],\n",
       "       [-1.32890066,  2.37135151],\n",
       "       [ 2.15940501,  1.38598318],\n",
       "       [ 1.19820169,  4.47062449],\n",
       "       [-1.7653772 ,  8.17625727],\n",
       "       [ 1.4726926 ,  1.3480769 ],\n",
       "       [ 0.92466065,  4.50908658],\n",
       "       [-1.47602203,  7.8441996 ],\n",
       "       [ 0.99914934,  4.2101954 ],\n",
       "       [ 1.40848818,  3.93270482],\n",
       "       [-0.59312453,  3.37090459],\n",
       "       [-1.6609057 ,  3.31911046],\n",
       "       [ 2.25643834,  0.55525861],\n",
       "       [ 1.24016835,  1.12905479],\n",
       "       [ 1.64869438,  0.03452236],\n",
       "       [-1.61803727,  8.60696731],\n",
       "       [-1.37778493,  3.58107521],\n",
       "       [ 0.16932115,  4.19741719],\n",
       "       [ 1.73810647,  0.71629308],\n",
       "       [-1.05327803,  2.84037721],\n",
       "       [ 1.60161834,  0.92363636],\n",
       "       [ 1.84845803,  0.52393625],\n",
       "       [ 1.72330962,  4.2012082 ],\n",
       "       [ 1.00952869,  4.45502328],\n",
       "       [ 0.96217896,  4.51795326],\n",
       "       [-1.33869125,  2.36818187],\n",
       "       [ 0.4519936 ,  3.59377836],\n",
       "       [-1.19075663,  3.12161318],\n",
       "       [-2.27253281,  3.13757811],\n",
       "       [-1.80044744,  7.86154256],\n",
       "       [-1.64996061,  7.49068513],\n",
       "       [-1.56102482,  3.77455362],\n",
       "       [-0.78782636,  7.99482384],\n",
       "       [-0.30022483,  4.63059663]])"
      ]
     },
     "execution_count": 21,
     "metadata": {},
     "output_type": "execute_result"
    }
   ],
   "source": [
    "X"
   ]
  },
  {
   "cell_type": "code",
   "execution_count": 22,
   "metadata": {},
   "outputs": [
    {
     "name": "stdout",
     "output_type": "stream",
     "text": [
      "[44 47 64 67]\n"
     ]
    }
   ],
   "source": [
    "#データ点数の取得\n",
    "x_nums = X.shape[0]\n",
    "\n",
    "#μKの初期値を求める\n",
    "k_nums = 4\n",
    "start_point = np.random.choice(np.arange(0, x_nums), k_nums)\n",
    "print(start_point)"
   ]
  },
  {
   "cell_type": "markdown",
   "metadata": {},
   "source": [
    "# 【問題2】SSEを求める関数の作成"
   ]
  },
  {
   "cell_type": "markdown",
   "metadata": {},
   "source": [
    "クラスタ内誤差平方和（SSE, Sum of Squared Errors）を計算する関数を作成してください。\n",
    "\n",
    "\n",
    "K-meansはこのSSEを最小化する \n",
    "r\n",
    "n\n",
    "k\n",
    " と \n",
    "μ\n",
    "k\n",
    " を求めることが目的となります。複数個の初期値で計算したクラスタリング結果から、どれを最終的に採用するかを決める際にこのSSEを求める関数を使用します。\n",
    "\n"
   ]
  },
  {
   "cell_type": "markdown",
   "metadata": {},
   "source": [
    "$\n",
    "SSE = \\sum_{n=1}^N \\sum_{k=1}^K r_{nk} \\|X_n - \\mu_k\\|^2\n",
    "$"
   ]
  },
  {
   "cell_type": "markdown",
   "metadata": {},
   "source": [
    "n\n",
    " : データ点のインデックス\n",
    "\n",
    "\n",
    "k\n",
    " : クラスタのインデックス\n",
    "\n",
    "\n",
    "X\n",
    "n\n",
    " : \n",
    "n\n",
    "番目のデータ点\n",
    "\n",
    "\n",
    "μ\n",
    "k\n",
    " : \n",
    "k\n",
    "番目の中心点\n",
    "\n",
    "\n",
    "r\n",
    "n\n",
    "k\n",
    " : データ点\n",
    "X\n",
    "n\n",
    "がクラスタ\n",
    "k\n",
    "に所属していたら1、そうでなければ0"
   ]
  },
  {
   "cell_type": "code",
   "execution_count": 23,
   "metadata": {},
   "outputs": [],
   "source": [
    "def test_sum_squared_errors(X, k_nums, start_point):\n",
    "    \"\"\"\n",
    "    クラスタ内誤差平方和（SSE）を求める関数\n",
    "    \n",
    "    ----\n",
    "    X: 特徴量Xn＋クラス列（ndarray型）\n",
    "    k_nums : クラス数（int型)\n",
    "    start_point : 中心点（ndarray型）\n",
    "    \"\"\"\n",
    "    tmp = []\n",
    "    for i in range(X.shape[0]):\n",
    "        for j in range(k_nums):\n",
    "            if X[i, 2] == j:\n",
    "                tmp.append(abs(X[i, 0:2] - X[start_point[j], 0:2]) ** 2)\n",
    "\n",
    "    sse = sum(tmp)\n",
    "\n",
    "    return sse"
   ]
  },
  {
   "cell_type": "code",
   "execution_count": 24,
   "metadata": {
    "collapsed": true,
    "jupyter": {
     "outputs_hidden": true
    }
   },
   "outputs": [
    {
     "ename": "IndexError",
     "evalue": "index 2 is out of bounds for axis 1 with size 2",
     "output_type": "error",
     "traceback": [
      "\u001b[0;31m---------------------------------------------------------------------------\u001b[0m",
      "\u001b[0;31mIndexError\u001b[0m                                Traceback (most recent call last)",
      "\u001b[0;32m<ipython-input-24-8613252f0212>\u001b[0m in \u001b[0;36m<module>\u001b[0;34m\u001b[0m\n\u001b[0;32m----> 1\u001b[0;31m \u001b[0mtest_sum_squared_errors\u001b[0m\u001b[0;34m(\u001b[0m\u001b[0mX\u001b[0m\u001b[0;34m,\u001b[0m \u001b[0mk_nums\u001b[0m\u001b[0;34m,\u001b[0m \u001b[0mstart_point\u001b[0m\u001b[0;34m)\u001b[0m\u001b[0;34m\u001b[0m\u001b[0;34m\u001b[0m\u001b[0m\n\u001b[0m",
      "\u001b[0;32m<ipython-input-23-08086b045209>\u001b[0m in \u001b[0;36mtest_sum_squared_errors\u001b[0;34m(X, k_nums, start_point)\u001b[0m\n\u001b[1;32m     11\u001b[0m     \u001b[0;32mfor\u001b[0m \u001b[0mi\u001b[0m \u001b[0;32min\u001b[0m \u001b[0mrange\u001b[0m\u001b[0;34m(\u001b[0m\u001b[0mX\u001b[0m\u001b[0;34m.\u001b[0m\u001b[0mshape\u001b[0m\u001b[0;34m[\u001b[0m\u001b[0;36m0\u001b[0m\u001b[0;34m]\u001b[0m\u001b[0;34m)\u001b[0m\u001b[0;34m:\u001b[0m\u001b[0;34m\u001b[0m\u001b[0;34m\u001b[0m\u001b[0m\n\u001b[1;32m     12\u001b[0m         \u001b[0;32mfor\u001b[0m \u001b[0mj\u001b[0m \u001b[0;32min\u001b[0m \u001b[0mrange\u001b[0m\u001b[0;34m(\u001b[0m\u001b[0mk_nums\u001b[0m\u001b[0;34m)\u001b[0m\u001b[0;34m:\u001b[0m\u001b[0;34m\u001b[0m\u001b[0;34m\u001b[0m\u001b[0m\n\u001b[0;32m---> 13\u001b[0;31m             \u001b[0;32mif\u001b[0m \u001b[0mX\u001b[0m\u001b[0;34m[\u001b[0m\u001b[0mi\u001b[0m\u001b[0;34m,\u001b[0m \u001b[0;36m2\u001b[0m\u001b[0;34m]\u001b[0m \u001b[0;34m==\u001b[0m \u001b[0mj\u001b[0m\u001b[0;34m:\u001b[0m\u001b[0;34m\u001b[0m\u001b[0;34m\u001b[0m\u001b[0m\n\u001b[0m\u001b[1;32m     14\u001b[0m                 \u001b[0mtmp\u001b[0m\u001b[0;34m.\u001b[0m\u001b[0mappend\u001b[0m\u001b[0;34m(\u001b[0m\u001b[0mabs\u001b[0m\u001b[0;34m(\u001b[0m\u001b[0mX\u001b[0m\u001b[0;34m[\u001b[0m\u001b[0mi\u001b[0m\u001b[0;34m,\u001b[0m \u001b[0;36m0\u001b[0m\u001b[0;34m:\u001b[0m\u001b[0;36m2\u001b[0m\u001b[0;34m]\u001b[0m \u001b[0;34m-\u001b[0m \u001b[0mX\u001b[0m\u001b[0;34m[\u001b[0m\u001b[0mstart_point\u001b[0m\u001b[0;34m[\u001b[0m\u001b[0mj\u001b[0m\u001b[0;34m]\u001b[0m\u001b[0;34m,\u001b[0m \u001b[0;36m0\u001b[0m\u001b[0;34m:\u001b[0m\u001b[0;36m2\u001b[0m\u001b[0;34m]\u001b[0m\u001b[0;34m)\u001b[0m \u001b[0;34m**\u001b[0m \u001b[0;36m2\u001b[0m\u001b[0;34m)\u001b[0m\u001b[0;34m\u001b[0m\u001b[0;34m\u001b[0m\u001b[0m\n\u001b[1;32m     15\u001b[0m \u001b[0;34m\u001b[0m\u001b[0m\n",
      "\u001b[0;31mIndexError\u001b[0m: index 2 is out of bounds for axis 1 with size 2"
     ]
    }
   ],
   "source": [
    "test_sum_squared_errors(X, k_nums, start_point)"
   ]
  },
  {
   "cell_type": "markdown",
   "metadata": {},
   "source": [
    "# 【問題3】クラスタへの割り当て"
   ]
  },
  {
   "cell_type": "markdown",
   "metadata": {},
   "source": [
    "全てのデータ点 \n",
    "X\n",
    "n\n",
    " を最も近い中心点 \n",
    "μ\n",
    "k\n",
    " に割り当てるコードを作成してください。\n",
    "\n",
    "\n",
    "K-menasにおける 近い とは点と点のユークリッド距離が小さくなることです。ユークリッド距離とはピタゴラスの定理（三平方の定理）で求められるものですが、ベクトル \n",
    "p\n",
    ",\n",
    "q\n",
    " に対しては以下の数式で表現できます。"
   ]
  },
  {
   "cell_type": "markdown",
   "metadata": {},
   "source": [
    "$\n",
    "\\|q-p\\| = \\sqrt{(q-p)\\cdot(q-p)}\n",
    "$"
   ]
  },
  {
   "cell_type": "code",
   "execution_count": 25,
   "metadata": {},
   "outputs": [
    {
     "name": "stdout",
     "output_type": "stream",
     "text": [
      "[2.7371371601251897, 2.6061423659286387, 2.433699124612945, 2.45006834648279]\n",
      "最小値 2.433699124612945\n",
      "クラス 2\n"
     ]
    }
   ],
   "source": [
    "\n",
    "#X0と各基準点との距離\n",
    "distance = []\n",
    "for i in range(4):\n",
    "    distance.append(np.linalg.norm(X[0]-X[start_point[i]]))\n",
    "\n",
    "print(distance)\n",
    "print(\"最小値\", min(distance))\n",
    "print(\"クラス\", distance.index(min(distance)))"
   ]
  },
  {
   "cell_type": "code",
   "execution_count": 26,
   "metadata": {},
   "outputs": [
    {
     "name": "stdout",
     "output_type": "stream",
     "text": [
      "[[ 0.72086751  3.71347124  0.        ]\n",
      " [-1.89468423  7.96898545  0.        ]\n",
      " [ 1.35678894  4.36462484  0.        ]\n",
      " [ 1.05374379  4.49286859  0.        ]\n",
      " [ 1.59141542  4.90497725  0.        ]\n",
      " [ 0.78260667  4.15263595  0.        ]\n",
      " [-1.95751686  3.87291474  0.        ]\n",
      " [-0.77354537  7.87923564  0.        ]\n",
      " [ 0.12313498  5.27917503  0.        ]\n",
      " [-1.43284669  7.71577043  0.        ]\n",
      " [-0.92819001  7.02698199  0.        ]\n",
      " [-1.74836345  7.06307447  0.        ]\n",
      " [-1.26789718  7.25141327  0.        ]\n",
      " [-0.98661744  7.74968685  0.        ]\n",
      " [-0.81984047  7.50994722  0.        ]\n",
      " [ 2.99684287  0.22378413  0.        ]\n",
      " [ 1.46870582  1.86947425  0.        ]\n",
      " [-0.33533163  3.390122    0.        ]\n",
      " [-1.86407034  2.93379754  0.        ]\n",
      " [ 2.62496786  0.28025075  0.        ]]\n"
     ]
    }
   ],
   "source": [
    "#X0ともっとも近い基準点のインデックスをクラスタとして割り当てる\n",
    "\n",
    "#クラスタ列の追加\n",
    "class_term = np.zeros(X.shape[0]).reshape(X.shape[0],1)\n",
    "X = np.concatenate([X,class_term], 1)\n",
    "\n",
    "print(X[0:20])"
   ]
  },
  {
   "cell_type": "code",
   "execution_count": 27,
   "metadata": {},
   "outputs": [],
   "source": [
    "#距離を計算して最小クラスを割り当て\n",
    "\n",
    "for i in range(x_nums):\n",
    "    distance = []\n",
    "    for j in range(k_nums):\n",
    "        distance.append(np.linalg.norm(X[i]-X[start_point[j]]))\n",
    "    X[i, 2] = distance.index(min(distance))"
   ]
  },
  {
   "cell_type": "markdown",
   "metadata": {},
   "source": [
    "# 【問題4】中心点の移動"
   ]
  },
  {
   "cell_type": "markdown",
   "metadata": {},
   "source": [
    "中心点 \n",
    "μ\n",
    "k\n",
    " を \n",
    "k\n",
    " 番目のクラスタに割り当てられる全てのデータ点 \n",
    "X\n",
    "n\n",
    " の平均値（重心）に移動するコードを作成してください。\n",
    "\n",
    "\n",
    "クラスタの割り当て \n",
    "r\n",
    "n\n",
    "k\n",
    " を固定した上でSSEを最小化していることになりますが、SSE自体を求める必要はありません。"
   ]
  },
  {
   "cell_type": "code",
   "execution_count": 28,
   "metadata": {},
   "outputs": [
    {
     "name": "stdout",
     "output_type": "stream",
     "text": [
      "[[-1.44021309  3.13702159]\n",
      " [-0.7912353   6.2052893 ]\n",
      " [ 1.84229265  1.8306451 ]\n",
      " [-0.42576617  3.13625516]]\n"
     ]
    }
   ],
   "source": [
    "k_point = np.empty((k_nums, X.shape[1]-1))\n",
    "\n",
    "for i in range(k_nums):\n",
    "    k_point[i] = np.mean(X[np.where(X[:, 2] == i)], axis=0)[0:2]\n",
    "\n",
    "print(k_point)"
   ]
  },
  {
   "cell_type": "markdown",
   "metadata": {},
   "source": [
    "# 【問題5】繰り返し"
   ]
  },
  {
   "cell_type": "markdown",
   "metadata": {},
   "source": [
    "クラスタへの割り当てと中心点の移動を繰り返すことで学習を行うコードを作成してください。\n",
    "\n",
    "\n",
    "次のどれかの条件を満たしたらこれを止めます。\n",
    "\n",
    "\n",
    "繰り返しが指定した回数に到達する。（雛形では引数max_iter）\n",
    "中心点 \n",
    "μ\n",
    "k\n",
    " と重心の差が指定した許容値以下になる。（雛形では引数tol"
   ]
  },
  {
   "cell_type": "markdown",
   "metadata": {},
   "source": [
    "# 【問題6】異なる初期値で計算"
   ]
  },
  {
   "cell_type": "markdown",
   "metadata": {},
   "source": [
    "問題5の繰り返しを、指定した回数初期値を変更して計算するコードを作成してください。回数は雛形では引数n_initで指定します。\n",
    "\n",
    "\n",
    "複数計算した中でSSEが最小になったものが最終的な学習結果となるため、その時の中心点 \n",
    "μ\n",
    "k\n",
    " を保持しておきます。"
   ]
  },
  {
   "cell_type": "code",
   "execution_count": 29,
   "metadata": {},
   "outputs": [],
   "source": [
    "class ScratchKMeans:\n",
    "    def __init__(self, n_clusters, n_init, max_iter=100, tol=1e-04, verbose=False):\n",
    "        # ハイパーパラメータを属性として記録\n",
    "        self.n_clusters = n_clusters\n",
    "        self.n_init = n_init\n",
    "        self.max_iter = max_iter\n",
    "        self.tol = tol\n",
    "        self.verbose = verbose\n",
    "        # 各リストの初期化\n",
    "        self.sse_ = []  # SSE\n",
    "        self.start_point = []\n",
    "        self.gravity_points_ = []\n",
    "        self.best_point_ = []\n",
    "        self.silhouette_ = []\n",
    "\n",
    "    def fit(self, X):\n",
    "        # データ点数の取得\n",
    "        x_nums = X.shape[0]\n",
    "\n",
    "        # μKの初期値を求める\n",
    "        k_nums = self.n_clusters\n",
    "        k_point = np.empty((k_nums, X.shape[1]))  # K点空のリスト\n",
    "\n",
    "        # クラスタ列の追加\n",
    "        class_term = np.zeros(X.shape[0]).reshape(X.shape[0], 1)\n",
    "        X = np.concatenate([X, class_term], 1)\n",
    "\n",
    "        # 開始位置の初期化\n",
    "        for k in range(self.n_init):\n",
    "            start_point = np.random.choice(np.arange(0, x_nums), k_nums)  # 初期点インデックス\n",
    "            self.start_point.append(start_point)  # 開始点保存\n",
    "            for i in range(k_nums):\n",
    "                k_point[i] = X[start_point[i], 0:2]  # 初期点インデックスのデータを格納\n",
    "\n",
    "            # 繰り返し処理（収束）\n",
    "            for _ in range(self.max_iter):\n",
    "\n",
    "                # 所属クラスの更新\n",
    "                for i in range(x_nums):\n",
    "                    distance = []\n",
    "                    for j in range(k_nums):\n",
    "                        distance.append(np.linalg.norm(X[i, 0:2] - k_point[j]))\n",
    "                    X[i, -1] = distance.index(min(distance))\n",
    "\n",
    "                    \"\"\"異なる実装\n",
    "                    np.array([np.array([ 距離のスカラー（xで計算する） for 重心 in 重心リスト]).argmin() for x in X])\n",
    "                    \"\"\"\n",
    "                k_old = np.copy(k_point)\n",
    "\n",
    "                for i in range(k_nums):\n",
    "                    k_point[i] = np.mean(X[np.where(X[:, 2] == i)], axis=0)[0:2]\n",
    "\n",
    "                if np.linalg.norm(k_old[0] - k_point[0]) <= self.tol:\n",
    "                    break\n",
    "\n",
    "                # print(self.sum_squared_errors(X, k_point))\n",
    "\n",
    "            # SSEの計算\n",
    "            self.sse_.append(self.sum_squared_errors(X, k_point))\n",
    "\n",
    "            # 重心の保存\n",
    "            self.gravity_points_.append(k_point)\n",
    "\n",
    "        # 最もスコアの良い重心ポイントの保存\n",
    "        self.best_point_ = self.gravity_points_[self.sse_.index(min(self.sse_))]\n",
    "                                                \n",
    "        if self.verbose:\n",
    "            # verboseをTrueにした際は学習過程を出力\n",
    "            print()\n",
    "        pass\n",
    "\n",
    "    def predict(self, X, fullsize=False):\n",
    "        \"\"\"\n",
    "        入力されたデータがどのクラスタに属するかを計算\n",
    "        \"\"\"\n",
    "        # データ点数の取得\n",
    "        x_nums = X.shape[0]\n",
    "\n",
    "        # クラスタ列の追加\n",
    "        class_term = np.zeros(X.shape[0]).reshape(X.shape[0], 1)\n",
    "        X = np.concatenate([X, class_term], 1)\n",
    "\n",
    "        # 所属クラスの更新\n",
    "        for i in range(x_nums):\n",
    "            distance = []\n",
    "            for j in range(k_nums):\n",
    "                distance.append(np.linalg.norm(X[i, 0:2] - self.best_point_[j]))\n",
    "            X[i, -1] = distance.index(min(distance))\n",
    "\n",
    "        if fullsize:\n",
    "            y = X\n",
    "        else:\n",
    "            y = X[:, -1]\n",
    "\n",
    "        return y\n",
    "\n",
    "    def sum_squared_errors(self, X, k_point):\n",
    "        \"\"\"\n",
    "        クラスタ内誤差平方和（SSE）を求める関数\n",
    "\n",
    "        ----\n",
    "        X: 特徴量Xn＋クラス列（ndarray型）\n",
    "        k_nums : クラス数（int型)\n",
    "        k_point : 中心点（ndarray型）\n",
    "        \"\"\"\n",
    "        k_nums = self.n_clusters\n",
    "        tmp = []\n",
    "        for i in range(X.shape[0]):\n",
    "            for j in range(k_nums):\n",
    "                if X[i, 2] == j:\n",
    "                    tmp.append((np.linalg.norm(X[i, 0:2] - k_point[j])) ** 2)\n",
    "\n",
    "        sse = sum(tmp)\n",
    "\n",
    "        return sse"
   ]
  },
  {
   "cell_type": "code",
   "execution_count": 30,
   "metadata": {},
   "outputs": [
    {
     "name": "stderr",
     "output_type": "stream",
     "text": [
      "/Users/shinoda/.pyenv/versions/anaconda3-2019.10/lib/python3.7/site-packages/numpy/core/fromnumeric.py:3335: RuntimeWarning: Mean of empty slice.\n",
      "  out=out, **kwargs)\n",
      "/Users/shinoda/.pyenv/versions/anaconda3-2019.10/lib/python3.7/site-packages/numpy/core/_methods.py:154: RuntimeWarning: invalid value encountered in true_divide\n",
      "  ret, rcount, out=ret, casting='unsafe', subok=False)\n"
     ]
    }
   ],
   "source": [
    "X, _ = make_blobs(n_samples=100, n_features=2, centers=4, cluster_std=0.5, shuffle=True, random_state=0)\n",
    "\n",
    "Kmeans = ScratchKMeans(n_clusters=5, n_init=4, max_iter=100)\n",
    "Kmeans.fit(X)"
   ]
  },
  {
   "cell_type": "code",
   "execution_count": 31,
   "metadata": {},
   "outputs": [
    {
     "data": {
      "text/plain": [
       "[132.78739197605125, 134.5432518937099, 43.64880164633906, 44.6743781792777]"
      ]
     },
     "execution_count": 31,
     "metadata": {},
     "output_type": "execute_result"
    }
   ],
   "source": [
    "Kmeans.sse_"
   ]
  },
  {
   "cell_type": "code",
   "execution_count": 32,
   "metadata": {},
   "outputs": [
    {
     "data": {
      "text/plain": [
       "[array([67,  9, 83, 21, 36]),\n",
       " array([87, 70, 88, 88, 12]),\n",
       " array([58, 65, 39, 87, 46]),\n",
       " array([88, 81, 37, 25, 77])]"
      ]
     },
     "execution_count": 32,
     "metadata": {},
     "output_type": "execute_result"
    }
   ],
   "source": [
    "Kmeans.start_point"
   ]
  },
  {
   "cell_type": "code",
   "execution_count": 33,
   "metadata": {},
   "outputs": [
    {
     "data": {
      "text/plain": [
       "[array([[ 0.92578447,  4.32475792],\n",
       "        [-1.26811733,  7.76378266],\n",
       "        [ 1.99186903,  0.96561071],\n",
       "        [-1.53215923,  2.63263186],\n",
       "        [-1.44415517,  3.4401937 ]]), array([[ 0.92578447,  4.32475792],\n",
       "        [-1.26811733,  7.76378266],\n",
       "        [ 1.99186903,  0.96561071],\n",
       "        [-1.53215923,  2.63263186],\n",
       "        [-1.44415517,  3.4401937 ]]), array([[ 0.92578447,  4.32475792],\n",
       "        [-1.26811733,  7.76378266],\n",
       "        [ 1.99186903,  0.96561071],\n",
       "        [-1.53215923,  2.63263186],\n",
       "        [-1.44415517,  3.4401937 ]]), array([[ 0.92578447,  4.32475792],\n",
       "        [-1.26811733,  7.76378266],\n",
       "        [ 1.99186903,  0.96561071],\n",
       "        [-1.53215923,  2.63263186],\n",
       "        [-1.44415517,  3.4401937 ]])]"
      ]
     },
     "execution_count": 33,
     "metadata": {},
     "output_type": "execute_result"
    }
   ],
   "source": [
    "#重心リスト\n",
    "Kmeans.gravity_points_"
   ]
  },
  {
   "cell_type": "markdown",
   "metadata": {},
   "source": [
    "# 【問題7】推定"
   ]
  },
  {
   "cell_type": "markdown",
   "metadata": {},
   "source": [
    "新たなデータに対してどのクラスタに所属するかの推定の際は、学習時の1つ目のフェーズと同じことを行います。\n",
    "\n",
    "\n",
    "データ点 \n",
    "X\n",
    "n\n",
    " と学習で決まった中心点 \n",
    "μ\n",
    "k\n",
    " に対し、 \n",
    "S\n",
    "S\n",
    "E\n",
    " を最小化する \n",
    "r\n",
    "n\n",
    "k\n",
    " を選ぶ。\n",
    "\n",
    "具体的には次のことです。\n",
    "\n",
    "\n",
    "データ点 \n",
    "X\n",
    "n\n",
    " を最も近い \n",
    "μ\n",
    "k\n",
    " に割り当てる。"
   ]
  },
  {
   "cell_type": "code",
   "execution_count": 36,
   "metadata": {},
   "outputs": [
    {
     "data": {
      "image/png": "[encoded data removed]",
      "text/plain": [
       "<Figure size 432x288 with 1 Axes>"
      ]
     },
     "metadata": {
      "needs_background": "light"
     },
     "output_type": "display_data"
    }
   ],
   "source": [
    "X_test, _ = make_blobs(n_samples=50, n_features=2, centers=4, cluster_std=0.51, shuffle=True, random_state=0)\n",
    "\n",
    "plt.scatter(X_test[:, 0],X_test[:, 1])\n",
    "plt.show()"
   ]
  },
  {
   "cell_type": "code",
   "execution_count": 37,
   "metadata": {},
   "outputs": [],
   "source": [
    "Xy_pred = Kmeans.predict(X_test, fullsize=True)\n",
    "y_pred = Kmeans.predict(X_test)"
   ]
  },
  {
   "cell_type": "code",
   "execution_count": 38,
   "metadata": {},
   "outputs": [
    {
     "name": "stdout",
     "output_type": "stream",
     "text": [
      "[0. 3. 0. 0. 1. 2. 1. 1. 3. 3. 1. 2. 2. 3. 2. 0. 0. 1. 1. 2. 3. 2. 2. 0.\n",
      " 1. 2. 3. 3. 3. 0. 2. 0. 0. 3. 2. 0. 2. 3. 1. 0. 1. 2. 0. 1. 2. 1. 3. 0.\n",
      " 3. 1.]\n"
     ]
    }
   ],
   "source": [
    "print(y_pred)"
   ]
  },
  {
   "cell_type": "markdown",
   "metadata": {},
   "source": [
    "# 【問題８】エルボー法の実装"
   ]
  },
  {
   "cell_type": "code",
   "execution_count": 39,
   "metadata": {},
   "outputs": [
    {
     "name": "stderr",
     "output_type": "stream",
     "text": [
      "/Users/shinoda/.pyenv/versions/anaconda3-2019.10/lib/python3.7/site-packages/numpy/core/fromnumeric.py:3335: RuntimeWarning: Mean of empty slice.\n",
      "  out=out, **kwargs)\n",
      "/Users/shinoda/.pyenv/versions/anaconda3-2019.10/lib/python3.7/site-packages/numpy/core/_methods.py:154: RuntimeWarning: invalid value encountered in true_divide\n",
      "  ret, rcount, out=ret, casting='unsafe', subok=False)\n"
     ]
    },
    {
     "data": {
      "image/png": "[encoded data removed]",
      "text/plain": [
       "<Figure size 432x288 with 1 Axes>"
      ]
     },
     "metadata": {
      "needs_background": "light"
     },
     "output_type": "display_data"
    }
   ],
   "source": [
    "elbow = []\n",
    "\n",
    "for i in range(1,20):\n",
    "    Kmeans = ScratchKMeans(n_clusters=i, n_init=10, max_iter=100)\n",
    "    Kmeans.fit(X)\n",
    "    elbow.append(min(Kmeans.sse_))\n",
    "\n",
    "plt.ylabel(\"SSE\")\n",
    "plt.xlabel(\"number of class\")\n",
    "plt.plot(elbow)\n",
    "plt.show()"
   ]
  },
  {
   "cell_type": "markdown",
   "metadata": {},
   "source": [
    "# 【問題9】（アドバンス課題）シルエット図"
   ]
  },
  {
   "cell_type": "code",
   "execution_count": 57,
   "metadata": {
    "collapsed": true,
    "jupyter": {
     "outputs_hidden": true
    }
   },
   "outputs": [
    {
     "ename": "NameError",
     "evalue": "name 'cluster_labels' is not defined",
     "output_type": "error",
     "traceback": [
      "\u001b[0;31m---------------------------------------------------------------------------\u001b[0m",
      "\u001b[0;31mNameError\u001b[0m                                 Traceback (most recent call last)",
      "\u001b[0;32m<ipython-input-57-e3f9f1073ea9>\u001b[0m in \u001b[0;36m<module>\u001b[0;34m\u001b[0m\n\u001b[1;32m      3\u001b[0m \u001b[0my_ax_lower\u001b[0m\u001b[0;34m,\u001b[0m \u001b[0my_ax_upper\u001b[0m \u001b[0;34m=\u001b[0m \u001b[0;36m0\u001b[0m\u001b[0;34m,\u001b[0m \u001b[0;36m0\u001b[0m\u001b[0;34m\u001b[0m\u001b[0;34m\u001b[0m\u001b[0m\n\u001b[1;32m      4\u001b[0m \u001b[0myticks\u001b[0m \u001b[0;34m=\u001b[0m \u001b[0;34m[\u001b[0m\u001b[0;34m]\u001b[0m\u001b[0;34m\u001b[0m\u001b[0;34m\u001b[0m\u001b[0m\n\u001b[0;32m----> 5\u001b[0;31m \u001b[0;32mfor\u001b[0m \u001b[0mi\u001b[0m\u001b[0;34m,\u001b[0m \u001b[0mc\u001b[0m \u001b[0;32min\u001b[0m \u001b[0menumerate\u001b[0m\u001b[0;34m(\u001b[0m\u001b[0mcluster_labels\u001b[0m\u001b[0;34m)\u001b[0m\u001b[0;34m:\u001b[0m\u001b[0;34m\u001b[0m\u001b[0;34m\u001b[0m\u001b[0m\n\u001b[0m\u001b[1;32m      6\u001b[0m     \u001b[0mc_silhouette_vals\u001b[0m \u001b[0;34m=\u001b[0m \u001b[0msilhouette_vals\u001b[0m\u001b[0;34m[\u001b[0m\u001b[0my_km\u001b[0m \u001b[0;34m==\u001b[0m \u001b[0mc\u001b[0m\u001b[0;34m]\u001b[0m\u001b[0;34m\u001b[0m\u001b[0;34m\u001b[0m\u001b[0m\n\u001b[1;32m      7\u001b[0m     \u001b[0mc_silhouette_vals\u001b[0m\u001b[0;34m.\u001b[0m\u001b[0msort\u001b[0m\u001b[0;34m(\u001b[0m\u001b[0;34m)\u001b[0m\u001b[0;34m\u001b[0m\u001b[0;34m\u001b[0m\u001b[0m\n",
      "\u001b[0;31mNameError\u001b[0m: name 'cluster_labels' is not defined"
     ]
    }
   ],
   "source": [
    "from matplotlib import cm\n",
    "\n",
    "y_ax_lower, y_ax_upper = 0, 0\n",
    "yticks = []\n",
    "for i, c in enumerate(cluster_labels):\n",
    "    c_silhouette_vals = silhouette_vals[y_km == c]\n",
    "    c_silhouette_vals.sort()\n",
    "    y_ax_upper += len(c_silhouette_vals)\n",
    "    color = cm.jet(i / n_clusters)\n",
    "    plt.barh(range(y_ax_lower, y_ax_upper), c_silhouette_vals, height=1.0, edgecolor='none', color=color)\n",
    "    yticks.append((y_ax_lower + y_ax_upper) / 2)\n",
    "    y_ax_lower += len(c_silhouette_vals)\n",
    "\n",
    "plt.axvline(silhouette_avg, color=\"red\", linestyle=\"--\")\n",
    "plt.yticks(yticks, cluster_labels + 1)\n",
    "plt.ylabel('Cluster')\n",
    "plt.xlabel('Silhouette coefficient')\n",
    "plt.show()"
   ]
  },
  {
   "cell_type": "code",
   "execution_count": 58,
   "metadata": {},
   "outputs": [
    {
     "data": {
      "text/html": [
       "<div>\n",
       "<style scoped>\n",
       "    .dataframe tbody tr th:only-of-type {\n",
       "        vertical-align: middle;\n",
       "    }\n",
       "\n",
       "    .dataframe tbody tr th {\n",
       "        vertical-align: top;\n",
       "    }\n",
       "\n",
       "    .dataframe thead th {\n",
       "        text-align: right;\n",
       "    }\n",
       "</style>\n",
       "<table border=\"1\" class=\"dataframe\">\n",
       "  <thead>\n",
       "    <tr style=\"text-align: right;\">\n",
       "      <th></th>\n",
       "      <th>Channel</th>\n",
       "      <th>Region</th>\n",
       "      <th>Fresh</th>\n",
       "      <th>Milk</th>\n",
       "      <th>Grocery</th>\n",
       "      <th>Frozen</th>\n",
       "      <th>Detergents_Paper</th>\n",
       "      <th>Delicassen</th>\n",
       "    </tr>\n",
       "  </thead>\n",
       "  <tbody>\n",
       "    <tr>\n",
       "      <td>0</td>\n",
       "      <td>2.0</td>\n",
       "      <td>3.0</td>\n",
       "      <td>12669.0</td>\n",
       "      <td>9656.0</td>\n",
       "      <td>7561.0</td>\n",
       "      <td>214.0</td>\n",
       "      <td>2674.0</td>\n",
       "      <td>1338.0</td>\n",
       "    </tr>\n",
       "    <tr>\n",
       "      <td>1</td>\n",
       "      <td>2.0</td>\n",
       "      <td>3.0</td>\n",
       "      <td>7057.0</td>\n",
       "      <td>9810.0</td>\n",
       "      <td>9568.0</td>\n",
       "      <td>1762.0</td>\n",
       "      <td>3293.0</td>\n",
       "      <td>1776.0</td>\n",
       "    </tr>\n",
       "    <tr>\n",
       "      <td>2</td>\n",
       "      <td>2.0</td>\n",
       "      <td>3.0</td>\n",
       "      <td>6353.0</td>\n",
       "      <td>8808.0</td>\n",
       "      <td>7684.0</td>\n",
       "      <td>2405.0</td>\n",
       "      <td>3516.0</td>\n",
       "      <td>7844.0</td>\n",
       "    </tr>\n",
       "    <tr>\n",
       "      <td>3</td>\n",
       "      <td>1.0</td>\n",
       "      <td>3.0</td>\n",
       "      <td>13265.0</td>\n",
       "      <td>1196.0</td>\n",
       "      <td>4221.0</td>\n",
       "      <td>6404.0</td>\n",
       "      <td>507.0</td>\n",
       "      <td>1788.0</td>\n",
       "    </tr>\n",
       "    <tr>\n",
       "      <td>4</td>\n",
       "      <td>2.0</td>\n",
       "      <td>3.0</td>\n",
       "      <td>22615.0</td>\n",
       "      <td>5410.0</td>\n",
       "      <td>7198.0</td>\n",
       "      <td>3915.0</td>\n",
       "      <td>1777.0</td>\n",
       "      <td>5185.0</td>\n",
       "    </tr>\n",
       "    <tr>\n",
       "      <td>5</td>\n",
       "      <td>2.0</td>\n",
       "      <td>3.0</td>\n",
       "      <td>9413.0</td>\n",
       "      <td>8259.0</td>\n",
       "      <td>5126.0</td>\n",
       "      <td>666.0</td>\n",
       "      <td>1795.0</td>\n",
       "      <td>1451.0</td>\n",
       "    </tr>\n",
       "    <tr>\n",
       "      <td>6</td>\n",
       "      <td>2.0</td>\n",
       "      <td>3.0</td>\n",
       "      <td>12126.0</td>\n",
       "      <td>3199.0</td>\n",
       "      <td>6975.0</td>\n",
       "      <td>480.0</td>\n",
       "      <td>3140.0</td>\n",
       "      <td>545.0</td>\n",
       "    </tr>\n",
       "    <tr>\n",
       "      <td>7</td>\n",
       "      <td>2.0</td>\n",
       "      <td>3.0</td>\n",
       "      <td>7579.0</td>\n",
       "      <td>4956.0</td>\n",
       "      <td>9426.0</td>\n",
       "      <td>1669.0</td>\n",
       "      <td>3321.0</td>\n",
       "      <td>2566.0</td>\n",
       "    </tr>\n",
       "    <tr>\n",
       "      <td>8</td>\n",
       "      <td>1.0</td>\n",
       "      <td>3.0</td>\n",
       "      <td>5963.0</td>\n",
       "      <td>3648.0</td>\n",
       "      <td>6192.0</td>\n",
       "      <td>425.0</td>\n",
       "      <td>1716.0</td>\n",
       "      <td>750.0</td>\n",
       "    </tr>\n",
       "    <tr>\n",
       "      <td>9</td>\n",
       "      <td>2.0</td>\n",
       "      <td>3.0</td>\n",
       "      <td>6006.0</td>\n",
       "      <td>11093.0</td>\n",
       "      <td>18881.0</td>\n",
       "      <td>1159.0</td>\n",
       "      <td>7425.0</td>\n",
       "      <td>2098.0</td>\n",
       "    </tr>\n",
       "  </tbody>\n",
       "</table>\n",
       "</div>"
      ],
      "text/plain": [
       "   Channel  Region    Fresh     Milk  Grocery  Frozen  Detergents_Paper  \\\n",
       "0      2.0     3.0  12669.0   9656.0   7561.0   214.0            2674.0   \n",
       "1      2.0     3.0   7057.0   9810.0   9568.0  1762.0            3293.0   \n",
       "2      2.0     3.0   6353.0   8808.0   7684.0  2405.0            3516.0   \n",
       "3      1.0     3.0  13265.0   1196.0   4221.0  6404.0             507.0   \n",
       "4      2.0     3.0  22615.0   5410.0   7198.0  3915.0            1777.0   \n",
       "5      2.0     3.0   9413.0   8259.0   5126.0   666.0            1795.0   \n",
       "6      2.0     3.0  12126.0   3199.0   6975.0   480.0            3140.0   \n",
       "7      2.0     3.0   7579.0   4956.0   9426.0  1669.0            3321.0   \n",
       "8      1.0     3.0   5963.0   3648.0   6192.0   425.0            1716.0   \n",
       "9      2.0     3.0   6006.0  11093.0  18881.0  1159.0            7425.0   \n",
       "\n",
       "   Delicassen  \n",
       "0      1338.0  \n",
       "1      1776.0  \n",
       "2      7844.0  \n",
       "3      1788.0  \n",
       "4      5185.0  \n",
       "5      1451.0  \n",
       "6       545.0  \n",
       "7      2566.0  \n",
       "8       750.0  \n",
       "9      2098.0  "
      ]
     },
     "execution_count": 58,
     "metadata": {},
     "output_type": "execute_result"
    }
   ],
   "source": [
    "#データセットの概観\n",
    "\n",
    "csv_path = \"/Users/shinoda/diveintocode-ml/ML2001_sprint/Wholesale customers data.csv\" # ファイル名（パス）を指定する\n",
    "\n",
    "#np.set_printoptions(suppress=True) # 指数表示の禁止を設定する\n",
    "row_data = np.loadtxt(csv_path, delimiter=\",\", skiprows=1)\n",
    "\n",
    "df_0 = pd.DataFrame(row_data, columns=[\"Channel\",\"Region\", \"Fresh\", \"Milk\", \"Grocery\", \"Frozen\", \"Detergents_Paper\", \"Delicassen\"])\n",
    "\n",
    "df_0.head(10)"
   ]
  },
  {
   "cell_type": "code",
   "execution_count": 59,
   "metadata": {},
   "outputs": [
    {
     "data": {
      "image/png": "[encoded data removed]",
      "text/plain": [
       "<Figure size 864x720 with 1 Axes>"
      ]
     },
     "metadata": {
      "needs_background": "light"
     },
     "output_type": "display_data"
    }
   ],
   "source": [
    "#バイオリンプロット\n",
    "fig = plt.figure(figsize=(12,10))\n",
    "ax = fig.add_subplot(111)\n",
    "ax.violinplot([df_0.Fresh, df_0.Milk, df_0.Grocery, df_0.Frozen, df_0.Detergents_Paper, df_0.Delicassen])\n",
    "ax.set_xticklabels([\"0\",\"Fresh\", \"Milk\", \"Grocery\", \"Frozen\", \"Detergents_Paper\", \"Delicassen\"])\n",
    "plt.show()"
   ]
  },
  {
   "cell_type": "code",
   "execution_count": 60,
   "metadata": {},
   "outputs": [
    {
     "data": {
      "text/plain": [
       "array([[12669.,  9656.,  7561.,   214.,  2674.,  1338.],\n",
       "       [ 7057.,  9810.,  9568.,  1762.,  3293.,  1776.],\n",
       "       [ 6353.,  8808.,  7684.,  2405.,  3516.,  7844.],\n",
       "       ...,\n",
       "       [14531., 15488., 30243.,   437., 14841.,  1867.],\n",
       "       [10290.,  1981.,  2232.,  1038.,   168.,  2125.],\n",
       "       [ 2787.,  1698.,  2510.,    65.,   477.,    52.]])"
      ]
     },
     "execution_count": 60,
     "metadata": {},
     "output_type": "execute_result"
    }
   ],
   "source": [
    "df = df_0.drop([\"Channel\", \"Region\"], axis=1)\n",
    "df.values"
   ]
  },
  {
   "cell_type": "code",
   "execution_count": 61,
   "metadata": {},
   "outputs": [
    {
     "data": {
      "text/html": [
       "<div>\n",
       "<style scoped>\n",
       "    .dataframe tbody tr th:only-of-type {\n",
       "        vertical-align: middle;\n",
       "    }\n",
       "\n",
       "    .dataframe tbody tr th {\n",
       "        vertical-align: top;\n",
       "    }\n",
       "\n",
       "    .dataframe thead th {\n",
       "        text-align: right;\n",
       "    }\n",
       "</style>\n",
       "<table border=\"1\" class=\"dataframe\">\n",
       "  <thead>\n",
       "    <tr style=\"text-align: right;\">\n",
       "      <th></th>\n",
       "      <th>Fresh</th>\n",
       "      <th>Milk</th>\n",
       "      <th>Grocery</th>\n",
       "      <th>Frozen</th>\n",
       "      <th>Detergents_Paper</th>\n",
       "      <th>Delicassen</th>\n",
       "    </tr>\n",
       "  </thead>\n",
       "  <tbody>\n",
       "    <tr>\n",
       "      <td>0</td>\n",
       "      <td>0.052873</td>\n",
       "      <td>0.522972</td>\n",
       "      <td>-0.041068</td>\n",
       "      <td>-0.588697</td>\n",
       "      <td>-0.043519</td>\n",
       "      <td>-0.066264</td>\n",
       "    </tr>\n",
       "    <tr>\n",
       "      <td>1</td>\n",
       "      <td>-0.390857</td>\n",
       "      <td>0.543839</td>\n",
       "      <td>0.170125</td>\n",
       "      <td>-0.269829</td>\n",
       "      <td>0.086309</td>\n",
       "      <td>0.089050</td>\n",
       "    </tr>\n",
       "    <tr>\n",
       "      <td>2</td>\n",
       "      <td>-0.446521</td>\n",
       "      <td>0.408073</td>\n",
       "      <td>-0.028125</td>\n",
       "      <td>-0.137379</td>\n",
       "      <td>0.133080</td>\n",
       "      <td>2.240742</td>\n",
       "    </tr>\n",
       "    <tr>\n",
       "      <td>3</td>\n",
       "      <td>0.099998</td>\n",
       "      <td>-0.623310</td>\n",
       "      <td>-0.392530</td>\n",
       "      <td>0.686363</td>\n",
       "      <td>-0.498021</td>\n",
       "      <td>0.093305</td>\n",
       "    </tr>\n",
       "    <tr>\n",
       "      <td>4</td>\n",
       "      <td>0.839284</td>\n",
       "      <td>-0.052337</td>\n",
       "      <td>-0.079266</td>\n",
       "      <td>0.173661</td>\n",
       "      <td>-0.231654</td>\n",
       "      <td>1.297870</td>\n",
       "    </tr>\n",
       "  </tbody>\n",
       "</table>\n",
       "</div>"
      ],
      "text/plain": [
       "      Fresh      Milk   Grocery    Frozen  Detergents_Paper  Delicassen\n",
       "0  0.052873  0.522972 -0.041068 -0.588697         -0.043519   -0.066264\n",
       "1 -0.390857  0.543839  0.170125 -0.269829          0.086309    0.089050\n",
       "2 -0.446521  0.408073 -0.028125 -0.137379          0.133080    2.240742\n",
       "3  0.099998 -0.623310 -0.392530  0.686363         -0.498021    0.093305\n",
       "4  0.839284 -0.052337 -0.079266  0.173661         -0.231654    1.297870"
      ]
     },
     "execution_count": 61,
     "metadata": {},
     "output_type": "execute_result"
    }
   ],
   "source": [
    "# 行列の標準化(次元削減は標準化必須)\n",
    "dfs = df.apply(lambda x: (x-x.mean())/x.std(), axis=0)\n",
    "dfs.head()"
   ]
  },
  {
   "cell_type": "code",
   "execution_count": 62,
   "metadata": {},
   "outputs": [
    {
     "name": "stdout",
     "output_type": "stream",
     "text": [
      "[[   650.02212207   1585.51909007]\n",
      " [ -4426.80497937   4042.45150884]\n",
      " [ -4841.9987068    2578.762176  ]\n",
      " [   990.34643689  -6279.80599663]\n",
      " [ 10657.99873116  -2159.72581518]\n",
      " [ -2765.96159271   -959.87072713]\n",
      " [  -715.55089221  -2013.00226567]\n",
      " [ -4474.58366697   1429.49697204]\n",
      " [ -6712.09539718  -2205.90915598]\n",
      " [ -4823.63435407  13480.55920489]\n",
      " [ -7974.82898455   5711.21892518]\n",
      " [    36.39377903  -6037.89640947]\n",
      " [ 19940.20205019   4591.28647966]\n",
      " [  9396.69557902   5913.15703681]\n",
      " [ 12660.37043259   4541.94543497]\n",
      " [ -2997.72589991  -6093.8792994 ]\n",
      " [-10589.52355862   6584.21594303]\n",
      " [ -6367.09518029  -3680.71267259]\n",
      " [  6623.82533598   1254.71952554]\n",
      " [ -4861.53156911   -225.59226591]]\n"
     ]
    }
   ],
   "source": [
    "#PCAのサンプルコード\n",
    "from sklearn.decomposition import PCA\n",
    "pca = PCA(n_components = 2)\n",
    "pca = pca.fit(df.values)\n",
    "data_pca = pca.transform(df.values)\n",
    "print(data_pca[0:20])"
   ]
  },
  {
   "cell_type": "code",
   "execution_count": 63,
   "metadata": {},
   "outputs": [
    {
     "name": "stdout",
     "output_type": "stream",
     "text": [
      "[[ 0.19307077 -0.30475306]\n",
      " [ 0.43392596 -0.32803921]\n",
      " [ 0.81022096  0.81416893]\n",
      " [-0.7777625   0.65201155]\n",
      " [ 0.16609819  1.26998809]\n",
      " [-0.15599237 -0.29480541]\n",
      " [-0.33490718 -0.52440632]\n",
      " [ 0.14042659 -0.23073005]\n",
      " [-0.51673134 -0.65861312]\n",
      " [ 1.59029884 -0.74016879]\n",
      " [ 0.63736044 -0.40136832]\n",
      " [-0.92663778 -0.21903791]\n",
      " [ 0.99023499  0.68513092]\n",
      " [ 0.84928002 -0.08559453]\n",
      " [ 0.84408297  0.1545484 ]\n",
      " [-0.95050341 -0.49534465]\n",
      " [ 0.55692477 -1.02495601]\n",
      " [-0.35213776  0.20684046]\n",
      " [ 0.31621861  0.44156366]\n",
      " [-0.32338762 -0.70278696]]\n"
     ]
    }
   ],
   "source": [
    "#標準化後のPCA\n",
    "pca3 = PCA(n_components = 2)\n",
    "pca3 = pca3.fit(dfs.values)\n",
    "data_pca3 = pca3.transform(dfs.values)\n",
    "print(data_pca3[0:20])"
   ]
  },
  {
   "cell_type": "code",
   "execution_count": 64,
   "metadata": {},
   "outputs": [
    {
     "data": {
      "image/png": "[encoded data removed]",
      "text/plain": [
       "<Figure size 432x288 with 1 Axes>"
      ]
     },
     "metadata": {
      "needs_background": "light"
     },
     "output_type": "display_data"
    }
   ],
   "source": [
    "#標準化前\n",
    "plt.scatter(data_pca[:, 0],data_pca[:, 1], alpha=0.8)\n",
    "plt.grid()\n",
    "plt.xlabel(\"PC1\")\n",
    "plt.ylabel(\"PC2\")\n",
    "plt.show()"
   ]
  },
  {
   "cell_type": "code",
   "execution_count": 65,
   "metadata": {},
   "outputs": [
    {
     "data": {
      "image/png": "[encoded data removed]",
      "text/plain": [
       "<Figure size 432x288 with 1 Axes>"
      ]
     },
     "metadata": {
      "needs_background": "light"
     },
     "output_type": "display_data"
    }
   ],
   "source": [
    "#標準化後\n",
    "plt.scatter(data_pca3[:, 0],data_pca3[:, 1], alpha=0.8)\n",
    "plt.grid()\n",
    "plt.xlabel(\"PC1\")\n",
    "plt.ylabel(\"PC2\")\n",
    "plt.show()"
   ]
  },
  {
   "cell_type": "code",
   "execution_count": 66,
   "metadata": {},
   "outputs": [
    {
     "name": "stdout",
     "output_type": "stream",
     "text": [
      "[0.44082893 0.72459292 0.84793705 0.94189209 0.98950481 1.        ]\n"
     ]
    },
    {
     "data": {
      "image/png": "[encoded data removed]",
      "text/plain": [
       "<Figure size 432x288 with 1 Axes>"
      ]
     },
     "metadata": {
      "needs_background": "light"
     },
     "output_type": "display_data"
    }
   ],
   "source": [
    "#PCAの分散説明率（累積寄与率）を表示するコードサンプル\n",
    "#寄与率と累積寄与率は、第何主成分まででどのくらいの情報を説明できるかという指標\n",
    "\n",
    "pca2 = PCA(n_components=None)\n",
    "pca2 = pca2.fit(dfs.values)\n",
    "var_exp = pca2.explained_variance_ratio_\n",
    "cum_var_exp = np.cumsum(var_exp)\n",
    "print(cum_var_exp)\n",
    "plt.bar(range(1,7), var_exp, alpha=0.5, align='center', label='individual explained variance')\n",
    "plt.step(range(1,7), cum_var_exp, where='mid', label='cumulative expalined variance')\n",
    "plt.ylabel('Explained variance ratio')\n",
    "plt.xlabel('Principal components')\n",
    "plt.hlines(0.7, 0, 6,  \"blue\", linestyles='dashed')\n",
    "plt.legend(loc='best')\n",
    "plt.grid()\n",
    "plt.show()"
   ]
  },
  {
   "cell_type": "code",
   "execution_count": 67,
   "metadata": {},
   "outputs": [
    {
     "data": {
      "text/html": [
       "<div>\n",
       "<style scoped>\n",
       "    .dataframe tbody tr th:only-of-type {\n",
       "        vertical-align: middle;\n",
       "    }\n",
       "\n",
       "    .dataframe tbody tr th {\n",
       "        vertical-align: top;\n",
       "    }\n",
       "\n",
       "    .dataframe thead th {\n",
       "        text-align: right;\n",
       "    }\n",
       "</style>\n",
       "<table border=\"1\" class=\"dataframe\">\n",
       "  <thead>\n",
       "    <tr style=\"text-align: right;\">\n",
       "      <th></th>\n",
       "      <th>Fresh</th>\n",
       "      <th>Milk</th>\n",
       "      <th>Grocery</th>\n",
       "      <th>Frozen</th>\n",
       "      <th>Detergents_Paper</th>\n",
       "      <th>Delicassen</th>\n",
       "    </tr>\n",
       "  </thead>\n",
       "  <tbody>\n",
       "    <tr>\n",
       "      <td>PC1</td>\n",
       "      <td>0.042884</td>\n",
       "      <td>0.545118</td>\n",
       "      <td>0.579256</td>\n",
       "      <td>0.051189</td>\n",
       "      <td>0.548640</td>\n",
       "      <td>0.248682</td>\n",
       "    </tr>\n",
       "    <tr>\n",
       "      <td>PC2</td>\n",
       "      <td>0.527932</td>\n",
       "      <td>0.083168</td>\n",
       "      <td>-0.146088</td>\n",
       "      <td>0.611278</td>\n",
       "      <td>-0.255233</td>\n",
       "      <td>0.504207</td>\n",
       "    </tr>\n",
       "  </tbody>\n",
       "</table>\n",
       "</div>"
      ],
      "text/plain": [
       "        Fresh      Milk   Grocery    Frozen  Detergents_Paper  Delicassen\n",
       "PC1  0.042884  0.545118  0.579256  0.051189          0.548640    0.248682\n",
       "PC2  0.527932  0.083168 -0.146088  0.611278         -0.255233    0.504207"
      ]
     },
     "execution_count": 67,
     "metadata": {},
     "output_type": "execute_result"
    }
   ],
   "source": [
    "#PCAの固有ベクトル\n",
    "pd.DataFrame(pca3.components_, columns=df.columns[:], index=[\"PC1\", \"PC2\"])"
   ]
  },
  {
   "cell_type": "code",
   "execution_count": 68,
   "metadata": {},
   "outputs": [
    {
     "data": {
      "image/png": "[encoded data removed]",
      "text/plain": [
       "<Figure size 432x432 with 1 Axes>"
      ]
     },
     "metadata": {
      "needs_background": "light"
     },
     "output_type": "display_data"
    }
   ],
   "source": [
    "# 第一主成分と第二主成分における観測変数の寄与度をプロットする\n",
    "plt.figure(figsize=(6, 6))\n",
    "for x, y, name in zip(pca.components_[0], pca.components_[1], df.columns):\n",
    "    plt.text(x, y, name)\n",
    "plt.scatter(pca.components_[0], pca.components_[1], alpha=0.8)\n",
    "plt.grid()\n",
    "plt.xlabel(\"PC1\")\n",
    "plt.ylabel(\"PC2\")\n",
    "plt.show()"
   ]
  },
  {
   "cell_type": "markdown",
   "metadata": {},
   "source": [
    "# 【問題10】クラスタ数kの選択"
   ]
  },
  {
   "cell_type": "code",
   "execution_count": 69,
   "metadata": {},
   "outputs": [
    {
     "name": "stderr",
     "output_type": "stream",
     "text": [
      "/Users/shinoda/.pyenv/versions/anaconda3-2019.10/lib/python3.7/site-packages/numpy/core/fromnumeric.py:3335: RuntimeWarning: Mean of empty slice.\n",
      "  out=out, **kwargs)\n",
      "/Users/shinoda/.pyenv/versions/anaconda3-2019.10/lib/python3.7/site-packages/numpy/core/_methods.py:154: RuntimeWarning: invalid value encountered in true_divide\n",
      "  ret, rcount, out=ret, casting='unsafe', subok=False)\n"
     ]
    },
    {
     "data": {
      "image/png": "[encoded data removed]",
      "text/plain": [
       "<Figure size 432x288 with 1 Axes>"
      ]
     },
     "metadata": {
      "needs_background": "light"
     },
     "output_type": "display_data"
    }
   ],
   "source": [
    "elbow = []\n",
    "\n",
    "for i in range(1,20):\n",
    "    Kmeans = ScratchKMeans(n_clusters=i, n_init=10, max_iter=100)\n",
    "    Kmeans.fit(data_pca3)\n",
    "    elbow.append(min(Kmeans.sse_))\n",
    "\n",
    "plt.ylabel(\"SSE\")\n",
    "plt.xlabel(\"number of class\")\n",
    "plt.plot(elbow)\n",
    "plt.show()"
   ]
  },
  {
   "cell_type": "markdown",
   "metadata": {},
   "source": [
    "- 2.5Kと５Kの間にエルボーが見られる。 したがって、K=5が適切と考えられる。"
   ]
  },
  {
   "cell_type": "code",
   "execution_count": 70,
   "metadata": {},
   "outputs": [
    {
     "name": "stdout",
     "output_type": "stream",
     "text": [
      "[[ 0.19307077 -0.30475306  1.        ]\n",
      " [ 0.43392596 -0.32803921  1.        ]\n",
      " [ 0.81022096  0.81416893  3.        ]\n",
      " ...\n",
      " [ 3.46176308 -1.0386557   0.        ]\n",
      " [-0.91697893 -0.03001243  1.        ]\n",
      " [-1.10388054 -0.86035852  1.        ]]\n"
     ]
    }
   ],
   "source": [
    "SKM = ScratchKMeans(n_clusters=5, n_init=10, max_iter=100)\n",
    "SKM.fit(data_pca3)\n",
    "pred = SKM.predict(data_pca3, fullsize=True)\n",
    "print(pred)"
   ]
  },
  {
   "cell_type": "code",
   "execution_count": 71,
   "metadata": {},
   "outputs": [
    {
     "data": {
      "image/png": "[encoded data removed]",
      "text/plain": [
       "<Figure size 864x720 with 1 Axes>"
      ]
     },
     "metadata": {
      "needs_background": "light"
     },
     "output_type": "display_data"
    }
   ],
   "source": [
    "#プロット\n",
    "plt.figure(figsize=(12,10))\n",
    "plt.scatter(data_pca3[:, 0],data_pca3[:, 1], alpha=0.8, c= list(pred[:, 2]))\n",
    "plt.grid()\n",
    "plt.xlabel(\"PC1\")\n",
    "plt.ylabel(\"PC2\")\n",
    "plt.show()"
   ]
  },
  {
   "cell_type": "markdown",
   "metadata": {},
   "source": [
    "# 【問題11】既知のグループとの比較"
   ]
  },
  {
   "cell_type": "markdown",
   "metadata": {},
   "source": [
    "RegionとChannelはK-meansに使用しなかったが、これれらは既知のグループです。クラスタとこれら既知のグループがどう違うかを確認し、説明してください。まずはそれぞれを可視化してください。"
   ]
  },
  {
   "cell_type": "code",
   "execution_count": 72,
   "metadata": {},
   "outputs": [
    {
     "data": {
      "text/plain": [
       "(440, 2)"
      ]
     },
     "execution_count": 72,
     "metadata": {},
     "output_type": "execute_result"
    }
   ],
   "source": [
    "data_pca3.shape"
   ]
  },
  {
   "cell_type": "code",
   "execution_count": 75,
   "metadata": {},
   "outputs": [],
   "source": [
    "#df_0.iloc[:, 0:2].values"
   ]
  },
  {
   "cell_type": "code",
   "execution_count": 76,
   "metadata": {},
   "outputs": [
    {
     "name": "stdout",
     "output_type": "stream",
     "text": [
      "[[ 0.19307077 -0.30475306  1.          2.          3.        ]\n",
      " [ 0.43392596 -0.32803921  1.          2.          3.        ]\n",
      " [ 0.81022096  0.81416893  3.          2.          3.        ]\n",
      " ...\n",
      " [ 3.46176308 -1.0386557   0.          2.          3.        ]\n",
      " [-0.91697893 -0.03001243  1.          1.          3.        ]\n",
      " [-1.10388054 -0.86035852  1.          1.          3.        ]]\n"
     ]
    }
   ],
   "source": [
    "comp = np.concatenate([pred, df_0.iloc[:, 0:2].values],1)\n",
    "print(comp)"
   ]
  },
  {
   "cell_type": "code",
   "execution_count": 77,
   "metadata": {},
   "outputs": [
    {
     "data": {
      "image/png": "[encoded data removed]",
      "text/plain": [
       "<Figure size 864x216 with 1 Axes>"
      ]
     },
     "metadata": {
      "needs_background": "light"
     },
     "output_type": "display_data"
    },
    {
     "data": {
      "image/png": "[encoded data removed]",
      "text/plain": [
       "<Figure size 864x216 with 1 Axes>"
      ]
     },
     "metadata": {
      "needs_background": "light"
     },
     "output_type": "display_data"
    },
    {
     "data": {
      "image/png": "[encoded data removed]",
      "text/plain": [
       "<Figure size 864x216 with 1 Axes>"
      ]
     },
     "metadata": {
      "needs_background": "light"
     },
     "output_type": "display_data"
    }
   ],
   "source": [
    "#プロット\n",
    "plt.figure(figsize=(12,3))\n",
    "plt.scatter(comp[:, 0], comp[:, 1], alpha=0.8, c= list(comp[:, 3]))\n",
    "plt.grid()\n",
    "plt.title(\"Channel\")\n",
    "plt.xlabel(\"PC1\")\n",
    "plt.ylabel(\"PC2\")\n",
    "plt.show()\n",
    "\n",
    "plt.figure(figsize=(12,3))\n",
    "plt.scatter(comp[:, 0], comp[:, 1], alpha=0.8, c= list(comp[:, 4]))\n",
    "plt.grid()\n",
    "plt.title(\"Region\")\n",
    "plt.xlabel(\"PC1\")\n",
    "plt.ylabel(\"PC2\")\n",
    "plt.show()\n",
    "\n",
    "plt.figure(figsize=(12,3))\n",
    "plt.scatter(comp[:, 0], comp[:, 1], alpha=0.8, c= list(comp[:, 2]))\n",
    "plt.grid()\n",
    "plt.title(\"Classter\")\n",
    "plt.xlabel(\"PC1\")\n",
    "plt.ylabel(\"PC2\")\n",
    "plt.show()"
   ]
  },
  {
   "cell_type": "markdown",
   "metadata": {},
   "source": [
    "### 分析"
   ]
  },
  {
   "cell_type": "code",
   "execution_count": 78,
   "metadata": {},
   "outputs": [
    {
     "data": {
      "text/html": [
       "<div>\n",
       "<style scoped>\n",
       "    .dataframe tbody tr th:only-of-type {\n",
       "        vertical-align: middle;\n",
       "    }\n",
       "\n",
       "    .dataframe tbody tr th {\n",
       "        vertical-align: top;\n",
       "    }\n",
       "\n",
       "    .dataframe thead th {\n",
       "        text-align: right;\n",
       "    }\n",
       "</style>\n",
       "<table border=\"1\" class=\"dataframe\">\n",
       "  <thead>\n",
       "    <tr style=\"text-align: right;\">\n",
       "      <th></th>\n",
       "      <th>Channel</th>\n",
       "      <th>Region</th>\n",
       "      <th>Fresh</th>\n",
       "      <th>Milk</th>\n",
       "      <th>Grocery</th>\n",
       "      <th>Frozen</th>\n",
       "      <th>Detergents_Paper</th>\n",
       "      <th>Delicassen</th>\n",
       "      <th>Classter</th>\n",
       "    </tr>\n",
       "  </thead>\n",
       "  <tbody>\n",
       "    <tr>\n",
       "      <td>0</td>\n",
       "      <td>2.0</td>\n",
       "      <td>3.0</td>\n",
       "      <td>12669.0</td>\n",
       "      <td>9656.0</td>\n",
       "      <td>7561.0</td>\n",
       "      <td>214.0</td>\n",
       "      <td>2674.0</td>\n",
       "      <td>1338.0</td>\n",
       "      <td>1.0</td>\n",
       "    </tr>\n",
       "    <tr>\n",
       "      <td>1</td>\n",
       "      <td>2.0</td>\n",
       "      <td>3.0</td>\n",
       "      <td>7057.0</td>\n",
       "      <td>9810.0</td>\n",
       "      <td>9568.0</td>\n",
       "      <td>1762.0</td>\n",
       "      <td>3293.0</td>\n",
       "      <td>1776.0</td>\n",
       "      <td>1.0</td>\n",
       "    </tr>\n",
       "    <tr>\n",
       "      <td>2</td>\n",
       "      <td>2.0</td>\n",
       "      <td>3.0</td>\n",
       "      <td>6353.0</td>\n",
       "      <td>8808.0</td>\n",
       "      <td>7684.0</td>\n",
       "      <td>2405.0</td>\n",
       "      <td>3516.0</td>\n",
       "      <td>7844.0</td>\n",
       "      <td>3.0</td>\n",
       "    </tr>\n",
       "    <tr>\n",
       "      <td>3</td>\n",
       "      <td>1.0</td>\n",
       "      <td>3.0</td>\n",
       "      <td>13265.0</td>\n",
       "      <td>1196.0</td>\n",
       "      <td>4221.0</td>\n",
       "      <td>6404.0</td>\n",
       "      <td>507.0</td>\n",
       "      <td>1788.0</td>\n",
       "      <td>1.0</td>\n",
       "    </tr>\n",
       "    <tr>\n",
       "      <td>4</td>\n",
       "      <td>2.0</td>\n",
       "      <td>3.0</td>\n",
       "      <td>22615.0</td>\n",
       "      <td>5410.0</td>\n",
       "      <td>7198.0</td>\n",
       "      <td>3915.0</td>\n",
       "      <td>1777.0</td>\n",
       "      <td>5185.0</td>\n",
       "      <td>3.0</td>\n",
       "    </tr>\n",
       "  </tbody>\n",
       "</table>\n",
       "</div>"
      ],
      "text/plain": [
       "   Channel  Region    Fresh    Milk  Grocery  Frozen  Detergents_Paper  \\\n",
       "0      2.0     3.0  12669.0  9656.0   7561.0   214.0            2674.0   \n",
       "1      2.0     3.0   7057.0  9810.0   9568.0  1762.0            3293.0   \n",
       "2      2.0     3.0   6353.0  8808.0   7684.0  2405.0            3516.0   \n",
       "3      1.0     3.0  13265.0  1196.0   4221.0  6404.0             507.0   \n",
       "4      2.0     3.0  22615.0  5410.0   7198.0  3915.0            1777.0   \n",
       "\n",
       "   Delicassen  Classter  \n",
       "0      1338.0       1.0  \n",
       "1      1776.0       1.0  \n",
       "2      7844.0       3.0  \n",
       "3      1788.0       1.0  \n",
       "4      5185.0       3.0  "
      ]
     },
     "execution_count": 78,
     "metadata": {},
     "output_type": "execute_result"
    }
   ],
   "source": [
    "df_2 = pd.DataFrame(np.concatenate([df_0.values, pred[:, 2].reshape(-1,1)], 1),\n",
    "                   columns=[\"Channel\",\"Region\", \"Fresh\", \"Milk\", \"Grocery\", \"Frozen\", \"Detergents_Paper\", \"Delicassen\", \"Classter\"])\n",
    "df_2.head()"
   ]
  },
  {
   "cell_type": "code",
   "execution_count": 79,
   "metadata": {},
   "outputs": [
    {
     "data": {
      "text/html": [
       "<div>\n",
       "<style scoped>\n",
       "    .dataframe tbody tr th:only-of-type {\n",
       "        vertical-align: middle;\n",
       "    }\n",
       "\n",
       "    .dataframe tbody tr th {\n",
       "        vertical-align: top;\n",
       "    }\n",
       "\n",
       "    .dataframe thead th {\n",
       "        text-align: right;\n",
       "    }\n",
       "</style>\n",
       "<table border=\"1\" class=\"dataframe\">\n",
       "  <thead>\n",
       "    <tr style=\"text-align: right;\">\n",
       "      <th></th>\n",
       "      <th>Region</th>\n",
       "      <th>Fresh</th>\n",
       "      <th>Milk</th>\n",
       "      <th>Grocery</th>\n",
       "      <th>Frozen</th>\n",
       "      <th>Detergents_Paper</th>\n",
       "      <th>Delicassen</th>\n",
       "      <th>Classter</th>\n",
       "    </tr>\n",
       "    <tr>\n",
       "      <th>Channel</th>\n",
       "      <th></th>\n",
       "      <th></th>\n",
       "      <th></th>\n",
       "      <th></th>\n",
       "      <th></th>\n",
       "      <th></th>\n",
       "      <th></th>\n",
       "      <th></th>\n",
       "    </tr>\n",
       "  </thead>\n",
       "  <tbody>\n",
       "    <tr>\n",
       "      <td>1.0</td>\n",
       "      <td>2.510067</td>\n",
       "      <td>13475.560403</td>\n",
       "      <td>3451.724832</td>\n",
       "      <td>3962.137584</td>\n",
       "      <td>3748.251678</td>\n",
       "      <td>790.560403</td>\n",
       "      <td>1415.956376</td>\n",
       "      <td>1.399329</td>\n",
       "    </tr>\n",
       "    <tr>\n",
       "      <td>2.0</td>\n",
       "      <td>2.612676</td>\n",
       "      <td>8904.323944</td>\n",
       "      <td>10716.500000</td>\n",
       "      <td>16322.852113</td>\n",
       "      <td>1652.612676</td>\n",
       "      <td>7269.507042</td>\n",
       "      <td>1753.436620</td>\n",
       "      <td>1.042254</td>\n",
       "    </tr>\n",
       "  </tbody>\n",
       "</table>\n",
       "</div>"
      ],
      "text/plain": [
       "           Region         Fresh          Milk       Grocery       Frozen  \\\n",
       "Channel                                                                    \n",
       "1.0      2.510067  13475.560403   3451.724832   3962.137584  3748.251678   \n",
       "2.0      2.612676   8904.323944  10716.500000  16322.852113  1652.612676   \n",
       "\n",
       "         Detergents_Paper   Delicassen  Classter  \n",
       "Channel                                           \n",
       "1.0            790.560403  1415.956376  1.399329  \n",
       "2.0           7269.507042  1753.436620  1.042254  "
      ]
     },
     "execution_count": 79,
     "metadata": {},
     "output_type": "execute_result"
    }
   ],
   "source": [
    "df_2.groupby(\"Channel\").mean()"
   ]
  },
  {
   "cell_type": "code",
   "execution_count": 80,
   "metadata": {},
   "outputs": [
    {
     "data": {
      "text/html": [
       "<div>\n",
       "<style scoped>\n",
       "    .dataframe tbody tr th:only-of-type {\n",
       "        vertical-align: middle;\n",
       "    }\n",
       "\n",
       "    .dataframe tbody tr th {\n",
       "        vertical-align: top;\n",
       "    }\n",
       "\n",
       "    .dataframe thead th {\n",
       "        text-align: right;\n",
       "    }\n",
       "</style>\n",
       "<table border=\"1\" class=\"dataframe\">\n",
       "  <thead>\n",
       "    <tr style=\"text-align: right;\">\n",
       "      <th></th>\n",
       "      <th>Channel</th>\n",
       "      <th>Fresh</th>\n",
       "      <th>Milk</th>\n",
       "      <th>Grocery</th>\n",
       "      <th>Frozen</th>\n",
       "      <th>Detergents_Paper</th>\n",
       "      <th>Delicassen</th>\n",
       "      <th>Classter</th>\n",
       "    </tr>\n",
       "    <tr>\n",
       "      <th>Region</th>\n",
       "      <th></th>\n",
       "      <th></th>\n",
       "      <th></th>\n",
       "      <th></th>\n",
       "      <th></th>\n",
       "      <th></th>\n",
       "      <th></th>\n",
       "      <th></th>\n",
       "    </tr>\n",
       "  </thead>\n",
       "  <tbody>\n",
       "    <tr>\n",
       "      <td>1.0</td>\n",
       "      <td>1.233766</td>\n",
       "      <td>11101.727273</td>\n",
       "      <td>5486.415584</td>\n",
       "      <td>7403.077922</td>\n",
       "      <td>3000.337662</td>\n",
       "      <td>2651.116883</td>\n",
       "      <td>1354.896104</td>\n",
       "      <td>1.220779</td>\n",
       "    </tr>\n",
       "    <tr>\n",
       "      <td>2.0</td>\n",
       "      <td>1.404255</td>\n",
       "      <td>9887.680851</td>\n",
       "      <td>5088.170213</td>\n",
       "      <td>9218.595745</td>\n",
       "      <td>4045.361702</td>\n",
       "      <td>3687.468085</td>\n",
       "      <td>1159.702128</td>\n",
       "      <td>1.170213</td>\n",
       "    </tr>\n",
       "    <tr>\n",
       "      <td>3.0</td>\n",
       "      <td>1.332278</td>\n",
       "      <td>12533.471519</td>\n",
       "      <td>5977.085443</td>\n",
       "      <td>7896.363924</td>\n",
       "      <td>2944.594937</td>\n",
       "      <td>2817.753165</td>\n",
       "      <td>1620.601266</td>\n",
       "      <td>1.316456</td>\n",
       "    </tr>\n",
       "  </tbody>\n",
       "</table>\n",
       "</div>"
      ],
      "text/plain": [
       "         Channel         Fresh         Milk      Grocery       Frozen  \\\n",
       "Region                                                                  \n",
       "1.0     1.233766  11101.727273  5486.415584  7403.077922  3000.337662   \n",
       "2.0     1.404255   9887.680851  5088.170213  9218.595745  4045.361702   \n",
       "3.0     1.332278  12533.471519  5977.085443  7896.363924  2944.594937   \n",
       "\n",
       "        Detergents_Paper   Delicassen  Classter  \n",
       "Region                                           \n",
       "1.0          2651.116883  1354.896104  1.220779  \n",
       "2.0          3687.468085  1159.702128  1.170213  \n",
       "3.0          2817.753165  1620.601266  1.316456  "
      ]
     },
     "execution_count": 80,
     "metadata": {},
     "output_type": "execute_result"
    }
   ],
   "source": [
    "df_2.groupby(\"Region\").mean()"
   ]
  },
  {
   "cell_type": "code",
   "execution_count": 81,
   "metadata": {},
   "outputs": [
    {
     "data": {
      "text/html": [
       "<div>\n",
       "<style scoped>\n",
       "    .dataframe tbody tr th:only-of-type {\n",
       "        vertical-align: middle;\n",
       "    }\n",
       "\n",
       "    .dataframe tbody tr th {\n",
       "        vertical-align: top;\n",
       "    }\n",
       "\n",
       "    .dataframe thead th {\n",
       "        text-align: right;\n",
       "    }\n",
       "</style>\n",
       "<table border=\"1\" class=\"dataframe\">\n",
       "  <thead>\n",
       "    <tr style=\"text-align: right;\">\n",
       "      <th></th>\n",
       "      <th>Channel</th>\n",
       "      <th>Region</th>\n",
       "      <th>Fresh</th>\n",
       "      <th>Milk</th>\n",
       "      <th>Grocery</th>\n",
       "      <th>Frozen</th>\n",
       "      <th>Detergents_Paper</th>\n",
       "      <th>Delicassen</th>\n",
       "    </tr>\n",
       "    <tr>\n",
       "      <th>Classter</th>\n",
       "      <th></th>\n",
       "      <th></th>\n",
       "      <th></th>\n",
       "      <th></th>\n",
       "      <th></th>\n",
       "      <th></th>\n",
       "      <th></th>\n",
       "      <th></th>\n",
       "    </tr>\n",
       "  </thead>\n",
       "  <tbody>\n",
       "    <tr>\n",
       "      <td>0.0</td>\n",
       "      <td>2.000000</td>\n",
       "      <td>2.562500</td>\n",
       "      <td>14393.187500</td>\n",
       "      <td>29453.312500</td>\n",
       "      <td>41102.875000</td>\n",
       "      <td>2425.437500</td>\n",
       "      <td>19761.562500</td>\n",
       "      <td>3770.937500</td>\n",
       "    </tr>\n",
       "    <tr>\n",
       "      <td>1.0</td>\n",
       "      <td>1.326705</td>\n",
       "      <td>2.519886</td>\n",
       "      <td>8541.454545</td>\n",
       "      <td>4515.113636</td>\n",
       "      <td>6761.252841</td>\n",
       "      <td>1859.238636</td>\n",
       "      <td>2476.713068</td>\n",
       "      <td>1033.954545</td>\n",
       "    </tr>\n",
       "    <tr>\n",
       "      <td>2.0</td>\n",
       "      <td>1.000000</td>\n",
       "      <td>2.666667</td>\n",
       "      <td>60571.666667</td>\n",
       "      <td>30120.333333</td>\n",
       "      <td>17314.666667</td>\n",
       "      <td>38049.333333</td>\n",
       "      <td>2153.000000</td>\n",
       "      <td>20700.666667</td>\n",
       "    </tr>\n",
       "    <tr>\n",
       "      <td>3.0</td>\n",
       "      <td>1.159420</td>\n",
       "      <td>2.652174</td>\n",
       "      <td>26978.739130</td>\n",
       "      <td>5788.739130</td>\n",
       "      <td>5927.695652</td>\n",
       "      <td>7887.579710</td>\n",
       "      <td>1063.913043</td>\n",
       "      <td>2674.695652</td>\n",
       "    </tr>\n",
       "  </tbody>\n",
       "</table>\n",
       "</div>"
      ],
      "text/plain": [
       "           Channel    Region         Fresh          Milk       Grocery  \\\n",
       "Classter                                                                 \n",
       "0.0       2.000000  2.562500  14393.187500  29453.312500  41102.875000   \n",
       "1.0       1.326705  2.519886   8541.454545   4515.113636   6761.252841   \n",
       "2.0       1.000000  2.666667  60571.666667  30120.333333  17314.666667   \n",
       "3.0       1.159420  2.652174  26978.739130   5788.739130   5927.695652   \n",
       "\n",
       "                Frozen  Detergents_Paper    Delicassen  \n",
       "Classter                                                \n",
       "0.0        2425.437500      19761.562500   3770.937500  \n",
       "1.0        1859.238636       2476.713068   1033.954545  \n",
       "2.0       38049.333333       2153.000000  20700.666667  \n",
       "3.0        7887.579710       1063.913043   2674.695652  "
      ]
     },
     "execution_count": 81,
     "metadata": {},
     "output_type": "execute_result"
    }
   ],
   "source": [
    "df_2.groupby(\"Classter\").mean()"
   ]
  },
  {
   "cell_type": "code",
   "execution_count": 82,
   "metadata": {},
   "outputs": [
    {
     "data": {
      "image/png": "[encoded data removed]",
      "text/plain": [
       "<Figure size 720x288 with 1 Axes>"
      ]
     },
     "metadata": {
      "needs_background": "light"
     },
     "output_type": "display_data"
    },
    {
     "data": {
      "image/png": "[encoded data removed]",
      "text/plain": [
       "<Figure size 720x288 with 1 Axes>"
      ]
     },
     "metadata": {
      "needs_background": "light"
     },
     "output_type": "display_data"
    },
    {
     "data": {
      "image/png": "[encoded data removed]",
      "text/plain": [
       "<Figure size 720x288 with 1 Axes>"
      ]
     },
     "metadata": {
      "needs_background": "light"
     },
     "output_type": "display_data"
    }
   ],
   "source": [
    "#bar chart\n",
    "xname = np.array([\"Fresh\", \"Milk\", \"Grocery\", \"Frozen\", \"Detergents_Paper\", \"Delicassen\"])\n",
    "xposition = np.arange(len(xname))\n",
    "\n",
    "#Channel\n",
    "y_c1 = df_2.groupby(\"Channel\").mean().values[0,1:7]\n",
    "y_c2 = df_2.groupby(\"Channel\").mean().values[1,1:7]\n",
    "\n",
    "fig = plt.figure(figsize=(10,4))\n",
    "ax = fig.add_subplot(111)\n",
    "ax.bar(xposition, y_c1, width=0.4, label=\"Channel1\")\n",
    "ax.bar(xposition+0.4, y_c2, width=0.4, label=\"Channel2\")\n",
    "ax.legend()\n",
    "plt.title(\"mean by Channel\")\n",
    "ax.set_xticks(xposition + 0.2)\n",
    "ax.set_xticklabels(xname)\n",
    "plt.show()\n",
    "\n",
    "#Region\n",
    "y_r1 = df_2.groupby(\"Region\").mean().values[0,1:7]\n",
    "y_r2 = df_2.groupby(\"Region\").mean().values[1,1:7]\n",
    "y_r3 = df_2.groupby(\"Region\").mean().values[2,1:7]\n",
    "\n",
    "fig = plt.figure(figsize=(10,4))\n",
    "ax = fig.add_subplot(111)\n",
    "ax.bar(xposition, y_r1, width=0.3, label=\"Region1\")\n",
    "ax.bar(xposition+0.3, y_r2, width=0.3, label=\"Region2\")\n",
    "ax.bar(xposition+0.6, y_r3, width=0.3, label=\"Region3\")\n",
    "ax.legend()\n",
    "plt.title(\"mean by Region\")\n",
    "ax.set_xticks(xposition + 0.3)\n",
    "ax.set_xticklabels(xname)\n",
    "plt.show()\n",
    "\n",
    "#Classter\n",
    "y_cl1 = df_2.groupby(\"Classter\").mean().values[0,2:8]\n",
    "y_cl2 = df_2.groupby(\"Classter\").mean().values[1,2:8]\n",
    "y_cl3 = df_2.groupby(\"Classter\").mean().values[2,2:8]\n",
    "y_cl4 = df_2.groupby(\"Classter\").mean().values[3,2:8]\n",
    "\n",
    "fig = plt.figure(figsize=(10,4))\n",
    "ax = fig.add_subplot(111)\n",
    "ax.bar(xposition, y_cl1, width=0.2, label=\"Cluster1\")\n",
    "ax.bar(xposition+0.2, y_cl2, width=0.2, label=\"Cluster2\")\n",
    "ax.bar(xposition+0.4, y_cl3, width=0.2, label=\"Cluster3\")\n",
    "ax.bar(xposition+0.6, y_cl4, width=0.2, label=\"Cluster4\")\n",
    "ax.legend()\n",
    "plt.title(\"mean by Cluster\")\n",
    "ax.set_xticks(xposition + 0.3)\n",
    "ax.set_xticklabels(xname)\n",
    "plt.show()"
   ]
  },
  {
   "cell_type": "markdown",
   "metadata": {},
   "source": [
    "- Cluster1と２は、Channel1の中で傾向がよりはっきりしたもの（生鮮品の消費が大きい）を分けている\n",
    "- Channel１は飲食店？"
   ]
  },
  {
   "cell_type": "markdown",
   "metadata": {},
   "source": [
    "# 【問題12】卸売業者にとって有益な情報"
   ]
  },
  {
   "cell_type": "markdown",
   "metadata": {},
   "source": [
    "卸売業者にとって有益な情報を探し出し文章にまとめてください。"
   ]
  },
  {
   "cell_type": "code",
   "execution_count": 104,
   "metadata": {},
   "outputs": [
    {
     "data": {
      "text/plain": [
       "Region\n",
       "1.0     59\n",
       "2.0     28\n",
       "3.0    211\n",
       "dtype: int64"
      ]
     },
     "execution_count": 104,
     "metadata": {},
     "output_type": "execute_result"
    }
   ],
   "source": [
    "#Channel1の中でRegionの傾向\n",
    "df_2.groupby(\"Channel\").get_group(1).groupby(\"Region\").size()"
   ]
  },
  {
   "cell_type": "code",
   "execution_count": 105,
   "metadata": {},
   "outputs": [
    {
     "data": {
      "text/plain": [
       "Region\n",
       "1.0     18\n",
       "2.0     19\n",
       "3.0    105\n",
       "dtype: int64"
      ]
     },
     "execution_count": 105,
     "metadata": {},
     "output_type": "execute_result"
    }
   ],
   "source": [
    "#Channel２の中でRegionの傾向\n",
    "df_2.groupby(\"Channel\").get_group(2).groupby(\"Region\").size()"
   ]
  },
  {
   "cell_type": "code",
   "execution_count": 111,
   "metadata": {},
   "outputs": [
    {
     "data": {
      "image/png": "[encoded data removed]",
      "text/plain": [
       "<Figure size 576x288 with 1 Axes>"
      ]
     },
     "metadata": {
      "needs_background": "light"
     },
     "output_type": "display_data"
    }
   ],
   "source": [
    "#可視化\n",
    "xname = np.array([\"Region1\", \"Region2\", \"Region3\"])\n",
    "xposition = np.arange(len(xname))\n",
    "\n",
    "#Channel\n",
    "y_c1 = df_2.groupby(\"Channel\").get_group(1).groupby(\"Region\").size().values\n",
    "y_c2 = df_2.groupby(\"Channel\").get_group(2).groupby(\"Region\").size().values\n",
    "\n",
    "fig = plt.figure(figsize=(8,4))\n",
    "ax = fig.add_subplot(111)\n",
    "ax.bar(xposition, y_c1, width=0.3, label=\"Channel1\")\n",
    "ax.bar(xposition+0.3, y_c2, width=0.3, label=\"Channel2\")\n",
    "ax.legend()\n",
    "plt.title(\"Region by Channel\")\n",
    "ax.set_xticks(xposition + 0.2)\n",
    "ax.set_xticklabels(xname)\n",
    "plt.show()"
   ]
  },
  {
   "cell_type": "markdown",
   "metadata": {},
   "source": [
    "- 【分析】\n",
    "- Region1はチャネル１が多数\n",
    "- Region2はチャネル１、２ともに同じ水準\n",
    "- Region3は、他のRegionに比べて数が多い"
   ]
  },
  {
   "cell_type": "markdown",
   "metadata": {},
   "source": [
    "- Region3のチャネル１顧客を狙うと効率よく稼げる狙うと効率よく稼げそう"
   ]
  },
  {
   "cell_type": "code",
   "execution_count": null,
   "metadata": {},
   "outputs": [],
   "source": []
  }
 ],
 "metadata": {
  "kernelspec": {
   "display_name": "Python 3",
   "language": "python",
   "name": "python3"
  },
  "language_info": {
   "codemirror_mode": {
    "name": "ipython",
    "version": 3
   },
   "file_extension": ".py",
   "mimetype": "text/x-python",
   "name": "python",
   "nbconvert_exporter": "python",
   "pygments_lexer": "ipython3",
   "version": "3.7.4"
  }
 },
 "nbformat": 4,
 "nbformat_minor": 4
}
