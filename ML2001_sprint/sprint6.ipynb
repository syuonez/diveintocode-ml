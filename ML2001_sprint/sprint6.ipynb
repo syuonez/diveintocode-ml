{
 "cells": [
  {
   "cell_type": "markdown",
   "metadata": {},
   "source": [
    "# 機械学習スクラッチ　クラスタリング"
   ]
  },
  {
   "cell_type": "markdown",
   "metadata": {},
   "source": [
    "# 【問題1】中心点の初期値を決める"
   ]
  },
  {
   "cell_type": "markdown",
   "metadata": {},
   "source": [
    "入力されたデータから \n",
    "K\n",
    " 個の中心点 \n",
    "μ\n",
    "1\n",
    " から \n",
    "μ\n",
    "K\n",
    " の初期値を決めるコードを作成してください。\n",
    "K\n",
    " は指定したクラスタ数です。\n",
    "\n",
    "\n",
    "最もシンプルな初期値の決定方法は、データ点 \n",
    "X\n",
    "n\n",
    " の中からランダムに \n",
    "K\n",
    " 個選ぶことです。今回はこれを実装してください。\n",
    "\n",
    "\n",
    "K-meansの学習結果は中心点 \n",
    "μ\n",
    " の初期値に影響を受けます。そのため、学習時には複数個の初期値で計算を行います。"
   ]
  },
  {
   "cell_type": "code",
   "execution_count": 1,
   "metadata": {},
   "outputs": [],
   "source": [
    "import numpy as np\n",
    "#import matplotlib.pyplot as plt\n",
    "import pandas as pd\n",
    "#import seaborn as sns\n",
    "from operator import itemgetter\n",
    "np.random.seed(seed = 0)"
   ]
  },
  {
   "cell_type": "code",
   "execution_count": 2,
   "metadata": {},
   "outputs": [],
   "source": [
    "from sklearn.datasets import make_blobs\n",
    "X, _ = make_blobs(n_samples=100, n_features=2, centers=4, cluster_std=0.5, shuffle=True, random_state=0)"
   ]
  },
  {
   "cell_type": "code",
   "execution_count": 3,
   "metadata": {
    "scrolled": true
   },
   "outputs": [
    {
     "data": {
      "text/plain": [
       "array([[ 0.72086751,  3.71347124],\n",
       "       [-1.89468423,  7.96898545],\n",
       "       [ 1.35678894,  4.36462484],\n",
       "       [ 1.05374379,  4.49286859],\n",
       "       [ 1.59141542,  4.90497725],\n",
       "       [ 0.78260667,  4.15263595],\n",
       "       [-1.95751686,  3.87291474],\n",
       "       [-0.77354537,  7.87923564],\n",
       "       [ 0.12313498,  5.27917503],\n",
       "       [-1.43284669,  7.71577043],\n",
       "       [-0.92819001,  7.02698199],\n",
       "       [-1.74836345,  7.06307447],\n",
       "       [-1.26789718,  7.25141327],\n",
       "       [-0.98661744,  7.74968685],\n",
       "       [-0.81984047,  7.50994722],\n",
       "       [ 2.99684287,  0.22378413],\n",
       "       [ 1.46870582,  1.86947425],\n",
       "       [-0.33533163,  3.390122  ],\n",
       "       [-1.86407034,  2.93379754],\n",
       "       [ 2.62496786,  0.28025075],\n",
       "       [ 2.11114739,  3.57660449],\n",
       "       [-1.8219901 ,  7.61654999],\n",
       "       [-1.91186205,  3.18750686],\n",
       "       [ 2.28809874,  0.12954182],\n",
       "       [ 0.5285368 ,  4.49723858],\n",
       "       [-1.57613028,  2.58614312],\n",
       "       [-0.565433  ,  3.65813966],\n",
       "       [ 0.802314  ,  4.38196181],\n",
       "       [ 2.79939362,  1.84560825],\n",
       "       [ 2.64465731,  0.80770124],\n",
       "       [ 1.7190373 ,  0.71788708],\n",
       "       [-0.93564005,  7.03443119],\n",
       "       [ 2.14398059,  0.69677319],\n",
       "       [ 2.06051753,  1.79059891],\n",
       "       [-1.21986433,  3.3789856 ],\n",
       "       [ 1.13280393,  3.87673946],\n",
       "       [-1.497272  ,  8.80022604],\n",
       "       [ 1.85367905,  1.5088862 ],\n",
       "       [-0.1666378 ,  8.50372399],\n",
       "       [-1.89928142,  2.50466299],\n",
       "       [ 1.04829186,  5.03092408],\n",
       "       [-1.44356727,  3.23539798],\n",
       "       [-1.57006498,  6.72375844],\n",
       "       [-1.98331513,  3.47639041],\n",
       "       [-1.87418794,  2.84306499],\n",
       "       [-1.86097353,  8.2576415 ],\n",
       "       [ 1.61986895,  0.60823883],\n",
       "       [-1.84482705,  3.25609891],\n",
       "       [ 0.72144399,  4.08475018],\n",
       "       [ 0.5323772 ,  3.31338909],\n",
       "       [ 0.3498724 ,  4.69253251],\n",
       "       [ 1.89949126,  0.92574633],\n",
       "       [-1.2386086 ,  2.81373288],\n",
       "       [-1.74448079,  3.84251413],\n",
       "       [-0.96358605,  2.37791651],\n",
       "       [-1.26041884,  7.46644456],\n",
       "       [-0.8623605 ,  8.24721209],\n",
       "       [ 2.4198128 ,  0.96215512],\n",
       "       [ 2.23345072,  1.25095024],\n",
       "       [-0.65424088,  7.99393132],\n",
       "       [-1.42525273,  7.14798437],\n",
       "       [ 1.51989121,  1.42488952],\n",
       "       [ 2.11872357,  1.09865834],\n",
       "       [ 1.74265969,  5.03846671],\n",
       "       [ 1.42002502,  1.38236201],\n",
       "       [-0.69842598,  8.16309188],\n",
       "       [-2.18485772,  2.68708996],\n",
       "       [-1.32890066,  2.37135151],\n",
       "       [ 2.15940501,  1.38598318],\n",
       "       [ 1.19820169,  4.47062449],\n",
       "       [-1.7653772 ,  8.17625727],\n",
       "       [ 1.4726926 ,  1.3480769 ],\n",
       "       [ 0.92466065,  4.50908658],\n",
       "       [-1.47602203,  7.8441996 ],\n",
       "       [ 0.99914934,  4.2101954 ],\n",
       "       [ 1.40848818,  3.93270482],\n",
       "       [-0.59312453,  3.37090459],\n",
       "       [-1.6609057 ,  3.31911046],\n",
       "       [ 2.25643834,  0.55525861],\n",
       "       [ 1.24016835,  1.12905479],\n",
       "       [ 1.64869438,  0.03452236],\n",
       "       [-1.61803727,  8.60696731],\n",
       "       [-1.37778493,  3.58107521],\n",
       "       [ 0.16932115,  4.19741719],\n",
       "       [ 1.73810647,  0.71629308],\n",
       "       [-1.05327803,  2.84037721],\n",
       "       [ 1.60161834,  0.92363636],\n",
       "       [ 1.84845803,  0.52393625],\n",
       "       [ 1.72330962,  4.2012082 ],\n",
       "       [ 1.00952869,  4.45502328],\n",
       "       [ 0.96217896,  4.51795326],\n",
       "       [-1.33869125,  2.36818187],\n",
       "       [ 0.4519936 ,  3.59377836],\n",
       "       [-1.19075663,  3.12161318],\n",
       "       [-2.27253281,  3.13757811],\n",
       "       [-1.80044744,  7.86154256],\n",
       "       [-1.64996061,  7.49068513],\n",
       "       [-1.56102482,  3.77455362],\n",
       "       [-0.78782636,  7.99482384],\n",
       "       [-0.30022483,  4.63059663]])"
      ]
     },
     "execution_count": 3,
     "metadata": {},
     "output_type": "execute_result"
    }
   ],
   "source": [
    "X"
   ]
  },
  {
   "cell_type": "code",
   "execution_count": 93,
   "metadata": {},
   "outputs": [
    {
     "name": "stdout",
     "output_type": "stream",
     "text": [
      "[ 1 18 53 28]\n"
     ]
    }
   ],
   "source": [
    "#データ点数の取得\n",
    "x_nums = X.shape[0]\n",
    "\n",
    "#μKの初期値を求める\n",
    "k_nums = 4\n",
    "start_point = np.random.choice(np.arange(0, x_nums), k_nums)\n",
    "print(start_point)"
   ]
  },
  {
   "cell_type": "markdown",
   "metadata": {},
   "source": [
    "# 【問題2】SSEを求める関数の作成"
   ]
  },
  {
   "cell_type": "markdown",
   "metadata": {},
   "source": [
    "クラスタ内誤差平方和（SSE, Sum of Squared Errors）を計算する関数を作成してください。\n",
    "\n",
    "\n",
    "K-meansはこのSSEを最小化する \n",
    "r\n",
    "n\n",
    "k\n",
    " と \n",
    "μ\n",
    "k\n",
    " を求めることが目的となります。複数個の初期値で計算したクラスタリング結果から、どれを最終的に採用するかを決める際にこのSSEを求める関数を使用します。\n",
    "\n"
   ]
  },
  {
   "cell_type": "markdown",
   "metadata": {},
   "source": [
    "$\n",
    "SSE = \\sum_{n=1}^N \\sum_{k=1}^K r_{nk} \\|X_n - \\mu_k\\|^2\n",
    "$"
   ]
  },
  {
   "cell_type": "markdown",
   "metadata": {},
   "source": [
    "n\n",
    " : データ点のインデックス\n",
    "\n",
    "\n",
    "k\n",
    " : クラスタのインデックス\n",
    "\n",
    "\n",
    "X\n",
    "n\n",
    " : \n",
    "n\n",
    "番目のデータ点\n",
    "\n",
    "\n",
    "μ\n",
    "k\n",
    " : \n",
    "k\n",
    "番目の中心点\n",
    "\n",
    "\n",
    "r\n",
    "n\n",
    "k\n",
    " : データ点\n",
    "X\n",
    "n\n",
    "がクラスタ\n",
    "k\n",
    "に所属していたら1、そうでなければ0"
   ]
  },
  {
   "cell_type": "code",
   "execution_count": 99,
   "metadata": {},
   "outputs": [],
   "source": [
    "def test_sum_squared_errors(X, k_nums, start_point):\n",
    "    \"\"\"\n",
    "    クラスタ内誤差平方和（SSE）を求める関数\n",
    "    \n",
    "    ----\n",
    "    X: 特徴量Xn＋クラス列（ndarray型）\n",
    "    k_nums : クラス数（int型)\n",
    "    start_point : 中心点（ndarray型）\n",
    "    \"\"\"\n",
    "    tmp = []\n",
    "    for i in range(X.shape[0]):\n",
    "        for j in range(k_nums):\n",
    "            if X[i, 2] == j:\n",
    "                tmp.append(abs(X[i, 0:2] - X[start_point[j], 0:2]) ** 2)\n",
    "\n",
    "    sse = sum(tmp)\n",
    "\n",
    "    return sse"
   ]
  },
  {
   "cell_type": "code",
   "execution_count": 100,
   "metadata": {},
   "outputs": [
    {
     "data": {
      "text/plain": [
       "array([206.13166474,  84.3693348 ])"
      ]
     },
     "execution_count": 100,
     "metadata": {},
     "output_type": "execute_result"
    }
   ],
   "source": [
    "test_sum_squared_errors(X, k_nums, start_point)"
   ]
  },
  {
   "cell_type": "markdown",
   "metadata": {},
   "source": [
    "# 【問題3】クラスタへの割り当て"
   ]
  },
  {
   "cell_type": "markdown",
   "metadata": {},
   "source": [
    "全てのデータ点 \n",
    "X\n",
    "n\n",
    " を最も近い中心点 \n",
    "μ\n",
    "k\n",
    " に割り当てるコードを作成してください。\n",
    "\n",
    "\n",
    "K-menasにおける 近い とは点と点のユークリッド距離が小さくなることです。ユークリッド距離とはピタゴラスの定理（三平方の定理）で求められるものですが、ベクトル \n",
    "p\n",
    ",\n",
    "q\n",
    " に対しては以下の数式で表現できます。"
   ]
  },
  {
   "cell_type": "markdown",
   "metadata": {},
   "source": [
    "$\n",
    "\\|q-p\\| = \\sqrt{(q-p)\\cdot(q-p)}\n",
    "$"
   ]
  },
  {
   "cell_type": "code",
   "execution_count": 96,
   "metadata": {},
   "outputs": [
    {
     "name": "stdout",
     "output_type": "stream",
     "text": [
      "[4.995048762002617, 2.6999619952943723, 2.4687232129431433, 2.7944915322518167]\n",
      "最小値 2.4687232129431433\n",
      "クラス 2\n"
     ]
    }
   ],
   "source": [
    "\n",
    "#X0と各基準点との距離\n",
    "distance = []\n",
    "for i in range(4):\n",
    "    distance.append(np.linalg.norm(X[0]-X[start_point[i]]))\n",
    "\n",
    "print(distance)\n",
    "print(\"最小値\", min(distance))\n",
    "print(\"クラス\", distance.index(min(distance)))"
   ]
  },
  {
   "cell_type": "code",
   "execution_count": 97,
   "metadata": {},
   "outputs": [
    {
     "name": "stdout",
     "output_type": "stream",
     "text": [
      "[[ 0.72086751  3.71347124  0.        ]\n",
      " [-1.89468423  7.96898545  0.        ]\n",
      " [ 1.35678894  4.36462484  0.        ]\n",
      " [ 1.05374379  4.49286859  0.        ]\n",
      " [ 1.59141542  4.90497725  0.        ]\n",
      " [ 0.78260667  4.15263595  0.        ]\n",
      " [-1.95751686  3.87291474  0.        ]\n",
      " [-0.77354537  7.87923564  0.        ]\n",
      " [ 0.12313498  5.27917503  0.        ]\n",
      " [-1.43284669  7.71577043  0.        ]\n",
      " [-0.92819001  7.02698199  0.        ]\n",
      " [-1.74836345  7.06307447  0.        ]\n",
      " [-1.26789718  7.25141327  0.        ]\n",
      " [-0.98661744  7.74968685  0.        ]\n",
      " [-0.81984047  7.50994722  0.        ]\n",
      " [ 2.99684287  0.22378413  0.        ]\n",
      " [ 1.46870582  1.86947425  0.        ]\n",
      " [-0.33533163  3.390122    0.        ]\n",
      " [-1.86407034  2.93379754  0.        ]\n",
      " [ 2.62496786  0.28025075  0.        ]]\n"
     ]
    }
   ],
   "source": [
    "#X0ともっとも近い基準点のインデックスをクラスタとして割り当てる\n",
    "\n",
    "#クラスタ列の追加\n",
    "class_term = np.zeros(X.shape[0]).reshape(X.shape[0],1)\n",
    "X = np.concatenate([X,class_term], 1)\n",
    "\n",
    "print(X[0:20])"
   ]
  },
  {
   "cell_type": "code",
   "execution_count": 98,
   "metadata": {},
   "outputs": [],
   "source": [
    "#距離を計算して最小クラスを割り当て\n",
    "\n",
    "for i in range(x_nums):\n",
    "    distance = []\n",
    "    for j in range(k_nums):\n",
    "        distance.append(np.linalg.norm(X[i]-X[start_point[j]]))\n",
    "    X[i, 2] = distance.index(min(distance))"
   ]
  },
  {
   "cell_type": "markdown",
   "metadata": {},
   "source": [
    "# 【問題4】中心点の移動"
   ]
  },
  {
   "cell_type": "markdown",
   "metadata": {},
   "source": [
    "中心点 \n",
    "μ\n",
    "k\n",
    " を \n",
    "k\n",
    " 番目のクラスタに割り当てられる全てのデータ点 \n",
    "X\n",
    "n\n",
    " の平均値（重心）に移動するコードを作成してください。\n",
    "\n",
    "\n",
    "クラスタの割り当て \n",
    "r\n",
    "n\n",
    "k\n",
    " を固定した上でSSEを最小化していることになりますが、SSE自体を求める必要はありません。"
   ]
  },
  {
   "cell_type": "code",
   "execution_count": 101,
   "metadata": {},
   "outputs": [
    {
     "name": "stdout",
     "output_type": "stream",
     "text": [
      "[[-1.26811733  7.76378266]\n",
      " [-0.56770024  3.46144036]\n",
      " [-0.21391609  3.93936165]\n",
      " [ 1.95914562  1.32094551]]\n"
     ]
    }
   ],
   "source": [
    "k_point = np.empty((k_nums, X.shape[1]-1))\n",
    "\n",
    "for i in range(k_nums):\n",
    "    k_point[i] = np.mean(X[np.where(X[:, 2] == i)], axis=0)[0:2]\n",
    "\n",
    "print(k_point)"
   ]
  },
  {
   "cell_type": "markdown",
   "metadata": {},
   "source": [
    "# 【問題5】繰り返し"
   ]
  },
  {
   "cell_type": "markdown",
   "metadata": {},
   "source": [
    "クラスタへの割り当てと中心点の移動を繰り返すことで学習を行うコードを作成してください。\n",
    "\n",
    "\n",
    "次のどれかの条件を満たしたらこれを止めます。\n",
    "\n",
    "\n",
    "繰り返しが指定した回数に到達する。（雛形では引数max_iter）\n",
    "中心点 \n",
    "μ\n",
    "k\n",
    " と重心の差が指定した許容値以下になる。（雛形では引数tol"
   ]
  },
  {
   "cell_type": "markdown",
   "metadata": {},
   "source": [
    "# 【問題6】異なる初期値で計算"
   ]
  },
  {
   "cell_type": "markdown",
   "metadata": {},
   "source": [
    "問題5の繰り返しを、指定した回数初期値を変更して計算するコードを作成してください。回数は雛形では引数n_initで指定します。\n",
    "\n",
    "\n",
    "複数計算した中でSSEが最小になったものが最終的な学習結果となるため、その時の中心点 \n",
    "μ\n",
    "k\n",
    " を保持しておきます。"
   ]
  },
  {
   "cell_type": "code",
   "execution_count": 105,
   "metadata": {},
   "outputs": [],
   "source": [
    "class ScratchKMeans:\n",
    "    def __init__(self, n_clusters, n_init, max_iter=100, tol=1e-04, verbose=False):\n",
    "        # ハイパーパラメータを属性として記録\n",
    "        self.n_clusters = n_clusters\n",
    "        self.n_init = n_init\n",
    "        self.max_iter = max_iter\n",
    "        self.tol = tol\n",
    "        self.verbose = verbose\n",
    "        # 各リストの初期化\n",
    "        self.sse_ = []  # SSE\n",
    "        self.start_point = []\n",
    "        self.gravity_points_ = []\n",
    "        self.best_point_ = []\n",
    "        self.silhouette_ = []\n",
    "\n",
    "    def fit(self, X):\n",
    "        # データ点数の取得\n",
    "        x_nums = X.shape[0]\n",
    "\n",
    "        # μKの初期値を求める\n",
    "        k_nums = self.n_clusters\n",
    "        k_point = np.empty((k_nums, X.shape[1]))  # K点空のリスト\n",
    "\n",
    "        # クラスタ列の追加\n",
    "        class_term = np.zeros(X.shape[0]).reshape(X.shape[0], 1)\n",
    "        X = np.concatenate([X, class_term], 1)\n",
    "\n",
    "        # 開始位置の初期化\n",
    "        for k in range(self.n_init):\n",
    "            start_point = np.random.choice(np.arange(0, x_nums), k_nums)  # 初期点インデックス\n",
    "            self.start_point.append(start_point)  # 開始点保存\n",
    "            for i in range(k_nums):\n",
    "                k_point[i] = X[start_point[i], 0:2]  # 初期点インデックスのデータを格納\n",
    "\n",
    "            # 繰り返し処理（収束）\n",
    "            for _ in range(self.max_iter):\n",
    "\n",
    "                # 所属クラスの更新\n",
    "                for i in range(x_nums):\n",
    "                    distance = []\n",
    "                    for j in range(k_nums):\n",
    "                        distance.append(np.linalg.norm(X[i, 0:2] - k_point[j]))\n",
    "                    X[i, -1] = distance.index(min(distance))\n",
    "\n",
    "                    \"\"\"異なる実装\n",
    "                    np.array([np.array([ 距離のスカラー（xで計算する） for 重心 in 重心リスト]).argmin() for x in X])\n",
    "                    \"\"\"\n",
    "                k_old = np.copy(k_point)\n",
    "\n",
    "                for i in range(k_nums):\n",
    "                    k_point[i] = np.mean(X[np.where(X[:, 2] == i)], axis=0)[0:2]\n",
    "\n",
    "                if np.linalg.norm(k_old[0] - k_point[0]) <= self.tol:\n",
    "                    break\n",
    "\n",
    "                # print(self.sum_squared_errors(X, k_point))\n",
    "\n",
    "            # SSEの計算\n",
    "            self.sse_.append(self.sum_squared_errors(X, k_point))\n",
    "\n",
    "            # 重心の保存\n",
    "            self.gravity_points_.append(k_point)\n",
    "\n",
    "        # 最もスコアの良い重心ポイントの保存\n",
    "        self.best_point_ = self.gravity_points_[self.sse_.index(min(self.sse_))]\n",
    "                                                \n",
    "        if self.verbose:\n",
    "            # verboseをTrueにした際は学習過程を出力\n",
    "            print()\n",
    "        pass\n",
    "\n",
    "    def predict(self, X, fullsize=False):\n",
    "        \"\"\"\n",
    "        入力されたデータがどのクラスタに属するかを計算\n",
    "        \"\"\"\n",
    "        # データ点数の取得\n",
    "        x_nums = X.shape[0]\n",
    "\n",
    "        # クラスタ列の追加\n",
    "        class_term = np.zeros(X.shape[0]).reshape(X.shape[0], 1)\n",
    "        X = np.concatenate([X, class_term], 1)\n",
    "\n",
    "        # 所属クラスの更新\n",
    "        for i in range(x_nums):\n",
    "            distance = []\n",
    "            for j in range(k_nums):\n",
    "                distance.append(np.linalg.norm(X[i, 0:2] - self.best_point_[j]))\n",
    "            X[i, -1] = distance.index(min(distance))\n",
    "\n",
    "        if fullsize:\n",
    "            y = X\n",
    "        else:\n",
    "            y = X[:, -1]\n",
    "\n",
    "        return y\n",
    "\n",
    "    def sum_squared_errors(self, X, k_point):\n",
    "        \"\"\"\n",
    "        クラスタ内誤差平方和（SSE）を求める関数\n",
    "\n",
    "        ----\n",
    "        X: 特徴量Xn＋クラス列（ndarray型）\n",
    "        k_nums : クラス数（int型)\n",
    "        k_point : 中心点（ndarray型）\n",
    "        \"\"\"\n",
    "        k_nums = self.n_clusters\n",
    "        tmp = []\n",
    "        for i in range(X.shape[0]):\n",
    "            for j in range(k_nums):\n",
    "                if X[i, 2] == j:\n",
    "                    tmp.append((np.linalg.norm(X[i, 0:2] - k_point[j])) ** 2)\n",
    "\n",
    "        sse = sum(tmp)\n",
    "\n",
    "        return sse"
   ]
  },
  {
   "cell_type": "code",
   "execution_count": 106,
   "metadata": {},
   "outputs": [],
   "source": [
    "X, _ = make_blobs(n_samples=100, n_features=2, centers=4, cluster_std=0.5, shuffle=True, random_state=0)\n",
    "\n",
    "Kmeans = ScratchKMeans(n_clusters=5, n_init=4, max_iter=100)\n",
    "Kmeans.fit(X)"
   ]
  },
  {
   "cell_type": "code",
   "execution_count": 107,
   "metadata": {},
   "outputs": [
    {
     "data": {
      "text/plain": [
       "[44.49341089386893, 43.84455605614975, 44.427326278252124, 43.40818720213042]"
      ]
     },
     "execution_count": 107,
     "metadata": {},
     "output_type": "execute_result"
    }
   ],
   "source": [
    "Kmeans.sse_"
   ]
  },
  {
   "cell_type": "code",
   "execution_count": 108,
   "metadata": {},
   "outputs": [
    {
     "data": {
      "text/plain": [
       "[array([64, 85, 88, 73,  8]),\n",
       " array([82, 11, 92, 51, 81]),\n",
       " array([55, 15,  3, 88, 85]),\n",
       " array([28, 58, 85, 78, 65])]"
      ]
     },
     "execution_count": 108,
     "metadata": {},
     "output_type": "execute_result"
    }
   ],
   "source": [
    "Kmeans.start_point"
   ]
  },
  {
   "cell_type": "code",
   "execution_count": 109,
   "metadata": {},
   "outputs": [
    {
     "data": {
      "text/plain": [
       "[array([[ 0.92578447,  4.32475792],\n",
       "        [ 1.83444324,  1.37568656],\n",
       "        [-1.47935679,  3.11716896],\n",
       "        [ 2.16241364,  0.52136187],\n",
       "        [-1.26811733,  7.76378266]]), array([[ 0.92578447,  4.32475792],\n",
       "        [ 1.83444324,  1.37568656],\n",
       "        [-1.47935679,  3.11716896],\n",
       "        [ 2.16241364,  0.52136187],\n",
       "        [-1.26811733,  7.76378266]]), array([[ 0.92578447,  4.32475792],\n",
       "        [ 1.83444324,  1.37568656],\n",
       "        [-1.47935679,  3.11716896],\n",
       "        [ 2.16241364,  0.52136187],\n",
       "        [-1.26811733,  7.76378266]]), array([[ 0.92578447,  4.32475792],\n",
       "        [ 1.83444324,  1.37568656],\n",
       "        [-1.47935679,  3.11716896],\n",
       "        [ 2.16241364,  0.52136187],\n",
       "        [-1.26811733,  7.76378266]])]"
      ]
     },
     "execution_count": 109,
     "metadata": {},
     "output_type": "execute_result"
    }
   ],
   "source": [
    "#重心リスト\n",
    "Kmeans.gravity_points_"
   ]
  },
  {
   "cell_type": "markdown",
   "metadata": {},
   "source": [
    "# 【問題7】推定"
   ]
  },
  {
   "cell_type": "markdown",
   "metadata": {},
   "source": [
    "新たなデータに対してどのクラスタに所属するかの推定の際は、学習時の1つ目のフェーズと同じことを行います。\n",
    "\n",
    "\n",
    "データ点 \n",
    "X\n",
    "n\n",
    " と学習で決まった中心点 \n",
    "μ\n",
    "k\n",
    " に対し、 \n",
    "S\n",
    "S\n",
    "E\n",
    " を最小化する \n",
    "r\n",
    "n\n",
    "k\n",
    " を選ぶ。\n",
    "\n",
    "具体的には次のことです。\n",
    "\n",
    "\n",
    "データ点 \n",
    "X\n",
    "n\n",
    " を最も近い \n",
    "μ\n",
    "k\n",
    " に割り当てる。"
   ]
  },
  {
   "cell_type": "code",
   "execution_count": 110,
   "metadata": {},
   "outputs": [
    {
     "data": {
      "image/png": "[encoded data removed]",
      "text/plain": [
       "<Figure size 432x288 with 1 Axes>"
      ]
     },
     "metadata": {
      "needs_background": "light"
     },
     "output_type": "display_data"
    }
   ],
   "source": [
    "X_test, _ = make_blobs(n_samples=50, n_features=2, centers=4, cluster_std=0.51, shuffle=True, random_state=0)\n",
    "\n",
    "plt.scatter(X_test[:, 0],X_test[:, 1])\n",
    "plt.show()"
   ]
  },
  {
   "cell_type": "code",
   "execution_count": 111,
   "metadata": {},
   "outputs": [],
   "source": [
    "Xy_pred = Kmeans.predict(X_test, fullsize=True)\n",
    "y_pred = Kmeans.predict(X_test)"
   ]
  },
  {
   "cell_type": "code",
   "execution_count": 112,
   "metadata": {},
   "outputs": [
    {
     "name": "stdout",
     "output_type": "stream",
     "text": [
      "[0. 2. 0. 0. 0. 1. 0. 0. 2. 2. 0. 1. 3. 2. 3. 0. 0. 0. 0. 1. 2. 1. 1. 0.\n",
      " 0. 3. 2. 2. 2. 0. 1. 0. 0. 2. 1. 0. 3. 2. 0. 0. 0. 3. 0. 0. 1. 0. 2. 0.\n",
      " 2. 0.]\n"
     ]
    }
   ],
   "source": [
    "print(y_pred)"
   ]
  },
  {
   "cell_type": "markdown",
   "metadata": {},
   "source": [
    "# 【問題８】エルボー法の実装"
   ]
  },
  {
   "cell_type": "code",
   "execution_count": 113,
   "metadata": {},
   "outputs": [
    {
     "name": "stderr",
     "output_type": "stream",
     "text": [
      "/Users/shinoda/.pyenv/versions/anaconda3-2019.10/lib/python3.7/site-packages/numpy/core/fromnumeric.py:3335: RuntimeWarning: Mean of empty slice.\n",
      "  out=out, **kwargs)\n"
     ]
    },
    {
     "data": {
      "image/png": "[encoded data removed]",
      "text/plain": [
       "<Figure size 432x288 with 1 Axes>"
      ]
     },
     "metadata": {
      "needs_background": "light"
     },
     "output_type": "display_data"
    }
   ],
   "source": [
    "elbow = []\n",
    "\n",
    "for i in range(1,20):\n",
    "    Kmeans = ScratchKMeans(n_clusters=i, n_init=10, max_iter=100)\n",
    "    Kmeans.fit(X)\n",
    "    elbow.append(min(Kmeans.sse_))\n",
    "\n",
    "plt.ylabel(\"SSE\")\n",
    "plt.xlabel(\"number of class\")\n",
    "plt.plot(elbow)\n",
    "plt.show()"
   ]
  },
  {
   "cell_type": "code",
   "execution_count": null,
   "metadata": {},
   "outputs": [],
   "source": []
  },
  {
   "cell_type": "code",
   "execution_count": null,
   "metadata": {},
   "outputs": [],
   "source": []
  }
 ],
 "metadata": {
  "kernelspec": {
   "display_name": "Python 3",
   "language": "python",
   "name": "python3"
  },
  "language_info": {
   "codemirror_mode": {
    "name": "ipython",
    "version": 3
   },
   "file_extension": ".py",
   "mimetype": "text/x-python",
   "name": "python",
   "nbconvert_exporter": "python",
   "pygments_lexer": "ipython3",
   "version": "3.7.4"
  }
 },
 "nbformat": 4,
 "nbformat_minor": 4
}
