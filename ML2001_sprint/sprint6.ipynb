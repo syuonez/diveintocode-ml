{
 "cells": [
  {
   "cell_type": "markdown",
   "metadata": {},
   "source": [
    "# 機械学習スクラッチ　クラスタリング"
   ]
  },
  {
   "cell_type": "markdown",
   "metadata": {},
   "source": [
    "# 【問題1】中心点の初期値を決める"
   ]
  },
  {
   "cell_type": "markdown",
   "metadata": {},
   "source": [
    "入力されたデータから \n",
    "K\n",
    " 個の中心点 \n",
    "μ\n",
    "1\n",
    " から \n",
    "μ\n",
    "K\n",
    " の初期値を決めるコードを作成してください。\n",
    "K\n",
    " は指定したクラスタ数です。\n",
    "\n",
    "\n",
    "最もシンプルな初期値の決定方法は、データ点 \n",
    "X\n",
    "n\n",
    " の中からランダムに \n",
    "K\n",
    " 個選ぶことです。今回はこれを実装してください。\n",
    "\n",
    "\n",
    "K-meansの学習結果は中心点 \n",
    "μ\n",
    " の初期値に影響を受けます。そのため、学習時には複数個の初期値で計算を行います。"
   ]
  },
  {
   "cell_type": "code",
   "execution_count": 5,
   "metadata": {},
   "outputs": [],
   "source": [
    "import numpy as np\n",
    "#import matplotlib.pyplot as plt\n",
    "import pandas as pd\n",
    "#import seaborn as sns\n",
    "from operator import itemgetter\n",
    "np.random.seed(seed = 0)"
   ]
  },
  {
   "cell_type": "code",
   "execution_count": 6,
   "metadata": {},
   "outputs": [],
   "source": [
    "from sklearn.datasets import make_blobs\n",
    "X, _ = make_blobs(n_samples=100, n_features=2, centers=4, cluster_std=0.5, shuffle=True, random_state=0)"
   ]
  },
  {
   "cell_type": "code",
   "execution_count": 3,
   "metadata": {
    "scrolled": true
   },
   "outputs": [
    {
     "data": {
      "text/plain": [
       "array([[ 0.72086751,  3.71347124],\n",
       "       [-1.89468423,  7.96898545],\n",
       "       [ 1.35678894,  4.36462484],\n",
       "       [ 1.05374379,  4.49286859],\n",
       "       [ 1.59141542,  4.90497725],\n",
       "       [ 0.78260667,  4.15263595],\n",
       "       [-1.95751686,  3.87291474],\n",
       "       [-0.77354537,  7.87923564],\n",
       "       [ 0.12313498,  5.27917503],\n",
       "       [-1.43284669,  7.71577043],\n",
       "       [-0.92819001,  7.02698199],\n",
       "       [-1.74836345,  7.06307447],\n",
       "       [-1.26789718,  7.25141327],\n",
       "       [-0.98661744,  7.74968685],\n",
       "       [-0.81984047,  7.50994722],\n",
       "       [ 2.99684287,  0.22378413],\n",
       "       [ 1.46870582,  1.86947425],\n",
       "       [-0.33533163,  3.390122  ],\n",
       "       [-1.86407034,  2.93379754],\n",
       "       [ 2.62496786,  0.28025075],\n",
       "       [ 2.11114739,  3.57660449],\n",
       "       [-1.8219901 ,  7.61654999],\n",
       "       [-1.91186205,  3.18750686],\n",
       "       [ 2.28809874,  0.12954182],\n",
       "       [ 0.5285368 ,  4.49723858],\n",
       "       [-1.57613028,  2.58614312],\n",
       "       [-0.565433  ,  3.65813966],\n",
       "       [ 0.802314  ,  4.38196181],\n",
       "       [ 2.79939362,  1.84560825],\n",
       "       [ 2.64465731,  0.80770124],\n",
       "       [ 1.7190373 ,  0.71788708],\n",
       "       [-0.93564005,  7.03443119],\n",
       "       [ 2.14398059,  0.69677319],\n",
       "       [ 2.06051753,  1.79059891],\n",
       "       [-1.21986433,  3.3789856 ],\n",
       "       [ 1.13280393,  3.87673946],\n",
       "       [-1.497272  ,  8.80022604],\n",
       "       [ 1.85367905,  1.5088862 ],\n",
       "       [-0.1666378 ,  8.50372399],\n",
       "       [-1.89928142,  2.50466299],\n",
       "       [ 1.04829186,  5.03092408],\n",
       "       [-1.44356727,  3.23539798],\n",
       "       [-1.57006498,  6.72375844],\n",
       "       [-1.98331513,  3.47639041],\n",
       "       [-1.87418794,  2.84306499],\n",
       "       [-1.86097353,  8.2576415 ],\n",
       "       [ 1.61986895,  0.60823883],\n",
       "       [-1.84482705,  3.25609891],\n",
       "       [ 0.72144399,  4.08475018],\n",
       "       [ 0.5323772 ,  3.31338909],\n",
       "       [ 0.3498724 ,  4.69253251],\n",
       "       [ 1.89949126,  0.92574633],\n",
       "       [-1.2386086 ,  2.81373288],\n",
       "       [-1.74448079,  3.84251413],\n",
       "       [-0.96358605,  2.37791651],\n",
       "       [-1.26041884,  7.46644456],\n",
       "       [-0.8623605 ,  8.24721209],\n",
       "       [ 2.4198128 ,  0.96215512],\n",
       "       [ 2.23345072,  1.25095024],\n",
       "       [-0.65424088,  7.99393132],\n",
       "       [-1.42525273,  7.14798437],\n",
       "       [ 1.51989121,  1.42488952],\n",
       "       [ 2.11872357,  1.09865834],\n",
       "       [ 1.74265969,  5.03846671],\n",
       "       [ 1.42002502,  1.38236201],\n",
       "       [-0.69842598,  8.16309188],\n",
       "       [-2.18485772,  2.68708996],\n",
       "       [-1.32890066,  2.37135151],\n",
       "       [ 2.15940501,  1.38598318],\n",
       "       [ 1.19820169,  4.47062449],\n",
       "       [-1.7653772 ,  8.17625727],\n",
       "       [ 1.4726926 ,  1.3480769 ],\n",
       "       [ 0.92466065,  4.50908658],\n",
       "       [-1.47602203,  7.8441996 ],\n",
       "       [ 0.99914934,  4.2101954 ],\n",
       "       [ 1.40848818,  3.93270482],\n",
       "       [-0.59312453,  3.37090459],\n",
       "       [-1.6609057 ,  3.31911046],\n",
       "       [ 2.25643834,  0.55525861],\n",
       "       [ 1.24016835,  1.12905479],\n",
       "       [ 1.64869438,  0.03452236],\n",
       "       [-1.61803727,  8.60696731],\n",
       "       [-1.37778493,  3.58107521],\n",
       "       [ 0.16932115,  4.19741719],\n",
       "       [ 1.73810647,  0.71629308],\n",
       "       [-1.05327803,  2.84037721],\n",
       "       [ 1.60161834,  0.92363636],\n",
       "       [ 1.84845803,  0.52393625],\n",
       "       [ 1.72330962,  4.2012082 ],\n",
       "       [ 1.00952869,  4.45502328],\n",
       "       [ 0.96217896,  4.51795326],\n",
       "       [-1.33869125,  2.36818187],\n",
       "       [ 0.4519936 ,  3.59377836],\n",
       "       [-1.19075663,  3.12161318],\n",
       "       [-2.27253281,  3.13757811],\n",
       "       [-1.80044744,  7.86154256],\n",
       "       [-1.64996061,  7.49068513],\n",
       "       [-1.56102482,  3.77455362],\n",
       "       [-0.78782636,  7.99482384],\n",
       "       [-0.30022483,  4.63059663]])"
      ]
     },
     "execution_count": 3,
     "metadata": {},
     "output_type": "execute_result"
    }
   ],
   "source": [
    "X"
   ]
  },
  {
   "cell_type": "code",
   "execution_count": 4,
   "metadata": {},
   "outputs": [
    {
     "data": {
      "text/plain": [
       "array([[-0.565433  ,  3.65813966],\n",
       "       [ 1.60161834,  0.92363636],\n",
       "       [ 1.35678894,  4.36462484]])"
      ]
     },
     "execution_count": 4,
     "metadata": {},
     "output_type": "execute_result"
    }
   ],
   "source": [
    "K = 3 #クラスタ数\n",
    "X[np.random.choice(X.shape[0], K, replace=False), :]"
   ]
  },
  {
   "cell_type": "code",
   "execution_count": 5,
   "metadata": {},
   "outputs": [
    {
     "data": {
      "text/plain": [
       "array([[-1.86407034,  2.93379754],\n",
       "       [ 2.64465731,  0.80770124],\n",
       "       [ 1.42002502,  1.38236201]])"
      ]
     },
     "execution_count": 5,
     "metadata": {},
     "output_type": "execute_result"
    }
   ],
   "source": [
    "u= X[np.random.choice(X.shape[0], K, replace=False), :]\n",
    "u"
   ]
  },
  {
   "cell_type": "markdown",
   "metadata": {},
   "source": [
    "# 【問題2】SSEを求める関数の作成"
   ]
  },
  {
   "cell_type": "markdown",
   "metadata": {},
   "source": [
    "クラスタ内誤差平方和（SSE, Sum of Squared Errors）を計算する関数を作成してください。\n",
    "\n",
    "\n",
    "K-meansはこのSSEを最小化する \n",
    "r\n",
    "n\n",
    "k\n",
    " と \n",
    "μ\n",
    "k\n",
    " を求めることが目的となります。複数個の初期値で計算したクラスタリング結果から、どれを最終的に採用するかを決める際にこのSSEを求める関数を使用します。\n",
    "\n"
   ]
  },
  {
   "cell_type": "markdown",
   "metadata": {},
   "source": [
    "$\n",
    "SSE = \\sum_{n=1}^N \\sum_{k=1}^K r_{nk} \\|X_n - \\mu_k\\|^2\n",
    "$"
   ]
  },
  {
   "cell_type": "markdown",
   "metadata": {},
   "source": [
    "n\n",
    " : データ点のインデックス\n",
    "\n",
    "\n",
    "k\n",
    " : クラスタのインデックス\n",
    "\n",
    "\n",
    "X\n",
    "n\n",
    " : \n",
    "n\n",
    "番目のデータ点\n",
    "\n",
    "\n",
    "μ\n",
    "k\n",
    " : \n",
    "k\n",
    "番目の中心点\n",
    "\n",
    "\n",
    "r\n",
    "n\n",
    "k\n",
    " : データ点\n",
    "X\n",
    "n\n",
    "がクラスタ\n",
    "k\n",
    "に所属していたら1、そうでなければ0"
   ]
  },
  {
   "cell_type": "code",
   "execution_count": 6,
   "metadata": {},
   "outputs": [],
   "source": [
    "def SSE(k,X):\n",
    "    X_size,n_features = X.shape #(100,2)\n",
    "    \n",
    "    # ランダムに重心の初期値を初期化\n",
    "    centroids  = X[np.random.choice(X_size,k)]\n",
    "    \n",
    "    # 各データ所属クラスタ情報を保存する配列を用意\n",
    "    cluster = np.zeros(X_size)\n",
    "    \n",
    "    # 入力データ全てに対して繰り返し\n",
    "    for i in range(X_size):\n",
    "        # データから各重心までの距離を計算（ルートを取らなくても大小関係は変わらないので省略）\n",
    "        distances = np.sum((centroids - X[i]) ** 2, axis=1)# [a b k]\n",
    "        # データの所属クラスタを距離の一番近い重心を持つものに更新\n",
    "        cluster[i] = np.argsort(distances)[0] #[0 1 2 0 1 2 1 1 1 1 1 1 ・・・]\n",
    "     \n",
    "    \n",
    "    # すべてのクラスタに対して距離を合計するSSE\n",
    "    distances_sum = np.zeros(k)\n",
    "    print(distances_sum)\n",
    "    \n",
    "    for j in range(k):\n",
    "        distances_ = np.sum((centroids[j] - X[cluster == j]) ** 2, axis=1)\n",
    "        distances_sum[j] = np.sum(distances_)\n",
    "        print(np.sum((centroids[j] - X[cluster == j]) ** 2, axis=1))\n",
    "        print(distances_sum)\n",
    "        \n",
    "    SSE = np.sum(distances_sum)\n",
    "        \n",
    "        \n",
    "    return SSE\n",
    "        "
   ]
  },
  {
   "cell_type": "code",
   "execution_count": 7,
   "metadata": {
    "scrolled": true
   },
   "outputs": [
    {
     "name": "stdout",
     "output_type": "stream",
     "text": [
      "[0. 0. 0.]\n",
      "[ 0.1610424   0.51268696 17.44178915  5.50180627 16.18689489  0.54054793\n",
      " 16.89745386  6.7068079  12.36477101 12.45802877  5.92474632  0.45397693\n",
      "  7.26559394 10.7596904  10.97658155  8.96426593  7.74932442  9.78216779\n",
      "  0.70137625  8.03787534  8.11567109  0.34832347  8.20316706  0.1712066\n",
      " 13.57717459 12.14485233  0.        ]\n",
      "[201.94782314   0.           0.        ]\n",
      "[ 0.65128235 17.92502651  0.27586148  0.18330247 13.13332209  0.77577524\n",
      " 14.20597247  8.52165475 11.76778855 10.81265328 12.87411215 10.89453462\n",
      "  1.97197576 15.25508042  0.          1.90085692  0.08824269  8.58116019\n",
      " 22.61960242 16.53519309  0.55496555  9.36152011 19.8503898   0.20735986\n",
      "  1.40151435  0.07006069 12.01654644 15.99689666 13.62582319 10.84374678\n",
      " 14.9439181  18.79721999  0.15705448 15.22040414  0.30386995 21.49765053\n",
      "  0.21892874  0.23313533  0.18847463  0.82209923 16.74270886 13.70657319\n",
      " 13.96591466  0.7046302 ]\n",
      "[201.94782314 370.40480292   0.        ]\n",
      "[2.64985046e+00 6.02752134e-01 1.00595354e+00 1.07257921e-01\n",
      " 1.20238704e+01 1.02721538e+00 3.43106172e-01 7.59724738e-01\n",
      " 1.64936926e+00 5.19851836e-01 1.18038085e+01 1.04895801e+00\n",
      " 2.03853937e-01 2.33702630e+00 1.33497860e-01 8.32353261e-01\n",
      " 0.00000000e+00 1.54047287e+00 1.00847438e+00 8.14341669e+00\n",
      " 1.43268427e+01 1.46582111e+00 2.95952947e-01 1.06838207e+01\n",
      " 1.35085513e+01 1.05902291e-04 5.81976348e-01 1.47754485e+00\n",
      " 2.02285780e+00]\n",
      "[201.94782314 370.40480292  92.10428736]\n"
     ]
    },
    {
     "data": {
      "text/plain": [
       "664.4569134153629"
      ]
     },
     "execution_count": 7,
     "metadata": {},
     "output_type": "execute_result"
    }
   ],
   "source": [
    "SSE(3,X)"
   ]
  },
  {
   "cell_type": "markdown",
   "metadata": {},
   "source": [
    "# 【問題3】クラスタへの割り当て"
   ]
  },
  {
   "cell_type": "markdown",
   "metadata": {},
   "source": [
    "全てのデータ点 \n",
    "X\n",
    "n\n",
    " を最も近い中心点 \n",
    "μ\n",
    "k\n",
    " に割り当てるコードを作成してください。\n",
    "\n",
    "\n",
    "K-menasにおける 近い とは点と点のユークリッド距離が小さくなることです。ユークリッド距離とはピタゴラスの定理（三平方の定理）で求められるものですが、ベクトル \n",
    "p\n",
    ",\n",
    "q\n",
    " に対しては以下の数式で表現できます。"
   ]
  },
  {
   "cell_type": "markdown",
   "metadata": {},
   "source": [
    "$\n",
    "\\|q-p\\| = \\sqrt{(q-p)\\cdot(q-p)}\n",
    "$"
   ]
  },
  {
   "cell_type": "code",
   "execution_count": 8,
   "metadata": {},
   "outputs": [],
   "source": [
    "from numpy import linalg as LA"
   ]
  },
  {
   "cell_type": "code",
   "execution_count": 9,
   "metadata": {},
   "outputs": [
    {
     "data": {
      "text/plain": [
       "array([[ 1,  2,  3],\n",
       "       [-1,  1,  4]])"
      ]
     },
     "execution_count": 9,
     "metadata": {},
     "output_type": "execute_result"
    }
   ],
   "source": [
    " c = np.array([[ 1, 2, 3],\n",
    "               [-1, 1, 4]])\n",
    "c"
   ]
  },
  {
   "cell_type": "code",
   "execution_count": 10,
   "metadata": {},
   "outputs": [
    {
     "data": {
      "text/plain": [
       "array([1.41421356, 2.23606798, 5.        ])"
      ]
     },
     "execution_count": 10,
     "metadata": {},
     "output_type": "execute_result"
    }
   ],
   "source": [
    " LA.norm(c, axis=0)"
   ]
  },
  {
   "cell_type": "code",
   "execution_count": 11,
   "metadata": {},
   "outputs": [
    {
     "data": {
      "text/plain": [
       "array([1.41421356, 5.        ])"
      ]
     },
     "execution_count": 11,
     "metadata": {},
     "output_type": "execute_result"
    }
   ],
   "source": [
    "d = np.array([[ 1, 3, ],\n",
    "               [-1, 4, ]])\n",
    "LA.norm(d, axis=0)"
   ]
  },
  {
   "cell_type": "code",
   "execution_count": 12,
   "metadata": {},
   "outputs": [],
   "source": [
    "#####answer=問２でclusterに割り当てました#####"
   ]
  },
  {
   "cell_type": "markdown",
   "metadata": {},
   "source": [
    "# 【問題4】中心点の移動"
   ]
  },
  {
   "cell_type": "markdown",
   "metadata": {},
   "source": [
    "中心点 \n",
    "μ\n",
    "k\n",
    " を \n",
    "k\n",
    " 番目のクラスタに割り当てられる全てのデータ点 \n",
    "X\n",
    "n\n",
    " の平均値（重心）に移動するコードを作成してください。\n",
    "\n",
    "\n",
    "クラスタの割り当て \n",
    "r\n",
    "n\n",
    "k\n",
    " を固定した上でSSEを最小化していることになりますが、SSE自体を求める必要はありません。"
   ]
  },
  {
   "cell_type": "code",
   "execution_count": 13,
   "metadata": {},
   "outputs": [],
   "source": [
    "def SSE_(k,X):\n",
    "    X_size,n_features = X.shape #(100,2)\n",
    "    \n",
    "    # ランダムに重心の初期値を初期化\n",
    "    centroids  = X[np.random.choice(X_size,k)]\n",
    "    \n",
    "    # 各データ所属クラスタ情報を保存する配列を用意\n",
    "    cluster = np.zeros(X_size)\n",
    "    \"\"\"\"\"\n",
    "    追加したところ問4\n",
    "    \"\"\"\"\"\n",
    "    # 前の重心と比較するために、仮に新しい重心を入れておく配列を用意\n",
    "    new_centroids = np.zeros((k, n_features))\n",
    "    \"\"\"\"\"\n",
    "     追加したところ問4\n",
    "     \"\"\"\"\"\n",
    "    \n",
    "    # ループ上限回数まで繰り返し\n",
    "    for epoch in range(max_iter):\n",
    "        \n",
    "    \n",
    "        # 入力データ全てに対して繰り返し\n",
    "        for i in range(X_size):\n",
    "            # データから各重心までの距離を計算（ルートを取らなくても大小関係は変わらないので省略）\n",
    "            distances = np.sum((centroids - X[i]) ** 2, axis=1)# [a b k]\n",
    "            # データの所属クラスタを距離の一番近い重心を持つものに更新\n",
    "            cluster[i] = np.argsort(distances)[0] #[0 1 2 0 1 2 1 1 1 1 1 1 ・・・]\n",
    "\n",
    "\n",
    "        # すべてのクラスタに対して距離を合計するSSE\n",
    "        distances_sum = np.zeros(k)\n",
    "\n",
    "        for j in range(k):\n",
    "            distances_ = np.sum((centroids[j] - X[cluster == j]) ** 2, axis=1)\n",
    "            distances_sum[j] = np.sum(distances_)\n",
    "\n",
    "\n",
    "        SSE = np.sum(distances_sum)\n",
    "        \"\"\"\"\"\n",
    "        追加したところ問4\n",
    "        \"\"\"\"\"\n",
    "        # すべてのクラスタに対して重心を再計算\n",
    "        for j in range(k):#j=012\n",
    "            new_centroids[j] = X[cluster==j].mean(axis=0)\n",
    "        \"\"\"\"\"\n",
    "        追加したところ問4\n",
    "        \"\"\"\"\"\n",
    "    print(new_centroids)\n",
    "        \n",
    "        \n",
    "    return SSE\n",
    "        "
   ]
  },
  {
   "cell_type": "code",
   "execution_count": 14,
   "metadata": {},
   "outputs": [
    {
     "ename": "NameError",
     "evalue": "name 'max_iter' is not defined",
     "output_type": "error",
     "traceback": [
      "\u001b[0;31m---------------------------------------------------------------------------\u001b[0m",
      "\u001b[0;31mNameError\u001b[0m                                 Traceback (most recent call last)",
      "\u001b[0;32m<ipython-input-14-feaf06ee6e75>\u001b[0m in \u001b[0;36m<module>\u001b[0;34m\u001b[0m\n\u001b[0;32m----> 1\u001b[0;31m \u001b[0mSSE_\u001b[0m\u001b[0;34m(\u001b[0m\u001b[0;36m3\u001b[0m\u001b[0;34m,\u001b[0m\u001b[0mX\u001b[0m\u001b[0;34m)\u001b[0m\u001b[0;34m\u001b[0m\u001b[0;34m\u001b[0m\u001b[0m\n\u001b[0m",
      "\u001b[0;32m<ipython-input-13-7ea199de4a09>\u001b[0m in \u001b[0;36mSSE_\u001b[0;34m(k, X)\u001b[0m\n\u001b[1;32m     17\u001b[0m \u001b[0;34m\u001b[0m\u001b[0m\n\u001b[1;32m     18\u001b[0m     \u001b[0;31m# ループ上限回数まで繰り返し\u001b[0m\u001b[0;34m\u001b[0m\u001b[0;34m\u001b[0m\u001b[0;34m\u001b[0m\u001b[0m\n\u001b[0;32m---> 19\u001b[0;31m     \u001b[0;32mfor\u001b[0m \u001b[0mepoch\u001b[0m \u001b[0;32min\u001b[0m \u001b[0mrange\u001b[0m\u001b[0;34m(\u001b[0m\u001b[0mmax_iter\u001b[0m\u001b[0;34m)\u001b[0m\u001b[0;34m:\u001b[0m\u001b[0;34m\u001b[0m\u001b[0;34m\u001b[0m\u001b[0m\n\u001b[0m\u001b[1;32m     20\u001b[0m \u001b[0;34m\u001b[0m\u001b[0m\n\u001b[1;32m     21\u001b[0m \u001b[0;34m\u001b[0m\u001b[0m\n",
      "\u001b[0;31mNameError\u001b[0m: name 'max_iter' is not defined"
     ]
    }
   ],
   "source": [
    "SSE_(3,X)"
   ]
  },
  {
   "cell_type": "markdown",
   "metadata": {},
   "source": [
    "# 【問題5】繰り返し"
   ]
  },
  {
   "cell_type": "markdown",
   "metadata": {},
   "source": [
    "クラスタへの割り当てと中心点の移動を繰り返すことで学習を行うコードを作成してください。\n",
    "\n",
    "\n",
    "次のどれかの条件を満たしたらこれを止めます。\n",
    "\n",
    "\n",
    "繰り返しが指定した回数に到達する。（雛形では引数max_iter）\n",
    "中心点 \n",
    "μ\n",
    "k\n",
    " と重心の差が指定した許容値以下になる。（雛形では引数tol"
   ]
  },
  {
   "cell_type": "markdown",
   "metadata": {},
   "source": [
    "# 【問題6】異なる初期値で計算"
   ]
  },
  {
   "cell_type": "markdown",
   "metadata": {},
   "source": [
    "問題5の繰り返しを、指定した回数初期値を変更して計算するコードを作成してください。回数は雛形では引数n_initで指定します。\n",
    "\n",
    "\n",
    "複数計算した中でSSEが最小になったものが最終的な学習結果となるため、その時の中心点 \n",
    "μ\n",
    "k\n",
    " を保持しておきます。"
   ]
  },
  {
   "cell_type": "code",
   "execution_count": 30,
   "metadata": {},
   "outputs": [],
   "source": [
    "class ScratchKMeans():\n",
    "    \"\"\"\n",
    "    K-meansのスクラッチ実装\n",
    "\n",
    "    Parameters\n",
    "    ----------\n",
    "    n_clusters : int\n",
    "      クラスタ数\n",
    "    n_init : int\n",
    "      中心点の初期値を何回変えて計算するか\n",
    "    max_iter : int\n",
    "      1回の計算で最大何イテレーションするか\n",
    "    tol : float\n",
    "      イテレーションを終了する基準となる中心点と重心の許容誤差\n",
    "    verbose : bool\n",
    "      学習過程を出力する場合はTrue\n",
    "    \"\"\"\n",
    "    def __init__(self, n_clusters, n_init, max_iter, tol, verbose=False):\n",
    "        # ハイパーパラメータを属性として記録\n",
    "        self.n_clusters = n_clusters\n",
    "        self.n_init = n_init\n",
    "        self.max_iter = max_iter\n",
    "        self.tol = np.full(n_clusters, tol)\n",
    "        self.true = None\n",
    "        \n",
    "        #tol_ = np.zeros(n_clusters)\n",
    "        #print(self.tol)\n",
    "        self.verbose = verbose\n",
    "    def fit(self, X):\n",
    "        \"\"\"\n",
    "        K-meansによるクラスタリングを計算\n",
    "        Parameters\n",
    "        ----------\n",
    "        X : 次の形のndarray, shape (n_samples, n_features)\n",
    "            学習用データの特徴量\n",
    "        \"\"\"\n",
    "    def _SSE(self,k,X):\n",
    "        X_size,n_features = X.shape#(100,2)\n",
    "        self.uk  = []\n",
    "        self.sse = []\n",
    "        #self.uk = np.zeros(self.n_init)\n",
    "        print(self.uk)\n",
    "        \n",
    "        for roop in range(self.n_init):\n",
    "            print(roop)\n",
    "            print( \"111\")\n",
    "        # ランダムに重心の初期値を初期化\n",
    " \n",
    "            self.centroids  = X[np.random.choice(X_size,k)]\n",
    "\n",
    "            # 各データ所属クラスタ情報を保存する配列を用意\n",
    "            cluster = np.zeros(X_size)\n",
    "\n",
    "            # 前の重心と比較するために、仮に新しい重心を入れておく配列を用意\n",
    "            self.new_centroids = np.zeros((k, n_features))\n",
    "\n",
    "\n",
    "            # ループ上限回数まで繰り返し\n",
    "#             for epoch in range(self.max_iter):\n",
    "            epoch = 0\n",
    "            while epoch  < self.max_iter:\n",
    "                print( \"222\")\n",
    "\n",
    "                # 入力データ全てに対して繰り返し\n",
    "                for i in range(X_size):\n",
    "                    # データから各重心までの距離を計算（ルートを取らなくても大小関係は変わらないので省略）\n",
    "                    distances = np.sum((self.centroids - X[i]) ** 2, axis=1)# [a b k]\n",
    "                    # データの所属クラスタを距離の一番近い重心を持つものに更新\n",
    "                    cluster[i] = np.argsort(distances)[0] #[0 1 2 0 1 2 1 1 1 1 1 1 ・・・]\n",
    "\n",
    "                # すべてのクラスタに対して距離を合計するSSE\n",
    "                distances_sum = np.zeros(k)\n",
    "                \n",
    "              \n",
    "                #print(f\"before_change{self.centroids}\")\n",
    "                # すべてのクラスタに対して重心を再計算\n",
    "                \n",
    "                for j in range(k):#j=012\n",
    "                    self.new_centroids[j] = X[cluster==j].mean(axis=0)\n",
    "                # 中心点 μ k と重心の差が指定した許容値以下になる\n",
    "#                 print(f\"centroid{self.centroids}\")\n",
    "#                 print(f\"newcentroid{self.new_centroids}\")\n",
    "    #             print(f\"diff{self.new_centroids - self.centroids}\")\n",
    "    \n",
    "                #print((np.sum((self.new_centroids - self.centroids)**2, axis =1)))\n",
    "                self.true = (np.sum((self.new_centroids - self.centroids)**2, axis =1) < self.tol)\n",
    "                #print(self.true)\n",
    "    #             print((np.sum((self.new_centroids - self.centroids)**2, axis =1) < self.tol))\n",
    "    #             print(all(self.true))\n",
    "                if all(self.true) or (epoch == self.max_iter-1 ):\n",
    "                    print( \"333\")\n",
    "#                     print(\"break\")\n",
    "                    self.uk.append(self.centroids)\n",
    "                    epoch = self.max_iter\n",
    "\n",
    "                    #self.uk[roop] = self.centroids.tolist()\n",
    "                    print(self.uk)\n",
    "                    for j in range(k):\n",
    "                        distances_ = np.sum((self.centroids[j] - X[cluster == j]) ** 2, axis=1)\n",
    "                        distances_sum[j] = np.sum(distances_)\n",
    "\n",
    "                    SSE = np.sum(distances_sum)\n",
    "                    self.sse.append(SSE)\n",
    "                    print(self.sse)\n",
    "\n",
    "                self.centroids =  self.new_centroids.copy() #参照渡しと値渡し\n",
    "                epoch += 1\n",
    "#                 print(f\"undercentroid{self.new_centroids}\")\n",
    "                #print(\"-\"*15)\n",
    "\n",
    "                #if epoch == self.max_iter-1:\n",
    "                    #self.uk.append(self.centroids)\n",
    "#                     nt( \"444\")\n",
    "#                     print(self.uk)\n",
    "        \n",
    "        if self.verbose:\n",
    "            #verboseをTrueにした際は学習過程を出力\n",
    "            print()\n",
    "        self.pre_centoids = itemgetter(np.argmin(self.sse))(self.uk)\n",
    "        print(self.pre_centoids)\n",
    "        \n",
    "        return \n",
    "\n",
    "    def predict(self, X):\n",
    "        \"\"\"\n",
    "        入力されたデータがどのクラスタに属するかを計算\n",
    "        \"\"\"\n",
    "        #データ点ごとに予測したクラスタを格納するための箱\n",
    "        self.pre_cluster = np.zeros(X.shape[0])\n",
    "        # 入力データ全てに対して繰り返し\n",
    "        for i in range(X.shape[0]):\n",
    "            # データから各重心までの距離を計算（ルートを取らなくても大小関係は変わらないので省略）\n",
    "            distances = np.sum((self.pre_centoids - X[i]) ** 2, axis=1)# [a b k]\n",
    "            # データの所属クラスタを距離の一番近い重心を持つものに更新\n",
    "            self.pre_cluster[i] = np.argsort(distances)[0] #[0 1 2 0 1 2 1 1 1 1 1 1 ・・・]\n",
    "        \n",
    "        \n",
    "        return print(self.pre_cluster)\n",
    "        \n",
    "        \n",
    "        \n",
    "\n",
    "        return"
   ]
  },
  {
   "cell_type": "code",
   "execution_count": 31,
   "metadata": {
    "scrolled": true
   },
   "outputs": [
    {
     "name": "stdout",
     "output_type": "stream",
     "text": [
      "[]\n",
      "0\n",
      "111\n",
      "222\n",
      "222\n",
      "333\n",
      "[array([[ 1.99186903,  0.96561071],\n",
      "       [-0.27678616,  3.72096344],\n",
      "       [-1.26811733,  7.76378266]])]\n",
      "[139.17097772033804]\n",
      "1\n",
      "111\n",
      "222\n",
      "222\n",
      "333\n",
      "[array([[ 1.99186903,  0.96561071],\n",
      "       [-0.27678616,  3.72096344],\n",
      "       [-1.26811733,  7.76378266]]), array([[ 1.99186903,  0.96561071],\n",
      "       [-1.61318321,  3.06863899],\n",
      "       [-0.18966435,  5.89872982]])]\n",
      "[139.17097772033804, 250.63752944456343]\n",
      "2\n",
      "111\n",
      "222\n",
      "222\n",
      "333\n",
      "[array([[ 1.99186903,  0.96561071],\n",
      "       [-0.27678616,  3.72096344],\n",
      "       [-1.26811733,  7.76378266]]), array([[ 1.99186903,  0.96561071],\n",
      "       [-1.61318321,  3.06863899],\n",
      "       [-0.18966435,  5.89872982]]), array([[-1.61318321,  3.06863899],\n",
      "       [-0.39550814,  6.28965918],\n",
      "       [ 1.74370853,  1.62843289]])]\n",
      "[139.17097772033804, 250.63752944456343, 245.53675483814908]\n",
      "3\n",
      "111\n",
      "222\n",
      "222\n",
      "222\n",
      "333\n",
      "[array([[ 1.99186903,  0.96561071],\n",
      "       [-0.27678616,  3.72096344],\n",
      "       [-1.26811733,  7.76378266]]), array([[ 1.99186903,  0.96561071],\n",
      "       [-1.61318321,  3.06863899],\n",
      "       [-0.18966435,  5.89872982]]), array([[-1.61318321,  3.06863899],\n",
      "       [-0.39550814,  6.28965918],\n",
      "       [ 1.74370853,  1.62843289]]), array([[-1.26811733,  7.76378266],\n",
      "       [-0.27678616,  3.72096344],\n",
      "       [ 1.99186903,  0.96561071]])]\n",
      "[139.17097772033804, 250.63752944456343, 245.53675483814908, 139.17097772033804]\n",
      "4\n",
      "111\n",
      "222\n",
      "222\n",
      "333\n",
      "[array([[ 1.99186903,  0.96561071],\n",
      "       [-0.27678616,  3.72096344],\n",
      "       [-1.26811733,  7.76378266]]), array([[ 1.99186903,  0.96561071],\n",
      "       [-1.61318321,  3.06863899],\n",
      "       [-0.18966435,  5.89872982]]), array([[-1.61318321,  3.06863899],\n",
      "       [-0.39550814,  6.28965918],\n",
      "       [ 1.74370853,  1.62843289]]), array([[-1.26811733,  7.76378266],\n",
      "       [-0.27678616,  3.72096344],\n",
      "       [ 1.99186903,  0.96561071]]), array([[-1.70153765,  7.41036863],\n",
      "       [-1.09956498,  7.90122144],\n",
      "       [ 0.47943223,  2.80251253]])]\n",
      "[139.17097772033804, 250.63752944456343, 245.53675483814908, 139.17097772033804, 348.08972755445234]\n",
      "[[ 1.99186903  0.96561071]\n",
      " [-0.27678616  3.72096344]\n",
      " [-1.26811733  7.76378266]]\n"
     ]
    }
   ],
   "source": [
    "skm = ScratchKMeans(3,n_init=5,max_iter=4,tol=0.1,verbose=False)\n",
    "skm._SSE(3,X)"
   ]
  },
  {
   "cell_type": "markdown",
   "metadata": {},
   "source": [
    "# 【問題7】推定"
   ]
  },
  {
   "cell_type": "markdown",
   "metadata": {},
   "source": [
    "新たなデータに対してどのクラスタに所属するかの推定の際は、学習時の1つ目のフェーズと同じことを行います。\n",
    "\n",
    "\n",
    "データ点 \n",
    "X\n",
    "n\n",
    " と学習で決まった中心点 \n",
    "μ\n",
    "k\n",
    " に対し、 \n",
    "S\n",
    "S\n",
    "E\n",
    " を最小化する \n",
    "r\n",
    "n\n",
    "k\n",
    " を選ぶ。\n",
    "\n",
    "具体的には次のことです。\n",
    "\n",
    "\n",
    "データ点 \n",
    "X\n",
    "n\n",
    " を最も近い \n",
    "μ\n",
    "k\n",
    " に割り当てる。"
   ]
  },
  {
   "cell_type": "code",
   "execution_count": 32,
   "metadata": {},
   "outputs": [
    {
     "name": "stdout",
     "output_type": "stream",
     "text": [
      "[1. 2. 1. 1. 1. 1. 1. 2. 1. 2. 2. 2. 2. 2. 2. 0. 0. 1. 1. 0. 1. 2. 1. 0.\n",
      " 1. 1. 1. 1. 0. 0. 0. 2. 0. 0. 1. 1. 2. 0. 2. 1. 1. 1. 2. 1. 1. 2. 0. 1.\n",
      " 1. 1. 1. 0. 1. 1. 1. 2. 2. 0. 0. 2. 2. 0. 0. 1. 0. 2. 1. 1. 0. 1. 2. 0.\n",
      " 1. 2. 1. 1. 1. 1. 0. 0. 0. 2. 1. 1. 0. 1. 0. 0. 1. 1. 1. 1. 1. 1. 1. 2.\n",
      " 2. 1. 2. 1.]\n"
     ]
    }
   ],
   "source": [
    "skm.predict(X)"
   ]
  },
  {
   "cell_type": "code",
   "execution_count": null,
   "metadata": {},
   "outputs": [],
   "source": [
    "def kmeans(k, X, max_iter=1):\n",
    "    X_size,n_features = X.shape\n",
    "    #print(X.shape)\n",
    "    #print(X_size)\n",
    "    #print(n_features)\n",
    "    \n",
    "    # ランダムに重心の初期値を初期化\n",
    "    centroids  = X[np.random.choice(X_size,k)]\n",
    "    print(centroids[0])\n",
    "    #print(centroids)\n",
    "    \n",
    "    # 前の重心と比較するために、仮に新しい重心を入れておく配列を用意\n",
    "    new_centroids = np.zeros((k, n_features))\n",
    "    \n",
    "    # 各データ所属クラスタ情報を保存する配列を用意\n",
    "    cluster = np.zeros(X_size)\n",
    "    \n",
    "    # ループ上限回数まで繰り返し\n",
    "    for epoch in range(max_iter):\n",
    "        \n",
    "        # 入力データ全てに対して繰り返し\n",
    "        for i in range(X_size):\n",
    "            \n",
    "            # データから各重心までの距離を計算（ルートを取らなくても大小関係は変わらないので省略）\n",
    "            distances = np.sum((centroids - X[i]) ** 2, axis=1)\n",
    "          \n",
    "            \n",
    "            # データの所属クラスタを距離の一番近い重心を持つものに更新\n",
    "            cluster[i] = np.argsort(distances)[0]\n",
    "            #print(cluster[i])\n",
    "            \n",
    "        # すべてのクラスタに対して重心を再計算\n",
    "        for j in range(k): #j=012\n",
    "            new_centroids[j] = X[cluster==j].mean(axis=0)\n",
    "            \n",
    "            \n",
    "        # もしも重心が変わっていなかったら終了\n",
    "        if np.sum(new_centroids == centroids) == k:\n",
    "            print(\"break\")\n",
    "            break\n",
    "        centroids =  new_centroids\n",
    "    return cluster"
   ]
  },
  {
   "cell_type": "code",
   "execution_count": null,
   "metadata": {
    "scrolled": true
   },
   "outputs": [],
   "source": [
    "cluster=kmeans(3, X )\n",
    "cluster"
   ]
  }
 ],
 "metadata": {
  "kernelspec": {
   "display_name": "Python 3",
   "language": "python",
   "name": "python3"
  },
  "language_info": {
   "codemirror_mode": {
    "name": "ipython",
    "version": 3
   },
   "file_extension": ".py",
   "mimetype": "text/x-python",
   "name": "python",
   "nbconvert_exporter": "python",
   "pygments_lexer": "ipython3",
   "version": "3.7.4"
  }
 },
 "nbformat": 4,
 "nbformat_minor": 4
}
