{
 "cells": [
  {
   "cell_type": "markdown",
   "metadata": {},
   "source": [
    "# 機械学習スクラッチ　SVM"
   ]
  },
  {
   "cell_type": "code",
   "execution_count": 2,
   "metadata": {},
   "outputs": [],
   "source": [
    "import numpy as np\n",
    "import matplotlib.pyplot as plt\n",
    "import pandas as pd\n",
    "#import seaborn as sns"
   ]
  },
  {
   "cell_type": "code",
   "execution_count": 3,
   "metadata": {},
   "outputs": [],
   "source": [
    "import pandas as pd"
   ]
  },
  {
   "cell_type": "code",
   "execution_count": 9,
   "metadata": {},
   "outputs": [],
   "source": [
    "import codecs"
   ]
  },
  {
   "cell_type": "code",
   "execution_count": 2,
   "metadata": {},
   "outputs": [],
   "source": [
    "import os"
   ]
  },
  {
   "cell_type": "code",
   "execution_count": 58,
   "metadata": {},
   "outputs": [],
   "source": [
    "class ScratchSVMClassifier():\n",
    "    \"\"\"\n",
    "    SVM分類器のスクラッチ実装\n",
    "\n",
    "    Parameters\n",
    "    ----------\n",
    "    num_iter : int\n",
    "      イテレーション数\n",
    "    lr : float\n",
    "      学習率\n",
    "    kernel : str\n",
    "      カーネルの種類。線形カーネル（linear）か多項式カーネル（polly）\n",
    "    threshold : float\n",
    "      サポートベクターを選ぶための閾値\n",
    "    verbose : bool\n",
    "      学習過程を出力する場合はTrue\n",
    "\n",
    "    Attributes\n",
    "    ----------\n",
    "    self.n_support_vectors : int\n",
    "      サポートベクターの数\n",
    "    self.index_support_vectors : 次の形のndarray, shape (n_support_vectors,)\n",
    "      サポートベクターのインデックス\n",
    "    self.X_sv :  次の形のndarray, shape(n_support_vectors, n_features)\n",
    "      サポートベクターの特徴量\n",
    "    self.lam_sv :  次の形のndarray, shape(n_support_vectors, 1)\n",
    "      サポートベクターの未定乗数\n",
    "    self.y_sv :  次の形のndarray, shape(n_support_vectors, 1)\n",
    "      サポートベクターのラベル\n",
    "\n",
    "    \"\"\"\n",
    "    def __init__(self, num_iter, lr, kernel='linear', threshold=1e-3, verbose=False):\n",
    "        # ハイパーパラメータを属性として記録\n",
    "        self.iter = num_iter\n",
    "        self.lr = lr\n",
    "        self.kernel = kernel\n",
    "        self.threshold = threshold\n",
    "        self.verbose = verbose\n",
    "\n",
    "        \n",
    "        #サポートベクターの数\n",
    "        self.n_support_vectors = []\n",
    "        #サポートベクターのインデックス\n",
    "        self.index_support_vectors = []\n",
    "        #サポートベクターの特徴量\n",
    "        self.X_sv = []\n",
    "        #サポートベクターの未定乗数\n",
    "        self.lam_sv  = []\n",
    "        #サポートベクターのラベル\n",
    "        self.y_sv = []  \n",
    "    \n",
    "    def fit(self, X, y, X_val=None, y_val=None):\n",
    "        \"\"\"\n",
    "        SVM分類器を学習する。検証用データが入力された場合はそれに対する精度もイテレーションごとに計算する。\n",
    "\n",
    "        Parameters\n",
    "        ----------\n",
    "        X : 次の形のndarray, shape (n_samples, n_features)\n",
    "            学習用データの特徴量\n",
    "        y : 次の形のndarray, shape (n_samples, )\n",
    "            学習用データの正解値\n",
    "        X_val : 次の形のndarray, shape (n_samples, n_features)\n",
    "            検証用データの特徴量\n",
    "        y_val : 次の形のndarray, shape (n_samples, )\n",
    "            検証用データの正解値\n",
    "        \"\"\"\n",
    "        \n",
    "        self.X = X\n",
    "        y = np.where(y < 1, -1, 1)\n",
    "        self.y = np.array(y).reshape(1,y.shape[0])\n",
    "        #print(self.y .shape)\n",
    "        #self.X_val = X_val\n",
    "        #self.y_val = np.where(y_val  < 1, -1, 1)\n",
    "        \n",
    "        self.ramuda = np.random.normal(\n",
    "                                                        loc   = 0,\n",
    "                                                        scale = 1,\n",
    "                                                        size  = self.X.shape[0]\n",
    "                                                        ).reshape([1,self.X.shape[0]])*0.001\n",
    "        #print(self.ramuda)\n",
    "        #print(self.ramuda.shape)\n",
    "        \n",
    "        #self.ramuda更新\n",
    "        for i in range(self.iter):\n",
    "            self._gradient_descent(self.X,self.y) #67,67?\n",
    "            #条件として、更新毎に λ i= 0 を満たす必要があります。満たさない場合は λ i = 0 とします。\n",
    "            for j in range(self.X.shape[0]): #ラグランジュλを一つづつ見ていく\n",
    "                if self.ramuda[0,j]< 0:\n",
    "                    self.ramuda[0,j] = 0\n",
    "\n",
    "                #print(len(self.index_support_vectors))\n",
    "        #print(self.ramuda)\n",
    "                    \n",
    "        # 更新終わったら閾値でλを振り分け→Xサポートベクターの特徴量抜き出し[]に格納していく\n",
    "        for m in range(self.X.shape[0]):\n",
    "            if self.ramuda[0,m]> self.threshold: \n",
    "                self.X_sv.append(self.X[m])\n",
    "                self.index_support_vectors.append(m)\n",
    "\n",
    "        #インデックス番目のyを抜きだす\n",
    "        for k in self.index_support_vectors:\n",
    "            self.y_sv.append(y[k])#self.y_svに格納\n",
    "        \n",
    "        #サポートベクターの未定乗数\n",
    "        for r in self.index_support_vectors:\n",
    "            self.lam_sv.append(self.ramuda[0,r])\n",
    "         \n",
    "        \n",
    "        \n",
    "        if self.verbose:\n",
    "            #verboseをTrueにした際は学習過程を出力\n",
    "            print()\n",
    "    \n",
    "    \n",
    "    def _kernel(self, X):\n",
    "        return np.dot(X, X.T)\n",
    "    \n",
    "    def _gradient_descent(self, X, y):\n",
    "        #print('ラムダ',self.ramuda.T.shape)\n",
    "        grad = (1-y*np.sum(y*self.ramuda*self._kernel(X), axis=1))\n",
    "        #grad = (1-np.dot(np.dot(y, y.T)*self._kernel(X), self.ramuda.T))\n",
    "        #print('グラッド',grad.shape)\n",
    "        self.ramuda = self.ramuda + self.lr*grad.T\n",
    "        #print('ラムダ2',self.ramuda.shape)\n",
    "        #print(self.ramuda)\n",
    "        \n",
    "       # return self.ramuda.T\n",
    "\n",
    "    def predict(self, X):#X = X_test\n",
    "        \"\"\"\n",
    "        SVM分類器を使いラベルを推定する。\n",
    "\n",
    "        Parameters\n",
    "        ----------\n",
    "        X : 次の形のndarray, shape (n_samples, n_features)\n",
    "            サンプル\n",
    "\n",
    "        Returns\n",
    "        -------\n",
    "            次の形のndarray, shape (n_samples, 1)\n",
    "            SVM分類器による推定結果\n",
    "        \"\"\"\n",
    "        \n",
    "        #kernel\n",
    "        #np.dot(X, self.X_sv.T)\n",
    "        f = np.dot(np.dot(X, np.array(self.X_sv).T),(np.array(self.lam_sv )*np.array(self.y_sv)))\n",
    "        return f"
   ]
  },
  {
   "cell_type": "markdown",
   "metadata": {},
   "source": [
    "# 【問題1】ラグランジュの未定乗数法による最急降下"
   ]
  },
  {
   "cell_type": "markdown",
   "metadata": {},
   "source": [
    "$\n",
    "\\lambda_i^{new} = \\lambda_i + \\alpha(1 - \\sum_{j=1}^{n}{\\lambda_j y_i y_j k(x_i, x_j)})\n",
    "$"
   ]
  },
  {
   "cell_type": "markdown",
   "metadata": {},
   "source": [
    "$\n",
    "k(x_i, x_j) = x_{i}^{T} x_j\n",
    "$"
   ]
  },
  {
   "cell_type": "code",
   "execution_count": 203,
   "metadata": {},
   "outputs": [],
   "source": [
    "X = np.arange(8).reshape([4, 2])"
   ]
  },
  {
   "cell_type": "code",
   "execution_count": 204,
   "metadata": {
    "scrolled": true
   },
   "outputs": [
    {
     "data": {
      "text/plain": [
       "array([[0, 1],\n",
       "       [2, 3],\n",
       "       [4, 5],\n",
       "       [6, 7]])"
      ]
     },
     "execution_count": 204,
     "metadata": {},
     "output_type": "execute_result"
    }
   ],
   "source": [
    "X"
   ]
  },
  {
   "cell_type": "markdown",
   "metadata": {},
   "source": [
    "カーネル関数"
   ]
  },
  {
   "cell_type": "code",
   "execution_count": 205,
   "metadata": {},
   "outputs": [],
   "source": [
    "def kernel(X):\n",
    "    return np.dot(X, X.T)"
   ]
  },
  {
   "cell_type": "code",
   "execution_count": 206,
   "metadata": {},
   "outputs": [
    {
     "data": {
      "text/plain": [
       "array([[ 1,  3,  5,  7],\n",
       "       [ 3, 13, 23, 33],\n",
       "       [ 5, 23, 41, 59],\n",
       "       [ 7, 33, 59, 85]])"
      ]
     },
     "execution_count": 206,
     "metadata": {},
     "output_type": "execute_result"
    }
   ],
   "source": [
    "kernel(X)"
   ]
  },
  {
   "cell_type": "code",
   "execution_count": 207,
   "metadata": {
    "scrolled": true
   },
   "outputs": [],
   "source": [
    "y = np.random.randint(2, size=X.shape[0]).reshape([X.shape[0],1])"
   ]
  },
  {
   "cell_type": "code",
   "execution_count": 208,
   "metadata": {},
   "outputs": [
    {
     "data": {
      "text/plain": [
       "array([[0],\n",
       "       [0],\n",
       "       [0],\n",
       "       [0]])"
      ]
     },
     "execution_count": 208,
     "metadata": {},
     "output_type": "execute_result"
    }
   ],
   "source": [
    "y"
   ]
  },
  {
   "cell_type": "code",
   "execution_count": 209,
   "metadata": {
    "scrolled": true
   },
   "outputs": [
    {
     "data": {
      "text/plain": [
       "array([[0, 0, 0, 0]])"
      ]
     },
     "execution_count": 209,
     "metadata": {},
     "output_type": "execute_result"
    }
   ],
   "source": [
    "y.T"
   ]
  },
  {
   "cell_type": "code",
   "execution_count": 210,
   "metadata": {},
   "outputs": [
    {
     "data": {
      "text/plain": [
       "array([[0, 0, 0, 0],\n",
       "       [0, 0, 0, 0],\n",
       "       [0, 0, 0, 0],\n",
       "       [0, 0, 0, 0]])"
      ]
     },
     "execution_count": 210,
     "metadata": {},
     "output_type": "execute_result"
    }
   ],
   "source": [
    "yiyj = np.dot(y, y.T)\n",
    "yiyj"
   ]
  },
  {
   "cell_type": "code",
   "execution_count": 211,
   "metadata": {
    "scrolled": true
   },
   "outputs": [
    {
     "ename": "ValueError",
     "evalue": "shapes (4,4) and (67,1) not aligned: 4 (dim 1) != 67 (dim 0)",
     "output_type": "error",
     "traceback": [
      "\u001b[0;31m---------------------------------------------------------------------------\u001b[0m",
      "\u001b[0;31mValueError\u001b[0m                                Traceback (most recent call last)",
      "\u001b[0;32m<ipython-input-211-6c2b0f7557b3>\u001b[0m in \u001b[0;36m<module>\u001b[0;34m\u001b[0m\n\u001b[0;32m----> 1\u001b[0;31m \u001b[0msvm\u001b[0m\u001b[0;34m.\u001b[0m\u001b[0m_gradient_descent\u001b[0m\u001b[0;34m(\u001b[0m\u001b[0mX\u001b[0m\u001b[0;34m,\u001b[0m\u001b[0my\u001b[0m\u001b[0;34m)\u001b[0m\u001b[0;34m\u001b[0m\u001b[0;34m\u001b[0m\u001b[0m\n\u001b[0m",
      "\u001b[0;32m<ipython-input-198-d958f1240c58>\u001b[0m in \u001b[0;36m_gradient_descent\u001b[0;34m(self, X, y)\u001b[0m\n\u001b[1;32m    123\u001b[0m     \u001b[0;32mdef\u001b[0m \u001b[0m_gradient_descent\u001b[0m\u001b[0;34m(\u001b[0m\u001b[0mself\u001b[0m\u001b[0;34m,\u001b[0m \u001b[0mX\u001b[0m\u001b[0;34m,\u001b[0m \u001b[0my\u001b[0m\u001b[0;34m)\u001b[0m\u001b[0;34m:\u001b[0m\u001b[0;34m\u001b[0m\u001b[0;34m\u001b[0m\u001b[0m\n\u001b[1;32m    124\u001b[0m         \u001b[0;31m#print('ラムダ',self.ramuda.T.shape)\u001b[0m\u001b[0;34m\u001b[0m\u001b[0;34m\u001b[0m\u001b[0;34m\u001b[0m\u001b[0m\n\u001b[0;32m--> 125\u001b[0;31m         \u001b[0mgrad\u001b[0m \u001b[0;34m=\u001b[0m \u001b[0;34m(\u001b[0m\u001b[0;36m1\u001b[0m\u001b[0;34m-\u001b[0m\u001b[0mnp\u001b[0m\u001b[0;34m.\u001b[0m\u001b[0mdot\u001b[0m\u001b[0;34m(\u001b[0m\u001b[0mnp\u001b[0m\u001b[0;34m.\u001b[0m\u001b[0mdot\u001b[0m\u001b[0;34m(\u001b[0m\u001b[0my\u001b[0m\u001b[0;34m,\u001b[0m \u001b[0my\u001b[0m\u001b[0;34m.\u001b[0m\u001b[0mT\u001b[0m\u001b[0;34m)\u001b[0m\u001b[0;34m*\u001b[0m\u001b[0mself\u001b[0m\u001b[0;34m.\u001b[0m\u001b[0m_kernel\u001b[0m\u001b[0;34m(\u001b[0m\u001b[0mX\u001b[0m\u001b[0;34m)\u001b[0m\u001b[0;34m,\u001b[0m \u001b[0mself\u001b[0m\u001b[0;34m.\u001b[0m\u001b[0mramuda\u001b[0m\u001b[0;34m.\u001b[0m\u001b[0mT\u001b[0m\u001b[0;34m)\u001b[0m\u001b[0;34m)\u001b[0m\u001b[0;34m\u001b[0m\u001b[0;34m\u001b[0m\u001b[0m\n\u001b[0m\u001b[1;32m    126\u001b[0m         \u001b[0;31m#print('グラッド',grad.shape)\u001b[0m\u001b[0;34m\u001b[0m\u001b[0;34m\u001b[0m\u001b[0;34m\u001b[0m\u001b[0m\n\u001b[1;32m    127\u001b[0m         \u001b[0mself\u001b[0m\u001b[0;34m.\u001b[0m\u001b[0mramuda\u001b[0m \u001b[0;34m=\u001b[0m \u001b[0mself\u001b[0m\u001b[0;34m.\u001b[0m\u001b[0mramuda\u001b[0m \u001b[0;34m-\u001b[0m \u001b[0mself\u001b[0m\u001b[0;34m.\u001b[0m\u001b[0mlr\u001b[0m\u001b[0;34m*\u001b[0m\u001b[0mgrad\u001b[0m\u001b[0;34m.\u001b[0m\u001b[0mT\u001b[0m\u001b[0;34m\u001b[0m\u001b[0;34m\u001b[0m\u001b[0m\n",
      "\u001b[0;32m<__array_function__ internals>\u001b[0m in \u001b[0;36mdot\u001b[0;34m(*args, **kwargs)\u001b[0m\n",
      "\u001b[0;31mValueError\u001b[0m: shapes (4,4) and (67,1) not aligned: 4 (dim 1) != 67 (dim 0)"
     ]
    }
   ],
   "source": [
    "svm._gradient_descent(X,y)"
   ]
  },
  {
   "cell_type": "code",
   "execution_count": null,
   "metadata": {},
   "outputs": [],
   "source": [
    "#ラグランジュ乗数 λ、正規分布作る\n",
    "ramuda = np.random.normal(\n",
    "                loc   = 0,\n",
    "                scale = 1,\n",
    "                size  = X.shape[0]\n",
    "                ).reshape([1,X.shape[0]])*0.001"
   ]
  },
  {
   "cell_type": "code",
   "execution_count": null,
   "metadata": {},
   "outputs": [],
   "source": [
    "ramuda"
   ]
  },
  {
   "cell_type": "code",
   "execution_count": null,
   "metadata": {
    "scrolled": true
   },
   "outputs": [],
   "source": [
    "yx = yiyj*kernel(X)\n",
    "yx"
   ]
  },
  {
   "cell_type": "code",
   "execution_count": null,
   "metadata": {},
   "outputs": [],
   "source": [
    "np.dot(np.dot(y, y.T)*kernel(X), ramuda.T)"
   ]
  },
  {
   "cell_type": "code",
   "execution_count": null,
   "metadata": {},
   "outputs": [],
   "source": []
  },
  {
   "cell_type": "code",
   "execution_count": null,
   "metadata": {},
   "outputs": [],
   "source": [
    "def gradient_descent(X,y):\n",
    "    a = 2\n",
    "    return a*(1-np.dot(np.dot(y, y.T)*kernel(X), ramuda.T))"
   ]
  },
  {
   "cell_type": "code",
   "execution_count": null,
   "metadata": {},
   "outputs": [],
   "source": [
    "gradient_descent(X,y)"
   ]
  },
  {
   "cell_type": "code",
   "execution_count": null,
   "metadata": {},
   "outputs": [],
   "source": [
    "ramuda_new = ramuda.T - gradient_descent(X,y)\n",
    "\n",
    "ramuda_new"
   ]
  },
  {
   "cell_type": "markdown",
   "metadata": {},
   "source": [
    "条件として、更新毎に \n",
    "λ\n",
    "i\n",
    ">=\n",
    "0\n",
    "を満たす必要があります。満たさない場合は \n",
    "λ\n",
    "i\n",
    "=\n",
    "0\n",
    "とします。"
   ]
  },
  {
   "cell_type": "code",
   "execution_count": null,
   "metadata": {},
   "outputs": [],
   "source": [
    "for i in range(ramuda_new.shape[0]):\n",
    "    if ramuda_new[i]< 0:\n",
    "        ramuda_new[i] = 0       "
   ]
  },
  {
   "cell_type": "code",
   "execution_count": null,
   "metadata": {},
   "outputs": [],
   "source": [
    "ramuda_new"
   ]
  },
  {
   "cell_type": "code",
   "execution_count": null,
   "metadata": {},
   "outputs": [],
   "source": [
    "ramuda_new = np.arange(X.shape[0]).reshape([X.shape[0],1])\n",
    "ramuda_new"
   ]
  },
  {
   "cell_type": "markdown",
   "metadata": {},
   "source": [
    "# 【問題2】サポートベクターの決定"
   ]
  },
  {
   "cell_type": "markdown",
   "metadata": {},
   "source": [
    "計算したラグランジュ乗数 λがルをサポートベクターとして扱います。推定時にサポートベクターが必要になります。サポートベクターを決定し、インスタンス変数として保持しておくコードを書いてください。\n",
    "\n",
    "閾値はハイパーパラメータですが、1e-5程度からはじめると良いでしょう。サポートベクターの数を出力させられるようにしておくと学習がうまく行えているかを確認できます。"
   ]
  },
  {
   "cell_type": "code",
   "execution_count": 39,
   "metadata": {
    "scrolled": true
   },
   "outputs": [],
   "source": [
    "#閾値\n",
    "#shiki = np.exp(-5)\n",
    "shiki = 1"
   ]
  },
  {
   "cell_type": "code",
   "execution_count": null,
   "metadata": {},
   "outputs": [],
   "source": [
    "sp_vec = []\n",
    "index = []\n",
    "for i in range(ramuda_new.shape[0]):\n",
    "    if ramuda_new[i]> shiki:\n",
    "        sp_vec.append(X[i])\n",
    "        index.append(i)\n",
    "        \n",
    "    \n",
    "    "
   ]
  },
  {
   "cell_type": "code",
   "execution_count": null,
   "metadata": {},
   "outputs": [],
   "source": [
    "np.array(sp_vec)"
   ]
  },
  {
   "cell_type": "code",
   "execution_count": null,
   "metadata": {},
   "outputs": [],
   "source": [
    "index"
   ]
  },
  {
   "cell_type": "code",
   "execution_count": null,
   "metadata": {
    "scrolled": true
   },
   "outputs": [],
   "source": [
    "sp_vec = np.array(sp_vec)\n",
    "sp_vec"
   ]
  },
  {
   "cell_type": "markdown",
   "metadata": {},
   "source": [
    "# 【問題3】推定"
   ]
  },
  {
   "cell_type": "markdown",
   "metadata": {},
   "source": [
    "推定時には、推定したいデータの特徴量とサポートベクターの特徴量をカーネル関数によって計算します。求めた \n",
    "f\n",
    "(\n",
    "x\n",
    ")\n",
    " の符号が分類結果です。\n",
    " $\n",
    " f(x) = \\sum_{n=1}^{N}\\lambda_n y_{sv\\_n} k(x, s_n)\n",
    " $"
   ]
  },
  {
   "cell_type": "markdown",
   "metadata": {},
   "source": [
    "x\n",
    " : 推定したいデータの特徴量ベクトル\n",
    "\n",
    "\n",
    "N\n",
    " : サポートベクターの数\n",
    "\n",
    "\n",
    "n\n",
    " : サポートベクターのインデックス\n",
    "\n",
    "\n",
    "λ\n",
    "n\n",
    " : \n",
    "n\n",
    "番目のサポートベクターのラグランジュ乗数\n",
    "\n",
    "\n",
    "y\n",
    "s\n",
    "v\n",
    "n\n",
    " : \n",
    "n\n",
    "番目のサポートベクターのラベル\n",
    "\n",
    "\n",
    "k\n",
    "(\n",
    ")\n",
    " : カーネル関数\n",
    "\n",
    "\n",
    "s\n",
    "n\n",
    " : \n",
    "n\n",
    "番目のサポートベクターの特徴量"
   ]
  },
  {
   "cell_type": "code",
   "execution_count": null,
   "metadata": {},
   "outputs": [],
   "source": [
    "X_test = np.arange(8).reshape([4, 2])\n",
    "X_test"
   ]
  },
  {
   "cell_type": "code",
   "execution_count": null,
   "metadata": {},
   "outputs": [],
   "source": [
    "X_test.shape"
   ]
  },
  {
   "cell_type": "code",
   "execution_count": null,
   "metadata": {},
   "outputs": [],
   "source": [
    "#kernel\n",
    "np.dot(X_test, sp_vec.T)"
   ]
  },
  {
   "cell_type": "code",
   "execution_count": null,
   "metadata": {},
   "outputs": [],
   "source": [
    "index[0]"
   ]
  },
  {
   "cell_type": "code",
   "execution_count": null,
   "metadata": {
    "scrolled": true
   },
   "outputs": [],
   "source": [
    "index"
   ]
  },
  {
   "cell_type": "code",
   "execution_count": null,
   "metadata": {},
   "outputs": [],
   "source": [
    "yy = []\n",
    "for k in index:\n",
    "    yy.append(y[k])\n",
    "    \n",
    "    "
   ]
  },
  {
   "cell_type": "code",
   "execution_count": null,
   "metadata": {},
   "outputs": [],
   "source": [
    "yy"
   ]
  },
  {
   "cell_type": "code",
   "execution_count": null,
   "metadata": {},
   "outputs": [],
   "source": [
    "#yy\n",
    "np.array(yy)"
   ]
  },
  {
   "cell_type": "code",
   "execution_count": null,
   "metadata": {},
   "outputs": [],
   "source": [
    "ramuda = []\n",
    "for r in index:\n",
    "    ramuda.append(ramuda_new[r])"
   ]
  },
  {
   "cell_type": "code",
   "execution_count": null,
   "metadata": {},
   "outputs": [],
   "source": [
    "##ramuyda_n\n",
    "np.array(ramuda)"
   ]
  },
  {
   "cell_type": "code",
   "execution_count": null,
   "metadata": {},
   "outputs": [],
   "source": [
    "np.array(ramuda)*np.array(yy)"
   ]
  },
  {
   "cell_type": "code",
   "execution_count": null,
   "metadata": {},
   "outputs": [],
   "source": [
    "#f(x) 距離を表ている　符号で０or1をラベリングできるように今後　np.where等\n",
    "np.dot(np.dot(X_test, sp_vec.T),(np.array(ramuda)*np.array(yy)))"
   ]
  },
  {
   "cell_type": "code",
   "execution_count": null,
   "metadata": {
    "scrolled": true
   },
   "outputs": [],
   "source": [
    "\n",
    "np.where(r < 1, -1, 1)"
   ]
  },
  {
   "cell_type": "markdown",
   "metadata": {},
   "source": [
    "# 【問題4】学習と推定"
   ]
  },
  {
   "cell_type": "markdown",
   "metadata": {},
   "source": [
    "機械学習スクラッチ入門のSprintで用意したシンプルデータセット1の2値分類に対してスクラッチ実装の学習と推定を行なってください。\n",
    "\n",
    "\n",
    "scikit-learnによる実装と比べ、正しく動いているかを確認してください。\n",
    "\n",
    "\n",
    "AccuracyやPrecision、Recallなどの指標値はscikit-learnを使用してください。"
   ]
  },
  {
   "cell_type": "code",
   "execution_count": 3,
   "metadata": {},
   "outputs": [],
   "source": [
    "# from sklearn.datasets import load_iris\n",
    "# iris = load_iris()\n",
    "\n",
    "# X = pd.DataFrame(iris.data, columns=['sepal_length', 'sepal_width', 'petal_length', 'petal_width'])\n",
    "# X = X[['sepal_length','petal_length']]\n",
    "# y = pd.DataFrame(iris.target, columns=['Species'])\n",
    "# df = pd.concat([X, y], axis=1)\n",
    "# df = df[df.Species.isin([1,2])].reset_index(drop=True)\n",
    "# df.loc[df.Species == 2, 'Species'] = 0 \n",
    "# y = df.Species\n",
    "# del df['Species']\n",
    "\n",
    "# from sklearn.model_selection import train_test_split\n",
    "# train, val_train, y_train, y_val = train_test_split(np.array(df), np.array(y), test_size=0.33, random_state=42)\n",
    "\n",
    "\n",
    "# svm1 = ScratchSVMClassifier(10000,0.005)"
   ]
  },
  {
   "cell_type": "code",
   "execution_count": null,
   "metadata": {},
   "outputs": [],
   "source": []
  },
  {
   "cell_type": "code",
   "execution_count": 4,
   "metadata": {},
   "outputs": [],
   "source": [
    "# svm.fit(train, y_train)"
   ]
  },
  {
   "cell_type": "code",
   "execution_count": 155,
   "metadata": {
    "scrolled": true
   },
   "outputs": [],
   "source": [
    "# svm.index_support_vectors\n"
   ]
  },
  {
   "cell_type": "code",
   "execution_count": 156,
   "metadata": {},
   "outputs": [],
   "source": [
    "# svm.predict(train)"
   ]
  },
  {
   "cell_type": "code",
   "execution_count": 64,
   "metadata": {},
   "outputs": [],
   "source": [
    "np.random.seed(seed=0)\n",
    "n_samples = 500\n",
    "f0 = [-1, 2]\n",
    "f1 = [2, -1]\n",
    "cov = [[1.0,0.8], [0.8, 1.0]]\n",
    "f0 = np.random.multivariate_normal(f0, cov, int(n_samples/2))\n",
    "f1 = np.random.multivariate_normal(f1, cov, int(n_samples/2))\n",
    "X_test = np.concatenate((f0, f1))\n",
    "y_test = np.concatenate((np.ones((int(n_samples/2))), np.ones((int(n_samples/2))) *(-1))).astype(np.int)\n",
    "random_index = np.random.permutation(np.arange(n_samples))\n",
    "X_ = X_test[random_index]\n",
    "y_ = y_test[random_index]\n",
    "\n",
    "svm = ScratchSVMClassifier(10000 ,0.0001) #10000,0.0001"
   ]
  },
  {
   "cell_type": "code",
   "execution_count": 65,
   "metadata": {
    "scrolled": true
   },
   "outputs": [],
   "source": [
    "svm.fit(X_, y_)"
   ]
  },
  {
   "cell_type": "code",
   "execution_count": 66,
   "metadata": {},
   "outputs": [
    {
     "data": {
      "text/plain": [
       "array([[ 6.78736267e-04,  1.23980227e-03,  5.63365477e-04, ...,\n",
       "         9.56921917e-04,  0.00000000e+00,  0.00000000e+00],\n",
       "       [ 1.19702581e-03,  1.75809182e-03,  1.08165502e-03, ...,\n",
       "         1.47521146e-03, -2.38271612e-04, -6.75190605e-04],\n",
       "       [ 1.07961086e-03,  1.64067686e-03,  9.64240065e-04, ...,\n",
       "         1.35779651e-03, -3.55686571e-04, -7.92605564e-04],\n",
       "       ...,\n",
       "       [ 1.34512960e-03,  1.90619560e-03,  1.22975881e-03, ...,\n",
       "         1.62331525e-03, -9.01678289e-05, -5.27086822e-04],\n",
       "       [ 1.16927402e-03,  1.73034002e-03,  1.05390323e-03, ...,\n",
       "         1.44745967e-03, -2.66023410e-04, -7.02942402e-04],\n",
       "       [ 1.37689165e-03,  1.93795766e-03,  1.26152086e-03, ...,\n",
       "         1.65507730e-03, -5.84057746e-05, -4.95324767e-04]])"
      ]
     },
     "execution_count": 66,
     "metadata": {},
     "output_type": "execute_result"
    }
   ],
   "source": [
    "svm.ramuda"
   ]
  },
  {
   "cell_type": "code",
   "execution_count": 67,
   "metadata": {},
   "outputs": [
    {
     "data": {
      "text/plain": [
       "[1,\n",
       " 4,\n",
       " 6,\n",
       " 14,\n",
       " 18,\n",
       " 26,\n",
       " 35,\n",
       " 39,\n",
       " 41,\n",
       " 65,\n",
       " 66,\n",
       " 67,\n",
       " 70,\n",
       " 79,\n",
       " 80,\n",
       " 87,\n",
       " 89,\n",
       " 93,\n",
       " 95,\n",
       " 102,\n",
       " 104,\n",
       " 106,\n",
       " 107,\n",
       " 110,\n",
       " 121,\n",
       " 130,\n",
       " 134,\n",
       " 145,\n",
       " 155,\n",
       " 162,\n",
       " 167,\n",
       " 187,\n",
       " 199,\n",
       " 200,\n",
       " 201,\n",
       " 202,\n",
       " 204,\n",
       " 205,\n",
       " 210,\n",
       " 222,\n",
       " 228,\n",
       " 229,\n",
       " 235,\n",
       " 243,\n",
       " 249,\n",
       " 250,\n",
       " 251,\n",
       " 259,\n",
       " 266,\n",
       " 270,\n",
       " 276,\n",
       " 280,\n",
       " 282,\n",
       " 284,\n",
       " 285,\n",
       " 289,\n",
       " 290,\n",
       " 301,\n",
       " 302,\n",
       " 327,\n",
       " 333,\n",
       " 334,\n",
       " 335,\n",
       " 343,\n",
       " 349,\n",
       " 351,\n",
       " 354,\n",
       " 356,\n",
       " 357,\n",
       " 360,\n",
       " 361,\n",
       " 368,\n",
       " 370,\n",
       " 382,\n",
       " 383,\n",
       " 394,\n",
       " 396,\n",
       " 397,\n",
       " 415,\n",
       " 418,\n",
       " 422,\n",
       " 425,\n",
       " 426,\n",
       " 428,\n",
       " 429,\n",
       " 434,\n",
       " 455,\n",
       " 457,\n",
       " 460,\n",
       " 464,\n",
       " 465,\n",
       " 477,\n",
       " 481,\n",
       " 487]"
      ]
     },
     "execution_count": 67,
     "metadata": {},
     "output_type": "execute_result"
    }
   ],
   "source": [
    "svm.index_support_vectors"
   ]
  },
  {
   "cell_type": "markdown",
   "metadata": {},
   "source": [
    "# 【問題5】決定領域の可視化"
   ]
  },
  {
   "cell_type": "markdown",
   "metadata": {},
   "source": [
    "決定領域を可視化してください。\n",
    "\n",
    "\n",
    "以下の例のようにサポートベクターは異なる色で示してください。"
   ]
  },
  {
   "cell_type": "code",
   "execution_count": 68,
   "metadata": {},
   "outputs": [],
   "source": [
    "from matplotlib.colors import ListedColormap\n",
    "import matplotlib.patches as mpatches\n",
    "\n",
    "def decision_region(X, y, model, step=0.01, title='decision region', xlabel='xlabel', ylabel='ylabel', target_names=['versicolor', 'virginica']):\n",
    "    \"\"\"\n",
    "    2値分類を2次元の特徴量で学習したモデルの決定領域を描く。\n",
    "    背景の色が学習したモデルによる推定値から描画される。\n",
    "    散布図の点は訓練データまたは検証データである。\n",
    "\n",
    "    Parameters\n",
    "    ----------------\n",
    "    X : ndarray, shape(n_samples, 2)\n",
    "        特徴量\n",
    "    y : ndarray, shape(n_samples,)\n",
    "        ラベル\n",
    "    model : object\n",
    "        学習したモデルのインスンタスを入れる\n",
    "    step : float, (default : 0.1)\n",
    "        推定値を計算する間隔を設定する\n",
    "    title : str\n",
    "        グラフのタイトルの文章を与える\n",
    "    xlabel, ylabel : str\n",
    "        軸ラベルの文章を与える\n",
    "    target_names= : list of str\n",
    "        凡例の一覧を与える\n",
    "    \"\"\"\n",
    "    # setting\n",
    "    scatter_color = ['red', 'blue']\n",
    "    contourf_color = ['pink', 'skyblue']\n",
    "    n_class = 2\n",
    "\n",
    "    # pred\n",
    "    mesh_f0, mesh_f1  = np.meshgrid(np.arange(np.min(X[:,0])-0.5, np.max(X[:,0])+0.5, step), np.arange(np.min(X[:,1])-0.5, np.max(X[:,1])+0.5, step))\n",
    "    mesh = np.c_[np.ravel(mesh_f0),np.ravel(mesh_f1)]\n",
    "    y_pred = model.predict(mesh).reshape(mesh_f0.shape)\n",
    "\n",
    "    # plot\n",
    "    plt.title(title)\n",
    "    plt.xlabel(xlabel)\n",
    "    plt.ylabel(ylabel)\n",
    "    plt.contourf(mesh_f0, mesh_f1, y_pred, n_class-1, cmap=ListedColormap(contourf_color))\n",
    "    plt.contour(mesh_f0, mesh_f1, y_pred, n_class-1, colors='y', linewidths=3, alpha=0.5)\n",
    "    for i, target in enumerate(set(y)):\n",
    "        plt.scatter(X[y==target][:, 0], X[y==target][:, 1], s=80, color=scatter_color[i], label=target_names[i], marker='o')\n",
    "    plt.scatter(X[svm.index_support_vectors,0], X[svm.index_support_vectors,1],s=80, marker='o', color='y')\n",
    "    patches = [mpatches.Patch(color=scatter_color[i], label=target_names[i]) for i in range(n_class)]\n",
    "    plt.legend(handles=patches)\n",
    "    plt.legend()\n",
    "    plt.show()"
   ]
  },
  {
   "cell_type": "code",
   "execution_count": 69,
   "metadata": {},
   "outputs": [
    {
     "data": {
      "text/plain": [
       "array([[ 6.78736267e-04,  1.23980227e-03,  5.63365477e-04, ...,\n",
       "         9.56921917e-04,  0.00000000e+00,  0.00000000e+00],\n",
       "       [ 1.19702581e-03,  1.75809182e-03,  1.08165502e-03, ...,\n",
       "         1.47521146e-03, -2.38271612e-04, -6.75190605e-04],\n",
       "       [ 1.07961086e-03,  1.64067686e-03,  9.64240065e-04, ...,\n",
       "         1.35779651e-03, -3.55686571e-04, -7.92605564e-04],\n",
       "       ...,\n",
       "       [ 1.34512960e-03,  1.90619560e-03,  1.22975881e-03, ...,\n",
       "         1.62331525e-03, -9.01678289e-05, -5.27086822e-04],\n",
       "       [ 1.16927402e-03,  1.73034002e-03,  1.05390323e-03, ...,\n",
       "         1.44745967e-03, -2.66023410e-04, -7.02942402e-04],\n",
       "       [ 1.37689165e-03,  1.93795766e-03,  1.26152086e-03, ...,\n",
       "         1.65507730e-03, -5.84057746e-05, -4.95324767e-04]])"
      ]
     },
     "execution_count": 69,
     "metadata": {},
     "output_type": "execute_result"
    }
   ],
   "source": [
    "svm.ramuda"
   ]
  },
  {
   "cell_type": "code",
   "execution_count": 70,
   "metadata": {},
   "outputs": [
    {
     "data": {
      "image/png": "[encoded data removed]",
      "text/plain": [
       "<Figure size 432x288 with 1 Axes>"
      ]
     },
     "metadata": {
      "needs_background": "light"
     },
     "output_type": "display_data"
    }
   ],
   "source": [
    "decision_region(X_, y_, svm, title=\"decision region\")"
   ]
  },
  {
   "cell_type": "code",
   "execution_count": null,
   "metadata": {},
   "outputs": [],
   "source": []
  },
  {
   "cell_type": "code",
   "execution_count": null,
   "metadata": {},
   "outputs": [],
   "source": []
  },
  {
   "cell_type": "code",
   "execution_count": null,
   "metadata": {},
   "outputs": [],
   "source": []
  },
  {
   "cell_type": "code",
   "execution_count": null,
   "metadata": {},
   "outputs": [],
   "source": []
  },
  {
   "cell_type": "code",
   "execution_count": null,
   "metadata": {},
   "outputs": [],
   "source": []
  },
  {
   "cell_type": "code",
   "execution_count": null,
   "metadata": {},
   "outputs": [],
   "source": []
  }
 ],
 "metadata": {
  "kernelspec": {
   "display_name": "Python 3",
   "language": "python",
   "name": "python3"
  },
  "language_info": {
   "codemirror_mode": {
    "name": "ipython",
    "version": 3
   },
   "file_extension": ".py",
   "mimetype": "text/x-python",
   "name": "python",
   "nbconvert_exporter": "python",
   "pygments_lexer": "ipython3",
   "version": "3.7.4"
  }
 },
 "nbformat": 4,
 "nbformat_minor": 4
}
