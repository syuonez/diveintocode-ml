{
 "cells": [
  {
   "cell_type": "markdown",
   "metadata": {},
   "source": [
    "# sprint ディープランニングフレームワーク２"
   ]
  },
  {
   "cell_type": "markdown",
   "metadata": {},
   "source": [
    "# 【問題1】公式チュートリアルモデルを分担して実行"
   ]
  },
  {
   "cell_type": "markdown",
   "metadata": {},
   "source": [
    "# 過学習と学習不足について知る"
   ]
  },
  {
   "cell_type": "markdown",
   "metadata": {},
   "source": [
    "いつものように、この例のプログラムはtf.keras APIを使用します。詳しくはTensorFlowのKeras guideを参照してください。\n",
    "\n",
    "これまでの例、つまり、映画レビューの分類と燃費の推定では、検証用データでのモデルの正解率が、数エポックでピークを迎え、その後低下するという現象が見られました。\n",
    "\n",
    "言い換えると、モデルが訓練用データを過学習したと考えられます。過学習への対処の仕方を学ぶことは重要です。訓練用データセットで高い正解率を達成することは難しくありませんが、我々は、（これまで見たこともない）テスト用データに汎化したモデルを開発したいのです。\n",
    "\n",
    "過学習の反対語は学習不足(underfitting)です。学習不足は、モデルがテストデータに対してまだ改善の余地がある場合に発生します。学習不足の原因は様々です。モデルが十分強力でないとか、正則化のしすぎだとか、単に訓練時間が短すぎるといった理由があります。学習不足は、訓練用データの中の関連したパターンを学習しきっていないということを意味します。\n",
    "\n",
    "モデルの訓練をやりすぎると、モデルは過学習を始め、訓練用データの中のパターンで、テストデータには一般的ではないパターンを学習します。我々は、過学習と学習不足の中間を目指す必要があります。これから見ていくように、ちょうどよいエポック数だけ訓練を行うというのは必要なスキルなのです。\n",
    "\n",
    "過学習を防止するための、最良の解決策は、より多くの訓練用データを使うことです。多くのデータで訓練を行えば行うほど、モデルは自然により汎化していく様になります。これが不可能な場合、次善の策は正則化のようなテクニックを使うことです。正則化は、モデルに保存される情報の量とタイプに制約を課すものです。ネットワークが少数のパターンしか記憶できなければ、最適化プロセスにより、最も主要なパターンのみを学習することになり、より汎化される可能性が高くなります。\n",
    "\n",
    "このノートブックでは、重みの正則化とドロップアウトという、よく使われる2つの正則化テクニックをご紹介します。これらを使って、IMDBの映画レビューを分類するノートブックの改善を図ります。"
   ]
  },
  {
   "cell_type": "code",
   "execution_count": 1,
   "metadata": {
    "scrolled": true
   },
   "outputs": [
    {
     "name": "stdout",
     "output_type": "stream",
     "text": [
      "2.2.0-dev20200219\n"
     ]
    }
   ],
   "source": [
    "from __future__ import absolute_import, division, print_function, unicode_literals\n",
    "\n",
    "import tensorflow as tf\n",
    "from tensorflow import keras\n",
    "\n",
    "import numpy as np\n",
    "import matplotlib.pyplot as plt\n",
    "\n",
    "print(tf.__version__)"
   ]
  },
  {
   "cell_type": "markdown",
   "metadata": {},
   "source": [
    "IMDBデータセットのダウンロード\n",
    "以前のノートブックで使用したエンベディングの代わりに、ここでは文をマルチホットエンコードします。このモデルは、訓練用データセットをすぐに過学習します。このモデルを使って、過学習がいつ起きるかということと、どうやって過学習と戦うかをデモします。\n",
    "\n",
    "リストをマルチホットエンコードすると言うのは、0と1のベクトルにするということです。具体的にいうと、例えば[3, 5]というシーケンスを、インデックス3と5の値が1で、それ以外がすべて0の、10,000次元のベクトルに変換するということを意味します。"
   ]
  },
  {
   "cell_type": "code",
   "execution_count": 7,
   "metadata": {},
   "outputs": [
    {
     "name": "stdout",
     "output_type": "stream",
     "text": [
      "Downloading data from https://storage.googleapis.com/tensorflow/tf-keras-datasets/imdb.npz\n",
      "17465344/17464789 [==============================] - 1s 0us/step\n"
     ]
    }
   ],
   "source": [
    "NUM_WORDS = 10000\n",
    "\n",
    "(train_data, train_labels), (test_data, test_labels) = keras.datasets.imdb.load_data(num_words=NUM_WORDS)\n",
    "\n",
    "def multi_hot_sequences(sequences, dimension):\n",
    "    # 形状が (len(sequences), dimension)ですべて0の行列を作る\n",
    "    results = np.zeros((len(sequences), dimension))\n",
    "    for i, word_indices in enumerate(sequences):\n",
    "        results[i, word_indices] = 1.0  # 特定のインデックスに対してresults[i] を１に設定する\n",
    "    return results\n",
    "\n",
    "\n",
    "train_data = multi_hot_sequences(train_data, dimension=NUM_WORDS)\n",
    "test_data = multi_hot_sequences(test_data, dimension=NUM_WORDS)"
   ]
  },
  {
   "cell_type": "markdown",
   "metadata": {},
   "source": [
    "結果として得られるマルチホットベクトルの1つを見てみましょう。単語のインデックスは頻度順にソートされています。このため、インデックスが0に近いほど１が多く出現するはずです。分布を見てみましょう。"
   ]
  },
  {
   "cell_type": "code",
   "execution_count": 8,
   "metadata": {
    "scrolled": true
   },
   "outputs": [
    {
     "data": {
      "text/plain": [
       "[<matplotlib.lines.Line2D at 0x64dc78f50>]"
      ]
     },
     "execution_count": 8,
     "metadata": {},
     "output_type": "execute_result"
    },
    {
     "data": {
      "image/png": "[encoded data removed]",
      "text/plain": [
       "<Figure size 432x288 with 1 Axes>"
      ]
     },
     "metadata": {
      "needs_background": "light"
     },
     "output_type": "display_data"
    }
   ],
   "source": [
    "plt.plot(train_data[0])"
   ]
  },
  {
   "cell_type": "markdown",
   "metadata": {},
   "source": [
    "過学習のデモ\n",
    "過学習を防止するための最も単純な方法は、モデルのサイズ、すなわち、モデル内の学習可能なパラメータの数を小さくすることです（学習パラメータの数は、層の数と層ごとのユニット数で決まります）。ディープラーニングでは、モデルの学習可能なパラメータ数を、しばしばモデルの「キャパシティ」と呼びます。直感的に考えれば、パラメータ数の多いモデルほど「記憶容量」が大きくなり、訓練用のサンプルとその目的変数の間の辞書のようなマッピングをたやすく学習することができます。このマッピングには汎化能力がまったくなく、これまで見たことが無いデータを使って予測をする際には役に立ちません。\n",
    "\n",
    "ディープラーニングのモデルは訓練用データに適応しやすいけれど、本当のチャレレンジは汎化であって適応ではないということを、肝に銘じておく必要があります。\n",
    "\n",
    "一方、ネットワークの記憶容量が限られている場合、前述のようなマッピングを簡単に学習することはできません。損失を減らすためには、より予測能力が高い圧縮された表現を学習しなければなりません。同時に、モデルを小さくしすぎると、訓練用データに適応するのが難しくなります。「多すぎる容量」と「容量不足」の間にちょうどよい容量があるのです。\n",
    "\n",
    "残念ながら、（層の数や、層ごとの大きさといった）モデルの適切なサイズやアーキテクチャを決める魔法の方程式はありません。一連の異なるアーキテクチャを使って実験を行う必要があります。\n",
    "\n",
    "適切なモデルのサイズを見つけるには、比較的少ない層の数とパラメータから始めるのがベストです。それから、検証用データでの損失値の改善が見られなくなるまで、徐々に層の大きさを増やしたり、新たな層を加えたりします。映画レビューの分類ネットワークでこれを試してみましょう。\n",
    "\n",
    "比較基準として、Dense層だけを使ったシンプルなモデルを構築し、その後、それより小さいバージョンと大きいバージョンを作って比較します。\n",
    "\n",
    "比較基準を作る"
   ]
  },
  {
   "cell_type": "code",
   "execution_count": 10,
   "metadata": {},
   "outputs": [
    {
     "name": "stdout",
     "output_type": "stream",
     "text": [
      "Model: \"sequential_1\"\n",
      "_________________________________________________________________\n",
      "Layer (type)                 Output Shape              Param #   \n",
      "=================================================================\n",
      "dense_1 (Dense)              (None, 16)                160016    \n",
      "_________________________________________________________________\n",
      "dense_2 (Dense)              (None, 16)                272       \n",
      "_________________________________________________________________\n",
      "dense_3 (Dense)              (None, 1)                 17        \n",
      "=================================================================\n",
      "Total params: 160,305\n",
      "Trainable params: 160,305\n",
      "Non-trainable params: 0\n",
      "_________________________________________________________________\n"
     ]
    }
   ],
   "source": [
    "baseline_model = keras.Sequential([\n",
    "    # `.summary` を見るために`input_shape`が必要 \n",
    "    keras.layers.Dense(16, activation='relu', input_shape=(NUM_WORDS,)),\n",
    "    keras.layers.Dense(16, activation='relu'),\n",
    "    keras.layers.Dense(1, activation='sigmoid')\n",
    "])\n",
    "\n",
    "baseline_model.compile(optimizer='adam',\n",
    "                       loss='binary_crossentropy',\n",
    "                       metrics=['accuracy', 'binary_crossentropy'])\n",
    "\n",
    "baseline_model.summary()"
   ]
  },
  {
   "cell_type": "code",
   "execution_count": 11,
   "metadata": {},
   "outputs": [
    {
     "name": "stdout",
     "output_type": "stream",
     "text": [
      "Train on 25000 samples, validate on 25000 samples\n",
      "Epoch 1/20\n",
      "25000/25000 - 2s - loss: 0.4898 - accuracy: 0.8040 - binary_crossentropy: 0.4898 - val_loss: 0.3394 - val_accuracy: 0.8767 - val_binary_crossentropy: 0.3394\n",
      "Epoch 2/20\n",
      "25000/25000 - 1s - loss: 0.2526 - accuracy: 0.9110 - binary_crossentropy: 0.2526 - val_loss: 0.2831 - val_accuracy: 0.8879 - val_binary_crossentropy: 0.2831\n",
      "Epoch 3/20\n",
      "25000/25000 - 1s - loss: 0.1860 - accuracy: 0.9364 - binary_crossentropy: 0.1860 - val_loss: 0.2866 - val_accuracy: 0.8860 - val_binary_crossentropy: 0.2866\n",
      "Epoch 4/20\n",
      "25000/25000 - 1s - loss: 0.1476 - accuracy: 0.9498 - binary_crossentropy: 0.1476 - val_loss: 0.3117 - val_accuracy: 0.8797 - val_binary_crossentropy: 0.3117\n",
      "Epoch 5/20\n",
      "25000/25000 - 1s - loss: 0.1225 - accuracy: 0.9596 - binary_crossentropy: 0.1225 - val_loss: 0.3460 - val_accuracy: 0.8722 - val_binary_crossentropy: 0.3460\n",
      "Epoch 6/20\n",
      "25000/25000 - 1s - loss: 0.1023 - accuracy: 0.9675 - binary_crossentropy: 0.1023 - val_loss: 0.3633 - val_accuracy: 0.8722 - val_binary_crossentropy: 0.3633\n",
      "Epoch 7/20\n",
      "25000/25000 - 1s - loss: 0.0845 - accuracy: 0.9749 - binary_crossentropy: 0.0845 - val_loss: 0.3942 - val_accuracy: 0.8676 - val_binary_crossentropy: 0.3942\n",
      "Epoch 8/20\n",
      "25000/25000 - 1s - loss: 0.0714 - accuracy: 0.9805 - binary_crossentropy: 0.0714 - val_loss: 0.4312 - val_accuracy: 0.8661 - val_binary_crossentropy: 0.4312\n",
      "Epoch 9/20\n",
      "25000/25000 - 1s - loss: 0.0593 - accuracy: 0.9847 - binary_crossentropy: 0.0593 - val_loss: 0.4718 - val_accuracy: 0.8616 - val_binary_crossentropy: 0.4718\n",
      "Epoch 10/20\n",
      "25000/25000 - 2s - loss: 0.0478 - accuracy: 0.9902 - binary_crossentropy: 0.0478 - val_loss: 0.5134 - val_accuracy: 0.8589 - val_binary_crossentropy: 0.5134\n",
      "Epoch 11/20\n",
      "25000/25000 - 1s - loss: 0.0391 - accuracy: 0.9927 - binary_crossentropy: 0.0391 - val_loss: 0.5550 - val_accuracy: 0.8561 - val_binary_crossentropy: 0.5550\n",
      "Epoch 12/20\n",
      "25000/25000 - 1s - loss: 0.0310 - accuracy: 0.9950 - binary_crossentropy: 0.0310 - val_loss: 0.5975 - val_accuracy: 0.8550 - val_binary_crossentropy: 0.5975\n",
      "Epoch 13/20\n",
      "25000/25000 - 1s - loss: 0.0242 - accuracy: 0.9970 - binary_crossentropy: 0.0242 - val_loss: 0.6368 - val_accuracy: 0.8539 - val_binary_crossentropy: 0.6368\n",
      "Epoch 14/20\n",
      "25000/25000 - 1s - loss: 0.0188 - accuracy: 0.9981 - binary_crossentropy: 0.0188 - val_loss: 0.6818 - val_accuracy: 0.8530 - val_binary_crossentropy: 0.6818\n",
      "Epoch 15/20\n",
      "25000/25000 - 1s - loss: 0.0141 - accuracy: 0.9988 - binary_crossentropy: 0.0141 - val_loss: 0.7333 - val_accuracy: 0.8515 - val_binary_crossentropy: 0.7333\n",
      "Epoch 16/20\n",
      "25000/25000 - 1s - loss: 0.0106 - accuracy: 0.9994 - binary_crossentropy: 0.0106 - val_loss: 0.7839 - val_accuracy: 0.8497 - val_binary_crossentropy: 0.7839\n",
      "Epoch 17/20\n",
      "25000/25000 - 1s - loss: 0.0079 - accuracy: 0.9998 - binary_crossentropy: 0.0079 - val_loss: 0.8254 - val_accuracy: 0.8504 - val_binary_crossentropy: 0.8254\n",
      "Epoch 18/20\n",
      "25000/25000 - 1s - loss: 0.0060 - accuracy: 0.9998 - binary_crossentropy: 0.0060 - val_loss: 0.8797 - val_accuracy: 0.8492 - val_binary_crossentropy: 0.8797\n",
      "Epoch 19/20\n",
      "25000/25000 - 1s - loss: 0.0047 - accuracy: 0.9999 - binary_crossentropy: 0.0047 - val_loss: 0.9081 - val_accuracy: 0.8499 - val_binary_crossentropy: 0.9081\n",
      "Epoch 20/20\n",
      "25000/25000 - 2s - loss: 0.0037 - accuracy: 1.0000 - binary_crossentropy: 0.0037 - val_loss: 0.9448 - val_accuracy: 0.8498 - val_binary_crossentropy: 0.9448\n"
     ]
    }
   ],
   "source": [
    "baseline_history = baseline_model.fit(train_data,\n",
    "                                      train_labels,\n",
    "                                      epochs=20,\n",
    "                                      batch_size=512,\n",
    "                                      validation_data=(test_data, test_labels),\n",
    "                                      verbose=2)"
   ]
  },
  {
   "cell_type": "markdown",
   "metadata": {},
   "source": [
    "より小さいモデルの構築\n",
    "今作成したばかりの比較基準となるモデルに比べて隠れユニット数が少ないモデルを作りましょう。"
   ]
  },
  {
   "cell_type": "code",
   "execution_count": 12,
   "metadata": {},
   "outputs": [
    {
     "name": "stdout",
     "output_type": "stream",
     "text": [
      "Model: \"sequential_2\"\n",
      "_________________________________________________________________\n",
      "Layer (type)                 Output Shape              Param #   \n",
      "=================================================================\n",
      "dense_4 (Dense)              (None, 4)                 40004     \n",
      "_________________________________________________________________\n",
      "dense_5 (Dense)              (None, 4)                 20        \n",
      "_________________________________________________________________\n",
      "dense_6 (Dense)              (None, 1)                 5         \n",
      "=================================================================\n",
      "Total params: 40,029\n",
      "Trainable params: 40,029\n",
      "Non-trainable params: 0\n",
      "_________________________________________________________________\n"
     ]
    }
   ],
   "source": [
    "smaller_model = keras.Sequential([\n",
    "    keras.layers.Dense(4, activation='relu', input_shape=(NUM_WORDS,)),\n",
    "    keras.layers.Dense(4, activation='relu'),\n",
    "    keras.layers.Dense(1, activation='sigmoid')\n",
    "])\n",
    "\n",
    "smaller_model.compile(optimizer='adam',\n",
    "                      loss='binary_crossentropy',\n",
    "                      metrics=['accuracy', 'binary_crossentropy'])\n",
    "\n",
    "smaller_model.summary()"
   ]
  },
  {
   "cell_type": "code",
   "execution_count": 13,
   "metadata": {},
   "outputs": [
    {
     "name": "stdout",
     "output_type": "stream",
     "text": [
      "Train on 25000 samples, validate on 25000 samples\n",
      "Epoch 1/20\n",
      "25000/25000 - 2s - loss: 0.6367 - accuracy: 0.6161 - binary_crossentropy: 0.6367 - val_loss: 0.5821 - val_accuracy: 0.7338 - val_binary_crossentropy: 0.5821\n",
      "Epoch 2/20\n",
      "25000/25000 - 1s - loss: 0.5297 - accuracy: 0.7986 - binary_crossentropy: 0.5297 - val_loss: 0.5160 - val_accuracy: 0.8260 - val_binary_crossentropy: 0.5160\n",
      "Epoch 3/20\n",
      "25000/25000 - 1s - loss: 0.4691 - accuracy: 0.8664 - binary_crossentropy: 0.4691 - val_loss: 0.4803 - val_accuracy: 0.8577 - val_binary_crossentropy: 0.4803\n",
      "Epoch 4/20\n",
      "25000/25000 - 1s - loss: 0.4283 - accuracy: 0.8987 - binary_crossentropy: 0.4283 - val_loss: 0.4591 - val_accuracy: 0.8665 - val_binary_crossentropy: 0.4591\n",
      "Epoch 5/20\n",
      "25000/25000 - 1s - loss: 0.3979 - accuracy: 0.9186 - binary_crossentropy: 0.3979 - val_loss: 0.4448 - val_accuracy: 0.8736 - val_binary_crossentropy: 0.4448\n",
      "Epoch 6/20\n",
      "25000/25000 - 1s - loss: 0.3727 - accuracy: 0.9310 - binary_crossentropy: 0.3727 - val_loss: 0.4342 - val_accuracy: 0.8787 - val_binary_crossentropy: 0.4342\n",
      "Epoch 7/20\n",
      "25000/25000 - 1s - loss: 0.3506 - accuracy: 0.9424 - binary_crossentropy: 0.3506 - val_loss: 0.4282 - val_accuracy: 0.8787 - val_binary_crossentropy: 0.4282\n",
      "Epoch 8/20\n",
      "25000/25000 - 1s - loss: 0.3309 - accuracy: 0.9497 - binary_crossentropy: 0.3309 - val_loss: 0.4284 - val_accuracy: 0.8742 - val_binary_crossentropy: 0.4284\n",
      "Epoch 9/20\n",
      "25000/25000 - 2s - loss: 0.3129 - accuracy: 0.9571 - binary_crossentropy: 0.3129 - val_loss: 0.4222 - val_accuracy: 0.8777 - val_binary_crossentropy: 0.4222\n",
      "Epoch 10/20\n",
      "25000/25000 - 2s - loss: 0.2978 - accuracy: 0.9613 - binary_crossentropy: 0.2978 - val_loss: 0.4233 - val_accuracy: 0.8756 - val_binary_crossentropy: 0.4233\n",
      "Epoch 11/20\n",
      "25000/25000 - 1s - loss: 0.2827 - accuracy: 0.9674 - binary_crossentropy: 0.2827 - val_loss: 0.4269 - val_accuracy: 0.8737 - val_binary_crossentropy: 0.4269\n",
      "Epoch 12/20\n",
      "25000/25000 - 1s - loss: 0.2688 - accuracy: 0.9709 - binary_crossentropy: 0.2688 - val_loss: 0.4239 - val_accuracy: 0.8726 - val_binary_crossentropy: 0.4239\n",
      "Epoch 13/20\n",
      "25000/25000 - 2s - loss: 0.2564 - accuracy: 0.9744 - binary_crossentropy: 0.2564 - val_loss: 0.4321 - val_accuracy: 0.8704 - val_binary_crossentropy: 0.4321\n",
      "Epoch 14/20\n",
      "25000/25000 - 1s - loss: 0.2445 - accuracy: 0.9762 - binary_crossentropy: 0.2445 - val_loss: 0.4392 - val_accuracy: 0.8693 - val_binary_crossentropy: 0.4392\n",
      "Epoch 15/20\n",
      "25000/25000 - 2s - loss: 0.2336 - accuracy: 0.9793 - binary_crossentropy: 0.2336 - val_loss: 0.4403 - val_accuracy: 0.8687 - val_binary_crossentropy: 0.4403\n",
      "Epoch 16/20\n",
      "25000/25000 - 2s - loss: 0.2235 - accuracy: 0.9818 - binary_crossentropy: 0.2235 - val_loss: 0.4507 - val_accuracy: 0.8680 - val_binary_crossentropy: 0.4507\n",
      "Epoch 17/20\n",
      "25000/25000 - 1s - loss: 0.2140 - accuracy: 0.9826 - binary_crossentropy: 0.2140 - val_loss: 0.4469 - val_accuracy: 0.8687 - val_binary_crossentropy: 0.4469\n",
      "Epoch 18/20\n",
      "25000/25000 - 2s - loss: 0.2056 - accuracy: 0.9840 - binary_crossentropy: 0.2056 - val_loss: 0.4562 - val_accuracy: 0.8678 - val_binary_crossentropy: 0.4562\n",
      "Epoch 19/20\n",
      "25000/25000 - 1s - loss: 0.1973 - accuracy: 0.9846 - binary_crossentropy: 0.1973 - val_loss: 0.4565 - val_accuracy: 0.8662 - val_binary_crossentropy: 0.4565\n",
      "Epoch 20/20\n",
      "25000/25000 - 1s - loss: 0.1898 - accuracy: 0.9860 - binary_crossentropy: 0.1898 - val_loss: 0.4672 - val_accuracy: 0.8660 - val_binary_crossentropy: 0.4672\n"
     ]
    }
   ],
   "source": [
    "smaller_history = smaller_model.fit(train_data,\n",
    "                                    train_labels,\n",
    "                                    epochs=20,\n",
    "                                    batch_size=512,\n",
    "                                    validation_data=(test_data, test_labels),\n",
    "                                    verbose=2)"
   ]
  },
  {
   "cell_type": "markdown",
   "metadata": {},
   "source": [
    "練習として、より大きなモデルを作成し、どれほど急速に過学習が起きるかを見ることもできます。次はこのベンチマークに、この問題が必要とするよりはるかに容量の大きなネットワークを追加しましょう。"
   ]
  },
  {
   "cell_type": "code",
   "execution_count": 14,
   "metadata": {},
   "outputs": [
    {
     "name": "stdout",
     "output_type": "stream",
     "text": [
      "Model: \"sequential_3\"\n",
      "_________________________________________________________________\n",
      "Layer (type)                 Output Shape              Param #   \n",
      "=================================================================\n",
      "dense_7 (Dense)              (None, 512)               5120512   \n",
      "_________________________________________________________________\n",
      "dense_8 (Dense)              (None, 512)               262656    \n",
      "_________________________________________________________________\n",
      "dense_9 (Dense)              (None, 1)                 513       \n",
      "=================================================================\n",
      "Total params: 5,383,681\n",
      "Trainable params: 5,383,681\n",
      "Non-trainable params: 0\n",
      "_________________________________________________________________\n"
     ]
    }
   ],
   "source": [
    "bigger_model = keras.models.Sequential([\n",
    "    keras.layers.Dense(512, activation='relu', input_shape=(NUM_WORDS,)),\n",
    "    keras.layers.Dense(512, activation='relu'),\n",
    "    keras.layers.Dense(1, activation='sigmoid')\n",
    "])\n",
    "\n",
    "bigger_model.compile(optimizer='adam',\n",
    "                     loss='binary_crossentropy',\n",
    "                     metrics=['accuracy','binary_crossentropy'])\n",
    "\n",
    "bigger_model.summary()"
   ]
  },
  {
   "cell_type": "code",
   "execution_count": 15,
   "metadata": {},
   "outputs": [
    {
     "name": "stdout",
     "output_type": "stream",
     "text": [
      "Train on 25000 samples, validate on 25000 samples\n",
      "Epoch 1/20\n",
      "25000/25000 - 7s - loss: 0.3455 - accuracy: 0.8520 - binary_crossentropy: 0.3455 - val_loss: 0.2902 - val_accuracy: 0.8813 - val_binary_crossentropy: 0.2902\n",
      "Epoch 2/20\n",
      "25000/25000 - 6s - loss: 0.1399 - accuracy: 0.9480 - binary_crossentropy: 0.1399 - val_loss: 0.3310 - val_accuracy: 0.8724 - val_binary_crossentropy: 0.3310\n",
      "Epoch 3/20\n",
      "25000/25000 - 8s - loss: 0.0441 - accuracy: 0.9868 - binary_crossentropy: 0.0441 - val_loss: 0.4359 - val_accuracy: 0.8688 - val_binary_crossentropy: 0.4359\n",
      "Epoch 4/20\n",
      "25000/25000 - 8s - loss: 0.0064 - accuracy: 0.9990 - binary_crossentropy: 0.0064 - val_loss: 0.6048 - val_accuracy: 0.8698 - val_binary_crossentropy: 0.6048\n",
      "Epoch 5/20\n",
      "25000/25000 - 7s - loss: 0.0015 - accuracy: 0.9999 - binary_crossentropy: 0.0015 - val_loss: 0.6843 - val_accuracy: 0.8699 - val_binary_crossentropy: 0.6843\n",
      "Epoch 6/20\n",
      "25000/25000 - 7s - loss: 2.6908e-04 - accuracy: 1.0000 - binary_crossentropy: 2.6908e-04 - val_loss: 0.7399 - val_accuracy: 0.8691 - val_binary_crossentropy: 0.7399\n",
      "Epoch 7/20\n",
      "25000/25000 - 7s - loss: 1.3421e-04 - accuracy: 1.0000 - binary_crossentropy: 1.3421e-04 - val_loss: 0.7754 - val_accuracy: 0.8702 - val_binary_crossentropy: 0.7754\n",
      "Epoch 8/20\n",
      "25000/25000 - 7s - loss: 9.2128e-05 - accuracy: 1.0000 - binary_crossentropy: 9.2128e-05 - val_loss: 0.8010 - val_accuracy: 0.8702 - val_binary_crossentropy: 0.8010\n",
      "Epoch 9/20\n",
      "25000/25000 - 7s - loss: 6.9477e-05 - accuracy: 1.0000 - binary_crossentropy: 6.9477e-05 - val_loss: 0.8227 - val_accuracy: 0.8698 - val_binary_crossentropy: 0.8227\n",
      "Epoch 10/20\n",
      "25000/25000 - 7s - loss: 5.4801e-05 - accuracy: 1.0000 - binary_crossentropy: 5.4801e-05 - val_loss: 0.8401 - val_accuracy: 0.8700 - val_binary_crossentropy: 0.8401\n",
      "Epoch 11/20\n",
      "25000/25000 - 7s - loss: 4.4548e-05 - accuracy: 1.0000 - binary_crossentropy: 4.4548e-05 - val_loss: 0.8556 - val_accuracy: 0.8700 - val_binary_crossentropy: 0.8556\n",
      "Epoch 12/20\n",
      "25000/25000 - 7s - loss: 3.7017e-05 - accuracy: 1.0000 - binary_crossentropy: 3.7017e-05 - val_loss: 0.8701 - val_accuracy: 0.8700 - val_binary_crossentropy: 0.8701\n",
      "Epoch 13/20\n",
      "25000/25000 - 7s - loss: 3.1227e-05 - accuracy: 1.0000 - binary_crossentropy: 3.1227e-05 - val_loss: 0.8828 - val_accuracy: 0.8702 - val_binary_crossentropy: 0.8828\n",
      "Epoch 14/20\n",
      "25000/25000 - 7s - loss: 2.6703e-05 - accuracy: 1.0000 - binary_crossentropy: 2.6703e-05 - val_loss: 0.8945 - val_accuracy: 0.8703 - val_binary_crossentropy: 0.8945\n",
      "Epoch 15/20\n",
      "25000/25000 - 7s - loss: 2.3136e-05 - accuracy: 1.0000 - binary_crossentropy: 2.3136e-05 - val_loss: 0.9059 - val_accuracy: 0.8699 - val_binary_crossentropy: 0.9059\n",
      "Epoch 16/20\n",
      "25000/25000 - 7s - loss: 2.0171e-05 - accuracy: 1.0000 - binary_crossentropy: 2.0171e-05 - val_loss: 0.9165 - val_accuracy: 0.8697 - val_binary_crossentropy: 0.9165\n",
      "Epoch 17/20\n",
      "25000/25000 - 7s - loss: 1.7756e-05 - accuracy: 1.0000 - binary_crossentropy: 1.7756e-05 - val_loss: 0.9255 - val_accuracy: 0.8700 - val_binary_crossentropy: 0.9255\n",
      "Epoch 18/20\n",
      "25000/25000 - 7s - loss: 1.5736e-05 - accuracy: 1.0000 - binary_crossentropy: 1.5736e-05 - val_loss: 0.9351 - val_accuracy: 0.8697 - val_binary_crossentropy: 0.9351\n",
      "Epoch 19/20\n",
      "25000/25000 - 7s - loss: 1.4039e-05 - accuracy: 1.0000 - binary_crossentropy: 1.4039e-05 - val_loss: 0.9436 - val_accuracy: 0.8700 - val_binary_crossentropy: 0.9436\n",
      "Epoch 20/20\n",
      "25000/25000 - 7s - loss: 1.2573e-05 - accuracy: 1.0000 - binary_crossentropy: 1.2573e-05 - val_loss: 0.9519 - val_accuracy: 0.8697 - val_binary_crossentropy: 0.9519\n"
     ]
    }
   ],
   "source": [
    "bigger_history = bigger_model.fit(train_data, train_labels,\n",
    "                                  epochs=20,\n",
    "                                  batch_size=512,\n",
    "                                  validation_data=(test_data, test_labels),\n",
    "                                  verbose=2)"
   ]
  },
  {
   "cell_type": "markdown",
   "metadata": {},
   "source": [
    "訓練時と検証時の損失をグラフにする\n",
    "実線は訓練用データセットの損失、破線は検証用データセットでの損失です（検証用データでの損失が小さい方が良いモデルです）。これをみると、小さいネットワークのほうが比較基準のモデルよりも過学習が始まるのが遅いことがわかります（4エポックではなく6エポック後）。また、過学習が始まっても性能の低下がよりゆっくりしています。"
   ]
  },
  {
   "cell_type": "code",
   "execution_count": 17,
   "metadata": {},
   "outputs": [
    {
     "data": {
      "image/png": "[encoded data removed]",
      "text/plain": [
       "<Figure size 1152x720 with 1 Axes>"
      ]
     },
     "metadata": {
      "needs_background": "light"
     },
     "output_type": "display_data"
    }
   ],
   "source": [
    "def plot_history(histories, key='binary_crossentropy'):\n",
    "  plt.figure(figsize=(16,10))\n",
    "    \n",
    "  for name, history in histories:\n",
    "    val = plt.plot(history.epoch, history.history['val_'+key],\n",
    "                   '--', label=name.title()+' Val')\n",
    "    plt.plot(history.epoch, history.history[key], color=val[0].get_color(),\n",
    "             label=name.title()+' Train')\n",
    "\n",
    "  plt.xlabel('Epochs')\n",
    "  plt.ylabel(key.replace('_',' ').title())\n",
    "  plt.legend()\n",
    "\n",
    "  plt.xlim([0,max(history.epoch)])\n",
    "\n",
    "\n",
    "plot_history([('baseline', baseline_history),\n",
    "              ('smaller', smaller_history),\n",
    "              ('bigger', bigger_history)])"
   ]
  },
  {
   "cell_type": "markdown",
   "metadata": {},
   "source": [
    "より大きなネットワークでは、すぐに、1エポックで過学習が始まり、その度合も強いことに注目してください。ネットワークの容量が大きいほど訓練用データをモデル化するスピードが早くなり（結果として訓練時の損失値が小さくなり）ますが、より過学習しやすく（結果として訓練時の損失値と検証時の損失値が大きく乖離しやすく）なります。"
   ]
  },
  {
   "cell_type": "markdown",
   "metadata": {},
   "source": [
    "重みの正則化を加える\n",
    "「オッカムの剃刀」の原則をご存知でしょうか。何かの説明が2つあるとすると、最も正しいと考えられる説明は、仮定の数が最も少ない「一番単純な」説明だというものです。この原則は、ニューラルネットワークを使って学習されたモデルにも当てはまります。ある訓練用データとネットワーク構造があって、そのデータを説明できる重みの集合が複数ある時（つまり、複数のモデルがある時）、単純なモデルのほうが複雑なものよりも過学習しにくいのです。\n",
    "\n",
    "ここで言う「単純なモデル」とは、パラメータ値の分布のエントロピーが小さいもの（あるいは、上記で見たように、そもそもパラメータの数が少ないもの）です。したがって、過学習を緩和するための一般的な手法は、重みが小さい値のみをとることで、重み値の分布がより整然となる（正則）様に制約を与えるものです。これを「重みの正則化」と呼ばれ、ネットワークの損失関数に、重みの大きさに関連するコストを加えることで行われます。このコストには2つの種類があります。\n",
    "\n",
    "L1正則化 重み係数の絶対値に比例するコストを加える（重みの「L1ノルム」と呼ばれる）。\n",
    "\n",
    "L2正則化 重み係数の二乗に比例するコストを加える（重み係数の二乗「L2ノルム」と呼ばれる）。L2正則化はニューラルネットワーク用語では重み減衰（Weight Decay）と呼ばれる。呼び方が違うので混乱しないように。重み減衰は数学的にはL2正則化と同義である。\n",
    "\n",
    "L1正則化は重みパラメータの一部を0にすることでモデルを疎にする効果があります。L2正則化は重みパラメータにペナルティを加えますがモデルを疎にすることはありません。これは、L2正則化のほうが一般的である理由の一つです。\n",
    "\n",
    "tf.kerasでは、重みの正則化をするために、重み正則化のインスタンスをキーワード引数として層に加えます。ここでは、L2正則化を追加してみましょう。"
   ]
  },
  {
   "cell_type": "markdown",
   "metadata": {},
   "source": [
    "l2(0.001)というのは、層の重み行列の係数全てに対して0.001 * 重み係数の値 **2をネットワークの損失値合計に加えることを意味します。このペナルティは訓練時のみに加えられるため、このネットワークの損失値は、訓練時にはテスト時に比べて大きくなることに注意してください。\n",
    "\n",
    "L2正則化の影響を見てみましょう。"
   ]
  },
  {
   "cell_type": "code",
   "execution_count": 20,
   "metadata": {},
   "outputs": [
    {
     "name": "stdout",
     "output_type": "stream",
     "text": [
      "Train on 25000 samples, validate on 25000 samples\n",
      "Epoch 1/20\n",
      "25000/25000 - 2s - loss: 0.5425 - accuracy: 0.7998 - binary_crossentropy: 0.5023 - val_loss: 0.3993 - val_accuracy: 0.8756 - val_binary_crossentropy: 0.3573\n",
      "Epoch 2/20\n",
      "25000/25000 - 2s - loss: 0.3157 - accuracy: 0.9087 - binary_crossentropy: 0.2688 - val_loss: 0.3389 - val_accuracy: 0.8886 - val_binary_crossentropy: 0.2883\n",
      "Epoch 3/20\n",
      "25000/25000 - 2s - loss: 0.2594 - accuracy: 0.9299 - binary_crossentropy: 0.2059 - val_loss: 0.3452 - val_accuracy: 0.8845 - val_binary_crossentropy: 0.2897\n",
      "Epoch 4/20\n",
      "25000/25000 - 2s - loss: 0.2356 - accuracy: 0.9392 - binary_crossentropy: 0.1783 - val_loss: 0.3510 - val_accuracy: 0.8838 - val_binary_crossentropy: 0.2924\n",
      "Epoch 5/20\n",
      "25000/25000 - 2s - loss: 0.2195 - accuracy: 0.9458 - binary_crossentropy: 0.1597 - val_loss: 0.3653 - val_accuracy: 0.8798 - val_binary_crossentropy: 0.3050\n",
      "Epoch 6/20\n",
      "25000/25000 - 2s - loss: 0.2080 - accuracy: 0.9490 - binary_crossentropy: 0.1465 - val_loss: 0.3857 - val_accuracy: 0.8755 - val_binary_crossentropy: 0.3237\n",
      "Epoch 7/20\n",
      "25000/25000 - 2s - loss: 0.1987 - accuracy: 0.9547 - binary_crossentropy: 0.1361 - val_loss: 0.3985 - val_accuracy: 0.8728 - val_binary_crossentropy: 0.3354\n",
      "Epoch 8/20\n",
      "25000/25000 - 2s - loss: 0.1937 - accuracy: 0.9549 - binary_crossentropy: 0.1299 - val_loss: 0.4130 - val_accuracy: 0.8711 - val_binary_crossentropy: 0.3488\n",
      "Epoch 9/20\n",
      "25000/25000 - 2s - loss: 0.1885 - accuracy: 0.9584 - binary_crossentropy: 0.1235 - val_loss: 0.4232 - val_accuracy: 0.8680 - val_binary_crossentropy: 0.3576\n",
      "Epoch 10/20\n",
      "25000/25000 - 2s - loss: 0.1811 - accuracy: 0.9616 - binary_crossentropy: 0.1154 - val_loss: 0.4385 - val_accuracy: 0.8679 - val_binary_crossentropy: 0.3726\n",
      "Epoch 11/20\n",
      "25000/25000 - 2s - loss: 0.1774 - accuracy: 0.9637 - binary_crossentropy: 0.1109 - val_loss: 0.4553 - val_accuracy: 0.8652 - val_binary_crossentropy: 0.3887\n",
      "Epoch 12/20\n",
      "25000/25000 - 1s - loss: 0.1738 - accuracy: 0.9655 - binary_crossentropy: 0.1067 - val_loss: 0.4611 - val_accuracy: 0.8607 - val_binary_crossentropy: 0.3938\n",
      "Epoch 13/20\n",
      "25000/25000 - 2s - loss: 0.1693 - accuracy: 0.9667 - binary_crossentropy: 0.1016 - val_loss: 0.4719 - val_accuracy: 0.8606 - val_binary_crossentropy: 0.4041\n",
      "Epoch 14/20\n",
      "25000/25000 - 2s - loss: 0.1636 - accuracy: 0.9695 - binary_crossentropy: 0.0957 - val_loss: 0.4821 - val_accuracy: 0.8627 - val_binary_crossentropy: 0.4144\n",
      "Epoch 15/20\n",
      "25000/25000 - 2s - loss: 0.1604 - accuracy: 0.9697 - binary_crossentropy: 0.0925 - val_loss: 0.4952 - val_accuracy: 0.8582 - val_binary_crossentropy: 0.4271\n",
      "Epoch 16/20\n",
      "25000/25000 - 2s - loss: 0.1574 - accuracy: 0.9717 - binary_crossentropy: 0.0891 - val_loss: 0.5068 - val_accuracy: 0.8557 - val_binary_crossentropy: 0.4384\n",
      "Epoch 17/20\n",
      "25000/25000 - 2s - loss: 0.1537 - accuracy: 0.9727 - binary_crossentropy: 0.0851 - val_loss: 0.5116 - val_accuracy: 0.8586 - val_binary_crossentropy: 0.4431\n",
      "Epoch 18/20\n",
      "25000/25000 - 2s - loss: 0.1487 - accuracy: 0.9750 - binary_crossentropy: 0.0802 - val_loss: 0.5187 - val_accuracy: 0.8569 - val_binary_crossentropy: 0.4501\n",
      "Epoch 19/20\n",
      "25000/25000 - 2s - loss: 0.1482 - accuracy: 0.9750 - binary_crossentropy: 0.0794 - val_loss: 0.5438 - val_accuracy: 0.8572 - val_binary_crossentropy: 0.4747\n",
      "Epoch 20/20\n",
      "25000/25000 - 1s - loss: 0.1455 - accuracy: 0.9756 - binary_crossentropy: 0.0761 - val_loss: 0.5449 - val_accuracy: 0.8557 - val_binary_crossentropy: 0.4752\n"
     ]
    }
   ],
   "source": [
    "l2_model = keras.models.Sequential([\n",
    "    keras.layers.Dense(16, kernel_regularizer=keras.regularizers.l2(0.001),\n",
    "                       activation='relu', input_shape=(NUM_WORDS,)),\n",
    "    keras.layers.Dense(16, kernel_regularizer=keras.regularizers.l2(0.001),\n",
    "                       activation='relu'),\n",
    "    keras.layers.Dense(1, activation='sigmoid')\n",
    "])\n",
    "\n",
    "l2_model.compile(optimizer='adam',\n",
    "                 loss='binary_crossentropy',\n",
    "                 metrics=['accuracy', 'binary_crossentropy'])\n",
    "\n",
    "l2_model_history = l2_model.fit(train_data, train_labels,\n",
    "                                epochs=20,\n",
    "                                batch_size=512,\n",
    "                                validation_data=(test_data, test_labels),\n",
    "                                verbose=2)"
   ]
  },
  {
   "cell_type": "code",
   "execution_count": 22,
   "metadata": {},
   "outputs": [
    {
     "data": {
      "image/png": "[encoded data removed]",
      "text/plain": [
       "<Figure size 1152x720 with 1 Axes>"
      ]
     },
     "metadata": {
      "needs_background": "light"
     },
     "output_type": "display_data"
    }
   ],
   "source": [
    "plot_history([('baseline', baseline_history),\n",
    "              ('l2', l2_model_history)])"
   ]
  },
  {
   "cell_type": "markdown",
   "metadata": {},
   "source": [
    "ドロップアウトを追加する\n",
    "ドロップアウトは、ニューラルネットワークの正則化テクニックとして最もよく使われる手法の一つです。この手法は、トロント大学のヒントンと彼の学生が開発したものです。ドロップアウトは層に適用するもので、訓練時に層から出力された特徴量に対してランダムに「ドロップアウト（つまりゼロ化）」を行うものです。例えば、ある層が訓練時にある入力サンプルに対して、普通は[0.2, 0.5, 1.3, 0.8, 1.1] というベクトルを出力するとします。ドロップアウトを適用すると、このベクトルは例えば[0, 0.5, 1.3, 0, 1.1]のようにランダムに散らばったいくつかのゼロを含むようになります。「ドロップアウト率」はゼロ化される特徴の割合で、通常は0.2から0.5の間に設定します。テスト時は、どのユニットもドロップアウトされず、代わりに出力値がドロップアウト率と同じ比率でスケールダウンされます。これは、訓練時に比べてたくさんのユニットがアクティブであることに対してバランスをとるためです。\n",
    "\n",
    "tf.kerasでは、Dropout層を使ってドロップアウトをネットワークに導入できます。ドロップアウト層は、その直前の層の出力に対してドロップアウトを適用します。\n",
    "\n",
    "それでは、IMDBネットワークに2つのドロップアウト層を追加しましょう。"
   ]
  },
  {
   "cell_type": "code",
   "execution_count": 23,
   "metadata": {},
   "outputs": [
    {
     "name": "stdout",
     "output_type": "stream",
     "text": [
      "Train on 25000 samples, validate on 25000 samples\n",
      "Epoch 1/20\n",
      "25000/25000 - 2s - loss: 0.6244 - accuracy: 0.6463 - binary_crossentropy: 0.6244 - val_loss: 0.4919 - val_accuracy: 0.8517 - val_binary_crossentropy: 0.4919\n",
      "Epoch 2/20\n",
      "25000/25000 - 2s - loss: 0.4774 - accuracy: 0.7934 - binary_crossentropy: 0.4774 - val_loss: 0.3664 - val_accuracy: 0.8794 - val_binary_crossentropy: 0.3664\n",
      "Epoch 3/20\n",
      "25000/25000 - 2s - loss: 0.3907 - accuracy: 0.8444 - binary_crossentropy: 0.3907 - val_loss: 0.3130 - val_accuracy: 0.8860 - val_binary_crossentropy: 0.3130\n",
      "Epoch 4/20\n",
      "25000/25000 - 2s - loss: 0.3311 - accuracy: 0.8748 - binary_crossentropy: 0.3311 - val_loss: 0.2845 - val_accuracy: 0.8874 - val_binary_crossentropy: 0.2845\n",
      "Epoch 5/20\n",
      "25000/25000 - 2s - loss: 0.2805 - accuracy: 0.9017 - binary_crossentropy: 0.2805 - val_loss: 0.2775 - val_accuracy: 0.8886 - val_binary_crossentropy: 0.2775\n",
      "Epoch 6/20\n",
      "25000/25000 - 2s - loss: 0.2443 - accuracy: 0.9154 - binary_crossentropy: 0.2443 - val_loss: 0.2826 - val_accuracy: 0.8871 - val_binary_crossentropy: 0.2826\n",
      "Epoch 7/20\n",
      "25000/25000 - 2s - loss: 0.2158 - accuracy: 0.9308 - binary_crossentropy: 0.2158 - val_loss: 0.2885 - val_accuracy: 0.8852 - val_binary_crossentropy: 0.2885\n",
      "Epoch 8/20\n",
      "25000/25000 - 2s - loss: 0.1919 - accuracy: 0.9385 - binary_crossentropy: 0.1919 - val_loss: 0.3101 - val_accuracy: 0.8836 - val_binary_crossentropy: 0.3101\n",
      "Epoch 9/20\n",
      "25000/25000 - 2s - loss: 0.1683 - accuracy: 0.9467 - binary_crossentropy: 0.1683 - val_loss: 0.3278 - val_accuracy: 0.8828 - val_binary_crossentropy: 0.3278\n",
      "Epoch 10/20\n",
      "25000/25000 - 2s - loss: 0.1523 - accuracy: 0.9514 - binary_crossentropy: 0.1523 - val_loss: 0.3516 - val_accuracy: 0.8828 - val_binary_crossentropy: 0.3516\n",
      "Epoch 11/20\n",
      "25000/25000 - 2s - loss: 0.1363 - accuracy: 0.9555 - binary_crossentropy: 0.1363 - val_loss: 0.3773 - val_accuracy: 0.8783 - val_binary_crossentropy: 0.3773\n",
      "Epoch 12/20\n",
      "25000/25000 - 2s - loss: 0.1232 - accuracy: 0.9597 - binary_crossentropy: 0.1232 - val_loss: 0.4074 - val_accuracy: 0.8806 - val_binary_crossentropy: 0.4074\n",
      "Epoch 13/20\n",
      "25000/25000 - 2s - loss: 0.1129 - accuracy: 0.9620 - binary_crossentropy: 0.1129 - val_loss: 0.3995 - val_accuracy: 0.8788 - val_binary_crossentropy: 0.3995\n",
      "Epoch 14/20\n",
      "25000/25000 - 2s - loss: 0.1059 - accuracy: 0.9640 - binary_crossentropy: 0.1059 - val_loss: 0.4276 - val_accuracy: 0.8787 - val_binary_crossentropy: 0.4276\n",
      "Epoch 15/20\n",
      "25000/25000 - 2s - loss: 0.0967 - accuracy: 0.9662 - binary_crossentropy: 0.0967 - val_loss: 0.4518 - val_accuracy: 0.8781 - val_binary_crossentropy: 0.4518\n",
      "Epoch 16/20\n",
      "25000/25000 - 2s - loss: 0.0895 - accuracy: 0.9691 - binary_crossentropy: 0.0895 - val_loss: 0.4794 - val_accuracy: 0.8774 - val_binary_crossentropy: 0.4794\n",
      "Epoch 17/20\n",
      "25000/25000 - 2s - loss: 0.0858 - accuracy: 0.9700 - binary_crossentropy: 0.0858 - val_loss: 0.4871 - val_accuracy: 0.8774 - val_binary_crossentropy: 0.4871\n",
      "Epoch 18/20\n",
      "25000/25000 - 2s - loss: 0.0806 - accuracy: 0.9718 - binary_crossentropy: 0.0806 - val_loss: 0.5136 - val_accuracy: 0.8768 - val_binary_crossentropy: 0.5136\n",
      "Epoch 19/20\n",
      "25000/25000 - 2s - loss: 0.0782 - accuracy: 0.9709 - binary_crossentropy: 0.0782 - val_loss: 0.5483 - val_accuracy: 0.8755 - val_binary_crossentropy: 0.5483\n",
      "Epoch 20/20\n",
      "25000/25000 - 2s - loss: 0.0741 - accuracy: 0.9732 - binary_crossentropy: 0.0741 - val_loss: 0.5491 - val_accuracy: 0.8757 - val_binary_crossentropy: 0.5491\n"
     ]
    }
   ],
   "source": [
    "dpt_model = keras.models.Sequential([\n",
    "    keras.layers.Dense(16, activation='relu', input_shape=(NUM_WORDS,)),\n",
    "    keras.layers.Dropout(0.5),\n",
    "    keras.layers.Dense(16, activation='relu'),\n",
    "    keras.layers.Dropout(0.5),\n",
    "    keras.layers.Dense(1, activation='sigmoid')\n",
    "])\n",
    "\n",
    "dpt_model.compile(optimizer='adam',\n",
    "                  loss='binary_crossentropy',\n",
    "                  metrics=['accuracy','binary_crossentropy'])\n",
    "\n",
    "dpt_model_history = dpt_model.fit(train_data, train_labels,\n",
    "                                  epochs=20,\n",
    "                                  batch_size=512,\n",
    "                                  validation_data=(test_data, test_labels),\n",
    "                                  verbose=2)\n"
   ]
  },
  {
   "cell_type": "code",
   "execution_count": 24,
   "metadata": {},
   "outputs": [
    {
     "data": {
      "image/png": "[encoded data removed]",
      "text/plain": [
       "<Figure size 1152x720 with 1 Axes>"
      ]
     },
     "metadata": {
      "needs_background": "light"
     },
     "output_type": "display_data"
    }
   ],
   "source": [
    "plot_history([('baseline', baseline_history),\n",
    "              ('dropout', dpt_model_history)])"
   ]
  },
  {
   "cell_type": "markdown",
   "metadata": {},
   "source": [
    "ドロップアウトを追加することで、比較対象モデルより明らかに改善が見られます。\n",
    "\n",
    "まとめ：ニューラルネットワークにおいて過学習を防ぐ最も一般的な方法は次のとおりです。\n",
    "\n",
    "訓練データを増やす\n",
    "ネットワークの容量をへらす\n",
    "重みの正則化を行う\n",
    "ドロップアウトを追加する\n",
    "このガイドで触れていない２つの重要なアプローチがあります。データ拡張とバッチ正規化です。"
   ]
  },
  {
   "cell_type": "markdown",
   "metadata": {},
   "source": [
    "# 【問題3】Iris（2値分類）をKerasで学習"
   ]
  },
  {
   "cell_type": "markdown",
   "metadata": {},
   "source": [
    "TensorFlowによるIrisデータセットに対する2値分類をKerasに書き換えてください。\n",
    "\n"
   ]
  },
  {
   "cell_type": "code",
   "execution_count": 8,
   "metadata": {},
   "outputs": [
    {
     "name": "stdout",
     "output_type": "stream",
     "text": [
      "Train on 80 samples\n",
      "Epoch 1/30\n",
      "80/80 [==============================] - 0s 5ms/sample - loss: 0.9836 - accuracy: 0.5000\n",
      "Epoch 2/30\n",
      "80/80 [==============================] - 0s 87us/sample - loss: 0.8321 - accuracy: 0.5000\n",
      "Epoch 3/30\n",
      "80/80 [==============================] - 0s 90us/sample - loss: 0.7349 - accuracy: 0.5000\n",
      "Epoch 4/30\n",
      "80/80 [==============================] - 0s 89us/sample - loss: 0.7042 - accuracy: 0.4375\n",
      "Epoch 5/30\n",
      "80/80 [==============================] - 0s 146us/sample - loss: 0.7063 - accuracy: 0.5000\n",
      "Epoch 6/30\n",
      "80/80 [==============================] - 0s 110us/sample - loss: 0.7141 - accuracy: 0.5000\n",
      "Epoch 7/30\n",
      "80/80 [==============================] - 0s 266us/sample - loss: 0.7141 - accuracy: 0.5000\n",
      "Epoch 8/30\n",
      "80/80 [==============================] - 0s 106us/sample - loss: 0.7046 - accuracy: 0.5000\n",
      "Epoch 9/30\n",
      "80/80 [==============================] - 0s 113us/sample - loss: 0.6938 - accuracy: 0.5000\n",
      "Epoch 10/30\n",
      "80/80 [==============================] - 0s 77us/sample - loss: 0.6847 - accuracy: 0.5000\n",
      "Epoch 11/30\n",
      "80/80 [==============================] - 0s 198us/sample - loss: 0.6816 - accuracy: 0.5125\n",
      "Epoch 12/30\n",
      "80/80 [==============================] - 0s 85us/sample - loss: 0.6795 - accuracy: 0.7125\n",
      "Epoch 13/30\n",
      "80/80 [==============================] - 0s 64us/sample - loss: 0.6764 - accuracy: 0.7500\n",
      "Epoch 14/30\n",
      "80/80 [==============================] - 0s 65us/sample - loss: 0.6708 - accuracy: 0.8125\n",
      "Epoch 15/30\n",
      "80/80 [==============================] - 0s 105us/sample - loss: 0.6674 - accuracy: 0.5875\n",
      "Epoch 16/30\n",
      "80/80 [==============================] - 0s 97us/sample - loss: 0.6610 - accuracy: 0.5250\n",
      "Epoch 17/30\n",
      "80/80 [==============================] - 0s 68us/sample - loss: 0.6584 - accuracy: 0.5250\n",
      "Epoch 18/30\n",
      "80/80 [==============================] - 0s 73us/sample - loss: 0.6538 - accuracy: 0.5250\n",
      "Epoch 19/30\n",
      "80/80 [==============================] - 0s 106us/sample - loss: 0.6505 - accuracy: 0.5375\n",
      "Epoch 20/30\n",
      "80/80 [==============================] - 0s 89us/sample - loss: 0.6472 - accuracy: 0.6125\n",
      "Epoch 21/30\n",
      "80/80 [==============================] - 0s 111us/sample - loss: 0.6441 - accuracy: 0.5875\n",
      "Epoch 22/30\n",
      "80/80 [==============================] - 0s 221us/sample - loss: 0.6404 - accuracy: 0.6625\n",
      "Epoch 23/30\n",
      "80/80 [==============================] - 0s 72us/sample - loss: 0.6358 - accuracy: 0.6375\n",
      "Epoch 24/30\n",
      "80/80 [==============================] - 0s 83us/sample - loss: 0.6318 - accuracy: 0.5750\n",
      "Epoch 25/30\n",
      "80/80 [==============================] - 0s 79us/sample - loss: 0.6283 - accuracy: 0.5750\n",
      "Epoch 26/30\n",
      "80/80 [==============================] - 0s 96us/sample - loss: 0.6246 - accuracy: 0.5750\n",
      "Epoch 27/30\n",
      "80/80 [==============================] - 0s 137us/sample - loss: 0.6214 - accuracy: 0.5875\n",
      "Epoch 28/30\n",
      "80/80 [==============================] - 0s 94us/sample - loss: 0.6178 - accuracy: 0.5500\n",
      "Epoch 29/30\n",
      "80/80 [==============================] - 0s 109us/sample - loss: 0.6160 - accuracy: 0.5500\n",
      "Epoch 30/30\n",
      "80/80 [==============================] - 0s 74us/sample - loss: 0.6118 - accuracy: 0.5625\n",
      "20/20 [==============================] - 0s 4ms/sample - loss: 0.6173 - accuracy: 0.6500\n"
     ]
    },
    {
     "data": {
      "text/plain": [
       "[0.6172856092453003, 0.65]"
      ]
     },
     "execution_count": 8,
     "metadata": {},
     "output_type": "execute_result"
    }
   ],
   "source": [
    "from sklearn.model_selection import train_test_split\n",
    "import pandas as pd\n",
    "# データセットの読み込み\n",
    "dataset_path =\"Iris.csv\"\n",
    "df = pd.read_csv(dataset_path)\n",
    "# データフレームから条件抽出\n",
    "df = df[(df[\"Species\"] == \"Iris-versicolor\")|(df[\"Species\"] == \"Iris-virginica\")]\n",
    "y = df[\"Species\"]\n",
    "X = df.loc[:, [\"SepalLengthCm\", \"SepalWidthCm\", \"PetalLengthCm\", \"PetalWidthCm\"]]\n",
    "y = np.array(y)\n",
    "X = np.array(X)\n",
    "# ラベルを数値に変換\n",
    "y[y=='Iris-versicolor'] = 0\n",
    "y[y=='Iris-virginica'] = 1\n",
    "y = y.astype(np.int)[:, np.newaxis]\n",
    "# trainとtestに分割\n",
    "X_train, X_test, y_train, y_test = train_test_split(X, y, test_size=0.2, random_state=0)\n",
    "# さらにtrainとvalに分割\n",
    "#X_train, X_val, y_train, y_val = train_test_split(X_train, y_train, test_size=0.2, random_state=0)\n",
    "# Our vectorized labels\n",
    "#y_train = y_train.reshape((-1,1))\n",
    "#print(y_train.shape)\n",
    "#y_test = y_test.reshape((-1,1))\n",
    "#y_train = np.asarray(train_labels).astype('float32').reshape((-1,1))\n",
    "#y_test = np.asarray(test_labels).astype('float32').reshape((-1,1))\n",
    "\n",
    "model_Iris = keras.Sequential([\n",
    "    keras.layers.Flatten(),\n",
    "    keras.layers.Dense(128, activation='relu'),\n",
    "    keras.layers.Dense(1, activation='sigmoid')\n",
    "])\n",
    "\n",
    "model_Iris.compile(optimizer='adam', \n",
    "              loss='binary_crossentropy',\n",
    "              metrics=['accuracy'])\n",
    "\n",
    "model_Iris.fit(X_train, y_train, epochs=30)\n",
    "model_Iris.evaluate(X_test, y_test)"
   ]
  },
  {
   "cell_type": "markdown",
   "metadata": {},
   "source": [
    "# 【問題4】Iris（多値分類）をKerasで学習"
   ]
  },
  {
   "cell_type": "code",
   "execution_count": 61,
   "metadata": {},
   "outputs": [],
   "source": [
    "import tensorflow as tf\n",
    "from sklearn.datasets import load_iris\n",
    "data = load_iris()\n",
    "\n",
    "from sklearn.model_selection import train_test_split\n",
    "\n",
    "x_train, x_test, y_train, y_test = train_test_split(data.data, data.target, test_size=0.33, random_state=42)"
   ]
  },
  {
   "cell_type": "code",
   "execution_count": 136,
   "metadata": {},
   "outputs": [
    {
     "name": "stdout",
     "output_type": "stream",
     "text": [
      "Train on 80 samples\n",
      "Epoch 1/30\n",
      "80/80 [==============================] - 0s 3ms/sample - loss: 2.1625 - accuracy: 0.1125\n",
      "Epoch 2/30\n",
      "80/80 [==============================] - 0s 204us/sample - loss: 1.4358 - accuracy: 0.4750\n",
      "Epoch 3/30\n",
      "80/80 [==============================] - 0s 231us/sample - loss: 1.0461 - accuracy: 0.5875\n",
      "Epoch 4/30\n",
      "80/80 [==============================] - 0s 302us/sample - loss: 0.8616 - accuracy: 0.5125\n",
      "Epoch 5/30\n",
      "80/80 [==============================] - 0s 232us/sample - loss: 0.7951 - accuracy: 0.5750\n",
      "Epoch 6/30\n",
      "80/80 [==============================] - 0s 126us/sample - loss: 0.7386 - accuracy: 0.6125\n",
      "Epoch 7/30\n",
      "80/80 [==============================] - 0s 136us/sample - loss: 0.7416 - accuracy: 0.5500\n",
      "Epoch 8/30\n",
      "80/80 [==============================] - 0s 130us/sample - loss: 0.7023 - accuracy: 0.6250\n",
      "Epoch 9/30\n",
      "80/80 [==============================] - 0s 76us/sample - loss: 0.7032 - accuracy: 0.5875\n",
      "Epoch 10/30\n",
      "80/80 [==============================] - 0s 80us/sample - loss: 0.6445 - accuracy: 0.6250\n",
      "Epoch 11/30\n",
      "80/80 [==============================] - 0s 74us/sample - loss: 0.6073 - accuracy: 0.6750\n",
      "Epoch 12/30\n",
      "80/80 [==============================] - 0s 142us/sample - loss: 0.6651 - accuracy: 0.6875\n",
      "Epoch 13/30\n",
      "80/80 [==============================] - 0s 89us/sample - loss: 0.6763 - accuracy: 0.5750\n",
      "Epoch 14/30\n",
      "80/80 [==============================] - 0s 73us/sample - loss: 0.6360 - accuracy: 0.6375\n",
      "Epoch 15/30\n",
      "80/80 [==============================] - 0s 98us/sample - loss: 0.6102 - accuracy: 0.6375\n",
      "Epoch 16/30\n",
      "80/80 [==============================] - 0s 103us/sample - loss: 0.6545 - accuracy: 0.6000\n",
      "Epoch 17/30\n",
      "80/80 [==============================] - 0s 137us/sample - loss: 0.5652 - accuracy: 0.7250\n",
      "Epoch 18/30\n",
      "80/80 [==============================] - 0s 156us/sample - loss: 0.5736 - accuracy: 0.7125\n",
      "Epoch 19/30\n",
      "80/80 [==============================] - 0s 101us/sample - loss: 0.6025 - accuracy: 0.7125\n",
      "Epoch 20/30\n",
      "80/80 [==============================] - 0s 97us/sample - loss: 0.5930 - accuracy: 0.7000\n",
      "Epoch 21/30\n",
      "80/80 [==============================] - 0s 152us/sample - loss: 0.5485 - accuracy: 0.7500\n",
      "Epoch 22/30\n",
      "80/80 [==============================] - 0s 77us/sample - loss: 0.5763 - accuracy: 0.6750\n",
      "Epoch 23/30\n",
      "80/80 [==============================] - 0s 116us/sample - loss: 0.6261 - accuracy: 0.6750\n",
      "Epoch 24/30\n",
      "80/80 [==============================] - 0s 93us/sample - loss: 0.5434 - accuracy: 0.6750\n",
      "Epoch 25/30\n",
      "80/80 [==============================] - 0s 189us/sample - loss: 0.5652 - accuracy: 0.7875\n",
      "Epoch 26/30\n",
      "80/80 [==============================] - 0s 86us/sample - loss: 0.5452 - accuracy: 0.7125\n",
      "Epoch 27/30\n",
      "80/80 [==============================] - 0s 73us/sample - loss: 0.5178 - accuracy: 0.7500\n",
      "Epoch 28/30\n",
      "80/80 [==============================] - 0s 242us/sample - loss: 0.4992 - accuracy: 0.7625\n",
      "Epoch 29/30\n",
      "80/80 [==============================] - 0s 112us/sample - loss: 0.4930 - accuracy: 0.8125\n",
      "Epoch 30/30\n",
      "80/80 [==============================] - 0s 2ms/sample - loss: 0.4695 - accuracy: 0.8875\n",
      "20/20 [==============================] - 0s 4ms/sample - loss: 0.4667 - accuracy: 0.9000\n"
     ]
    },
    {
     "data": {
      "text/plain": [
       "[0.46670588850975037, 0.9]"
      ]
     },
     "execution_count": 136,
     "metadata": {},
     "output_type": "execute_result"
    }
   ],
   "source": [
    "model_Iris2 = keras.Sequential([\n",
    "    keras.layers.Flatten(),\n",
    "    keras.layers.Dense(512, activation='relu'),\n",
    "    keras.layers.Dropout(0.4),\n",
    "    keras.layers.Dense(10, activation='softmax')\n",
    "])\n",
    "\n",
    "model_Iris2.compile(optimizer='adam', \n",
    "              loss='sparse_categorical_crossentropy',\n",
    "              metrics=['accuracy'])\n",
    "\n",
    "model_Iris2.fit(X_train, y_train, epochs=30)\n",
    "model_Iris2.evaluate(X_test, y_test)"
   ]
  },
  {
   "cell_type": "markdown",
   "metadata": {},
   "source": [
    "# 【問題5】House PricesをKerasで学習"
   ]
  },
  {
   "cell_type": "code",
   "execution_count": 40,
   "metadata": {},
   "outputs": [],
   "source": [
    "from tensorflow import keras\n",
    "from sklearn.preprocessing import StandardScaler"
   ]
  },
  {
   "cell_type": "code",
   "execution_count": 41,
   "metadata": {},
   "outputs": [
    {
     "data": {
      "text/html": [
       "<div>\n",
       "<style scoped>\n",
       "    .dataframe tbody tr th:only-of-type {\n",
       "        vertical-align: middle;\n",
       "    }\n",
       "\n",
       "    .dataframe tbody tr th {\n",
       "        vertical-align: top;\n",
       "    }\n",
       "\n",
       "    .dataframe thead th {\n",
       "        text-align: right;\n",
       "    }\n",
       "</style>\n",
       "<table border=\"1\" class=\"dataframe\">\n",
       "  <thead>\n",
       "    <tr style=\"text-align: right;\">\n",
       "      <th></th>\n",
       "      <th>GrLivArea</th>\n",
       "      <th>YearBuilt</th>\n",
       "      <th>SalePrice</th>\n",
       "    </tr>\n",
       "  </thead>\n",
       "  <tbody>\n",
       "    <tr>\n",
       "      <td>0</td>\n",
       "      <td>1710</td>\n",
       "      <td>2003</td>\n",
       "      <td>208500</td>\n",
       "    </tr>\n",
       "    <tr>\n",
       "      <td>1</td>\n",
       "      <td>1262</td>\n",
       "      <td>1976</td>\n",
       "      <td>181500</td>\n",
       "    </tr>\n",
       "    <tr>\n",
       "      <td>2</td>\n",
       "      <td>1786</td>\n",
       "      <td>2001</td>\n",
       "      <td>223500</td>\n",
       "    </tr>\n",
       "    <tr>\n",
       "      <td>3</td>\n",
       "      <td>1717</td>\n",
       "      <td>1915</td>\n",
       "      <td>140000</td>\n",
       "    </tr>\n",
       "    <tr>\n",
       "      <td>4</td>\n",
       "      <td>2198</td>\n",
       "      <td>2000</td>\n",
       "      <td>250000</td>\n",
       "    </tr>\n",
       "  </tbody>\n",
       "</table>\n",
       "</div>"
      ],
      "text/plain": [
       "   GrLivArea  YearBuilt  SalePrice\n",
       "0       1710       2003     208500\n",
       "1       1262       1976     181500\n",
       "2       1786       2001     223500\n",
       "3       1717       1915     140000\n",
       "4       2198       2000     250000"
      ]
     },
     "execution_count": 41,
     "metadata": {},
     "output_type": "execute_result"
    }
   ],
   "source": [
    "df_4 = pd.read_csv(\"../train.csv\")\n",
    "df_se = df_4.loc[:, [\"GrLivArea\", \"YearBuilt\", \"SalePrice\"]]\n",
    "df_se.head()    "
   ]
  },
  {
   "cell_type": "code",
   "execution_count": 42,
   "metadata": {},
   "outputs": [],
   "source": [
    "# df_5 = pd.read_csv(\"../train.csv\")\n",
    "# X = df_5.loc[:, [\"GrLivArea\", \"YearBuilt\"]]\n",
    "# y5 = df_5.loc[:, \"SalePrice\"]\n",
    "# y5 = np.log(y5)"
   ]
  },
  {
   "cell_type": "code",
   "execution_count": 43,
   "metadata": {},
   "outputs": [],
   "source": [
    "# x_train_hh, x_test_hh, y_train_hh, y_test_hh = train_test_split(X, y5 , test_size=0.2, random_state=41)"
   ]
  },
  {
   "cell_type": "code",
   "execution_count": 44,
   "metadata": {},
   "outputs": [
    {
     "name": "stdout",
     "output_type": "stream",
     "text": [
      "(1460, 2)\n",
      "(1460, 1)\n",
      "1460\n"
     ]
    },
    {
     "data": {
      "text/plain": [
       "array([[ 0.37033344,  1.05099379],\n",
       "       [-0.48251191,  0.15673371],\n",
       "       [ 0.51501256,  0.9847523 ],\n",
       "       ...,\n",
       "       [ 1.56964722, -1.00249232],\n",
       "       [-0.83278768, -0.70440562],\n",
       "       [-0.49393395, -0.20759447]])"
      ]
     },
     "execution_count": 44,
     "metadata": {},
     "output_type": "execute_result"
    }
   ],
   "source": [
    "#学習データ準備\n",
    "f_num = (df_se.shape[1] - 1)\n",
    "train_X_h = np.array(df_se.iloc[:,:f_num])\n",
    "print(train_X_h.shape)\n",
    "train_Y_h =np.log(np.array(df_se.iloc[:,f_num : f_num + 1]))\n",
    "print(train_Y_h.shape)\n",
    "n_samples = train_X_h.shape[0]\n",
    "print(n_samples)\n",
    "#正規化\n",
    "ss = StandardScaler()\n",
    "ss.fit(train_X_h)\n",
    "train_X_h = ss.transform(train_X_h)\n",
    "train_X_h"
   ]
  },
  {
   "cell_type": "code",
   "execution_count": 45,
   "metadata": {
    "scrolled": true
   },
   "outputs": [],
   "source": [
    "x_train_h, x_test_h, y_train_h, y_test_h = train_test_split(train_X_h, train_Y_h, test_size=0.25, random_state=42)"
   ]
  },
  {
   "cell_type": "code",
   "execution_count": 48,
   "metadata": {},
   "outputs": [
    {
     "name": "stdout",
     "output_type": "stream",
     "text": [
      "Train on 1095 samples\n",
      "Epoch 1/20\n",
      "1095/1095 [==============================] - 0s 277us/sample - loss: 31.2728 - accuracy: 0.0000e+00\n",
      "Epoch 2/20\n",
      "1095/1095 [==============================] - 0s 54us/sample - loss: 0.3250 - accuracy: 0.0000e+00\n",
      "Epoch 3/20\n",
      "1095/1095 [==============================] - 0s 35us/sample - loss: 0.1487 - accuracy: 0.0000e+00\n",
      "Epoch 4/20\n",
      "1095/1095 [==============================] - 0s 48us/sample - loss: 0.0947 - accuracy: 0.0000e+00\n",
      "Epoch 5/20\n",
      "1095/1095 [==============================] - 0s 60us/sample - loss: 0.0731 - accuracy: 0.0000e+00\n",
      "Epoch 6/20\n",
      "1095/1095 [==============================] - 0s 48us/sample - loss: 0.0622 - accuracy: 0.0000e+00\n",
      "Epoch 7/20\n",
      "1095/1095 [==============================] - 0s 39us/sample - loss: 0.0562 - accuracy: 0.0000e+00\n",
      "Epoch 8/20\n",
      "1095/1095 [==============================] - 0s 44us/sample - loss: 0.0554 - accuracy: 0.0000e+00\n",
      "Epoch 9/20\n",
      "1095/1095 [==============================] - 0s 44us/sample - loss: 0.0511 - accuracy: 0.0000e+00\n",
      "Epoch 10/20\n",
      "1095/1095 [==============================] - 0s 50us/sample - loss: 0.0511 - accuracy: 0.0000e+00\n",
      "Epoch 11/20\n",
      "1095/1095 [==============================] - 0s 71us/sample - loss: 0.0498 - accuracy: 0.0000e+00\n",
      "Epoch 12/20\n",
      "1095/1095 [==============================] - 0s 40us/sample - loss: 0.0490 - accuracy: 0.0000e+00\n",
      "Epoch 13/20\n",
      "1095/1095 [==============================] - 0s 61us/sample - loss: 0.0483 - accuracy: 0.0000e+00\n",
      "Epoch 14/20\n",
      "1095/1095 [==============================] - 0s 67us/sample - loss: 0.0485 - accuracy: 0.0000e+00\n",
      "Epoch 15/20\n",
      "1095/1095 [==============================] - 0s 50us/sample - loss: 0.0457 - accuracy: 0.0000e+00\n",
      "Epoch 16/20\n",
      "1095/1095 [==============================] - 0s 70us/sample - loss: 0.0466 - accuracy: 0.0000e+00\n",
      "Epoch 17/20\n",
      "1095/1095 [==============================] - 0s 41us/sample - loss: 0.0466 - accuracy: 0.0000e+00\n",
      "Epoch 18/20\n",
      "1095/1095 [==============================] - 0s 48us/sample - loss: 0.0462 - accuracy: 0.0000e+00\n",
      "Epoch 19/20\n",
      "1095/1095 [==============================] - 0s 55us/sample - loss: 0.0459 - accuracy: 0.0000e+00\n",
      "Epoch 20/20\n",
      "1095/1095 [==============================] - 0s 47us/sample - loss: 0.0469 - accuracy: 0.0000e+00\n",
      "365/365 [==============================] - 0s 160us/sample - loss: 0.0501 - accuracy: 0.0000e+00\n"
     ]
    },
    {
     "data": {
      "text/plain": [
       "[0.05014824418172444, 0.0]"
      ]
     },
     "execution_count": 48,
     "metadata": {},
     "output_type": "execute_result"
    }
   ],
   "source": [
    "model_house = keras.Sequential([\n",
    "    keras.layers.Dense(32, activation='relu'),\n",
    "    keras.layers.Dense(1)\n",
    "])\n",
    "\n",
    "model_house.compile(optimizer='sgd', \n",
    "              loss='mean_squared_error',\n",
    "              metrics=['accuracy'])\n",
    "\n",
    "model_house.fit(x_train_h, y_train_h, epochs=20)\n",
    "model_house.evaluate(x_test_h, y_test_h)"
   ]
  },
  {
   "cell_type": "markdown",
   "metadata": {},
   "source": [
    "# 【問題6】MNISTをKerasで学習"
   ]
  },
  {
   "cell_type": "code",
   "execution_count": 49,
   "metadata": {},
   "outputs": [],
   "source": [
    "from keras.datasets import mnist\n",
    "(X_train, y_train), (X_test, y_test) = mnist.load_data()"
   ]
  },
  {
   "cell_type": "code",
   "execution_count": 50,
   "metadata": {},
   "outputs": [
    {
     "name": "stdout",
     "output_type": "stream",
     "text": [
      "1.0\n",
      "0.0\n"
     ]
    }
   ],
   "source": [
    "X_train = X_train.astype(np.float)\n",
    "X_test = X_test.astype(np.float)\n",
    "X_train /= 255\n",
    "X_test /= 255\n",
    "print(X_train.max()) # 1.0\n",
    "print(X_train.min()) # 0.0"
   ]
  },
  {
   "cell_type": "code",
   "execution_count": 51,
   "metadata": {},
   "outputs": [
    {
     "name": "stdout",
     "output_type": "stream",
     "text": [
      "(60000,)\n",
      "(60000, 10)\n",
      "float64\n"
     ]
    }
   ],
   "source": [
    "from sklearn.preprocessing import OneHotEncoder\n",
    "enc = OneHotEncoder(handle_unknown='ignore', sparse=False)\n",
    "y_train_one_hot = enc.fit_transform(y_train[:, np.newaxis])\n",
    "y_test_one_hot = enc.transform(y_test[:, np.newaxis])\n",
    "print(y_train.shape) # (60000,)\n",
    "print(y_train_one_hot.shape) # (60000, 10)\n",
    "print(y_train_one_hot.dtype) # float64"
   ]
  },
  {
   "cell_type": "code",
   "execution_count": 52,
   "metadata": {},
   "outputs": [],
   "source": [
    "X_train_chan = X_train.reshape(-1,28,28,1)\n",
    "X_test_chan = X_test.reshape(-1,28,28,1)"
   ]
  },
  {
   "cell_type": "code",
   "execution_count": 53,
   "metadata": {},
   "outputs": [],
   "source": [
    "from keras.layers import Dense, Dropout, Flatten, Conv2D, MaxPool2D"
   ]
  },
  {
   "cell_type": "code",
   "execution_count": 54,
   "metadata": {},
   "outputs": [
    {
     "name": "stdout",
     "output_type": "stream",
     "text": [
      "Model: \"sequential_2\"\n",
      "_________________________________________________________________\n",
      "Layer (type)                 Output Shape              Param #   \n",
      "=================================================================\n",
      "conv2d_1 (Conv2D)            (None, 26, 26, 32)        320       \n",
      "_________________________________________________________________\n",
      "max_pooling2d_1 (MaxPooling2 (None, 13, 13, 32)        0         \n",
      "_________________________________________________________________\n",
      "conv2d_2 (Conv2D)            (None, 11, 11, 64)        18496     \n",
      "_________________________________________________________________\n",
      "max_pooling2d_2 (MaxPooling2 (None, 5, 5, 64)          0         \n",
      "_________________________________________________________________\n",
      "conv2d_3 (Conv2D)            (None, 3, 3, 64)          36928     \n",
      "_________________________________________________________________\n",
      "flatten_1 (Flatten)          (None, 576)               0         \n",
      "_________________________________________________________________\n",
      "dense_6 (Dense)              (None, 64)                36928     \n",
      "_________________________________________________________________\n",
      "dense_7 (Dense)              (None, 10)                650       \n",
      "=================================================================\n",
      "Total params: 93,322\n",
      "Trainable params: 93,322\n",
      "Non-trainable params: 0\n",
      "_________________________________________________________________\n"
     ]
    }
   ],
   "source": [
    "from keras import layers\n",
    "from keras import models\n",
    "model = models.Sequential()\n",
    "\n",
    "model.add(layers.Conv2D(32, (3, 3), activation= 'relu', input_shape=(28, 28, 1)))\n",
    "model.add(layers.MaxPooling2D((2, 2)))\n",
    "model.add(layers.Conv2D(64, (3, 3), activation='relu'))\n",
    "model.add(layers.MaxPooling2D((2, 2)))\n",
    "model.add(layers.Conv2D(64, (3, 3), activation='relu'))\n",
    "\n",
    "model.add(layers.Flatten())\n",
    "model.add(layers.Dense(64, activation='relu'))\n",
    "model.add(layers.Dense(10, activation='softmax'))\n",
    "model.summary()"
   ]
  },
  {
   "cell_type": "code",
   "execution_count": 55,
   "metadata": {},
   "outputs": [],
   "source": [
    "from keras.datasets import mnist\n",
    "from keras.utils import to_categorical\n",
    "(train_images, train_labels), (test_images, test_labels) = mnist.load_data()"
   ]
  },
  {
   "cell_type": "code",
   "execution_count": 56,
   "metadata": {},
   "outputs": [
    {
     "name": "stdout",
     "output_type": "stream",
     "text": [
      "Epoch 1/5\n",
      "60000/60000 [==============================] - 25s 410us/step - loss: 0.1740 - accuracy: 0.9464\n",
      "Epoch 2/5\n",
      "60000/60000 [==============================] - 26s 431us/step - loss: 0.0480 - accuracy: 0.9854\n",
      "Epoch 3/5\n",
      "60000/60000 [==============================] - 24s 405us/step - loss: 0.0341 - accuracy: 0.9893\n",
      "Epoch 4/5\n",
      "60000/60000 [==============================] - 27s 447us/step - loss: 0.0252 - accuracy: 0.9922\n",
      "Epoch 5/5\n",
      "60000/60000 [==============================] - 26s 429us/step - loss: 0.0199 - accuracy: 0.9939\n"
     ]
    },
    {
     "data": {
      "text/plain": [
       "<keras.callbacks.callbacks.History at 0x1a456d2810>"
      ]
     },
     "execution_count": 56,
     "metadata": {},
     "output_type": "execute_result"
    }
   ],
   "source": [
    "train_images = train_images.reshape((60000, 28, 28, 1))\n",
    "train_images = train_images.astype('float32') / 255\n",
    "test_images = test_images.reshape((10000, 28, 28, 1))\n",
    "test_images = test_images.astype('float32') / 255\n",
    "train_labels = to_categorical(train_labels)\n",
    "test_labels = to_categorical(test_labels)\n",
    "model.compile(optimizer='rmsprop',\n",
    "loss='categorical_crossentropy',\n",
    "metrics=['accuracy'])\n",
    "model.fit(train_images, train_labels, epochs=5, batch_size=64)"
   ]
  },
  {
   "cell_type": "code",
   "execution_count": 57,
   "metadata": {},
   "outputs": [
    {
     "name": "stdout",
     "output_type": "stream",
     "text": [
      "10000/10000 [==============================] - 1s 129us/step\n"
     ]
    },
    {
     "data": {
      "text/plain": [
       "0.9909999966621399"
      ]
     },
     "execution_count": 57,
     "metadata": {},
     "output_type": "execute_result"
    }
   ],
   "source": [
    "test_loss, test_acc = model.evaluate(test_images, test_labels)\n",
    "test_acc"
   ]
  },
  {
   "cell_type": "code",
   "execution_count": 58,
   "metadata": {},
   "outputs": [
    {
     "data": {
      "text/plain": [
       "0.031337950791186085"
      ]
     },
     "execution_count": 58,
     "metadata": {},
     "output_type": "execute_result"
    }
   ],
   "source": [
    "test_loss"
   ]
  },
  {
   "cell_type": "code",
   "execution_count": null,
   "metadata": {},
   "outputs": [],
   "source": []
  }
 ],
 "metadata": {
  "kernelspec": {
   "display_name": "Python 3",
   "language": "python",
   "name": "python3"
  },
  "language_info": {
   "codemirror_mode": {
    "name": "ipython",
    "version": 3
   },
   "file_extension": ".py",
   "mimetype": "text/x-python",
   "name": "python",
   "nbconvert_exporter": "python",
   "pygments_lexer": "ipython3",
   "version": "3.7.4"
  }
 },
 "nbformat": 4,
 "nbformat_minor": 2
}
