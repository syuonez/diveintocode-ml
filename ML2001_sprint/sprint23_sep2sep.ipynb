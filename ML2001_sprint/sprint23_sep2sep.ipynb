{
 "cells": [
  {
   "cell_type": "markdown",
   "metadata": {},
   "source": [
    "# sprint sep2sep"
   ]
  },
  {
   "cell_type": "markdown",
   "metadata": {},
   "source": [
    " # 【問題1】機械翻訳の実行とコードリーディング"
   ]
  },
  {
   "cell_type": "code",
   "execution_count": 1,
   "metadata": {},
   "outputs": [
    {
     "name": "stdout",
     "output_type": "stream",
     "text": [
      "/bin/sh: http://www.manythings.org/anki/fra-eng.zip: No such file or directory\n"
     ]
    }
   ],
   "source": [
    "! http://www.manythings.org/anki/fra-eng.zip"
   ]
  },
  {
   "cell_type": "code",
   "execution_count": 4,
   "metadata": {},
   "outputs": [
    {
     "name": "stdout",
     "output_type": "stream",
     "text": [
      "unzip:  cannot find or open fra-eng.zip, fra-eng.zip.zip or fra-eng.zip.ZIP.\n"
     ]
    }
   ],
   "source": [
    "!unzip fra-eng.zip"
   ]
  },
  {
   "cell_type": "code",
   "execution_count": 5,
   "metadata": {},
   "outputs": [],
   "source": [
    "import numpy as np\n",
    "import matplotlib.pyplot as plt\n",
    "%matplotlib inline\n",
    "import pandas as pd"
   ]
  },
  {
   "cell_type": "code",
   "execution_count": 6,
   "metadata": {},
   "outputs": [],
   "source": [
    "from __future__ import print_function\n",
    "\n",
    "from  keras.models import Model\n",
    "from keras.layers import Input , LSTM , Dense\n",
    "from keras.callbacks import EarlyStopping"
   ]
  },
  {
   "cell_type": "code",
   "execution_count": 11,
   "metadata": {},
   "outputs": [],
   "source": [
    "# ハイパーパラメーター\n",
    "batch_size = 64\n",
    "epochs = 2\n",
    "latent_dim = 256\n",
    "num_samples = 10000\n",
    "data_path = \"/Users/shinoda/diveintocode-ml/ML2001_sprint/fra-eng/fra.txt\""
   ]
  },
  {
   "cell_type": "code",
   "execution_count": 8,
   "metadata": {},
   "outputs": [
    {
     "name": "stdout",
     "output_type": "stream",
     "text": [
      "Number of samples: 10000\n",
      "Number of unique input tokens: 71\n",
      "Number of unique output tokens: 93\n",
      "Max sequence length for inputs: 16\n",
      "Max sequence length for outputs: 59\n"
     ]
    }
   ],
   "source": [
    "# データのベクトル化\n",
    "input_texts = []\n",
    "target_texts = []\n",
    "input_characters = set()\n",
    "target_characters = set()\n",
    "\n",
    "#データファイルの読み込み\n",
    "with open(data_path , \"r\" , encoding=\"utf-8\") as f:\n",
    "  lines = f.read().split(\"\\n\") #改行で文字列を分割している\n",
    "#データの前処理\n",
    "for line in lines[: min(num_samples , len(lines) - 1)]:\n",
    "  input_text , target_text , _ = line.split(\"\\t\")\n",
    "  target_text = \"\\t\" + target_text + \"\\n\"\n",
    "  input_texts.append(input_text)\n",
    "  target_texts.append(target_text)\n",
    "  for char in input_text:\n",
    "    if char not in input_characters:\n",
    "      input_characters.add(char)\n",
    "  for char in target_text:\n",
    "    if char not in target_characters:\n",
    "      target_characters.add(char)\n",
    "    \n",
    "input_characters = sorted(list(input_characters)) #文字を順番に並べる\n",
    "target_characters = sorted(list(target_characters))\n",
    "num_encoder_tokens = len(input_characters) #文字の数\n",
    "num_decoder_tokens = len(target_characters)\n",
    "max_encoder_seq_length = max([len(txt) for txt in input_texts])#txtの中の最大数の文字\n",
    "max_decoder_seq_length = max([len(txt) for txt in target_texts])\n",
    "\n",
    "print('Number of samples:', len(input_texts))\n",
    "print('Number of unique input tokens:', num_encoder_tokens)\n",
    "print('Number of unique output tokens:', num_decoder_tokens)\n",
    "print('Max sequence length for inputs:', max_encoder_seq_length)\n",
    "print('Max sequence length for outputs:', max_decoder_seq_length)"
   ]
  },
  {
   "cell_type": "code",
   "execution_count": 9,
   "metadata": {},
   "outputs": [],
   "source": [
    "input_token_index = dict(\n",
    "    [(char, i) for i, char in enumerate(input_characters)])\n",
    "target_token_index = dict(\n",
    "    [(char, i) for i, char in enumerate(target_characters)])\n",
    "\n",
    "encoder_input_data = np.zeros(\n",
    "    (len(input_texts), max_encoder_seq_length, num_encoder_tokens),\n",
    "    dtype='float32')\n",
    "decoder_input_data = np.zeros(\n",
    "    (len(input_texts), max_decoder_seq_length, num_decoder_tokens),\n",
    "    dtype='float32')\n",
    "decoder_target_data = np.zeros(\n",
    "    (len(input_texts), max_decoder_seq_length, num_decoder_tokens),\n",
    "    dtype='float32')\n",
    "\n",
    "for i, (input_text, target_text) in enumerate(zip(input_texts, target_texts)):\n",
    "    for t, char in enumerate(input_text):\n",
    "        encoder_input_data[i, t, input_token_index[char]] = 1.\n",
    "    encoder_input_data[i, t + 1:, input_token_index[' ']] = 1.\n",
    "    for t, char in enumerate(target_text):\n",
    "        # decoder_target_dataはdecoder_input_dataより1タイムステップだけ進んでいます\n",
    "        decoder_input_data[i, t, target_token_index[char]] = 1.\n",
    "        if t > 0:\n",
    "            # decode_target_dataは1タイムステップ先になります\n",
    "            # 開始文字は含まれません。\n",
    "            decoder_target_data[i, t - 1, target_token_index[char]] = 1.\n",
    "    decoder_input_data[i, t + 1:, target_token_index[' ']] = 1.\n",
    "    decoder_target_data[i, t:, target_token_index[' ']] = 1.\n",
    "# 入力シーケンスを定義して処理します。\n",
    "encoder_inputs = Input(shape=(None, num_encoder_tokens))\n",
    "encoder = LSTM(latent_dim, return_state=True)\n",
    "encoder_outputs, state_h, state_c = encoder(encoder_inputs)\n",
    "# 「encoder_outputs」を破棄し、状態のみを保持します。\n",
    "encoder_states = [state_h, state_c]"
   ]
  },
  {
   "cell_type": "code",
   "execution_count": 12,
   "metadata": {},
   "outputs": [
    {
     "name": "stdout",
     "output_type": "stream",
     "text": [
      "Train on 8000 samples, validate on 2000 samples\n",
      "Epoch 1/2\n",
      "8000/8000 [==============================] - 102s 13ms/step - loss: 1.1084 - accuracy: 0.7286 - val_loss: 1.2075 - val_accuracy: 0.7000\n",
      "Epoch 2/2\n",
      "8000/8000 [==============================] - 102s 13ms/step - loss: 0.8465 - accuracy: 0.7734 - val_loss: 0.8443 - val_accuracy: 0.7684\n",
      "-\n",
      "Input sentence: Go.\n",
      "Decoded sentence: Tomes                                                       \n",
      "-\n",
      "Input sentence: Hi.\n",
      "Decoded sentence: Je s                                                        \n",
      "-\n",
      "Input sentence: Hi.\n",
      "Decoded sentence: Je s                                                        \n",
      "-\n",
      "Input sentence: Run!\n",
      "Decoded sentence: Je s                                                        \n",
      "-\n",
      "Input sentence: Run!\n",
      "Decoded sentence: Je s                                                        \n",
      "-\n",
      "Input sentence: Who?\n",
      "Decoded sentence: Je s                                                        \n",
      "-\n",
      "Input sentence: Wow!\n",
      "Decoded sentence: Je s                                                        \n",
      "-\n",
      "Input sentence: Fire!\n",
      "Decoded sentence: Je s                                                        \n",
      "-\n",
      "Input sentence: Help!\n",
      "Decoded sentence: Je s                                                        \n",
      "-\n",
      "Input sentence: Jump.\n",
      "Decoded sentence: Je s                                                        \n",
      "-\n",
      "Input sentence: Stop!\n",
      "Decoded sentence: Je s                                                        \n",
      "-\n",
      "Input sentence: Stop!\n",
      "Decoded sentence: Je s                                                        \n",
      "-\n",
      "Input sentence: Stop!\n",
      "Decoded sentence: Je s                                                        \n",
      "-\n",
      "Input sentence: Wait!\n",
      "Decoded sentence: Je s                                                        \n",
      "-\n",
      "Input sentence: Wait!\n",
      "Decoded sentence: Je s                                                        \n",
      "-\n",
      "Input sentence: Go on.\n",
      "Decoded sentence: Tomes                                                       \n",
      "-\n",
      "Input sentence: Go on.\n",
      "Decoded sentence: Tomes                                                       \n",
      "-\n",
      "Input sentence: Go on.\n",
      "Decoded sentence: Tomes                                                       \n",
      "-\n",
      "Input sentence: Hello!\n",
      "Decoded sentence: Tome                                                        \n",
      "-\n",
      "Input sentence: Hello!\n",
      "Decoded sentence: Tome                                                        \n",
      "-\n",
      "Input sentence: I see.\n",
      "Decoded sentence: Je s                                                        \n",
      "-\n",
      "Input sentence: I try.\n",
      "Decoded sentence: Je s                                                        \n",
      "-\n",
      "Input sentence: I won!\n",
      "Decoded sentence: Je s                                                        \n",
      "-\n",
      "Input sentence: I won!\n",
      "Decoded sentence: Je s                                                        \n",
      "-\n",
      "Input sentence: I won.\n",
      "Decoded sentence: Je s                                                        \n",
      "-\n",
      "Input sentence: Oh no!\n",
      "Decoded sentence: Je s                                                        \n",
      "-\n",
      "Input sentence: Attack!\n",
      "Decoded sentence: Je s                                                        \n",
      "-\n",
      "Input sentence: Attack!\n",
      "Decoded sentence: Je s                                                        \n",
      "-\n",
      "Input sentence: Cheers!\n",
      "Decoded sentence: Je s                                                        \n",
      "-\n",
      "Input sentence: Cheers!\n",
      "Decoded sentence: Je s                                                        \n",
      "-\n",
      "Input sentence: Cheers!\n",
      "Decoded sentence: Je s                                                        \n",
      "-\n",
      "Input sentence: Cheers!\n",
      "Decoded sentence: Je s                                                        \n",
      "-\n",
      "Input sentence: Get up.\n",
      "Decoded sentence: Je s                                                        \n",
      "-\n",
      "Input sentence: Go now.\n",
      "Decoded sentence: Tome                                                        \n",
      "-\n",
      "Input sentence: Go now.\n",
      "Decoded sentence: Tome                                                        \n",
      "-\n",
      "Input sentence: Go now.\n",
      "Decoded sentence: Tome                                                        \n",
      "-\n",
      "Input sentence: Got it!\n",
      "Decoded sentence: Tomes                                                       \n",
      "-\n",
      "Input sentence: Got it!\n",
      "Decoded sentence: Tomes                                                       \n",
      "-\n",
      "Input sentence: Got it?\n",
      "Decoded sentence: Tomes                                                       \n",
      "-\n",
      "Input sentence: Got it?\n",
      "Decoded sentence: Tomes                                                       \n",
      "-\n",
      "Input sentence: Got it?\n",
      "Decoded sentence: Tomes                                                       \n",
      "-\n",
      "Input sentence: Hop in.\n",
      "Decoded sentence: Tomes                                                       \n",
      "-\n",
      "Input sentence: Hop in.\n",
      "Decoded sentence: Tomes                                                       \n",
      "-\n",
      "Input sentence: Hug me.\n",
      "Decoded sentence: Je s                                                        \n",
      "-\n",
      "Input sentence: Hug me.\n",
      "Decoded sentence: Je s                                                        \n",
      "-\n",
      "Input sentence: I fell.\n",
      "Decoded sentence: Je s                                                        \n",
      "-\n",
      "Input sentence: I fell.\n",
      "Decoded sentence: Je s                                                        \n",
      "-\n",
      "Input sentence: I know.\n",
      "Decoded sentence: Je s                                                        \n",
      "-\n",
      "Input sentence: I left.\n",
      "Decoded sentence: Je s                                                        \n",
      "-\n",
      "Input sentence: I left.\n",
      "Decoded sentence: Je s                                                        \n",
      "-\n",
      "Input sentence: I lied.\n",
      "Decoded sentence: Je s                                                        \n",
      "-\n",
      "Input sentence: I lost.\n",
      "Decoded sentence: Je s                                                        \n",
      "-\n",
      "Input sentence: I paid.\n",
      "Decoded sentence: Je s                                                        \n",
      "-\n",
      "Input sentence: I'm 19.\n",
      "Decoded sentence: Je s                                                        \n",
      "-\n",
      "Input sentence: I'm OK.\n",
      "Decoded sentence: Je s                                                        \n",
      "-\n",
      "Input sentence: I'm OK.\n",
      "Decoded sentence: Je s                                                        \n",
      "-\n",
      "Input sentence: Listen.\n",
      "Decoded sentence: Je s                                                        \n",
      "-\n",
      "Input sentence: No way!\n",
      "Decoded sentence: Je s                                                        \n",
      "-\n",
      "Input sentence: No way!\n",
      "Decoded sentence: Je s                                                        \n",
      "-\n",
      "Input sentence: No way!\n",
      "Decoded sentence: Je s                                                        \n",
      "-\n",
      "Input sentence: No way!\n",
      "Decoded sentence: Je s                                                        \n",
      "-\n",
      "Input sentence: No way!\n",
      "Decoded sentence: Je s                                                        \n",
      "-\n",
      "Input sentence: No way!\n",
      "Decoded sentence: Je s                                                        \n",
      "-\n",
      "Input sentence: No way!\n",
      "Decoded sentence: Je s                                                        \n",
      "-\n",
      "Input sentence: No way!\n",
      "Decoded sentence: Je s                                                        \n",
      "-\n",
      "Input sentence: No way!\n",
      "Decoded sentence: Je s                                                        \n",
      "-\n",
      "Input sentence: Really?\n",
      "Decoded sentence: Tomes                                                       \n",
      "-\n",
      "Input sentence: Really?\n",
      "Decoded sentence: Tomes                                                       \n",
      "-\n",
      "Input sentence: Really?\n",
      "Decoded sentence: Tomes                                                       \n",
      "-\n",
      "Input sentence: Thanks.\n",
      "Decoded sentence: Tomes                                                       \n",
      "-\n",
      "Input sentence: We try.\n",
      "Decoded sentence: Je s                                                        \n",
      "-\n",
      "Input sentence: We won.\n",
      "Decoded sentence: Je s                                                        \n",
      "-\n",
      "Input sentence: We won.\n",
      "Decoded sentence: Je s                                                        \n",
      "-\n",
      "Input sentence: We won.\n",
      "Decoded sentence: Je s                                                        \n",
      "-\n",
      "Input sentence: We won.\n",
      "Decoded sentence: Je s                                                        \n",
      "-\n",
      "Input sentence: Ask Tom.\n",
      "Decoded sentence: Je s                                                        \n",
      "-\n",
      "Input sentence: Awesome!\n",
      "Decoded sentence: Je s                                                        \n",
      "-\n",
      "Input sentence: Be calm.\n",
      "Decoded sentence: Je s                                                        \n",
      "-\n",
      "Input sentence: Be calm.\n",
      "Decoded sentence: Je s                                                        \n",
      "-\n",
      "Input sentence: Be calm.\n",
      "Decoded sentence: Je s                                                        \n",
      "-\n",
      "Input sentence: Be cool.\n",
      "Decoded sentence: Je s                                                        \n",
      "-\n",
      "Input sentence: Be fair.\n",
      "Decoded sentence: Je s                                                        \n",
      "-\n",
      "Input sentence: Be fair.\n",
      "Decoded sentence: Je s                                                        \n",
      "-\n",
      "Input sentence: Be fair.\n",
      "Decoded sentence: Je s                                                        \n",
      "-\n",
      "Input sentence: Be fair.\n",
      "Decoded sentence: Je s                                                        \n",
      "-\n",
      "Input sentence: Be fair.\n",
      "Decoded sentence: Je s                                                        \n",
      "-\n",
      "Input sentence: Be fair.\n",
      "Decoded sentence: Je s                                                        \n",
      "-\n",
      "Input sentence: Be kind.\n",
      "Decoded sentence: Je s                                                        \n",
      "-\n",
      "Input sentence: Be nice.\n",
      "Decoded sentence: Je s                                                        \n",
      "-\n",
      "Input sentence: Be nice.\n",
      "Decoded sentence: Je s                                                        \n",
      "-\n",
      "Input sentence: Be nice.\n",
      "Decoded sentence: Je s                                                        \n",
      "-\n",
      "Input sentence: Be nice.\n",
      "Decoded sentence: Je s                                                        \n",
      "-\n",
      "Input sentence: Be nice.\n",
      "Decoded sentence: Je s                                                        \n",
      "-\n",
      "Input sentence: Be nice.\n",
      "Decoded sentence: Je s                                                        \n",
      "-\n",
      "Input sentence: Beat it.\n",
      "Decoded sentence: Je s                                                        \n",
      "-\n",
      "Input sentence: Call me.\n",
      "Decoded sentence: Tome                                                        \n",
      "-\n",
      "Input sentence: Call me.\n",
      "Decoded sentence: Tome                                                        \n",
      "-\n",
      "Input sentence: Call us.\n",
      "Decoded sentence: Tome                                                        \n",
      "-\n",
      "Input sentence: Call us.\n",
      "Decoded sentence: Tome                                                        \n",
      "-\n",
      "Input sentence: Come in.\n",
      "Decoded sentence: Tome                                                        \n"
     ]
    }
   ],
   "source": [
    "# 初期状態として「encoder_states」を使用して、デコーダーをセットアップします。\n",
    "decoder_inputs = Input(shape=(None, num_decoder_tokens))\n",
    "#完全な出力シーケンスを返すようにデコーダを設定し、\n",
    "#また、内部状態も返します。\n",
    "#トレーニングモデルでは戻り状態を使用しませんが、推論では使用します。\n",
    "decoder_lstm = LSTM(latent_dim, return_sequences=True, return_state=True)\n",
    "decoder_outputs, _, _ = decoder_lstm(decoder_inputs,\n",
    "                                     initial_state=encoder_states)\n",
    "decoder_dense = Dense(num_decoder_tokens, activation='softmax')\n",
    "decoder_outputs = decoder_dense(decoder_outputs)\n",
    "\n",
    "#回転するモデルを定義する\n",
    "#「encoder_input_data」と「decoder_input_data」を「decoder_target_data」に\n",
    "model = Model([encoder_inputs, decoder_inputs], decoder_outputs)\n",
    "\n",
    "# Run training\n",
    "early_stopping = EarlyStopping(monitor=\"val_loss\", patience=10) \n",
    "\n",
    "model.compile(optimizer='rmsprop', loss='categorical_crossentropy',\n",
    "              metrics=['accuracy'])\n",
    "model.fit([encoder_input_data, decoder_input_data], decoder_target_data,\n",
    "          batch_size=batch_size,\n",
    "          epochs=epochs,\n",
    "          validation_split=0.2,\n",
    "          callbacks=[early_stopping])\n",
    "# Save model\n",
    "model.save('s2s.h5')\n",
    "\n",
    "#次：推論モード（サンプリング）。\n",
    "#ドリルは次のとおりです。\n",
    "#1）入力をエンコードし、初期デコーダー状態を取得する\n",
    "#2）この初期状態でデコーダーの1ステップを実行する\n",
    "#およびターゲットとしての「シーケンスの開始」トークン。\n",
    "#出力は次のターゲットトークンになります\n",
    "#3）現在のターゲットトークンと現在の状態で繰り返します\n",
    "\n",
    "# Define sampling models\n",
    "encoder_model = Model(encoder_inputs, encoder_states)\n",
    "\n",
    "decoder_state_input_h = Input(shape=(latent_dim,))\n",
    "decoder_state_input_c = Input(shape=(latent_dim,))\n",
    "decoder_states_inputs = [decoder_state_input_h, decoder_state_input_c]\n",
    "decoder_outputs, state_h, state_c = decoder_lstm(\n",
    "    decoder_inputs, initial_state=decoder_states_inputs)\n",
    "decoder_states = [state_h, state_c]\n",
    "decoder_outputs = decoder_dense(decoder_outputs)\n",
    "decoder_model = Model(\n",
    "     [decoder_inputs] + decoder_states_inputs,\n",
    "    [decoder_outputs] + decoder_states)\n",
    "\n",
    "# Reverse-lookup token index to decode sequences back to\n",
    "# something readable.\n",
    "reverse_input_char_index = dict(\n",
    "    (i, char) for char, i in input_token_index.items())\n",
    "reverse_target_char_index = dict(\n",
    "    (i, char) for char, i in target_token_index.items())\n",
    "\n",
    "\n",
    "def decode_sequence(input_seq):\n",
    "    # Encode the input as state vectors.\n",
    "    states_value = encoder_model.predict(input_seq)\n",
    "\n",
    "    # Generate empty target sequence of length 1.\n",
    "    target_seq = np.zeros((1, 1, num_decoder_tokens))\n",
    "    # Populate the first character of target sequence with the start character.\n",
    "    target_seq[0, 0, target_token_index['\\t']] = 1.\n",
    "\n",
    "    # Sampling loop for a batch of sequences\n",
    "    # (to simplify, here we assume a batch of size 1).\n",
    "    stop_condition = False\n",
    "    decoded_sentence = ''\n",
    "    while not stop_condition:\n",
    "        output_tokens, h, c = decoder_model.predict(\n",
    "            [target_seq] + states_value)\n",
    "\n",
    "        # Sample a token\n",
    "        sampled_token_index = np.argmax(output_tokens[0, -1, :])\n",
    "        sampled_char = reverse_target_char_index[sampled_token_index]\n",
    "        decoded_sentence += sampled_char\n",
    "\n",
    "        # Exit condition: either hit max length\n",
    "        # or find stop character.\n",
    "        if (sampled_char == '\\n' or\n",
    "           len(decoded_sentence) > max_decoder_seq_length):\n",
    "            stop_condition = True\n",
    "\n",
    "        # Update the target sequence (of length 1).\n",
    "        target_seq = np.zeros((1, 1, num_decoder_tokens))\n",
    "        target_seq[0, 0, sampled_token_index] = 1.\n",
    "\n",
    "        # Update states\n",
    "        states_value = [h, c]\n",
    "\n",
    "    return decoded_sentence\n",
    "\n",
    "\n",
    "for seq_index in range(100):\n",
    "    # Take one sequence (part of the training set)\n",
    "    # for trying out decoding.\n",
    "    input_seq = encoder_input_data[seq_index: seq_index + 1]\n",
    "    decoded_sentence = decode_sequence(input_seq)\n",
    "    print('-')\n",
    "    print('Input sentence:', input_texts[seq_index])\n",
    "    print('Decoded sentence:', decoded_sentence)"
   ]
  },
  {
   "cell_type": "markdown",
   "metadata": {},
   "source": [
    "# 【問題2】イメージキャプショニングの学習済みモデルの実行"
   ]
  },
  {
   "cell_type": "code",
   "execution_count": 30,
   "metadata": {},
   "outputs": [
    {
     "name": "stdout",
     "output_type": "stream",
     "text": [
      "fatal: destination path 'pytorch-tutorial' already exists and is not an empty directory.\n"
     ]
    }
   ],
   "source": [
    "! git clone https://github.com/yunjey/pytorch-tutorial.git\n"
   ]
  },
  {
   "cell_type": "code",
   "execution_count": 33,
   "metadata": {},
   "outputs": [
    {
     "name": "stdout",
     "output_type": "stream",
     "text": [
      "/Users/shinoda/diveintocode-ml/ML2001_sprint/pytorch-tutorial\n"
     ]
    }
   ],
   "source": [
    "cd pytorch-tutorial"
   ]
  },
  {
   "cell_type": "code",
   "execution_count": 14,
   "metadata": {},
   "outputs": [],
   "source": [
    "#!cd pytorch-tutorial/tutorials/03-advanced/image_captioning/"
   ]
  },
  {
   "cell_type": "code",
   "execution_count": 21,
   "metadata": {},
   "outputs": [],
   "source": [
    "import os"
   ]
  },
  {
   "cell_type": "code",
   "execution_count": 24,
   "metadata": {},
   "outputs": [
    {
     "name": "stdout",
     "output_type": "stream",
     "text": [
      "--2020-04-03 15:59:03--  https://www.dropbox.com/s/ne0ixz5d58ccbbz/pretrained_model.zip?dl=0\n",
      "www.dropbox.com (www.dropbox.com) をDNSに問いあわせています... 162.125.80.1\n",
      "www.dropbox.com (www.dropbox.com)|162.125.80.1|:443 に接続しています... 接続しました。\n",
      "HTTP による接続要求を送信しました、応答を待っています... 301 Moved Permanently\n",
      "場所: /s/raw/ne0ixz5d58ccbbz/pretrained_model.zip [続く]\n",
      "--2020-04-03 15:59:03--  https://www.dropbox.com/s/raw/ne0ixz5d58ccbbz/pretrained_model.zip\n",
      "www.dropbox.com:443 への接続を再利用します。\n",
      "HTTP による接続要求を送信しました、応答を待っています... 302 Found\n",
      "場所: https://uc1eab16722c61e3a6edea00a4d5.dl.dropboxusercontent.com/cd/0/inline/A1LBgB1lRJ8STD7ovXGO0hSQOvVQLsacMxQ4jl6lJQ-6v1mZL1YZV8KG6V0iUOhTpazLdy0J1RRWRv_HQMu7Wskgt8o9PgRceuPPDsc11UoP54ZedHEHtf5Iyqop3nm_m7I/file# [続く]\n",
      "--2020-04-03 15:59:03--  https://uc1eab16722c61e3a6edea00a4d5.dl.dropboxusercontent.com/cd/0/inline/A1LBgB1lRJ8STD7ovXGO0hSQOvVQLsacMxQ4jl6lJQ-6v1mZL1YZV8KG6V0iUOhTpazLdy0J1RRWRv_HQMu7Wskgt8o9PgRceuPPDsc11UoP54ZedHEHtf5Iyqop3nm_m7I/file\n",
      "uc1eab16722c61e3a6edea00a4d5.dl.dropboxusercontent.com (uc1eab16722c61e3a6edea00a4d5.dl.dropboxusercontent.com) をDNSに問いあわせています... 162.125.80.6\n",
      "uc1eab16722c61e3a6edea00a4d5.dl.dropboxusercontent.com (uc1eab16722c61e3a6edea00a4d5.dl.dropboxusercontent.com)|162.125.80.6|:443 に接続しています... 接続しました。\n",
      "HTTP による接続要求を送信しました、応答を待っています... 302 FOUND\n",
      "場所: /cd/0/inline2/A1Ig9xLF6XLAR38SezsB_jtiDHq0BMphIWrZbHE0L6MZ7fPTXXlR6ssL7R6zrFDOUhuKV5OwGUzj5mlFsp2LGyy5qehA5UmzDviy0eL_yEKQ2CEfj-zl4gCEZ5LWYliD2zLUUc0-t-e1AOBuyIB5zyhuGKAanookYaxhcpi9yjpoyuS5IIvgZs0hYq7hGSccEjsdecrAg8EyRwzL0MpDyCD9I6hqwwTx_oi3c6RW9nrA9b6BShkFfBEbSzbyv34_CRjWW-tnx-w_-NWEAyJDbSQtCLCjlXNl8qSV1QYtQ3vm4xCCc4c8jC5dfKFsD7-dd-pHuDpBksQuKCfG1OZvrtzLTolSPpfVvwQIL10IC4IlfQ/file [続く]\n",
      "--2020-04-03 15:59:04--  https://uc1eab16722c61e3a6edea00a4d5.dl.dropboxusercontent.com/cd/0/inline2/A1Ig9xLF6XLAR38SezsB_jtiDHq0BMphIWrZbHE0L6MZ7fPTXXlR6ssL7R6zrFDOUhuKV5OwGUzj5mlFsp2LGyy5qehA5UmzDviy0eL_yEKQ2CEfj-zl4gCEZ5LWYliD2zLUUc0-t-e1AOBuyIB5zyhuGKAanookYaxhcpi9yjpoyuS5IIvgZs0hYq7hGSccEjsdecrAg8EyRwzL0MpDyCD9I6hqwwTx_oi3c6RW9nrA9b6BShkFfBEbSzbyv34_CRjWW-tnx-w_-NWEAyJDbSQtCLCjlXNl8qSV1QYtQ3vm4xCCc4c8jC5dfKFsD7-dd-pHuDpBksQuKCfG1OZvrtzLTolSPpfVvwQIL10IC4IlfQ/file\n",
      "uc1eab16722c61e3a6edea00a4d5.dl.dropboxusercontent.com:443 への接続を再利用します。\n",
      "HTTP による接続要求を送信しました、応答を待っています... 200 OK\n",
      "長さ: 253295231 (242M) [application/zip]\n",
      "`pretrained_model.zip?dl=0' に保存中\n",
      "\n",
      "pretrained_model.zi 100%[===================>] 241.56M  5.06MB/s 時間 44s        \n",
      "\n",
      "2020-04-03 15:59:50 (5.44 MB/s) - `pretrained_model.zip?dl=0' へ保存完了 [253295231/253295231]\n",
      "\n"
     ]
    }
   ],
   "source": [
    "!wget https://www.dropbox.com/s/ne0ixz5d58ccbbz/pretrained_model.zip?dl=0"
   ]
  },
  {
   "cell_type": "code",
   "execution_count": 25,
   "metadata": {},
   "outputs": [
    {
     "name": "stdout",
     "output_type": "stream",
     "text": [
      "Archive:  pretrained_model.zip?dl=0\n",
      "  inflating: encoder-5-3000.pkl      \n",
      "  inflating: decoder-5-3000.pkl      \n"
     ]
    }
   ],
   "source": [
    "!unzip pretrained_model.zip?dl=0"
   ]
  },
  {
   "cell_type": "code",
   "execution_count": 26,
   "metadata": {},
   "outputs": [
    {
     "name": "stdout",
     "output_type": "stream",
     "text": [
      "--2020-04-03 16:03:13--  https://www.dropbox.com/s/26adb7y9m98uisa/vocap.zip?dl=0\n",
      "www.dropbox.com (www.dropbox.com) をDNSに問いあわせています... 162.125.80.1\n",
      "www.dropbox.com (www.dropbox.com)|162.125.80.1|:443 に接続しています... 接続しました。\n",
      "HTTP による接続要求を送信しました、応答を待っています... 301 Moved Permanently\n",
      "場所: /s/raw/26adb7y9m98uisa/vocap.zip [続く]\n",
      "--2020-04-03 16:03:13--  https://www.dropbox.com/s/raw/26adb7y9m98uisa/vocap.zip\n",
      "www.dropbox.com:443 への接続を再利用します。\n",
      "HTTP による接続要求を送信しました、応答を待っています... 302 Found\n",
      "場所: https://uc02cbc4906722efc34c6a38f4af.dl.dropboxusercontent.com/cd/0/inline/A1JuOUMfmGzLB1JN4ObMzkhlwcEfRnecLGEO8nyF6Nt9JW_x-dYAzXtQ8i4__3FPlq6aPWm9SQ7I6rprlNiGVcoQCVGPbqVTDdowti0OlIDkNjDNMTWdyxlvM4otMY1iolU/file# [続く]\n",
      "--2020-04-03 16:03:13--  https://uc02cbc4906722efc34c6a38f4af.dl.dropboxusercontent.com/cd/0/inline/A1JuOUMfmGzLB1JN4ObMzkhlwcEfRnecLGEO8nyF6Nt9JW_x-dYAzXtQ8i4__3FPlq6aPWm9SQ7I6rprlNiGVcoQCVGPbqVTDdowti0OlIDkNjDNMTWdyxlvM4otMY1iolU/file\n",
      "uc02cbc4906722efc34c6a38f4af.dl.dropboxusercontent.com (uc02cbc4906722efc34c6a38f4af.dl.dropboxusercontent.com) をDNSに問いあわせています... 162.125.80.6\n",
      "uc02cbc4906722efc34c6a38f4af.dl.dropboxusercontent.com (uc02cbc4906722efc34c6a38f4af.dl.dropboxusercontent.com)|162.125.80.6|:443 に接続しています... 接続しました。\n",
      "HTTP による接続要求を送信しました、応答を待っています... 302 FOUND\n",
      "場所: /cd/0/inline2/A1IpmdT2k7yv0F_W0WbtmFypCB8Y48S6tdDYOnDS5m3k4lpX4heX4lpSHizJk4QkvaKxzHLr4CTPgnfa2EkHI5IAhAb5igBs2jxGx9sI_gAOLxqlRn18c_Ff6em0Tqg0iymELC7CidtHMXD2X70JKIXdOigirlALvdLVFMbOQ6lEB9vM2kmBO7WNDWQFoUmdHsKpsJ50zn_MQ2pznFpOeB3IjlOOOVyPorwyxcrc4JfKsTT_Cqi3sKzystPMAU2ewI2mWx0QEXgWsChAJN-5_g_Ma4A8LZmg9JTptCpE8GllMxLUF_A2bCEG7rbSvdWO6i4-6si7buoNYf--dVcKh7WwMgJLvS-9AJGYT-EQ9-VC6g/file [続く]\n",
      "--2020-04-03 16:03:37--  https://uc02cbc4906722efc34c6a38f4af.dl.dropboxusercontent.com/cd/0/inline2/A1IpmdT2k7yv0F_W0WbtmFypCB8Y48S6tdDYOnDS5m3k4lpX4heX4lpSHizJk4QkvaKxzHLr4CTPgnfa2EkHI5IAhAb5igBs2jxGx9sI_gAOLxqlRn18c_Ff6em0Tqg0iymELC7CidtHMXD2X70JKIXdOigirlALvdLVFMbOQ6lEB9vM2kmBO7WNDWQFoUmdHsKpsJ50zn_MQ2pznFpOeB3IjlOOOVyPorwyxcrc4JfKsTT_Cqi3sKzystPMAU2ewI2mWx0QEXgWsChAJN-5_g_Ma4A8LZmg9JTptCpE8GllMxLUF_A2bCEG7rbSvdWO6i4-6si7buoNYf--dVcKh7WwMgJLvS-9AJGYT-EQ9-VC6g/file\n",
      "uc02cbc4906722efc34c6a38f4af.dl.dropboxusercontent.com:443 への接続を再利用します。\n",
      "HTTP による接続要求を送信しました、応答を待っています... 200 OK\n",
      "長さ: 140904 (138K) [application/zip]\n",
      "`vocap.zip?dl=0' に保存中\n",
      "\n",
      "vocap.zip?dl=0      100%[===================>] 137.60K  --.-KB/s 時間 0.01s      \n",
      "\n",
      "2020-04-03 16:03:37 (10.4 MB/s) - `vocap.zip?dl=0' へ保存完了 [140904/140904]\n",
      "\n"
     ]
    }
   ],
   "source": [
    "! wget https://www.dropbox.com/s/26adb7y9m98uisa/vocap.zip?dl=0"
   ]
  },
  {
   "cell_type": "code",
   "execution_count": 27,
   "metadata": {},
   "outputs": [
    {
     "name": "stdout",
     "output_type": "stream",
     "text": [
      "Archive:  vocap.zip?dl=0\n",
      "  inflating: vocab.pkl               \n"
     ]
    }
   ],
   "source": [
    "! unzip vocap.zip?dl=0"
   ]
  },
  {
   "cell_type": "code",
   "execution_count": 32,
   "metadata": {},
   "outputs": [
    {
     "name": "stdout",
     "output_type": "stream",
     "text": [
      "fatal: destination path 'pytorch-tutorial' already exists and is not an empty directory.\n"
     ]
    }
   ],
   "source": [
    "! git clone https://github.com/yunjey/pytorch-tutorial"
   ]
  },
  {
   "cell_type": "code",
   "execution_count": 36,
   "metadata": {},
   "outputs": [
    {
     "name": "stdout",
     "output_type": "stream",
     "text": [
      "/Users/shinoda/diveintocode-ml/ML2001_sprint/pytorch-tutorial\n"
     ]
    }
   ],
   "source": [
    "!pwd"
   ]
  },
  {
   "cell_type": "code",
   "execution_count": 37,
   "metadata": {},
   "outputs": [],
   "source": [
    "!cd tutorials/03-advanced/image_captioning"
   ]
  },
  {
   "cell_type": "code",
   "execution_count": 38,
   "metadata": {},
   "outputs": [
    {
     "name": "stdout",
     "output_type": "stream",
     "text": [
      "/Users/shinoda/diveintocode-ml/ML2001_sprint/pytorch-tutorial\n"
     ]
    }
   ],
   "source": [
    "!pwd"
   ]
  },
  {
   "cell_type": "code",
   "execution_count": 39,
   "metadata": {},
   "outputs": [
    {
     "name": "stdout",
     "output_type": "stream",
     "text": [
      "/Users/shinoda/diveintocode-ml/ML2001_sprint/pytorch-tutorial/tutorials/03-advanced/image_captioning\n"
     ]
    }
   ],
   "source": [
    "cd /Users/shinoda/diveintocode-ml/ML2001_sprint/pytorch-tutorial/tutorials/03-advanced/image_captioning/"
   ]
  },
  {
   "cell_type": "code",
   "execution_count": 40,
   "metadata": {},
   "outputs": [],
   "source": [
    "mkdir sprint24_image"
   ]
  },
  {
   "cell_type": "code",
   "execution_count": 41,
   "metadata": {},
   "outputs": [
    {
     "name": "stdout",
     "output_type": "stream",
     "text": [
      "rm: sprint24_image: is a directory\n"
     ]
    }
   ],
   "source": [
    "rm sprint24_image"
   ]
  },
  {
   "cell_type": "code",
   "execution_count": 42,
   "metadata": {},
   "outputs": [],
   "source": [
    "mkdir sprint24_ward"
   ]
  },
  {
   "cell_type": "code",
   "execution_count": 44,
   "metadata": {},
   "outputs": [],
   "source": [
    "!mv /Users/shinoda/diveintocode-ml/ML2001_sprint/vocap.zip?dl=0 sprint24_image"
   ]
  },
  {
   "cell_type": "code",
   "execution_count": 45,
   "metadata": {},
   "outputs": [],
   "source": [
    "!mv /Users/shinoda/diveintocode-ml/ML2001_sprint/pretrained_model.zip?dl=0 sprint24_ward"
   ]
  },
  {
   "cell_type": "code",
   "execution_count": 46,
   "metadata": {},
   "outputs": [
    {
     "name": "stdout",
     "output_type": "stream",
     "text": [
      "/Users/shinoda/diveintocode-ml/ML2001_sprint/pytorch-tutorial/tutorials/03-advanced/image_captioning\n"
     ]
    }
   ],
   "source": [
    "!pwd"
   ]
  },
  {
   "cell_type": "code",
   "execution_count": 47,
   "metadata": {},
   "outputs": [],
   "source": [
    "mkdir models"
   ]
  },
  {
   "cell_type": "code",
   "execution_count": 48,
   "metadata": {},
   "outputs": [],
   "source": [
    "mkdir data"
   ]
  },
  {
   "cell_type": "code",
   "execution_count": 49,
   "metadata": {},
   "outputs": [],
   "source": [
    "!mv /Users/shinoda/diveintocode-ml/ML2001_sprint/vocab.pkl data"
   ]
  },
  {
   "cell_type": "code",
   "execution_count": 50,
   "metadata": {},
   "outputs": [],
   "source": [
    "!mv /Users/shinoda/diveintocode-ml/ML2001_sprint/encoder-5-3000.pkl models"
   ]
  },
  {
   "cell_type": "code",
   "execution_count": 51,
   "metadata": {},
   "outputs": [],
   "source": [
    "!mv /Users/shinoda/diveintocode-ml/ML2001_sprint/decoder-5-3000.pkl models"
   ]
  },
  {
   "cell_type": "code",
   "execution_count": 58,
   "metadata": {},
   "outputs": [
    {
     "name": "stdout",
     "output_type": "stream",
     "text": [
      "Downloading: \"https://download.pytorch.org/models/resnet152-b121ed2d.pth\" to /Users/shinoda/.cache/torch/checkpoints/resnet152-b121ed2d.pth\n",
      "100%|████████████████████████████████████████| 230M/230M [00:09<00:00, 24.8MB/s]\n",
      "<start> a cat is sitting on a couch next to a cat . <end>\n"
     ]
    }
   ],
   "source": [
    "!python sample.py --image='cat_0_324.jpg'"
   ]
  },
  {
   "cell_type": "code",
   "execution_count": 53,
   "metadata": {},
   "outputs": [
    {
     "name": "stdout",
     "output_type": "stream",
     "text": [
      "/Users/shinoda/diveintocode-ml/ML2001_sprint/pytorch-tutorial/tutorials/03-advanced/image_captioning\n"
     ]
    }
   ],
   "source": [
    "!pwd"
   ]
  },
  {
   "cell_type": "code",
   "execution_count": 59,
   "metadata": {},
   "outputs": [
    {
     "data": {
      "image/jpeg": "[encoded data removed]"
     },
     "metadata": {},
     "output_type": "display_data"
    }
   ],
   "source": [
    "from IPython.display import Image,display_jpeg\n",
    "display_jpeg(Image('cat_0_324.jpg'))"
   ]
  },
  {
   "cell_type": "markdown",
   "metadata": {},
   "source": [
    "# 【問題3】Kerasで動かしたい場合はどうするかを調査¶"
   ]
  },
  {
   "cell_type": "markdown",
   "metadata": {},
   "source": [
    "解決方法：MMdnnを使う"
   ]
  },
  {
   "cell_type": "markdown",
   "metadata": {},
   "source": [
    "MMdnnとは、Microsoft Researchにより開発が進められているオープンソースの深層学習モデルの変換と可視化を行うツール。中間表現を経由することで様々なフレームワーク間でのモデルデータの相互変換を実現する。 モデルの相互運用が可能なフレームワークは、Caffe, Keras, Tensorflow, CNTK, MXNet, PyTorch, CoreML。 テスト済みのモデルとしては、 VGG19、Inception v4、ResNet v2、SqueezeNet　あたりは全フレームワークで利用可能。 代表的なモデルに対応していれば、実用面ではあまり壁を感じないのではないかと感じる。。 多くの場合は代表的なモデルの転移学習だったり、もっとシンプルなモデルだったりするため、非常に有能である。"
   ]
  },
  {
   "cell_type": "markdown",
   "metadata": {},
   "source": [
    "mmconvert -sf keras -iw imagenet_inception_v3.h5 -df onnx -om imagenet_inception_v3.onnxで、「imagenet_inception_v3.h5」というkerasモデルファイルに対して、「imagenet_inception_v3.onnx」というファイルが生成される。それにより、モデルをONNXモデルに変換できる。"
   ]
  },
  {
   "cell_type": "markdown",
   "metadata": {},
   "source": [
    "https://qiita.com/koppe/items/7f85f5411539390c4499"
   ]
  },
  {
   "cell_type": "code",
   "execution_count": null,
   "metadata": {},
   "outputs": [],
   "source": []
  }
 ],
 "metadata": {
  "kernelspec": {
   "display_name": "Python 3",
   "language": "python",
   "name": "python3"
  },
  "language_info": {
   "codemirror_mode": {
    "name": "ipython",
    "version": 3
   },
   "file_extension": ".py",
   "mimetype": "text/x-python",
   "name": "python",
   "nbconvert_exporter": "python",
   "pygments_lexer": "ipython3",
   "version": "3.7.4"
  }
 },
 "nbformat": 4,
 "nbformat_minor": 4
}
