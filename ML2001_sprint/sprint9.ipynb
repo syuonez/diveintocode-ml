{
 "cells": [
  {
   "cell_type": "markdown",
   "metadata": {},
   "source": [
    "# 深層学習　デープニューラルネットワーク"
   ]
  },
  {
   "cell_type": "code",
   "execution_count": 1,
   "metadata": {},
   "outputs": [],
   "source": [
    "import matplotlib.pyplot as plt\n",
    "import numpy as np\n",
    "import pandas as pd\n",
    "import copy\n",
    "from collections import defaultdict"
   ]
  },
  {
   "cell_type": "code",
   "execution_count": 2,
   "metadata": {},
   "outputs": [],
   "source": [
    "class GetMiniBatch:\n",
    "    \"\"\"\n",
    "    ミニバッチを取得するイテレータ\n",
    "\n",
    "    Parameters\n",
    "    ----------\n",
    "    X : 次の形のndarray, shape (n_samples, n_features)\n",
    "      訓練データ\n",
    "    y : 次の形のndarray, shape (n_samples, 1)\n",
    "      正解値\n",
    "    batch_size : int\n",
    "      バッチサイズ\n",
    "    seed : int\n",
    "      NumPyの乱数のシード\n",
    "    \"\"\"\n",
    "    def __init__(self, X, y, batch_size = 20, seed=0):\n",
    "        self.batch_size = batch_size\n",
    "        np.random.seed(seed)\n",
    "        shuffle_index = np.random.permutation(np.arange(X.shape[0]))\n",
    "        self._X = X[shuffle_index]\n",
    "        self._y = y[shuffle_index]\n",
    "        self._stop = np.ceil(X.shape[0]/self.batch_size).astype(np.int)\n",
    "    def __len__(self):\n",
    "        return self._stop\n",
    "    def __getitem__(self,item):\n",
    "        p0 = item*self.batch_size\n",
    "        p1 = item*self.batch_size + self.batch_size\n",
    "        return self._X[p0:p1], self._y[p0:p1]        \n",
    "    def __iter__(self):\n",
    "        self._counter = 0\n",
    "        return self\n",
    "    def __next__(self):\n",
    "        if self._counter >= self._stop:\n",
    "            raise StopIteration()\n",
    "        p0 = self._counter*self.batch_size\n",
    "        p1 = self._counter*self.batch_size + self.batch_size\n",
    "        self._counter += 1\n",
    "        return self._X[p0:p1], self._y[p0:p1]"
   ]
  },
  {
   "cell_type": "code",
   "execution_count": 3,
   "metadata": {},
   "outputs": [],
   "source": [
    "from tensorflow.keras.datasets import mnist\n",
    "(X_train, y_train), (X_test, y_test) = mnist.load_data()"
   ]
  },
  {
   "cell_type": "code",
   "execution_count": 4,
   "metadata": {},
   "outputs": [
    {
     "name": "stdout",
     "output_type": "stream",
     "text": [
      "(60000, 28, 28)\n",
      "(10000, 28, 28)\n",
      "uint8\n",
      "[[  0   0   0   0   0   0   0   0   0   0   0   0   0   0   0   0   0   0\n",
      "    0   0   0   0   0   0   0   0   0   0]\n",
      " [  0   0   0   0   0   0   0   0   0   0   0   0   0   0   0   0   0   0\n",
      "    0   0   0   0   0   0   0   0   0   0]\n",
      " [  0   0   0   0   0   0   0   0   0   0   0   0   0   0   0   0   0   0\n",
      "    0   0   0   0   0   0   0   0   0   0]\n",
      " [  0   0   0   0   0   0   0   0   0   0   0   0   0   0   0   0   0   0\n",
      "    0   0   0   0   0   0   0   0   0   0]\n",
      " [  0   0   0   0   0   0   0   0   0   0   0   0   0   0   0   0   0   0\n",
      "    0   0   0   0   0   0   0   0   0   0]\n",
      " [  0   0   0   0   0   0   0   0   0   0   0   0   3  18  18  18 126 136\n",
      "  175  26 166 255 247 127   0   0   0   0]\n",
      " [  0   0   0   0   0   0   0   0  30  36  94 154 170 253 253 253 253 253\n",
      "  225 172 253 242 195  64   0   0   0   0]\n",
      " [  0   0   0   0   0   0   0  49 238 253 253 253 253 253 253 253 253 251\n",
      "   93  82  82  56  39   0   0   0   0   0]\n",
      " [  0   0   0   0   0   0   0  18 219 253 253 253 253 253 198 182 247 241\n",
      "    0   0   0   0   0   0   0   0   0   0]\n",
      " [  0   0   0   0   0   0   0   0  80 156 107 253 253 205  11   0  43 154\n",
      "    0   0   0   0   0   0   0   0   0   0]\n",
      " [  0   0   0   0   0   0   0   0   0  14   1 154 253  90   0   0   0   0\n",
      "    0   0   0   0   0   0   0   0   0   0]\n",
      " [  0   0   0   0   0   0   0   0   0   0   0 139 253 190   2   0   0   0\n",
      "    0   0   0   0   0   0   0   0   0   0]\n",
      " [  0   0   0   0   0   0   0   0   0   0   0  11 190 253  70   0   0   0\n",
      "    0   0   0   0   0   0   0   0   0   0]\n",
      " [  0   0   0   0   0   0   0   0   0   0   0   0  35 241 225 160 108   1\n",
      "    0   0   0   0   0   0   0   0   0   0]\n",
      " [  0   0   0   0   0   0   0   0   0   0   0   0   0  81 240 253 253 119\n",
      "   25   0   0   0   0   0   0   0   0   0]\n",
      " [  0   0   0   0   0   0   0   0   0   0   0   0   0   0  45 186 253 253\n",
      "  150  27   0   0   0   0   0   0   0   0]\n",
      " [  0   0   0   0   0   0   0   0   0   0   0   0   0   0   0  16  93 252\n",
      "  253 187   0   0   0   0   0   0   0   0]\n",
      " [  0   0   0   0   0   0   0   0   0   0   0   0   0   0   0   0   0 249\n",
      "  253 249  64   0   0   0   0   0   0   0]\n",
      " [  0   0   0   0   0   0   0   0   0   0   0   0   0   0  46 130 183 253\n",
      "  253 207   2   0   0   0   0   0   0   0]\n",
      " [  0   0   0   0   0   0   0   0   0   0   0   0  39 148 229 253 253 253\n",
      "  250 182   0   0   0   0   0   0   0   0]\n",
      " [  0   0   0   0   0   0   0   0   0   0  24 114 221 253 253 253 253 201\n",
      "   78   0   0   0   0   0   0   0   0   0]\n",
      " [  0   0   0   0   0   0   0   0  23  66 213 253 253 253 253 198  81   2\n",
      "    0   0   0   0   0   0   0   0   0   0]\n",
      " [  0   0   0   0   0   0  18 171 219 253 253 253 253 195  80   9   0   0\n",
      "    0   0   0   0   0   0   0   0   0   0]\n",
      " [  0   0   0   0  55 172 226 253 253 253 253 244 133  11   0   0   0   0\n",
      "    0   0   0   0   0   0   0   0   0   0]\n",
      " [  0   0   0   0 136 253 253 253 212 135 132  16   0   0   0   0   0   0\n",
      "    0   0   0   0   0   0   0   0   0   0]\n",
      " [  0   0   0   0   0   0   0   0   0   0   0   0   0   0   0   0   0   0\n",
      "    0   0   0   0   0   0   0   0   0   0]\n",
      " [  0   0   0   0   0   0   0   0   0   0   0   0   0   0   0   0   0   0\n",
      "    0   0   0   0   0   0   0   0   0   0]\n",
      " [  0   0   0   0   0   0   0   0   0   0   0   0   0   0   0   0   0   0\n",
      "    0   0   0   0   0   0   0   0   0   0]]\n"
     ]
    }
   ],
   "source": [
    "print(X_train.shape) # (60000, 28, 28)\n",
    "print(X_test.shape) # (10000, 28, 28)\n",
    "print(X_train[0].dtype) # uint8\n",
    "print(X_train[0])"
   ]
  },
  {
   "cell_type": "code",
   "execution_count": 5,
   "metadata": {},
   "outputs": [],
   "source": [
    "X_train = X_train.reshape(-1, 784)\n",
    "X_test = X_test.reshape(-1, 784)"
   ]
  },
  {
   "cell_type": "code",
   "execution_count": 6,
   "metadata": {},
   "outputs": [
    {
     "data": {
      "image/png": "[encoded data removed]",
      "text/plain": [
       "<Figure size 432x288 with 1 Axes>"
      ]
     },
     "metadata": {
      "needs_background": "light"
     },
     "output_type": "display_data"
    }
   ],
   "source": [
    "import matplotlib.pyplot as plt\n",
    "%matplotlib inline\n",
    "index = 0\n",
    "image = X_train[index].reshape(28,28)\n",
    "#X_train[index]: (784,)\n",
    "# image: (28, 28)\n",
    "plt.imshow(image, 'gray', vmin = 0, vmax = 255)\n",
    "plt.title('label : {}'.format(y_train[index]))\n",
    "plt.show()"
   ]
  },
  {
   "cell_type": "code",
   "execution_count": 7,
   "metadata": {},
   "outputs": [
    {
     "name": "stdout",
     "output_type": "stream",
     "text": [
      "1.0\n",
      "0.0\n"
     ]
    }
   ],
   "source": [
    "X_train = X_train.astype(np.float)\n",
    "X_test = X_test.astype(np.float)\n",
    "X_train /= 255\n",
    "X_test /= 255\n",
    "print(X_train.max()) # 1.0\n",
    "print(X_train.min()) # 0.0\n"
   ]
  },
  {
   "cell_type": "code",
   "execution_count": 8,
   "metadata": {},
   "outputs": [
    {
     "name": "stdout",
     "output_type": "stream",
     "text": [
      "(60000,)\n",
      "(60000, 10)\n",
      "float64\n"
     ]
    }
   ],
   "source": [
    "from sklearn.preprocessing import OneHotEncoder\n",
    "enc = OneHotEncoder(handle_unknown='ignore', sparse=False)\n",
    "y_train_one_hot = enc.fit_transform(y_train[:, np.newaxis])\n",
    "y_test_one_hot = enc.transform(y_test[:, np.newaxis])\n",
    "print(y_train.shape) # (60000,)\n",
    "print(y_train_one_hot.shape) # (60000, 10)\n",
    "print(y_train_one_hot.dtype) # float64\n"
   ]
  },
  {
   "cell_type": "code",
   "execution_count": 9,
   "metadata": {
    "scrolled": true
   },
   "outputs": [
    {
     "name": "stdout",
     "output_type": "stream",
     "text": [
      "(48000, 784)\n",
      "(12000, 784)\n"
     ]
    }
   ],
   "source": [
    "from sklearn.model_selection import train_test_split\n",
    "X_train, X_val, y_train, y_val = train_test_split(X_train, y_train_one_hot, test_size=0.2)\n",
    "print(X_train.shape) # (48000, 784)\n",
    "print(X_val.shape) # (12000, 784)"
   ]
  },
  {
   "cell_type": "code",
   "execution_count": 10,
   "metadata": {},
   "outputs": [],
   "source": [
    "def crossentropy(final_answer, mini_y_train):\n",
    "    return -np.sum(mini_y_train * np.log(final_answer))/(final_answer.shape[0])"
   ]
  },
  {
   "cell_type": "code",
   "execution_count": 11,
   "metadata": {},
   "outputs": [],
   "source": [
    "class ScratchSimpleNeuralNetrowkClassifier():\n",
    "    \"\"\"\n",
    "    シンプルな三層ニューラルネットワーク分類器\n",
    "\n",
    "    Parameters\n",
    "    ----------\n",
    "\n",
    "    Attributes\n",
    "    ----------\n",
    "    \"\"\"\n",
    "    def __init__(self, verbose = True):\n",
    "        \n",
    "        self.n_nodes1 = 400 # 1層目のノード数\n",
    "        self.n_nodes2 = 200 # 2層目のノード数\n",
    "        self.n_output = 10 # 出力のクラス数（3層目のノード数）\n",
    "        self.sigma = 0.01 # ガウス分布の標準偏差\n",
    "        \n",
    "        \n",
    "        \n",
    "        \n",
    "        self.verbose = verbose\n",
    "        pass\n",
    "    def fit(self, X, y, X_val=None, y_val=None, val=False):\n",
    "        \"\"\"\n",
    "        ニューラルネットワーク分類器を学習する。\n",
    "\n",
    "        Parameters\n",
    "        ----------\n",
    "        X : 次の形のndarray, shape (n_samples, n_features)\n",
    "            訓練データの特徴量\n",
    "        y : 次の形のndarray, shape (n_samples, )\n",
    "            訓練データの正解値\n",
    "        X_val : 次の形のndarray, shape (n_samples, n_features)\n",
    "            検証データの特徴量\n",
    "        y_val : 次の形のndarray, shape (n_samples, )\n",
    "            検証データの正解値\n",
    "        \"\"\"\n",
    "        \n",
    "        self.W1 = self.sigma * np.random.randn(X.shape[1], self.n_nodes1)\n",
    "        self.B1 = self.sigma * np.random.randn(self.n_nodes1,)\n",
    "        self.W2 = self.sigma * np.random.randn(self.n_nodes1, self.n_nodes2)\n",
    "        self.B2 = self.sigma * np.random.randn(self.n_nodes2, )\n",
    "        self.W3 = self.sigma * np.random.randn(self.n_nodes2, self.n_output)\n",
    "        self.B3 = self.sigma * np.random.randn(self.n_output, )\n",
    "        \n",
    "       \n",
    "        \n",
    "        \n",
    "        #エポック毎の損失を記録\n",
    "        self.cost = [] \n",
    "        self.cost_val = []\n",
    "        \n",
    "        self.epoch=20 #何回回すか\n",
    "        self.alpha = 0.001#学習率\n",
    "        \n",
    "        self.hako = []\n",
    "        self.count = []\n",
    "        \n",
    "        #全データ１回分の処理\n",
    "        for i in range(self.epoch):\n",
    "            get_mini_batch = GetMiniBatch(X_train, y_train, batch_size=20)\n",
    "           \n",
    "                \n",
    "                \n",
    "            #バッチ毎の処理\n",
    "\n",
    "            for mini_X_train, mini_y_train in get_mini_batch:#2400回\n",
    "                \n",
    "                #フォアード\n",
    "                A1 = np.dot(mini_X_train, self.W1) + self.B1\n",
    "                Z1 = self.tanh(A1)\n",
    "                A2 = np.dot(Z1, self.W2) + self.B2\n",
    "                Z2 = self.tanh(A2)\n",
    "                A3 = np.dot(Z2, self.W3) + self.B3\n",
    "                final_answer = self.softmax(A3)\n",
    "                #バックプロパゲーション\n",
    "                delta1 = final_answer - mini_y_train\n",
    "                delta2 = (1 - np.tanh(A2)**2) * (np.dot(delta1,self.W3.T))###(np.dot(delta1,self.W3.T)) = dz\n",
    "                delta3 = (1 - np.tanh(A1)**2) * (np.dot(delta2,self.W2.T))\n",
    "                #print(delta3.shape)\n",
    "                #layer3\n",
    "                b3grad = delta1\n",
    "                W3grad = np.dot(Z2.T,delta1)\n",
    "                #layer2\n",
    "                b2grad = delta2\n",
    "                W2grad = np.dot(Z1.T,delta2)\n",
    "                #layer1\n",
    "                b1grad = delta3\n",
    "                W1grad =np.dot(mini_X_train.T,delta3)\n",
    "                W1grad.shape\n",
    "                #更新\n",
    "#                 print(np.mean(b3grad,axis=0).shape)\n",
    "#                 print(self.B3.shape)\n",
    "                self.B3 -= self.alpha*np.mean(b3grad,axis=0)\n",
    "                self.W3 -= self.alpha*W3grad\n",
    "#                 print(np.mean(b2grad,axis=0).shape)\n",
    "#                 print(self.B2.shape)\n",
    "                self.B2 -= self.alpha*np.mean(b2grad,axis=0)\n",
    "                self.W2 -= self.alpha*W2grad\n",
    "#                 print(np.mean(b1grad,axis=0).shape)\n",
    "#                 print(self.B1.shape)\n",
    "                self.B1 -= self.alpha*np.mean(b1grad,axis=0)\n",
    "                self.W1 -= self.alpha*W1grad\n",
    "            \n",
    "       #フォアード\n",
    "            A1 = np.dot(X_train, self.W1) + self.B1\n",
    "            Z1 = self.tanh(A1)\n",
    "            A2 = np.dot(Z1, self.W2) + self.B2\n",
    "            Z2 = self.tanh(A2)\n",
    "            A3 = np.dot(Z2, self.W3) + self.B3\n",
    "            final_answer = self.softmax(A3)     \n",
    "\n",
    "                \n",
    "            self.cost.append(crossentropy(final_answer, y_train))\n",
    "            \n",
    "            \n",
    "            if val:\n",
    "                A1 = np.dot(X_val, self.W1) + self.B1\n",
    "                Z1 = self.tanh(A1)\n",
    "                A2 = np.dot(Z1, self.W2) + self.B2\n",
    "                Z2 = self.tanh(A2)\n",
    "                A3 = np.dot(Z2, self.W3) + self.B3\n",
    "                final_val_answer = self.softmax(A3)  \n",
    "                \n",
    "                self.cost_val.append(crossentropy(final_val_answer, y_val))\n",
    "                \n",
    "                \n",
    "                \n",
    "        if self.verbose:\n",
    "            #verboseをTrueにした際は学習過程などを出力する\n",
    "            print()\n",
    "        pass\n",
    "    def predict(self, X):\n",
    "        \"\"\"\n",
    "        ニューラルネットワーク分類器を使い推定する。\n",
    "\n",
    "        Parameters\n",
    "        ----------\n",
    "        X : 次の形のndarray, shape (n_samples, n_features)\n",
    "            サンプル\n",
    "\n",
    "        Returns\n",
    "        -------\n",
    "            次の形のndarray, shape (n_samples, 1)\n",
    "            推定結果\n",
    "        \"\"\"\n",
    "        A1 = np.dot(X, self.W1) + self.B1\n",
    "        Z1 = self.tanh(A1)\n",
    "        A2 = np.dot(Z1, self.W2) + self.B2\n",
    "        Z2 = self.tanh(A2)\n",
    "        A3 = np.dot(Z2, self.W3) + self.B3\n",
    "        pre_final_answer = self.softmax(A3)\n",
    "        pre_final_answer_answer = np.argmax(pre_final_answer, axis=1)\n",
    "        return pre_final_answer_answer\n",
    "    \n",
    "    def tanh(self, A):\n",
    "        return (np.exp(A) - np.exp(-A))/(np.exp(A) + np.exp(-A))\n",
    "    \n",
    "    def softmax(self, A3):\n",
    "        A3 = A3.T\n",
    "        ue = np.exp(A3)\n",
    "        shita = np.sum(np.exp(A3), axis = 0)\n",
    "        return (ue/shita).T\n",
    "    \n",
    "    def crossentropy(self, final_answer, mini_y_train):\n",
    "        return -np.sum(mini_y_train * np.log(final_answer))/(final_answer.shape[0])\n",
    "    \n",
    "        return"
   ]
  },
  {
   "cell_type": "markdown",
   "metadata": {},
   "source": [
    "# 【問題1】全結合層のクラス化"
   ]
  },
  {
   "cell_type": "markdown",
   "metadata": {},
   "source": [
    "全結合層のクラス化を行なってください。\n",
    "\n",
    "\n",
    "以下に雛形を載せました。コンストラクタで重みやバイアスの初期化をして、あとはフォワードとバックワードのメソッドを用意します。重みW、バイアスB、およびフォワード時の入力Xをインスタンス変数として保持しておくことで、煩雑な入出力は不要になります。\n",
    "\n",
    "\n",
    "なお、インスタンスも引数として渡すことができます。そのため、初期化方法のインスタンスinitializerをコンストラクタで受け取れば、それにより初期化が行われます。渡すインスタンスを変えれば、初期化方法が変えられます。\n",
    "\n",
    "\n",
    "また、引数として自身のインスタンスselfを渡すこともできます。これを利用してself.optimizer.update(self)という風に層の重みの更新が可能です。更新に必要な値は複数ありますが、全て全結合層が持つインスタンス変数にすることができます。\n",
    "\n",
    "\n",
    "初期化方法と最適化手法のクラスについては後述します。"
   ]
  },
  {
   "cell_type": "markdown",
   "metadata": {},
   "source": [
    "# 【問題2】初期化方法のクラス化"
   ]
  },
  {
   "cell_type": "markdown",
   "metadata": {},
   "source": [
    "# 【問題3】最適化手法のクラス化"
   ]
  },
  {
   "cell_type": "markdown",
   "metadata": {},
   "source": [
    "イテレーションごとのフォワード"
   ]
  },
  {
   "cell_type": "code",
   "execution_count": null,
   "metadata": {},
   "outputs": [],
   "source": [
    "A1 = self.FC1.forward(X)\n",
    "Z1 = self.activation1.forward(A1) #Tanh().forward()\n",
    "A2 = self.FC2.forward(Z1)\n",
    "Z2 = self.activation2.forward(A2)\n",
    "A3 = self.FC3.forward(Z2)\n",
    "Z3 = self.activation3.forward(A3)\n",
    "\n",
    " #フォアード\n",
    "\"\"\"\"\"\n",
    "A1 = np.dot(mini_X_train, self.W1) + self.B1\n",
    "Z1 = self.tanh(A1)\n",
    "A2 = np.dot(Z1, self.W2) + self.B2\n",
    "Z2 = self.tanh(A2)\n",
    "A3 = np.dot(Z2, self.W3) + self.B3\n",
    "final_answer(Z3) = self.softmax(A3)\n",
    "\"\"\"\"\"\""
   ]
  },
  {
   "cell_type": "code",
   "execution_count": null,
   "metadata": {},
   "outputs": [],
   "source": [
    "イテレーションごとのバックワード"
   ]
  },
  {
   "cell_type": "code",
   "execution_count": null,
   "metadata": {},
   "outputs": [],
   "source": [
    "dA3 = self.activation3.backward(Z3, Y) # 交差エントロピー誤差とソフトマックスを合わせている???????\n",
    "dZ2 = self.FC3.backward(dA3)\n",
    "dA2 = self.activation2.backward(dZ2)\n",
    "dZ1 = self.FC2.backward(dA2)\n",
    "dA1 = self.activation1.backward(dZ1)\n",
    "dZ0 = self.FC1.backward(dA1) # dZ0は使用しない\n",
    "\n",
    "\"\"\"\"\n",
    "バックプロパゲーション\n",
    "delta1 = final_answer - mini_y_train\n",
    "delta2 = (1 - np.tanh(A2)**2) * (np.dot(delta1,self.W3.T))\n",
    "delta3 = (1 - np.tanh(A1)**2) * (np.dot(delta2,self.W2.T))\n",
    "\"\"\"\"\"\"\n",
    "#layer3\n",
    "b3grad = delta1\n",
    "W3grad = np.dot(Z2.T,delta1)\n",
    "#layer2\n",
    "b2grad = delta2\n",
    "W2grad = np.dot(Z1.T,delta2)\n",
    "#layer1\n",
    "b1grad = delta3\n",
    "W1grad =np.dot(mini_X_train.T,delta3)\n",
    "W1grad.shape"
   ]
  },
  {
   "cell_type": "code",
   "execution_count": 13,
   "metadata": {},
   "outputs": [],
   "source": [
    "class FC:\n",
    "    \"\"\"\n",
    "    ノード数n_nodes1からn_nodes2への全結合層\n",
    "    Parameters\n",
    "    ----------\n",
    "    n_nodes1 : int\n",
    "      前の層のノード数\n",
    "    n_nodes2 : int\n",
    "      後の層のノード数\n",
    "    initializer : 初期化方法のインスタンス\n",
    "    optimizer : 最適化手法のインスタンス\n",
    "    \"\"\"\n",
    "    def __init__(self, n_nodes1, n_nodes2, initializer, optimizer):\n",
    "        self.optimizer = optimizer\n",
    "        \n",
    "        # 初期化\n",
    "        # initializerのメソッドを使い、self.Wとself.Bを初期化する\n",
    "        self.W = initializer.W(n_nodes1, n_nodes2)\n",
    "        self.B =  initializer.B(n_nodes2)\n",
    "        \"\"\"\"\n",
    "        self.W1 = self.sigma * np.random.randn(X.shape[1], self.n_nodes1)\n",
    "        self.W2 = self.sigma * np.random.randn(self.n_nodes1, self.n_nodes2)\n",
    "        self.W3 = self.sigma * np.random.randn(self.n_nodes2, self.n_output)\n",
    "        self.B1 = self.sigma * np.random.randn(self.n_nodes1,)\n",
    "        self.B2 = self.sigma * np.random.randn(self.n_nodes2, )\n",
    "        self.B3 = self.sigma * np.random.randn(self.n_output, )\n",
    "        \"\"\"\"\"\n",
    "        pass\n",
    "    def forward(self, Z):\n",
    "        \"\"\"\n",
    "        フォワード\n",
    "        Parameters\n",
    "        ----------\n",
    "        Z : 次の形のndarray, shape (batch_size, n_nodes1)\n",
    "            入力\n",
    "        Returns\n",
    "        ----------\n",
    "        A : 次の形のndarray, shape (batch_size, n_nodes2)\n",
    "            出力\n",
    "        \"\"\" \n",
    "        self.Z = Z.copy()\n",
    "        \n",
    "        return np.dot(Z, self.W) + self.B #output=A\n",
    "        \n",
    "        \"\"\"\"\"\n",
    "        A1 = np.dot(mini_X_train, self.W1) + self.B1\n",
    "        Z1 = self.tanh(A1)\n",
    "        A2 = np.dot(Z1, self.W2) + self.B2\n",
    "        Z2 = self.tanh(A2) \n",
    "        A3 = np.dot(Z2, self.W3) + self.B3\n",
    "        final_answer = self.softmax(A3)\n",
    "        \"\"\"\n",
    "\n",
    "    def backward(self, dA):\n",
    "        \"\"\"\n",
    "        バックワード\n",
    "        Parameters\n",
    "        ----------\n",
    "        dA : 次の形のndarray, shape (batch_size, n_nodes2)\n",
    "            後ろから流れてきた勾配\n",
    "        Returns\n",
    "        ----------\n",
    "        dZ : 次の形のndarray, shape (batch_size, n_nodes1)\n",
    "            前に流す勾配\n",
    "        \"\"\"\n",
    "        \n",
    "        self.dB = dA #b3grad = delta1=dA\n",
    "        #print(self.Z.shape)\n",
    "        #print(dA.shape)\n",
    "        self.dW = np.dot(self.Z.T,dA) #np.dot(___Z2___, dA)shapedW?? = np.dot(self.Z,dA) のshape確認\n",
    "        \n",
    "        dZ = np.dot(dA, self.W.T)#(np.dot(delta1,self.W3.T)\n",
    "        \n",
    "        # 更新\n",
    "        self = self.optimizer.update(self) #??????\n",
    "        return dZ\n",
    "    "
   ]
  },
  {
   "cell_type": "markdown",
   "metadata": {},
   "source": [
    "# 問題4】活性化関数のクラス化"
   ]
  },
  {
   "cell_type": "markdown",
   "metadata": {},
   "source": [
    "活性化関数のクラス化を行なってください。\n",
    "\n",
    "\n",
    "ソフトマックス関数のバックプロパゲーションには交差エントロピー誤差の計算も含む実装を行うことで計算が簡略化されます。"
   ]
  },
  {
   "cell_type": "code",
   "execution_count": 14,
   "metadata": {},
   "outputs": [],
   "source": [
    "class Tanh:\n",
    "    def __init__(self):\n",
    "        self.A = None\n",
    "        \n",
    "    def forward(self, A):\n",
    "        self.A = A\n",
    "        return (np.exp(self.A) - np.exp(-self.A))/(np.exp(self.A) + np.exp(-self.A))\n",
    "    \n",
    "    def backward(self, dZ):\n",
    "        return dZ*(1 - self.forward(self.A)**2)"
   ]
  },
  {
   "cell_type": "code",
   "execution_count": 15,
   "metadata": {},
   "outputs": [],
   "source": [
    "class SimpleInitializer:\n",
    "    def __init__(self, sigma):\n",
    "        self.sigma = sigma\n",
    "        \n",
    "        \n",
    "    def W(self, n_nodes1, n_nodes2 ):\n",
    "        return self.sigma*np.random.randn(n_nodes1, n_nodes2)\n",
    "    \n",
    "    def B(self, n_nodes2):\n",
    "        return  self.sigma * np.random.randn(n_nodes2)\n",
    "      "
   ]
  },
  {
   "cell_type": "code",
   "execution_count": 16,
   "metadata": {},
   "outputs": [],
   "source": [
    "class Softmax_with_crossentropyloss():\n",
    "    def __init__(self):\n",
    "        pass\n",
    "        \n",
    "    def forward(self,A):\n",
    "        A = A.T\n",
    "        ue = np.exp(A)\n",
    "        shita = np.sum(np.exp(A), axis = 0)\n",
    "        self.Z_final = (ue/shita).T\n",
    "        return self.Z_final\n",
    "    \n",
    "    def backward(self,y):\n",
    "        return self.Z_final - y#正解ラベル\n",
    "    "
   ]
  },
  {
   "cell_type": "code",
   "execution_count": 17,
   "metadata": {},
   "outputs": [],
   "source": [
    "class SGD:\n",
    "    def __init__(self, alpha):\n",
    "        self.alpha = alpha\n",
    "    \n",
    "    def update(self, layer):#FCのインスタンス入る self? layer.W→self.W?\n",
    "        layer.W = layer.W - self.alpha * layer.dW\n",
    "        #layer.B = layer.B - self.alpha * layer.dB.mean(axis=1)\n",
    "        layer.B = layer.B - self.alpha *np.mean( layer.dB,axis=0)\n",
    "        return layer"
   ]
  },
  {
   "cell_type": "markdown",
   "metadata": {},
   "source": [
    "# 【問題5】ReLUクラスの作成"
   ]
  },
  {
   "cell_type": "markdown",
   "metadata": {},
   "source": [
    "現在一般的に使われている活性化関数であるReLU（Rectified Linear Unit）をReLUクラスとして実装してください。\n",
    "\n",
    "\n",
    "ReLUは以下の数式です。"
   ]
  },
  {
   "cell_type": "markdown",
   "metadata": {},
   "source": [
    "$\n",
    "% <![CDATA[\n",
    "f(x) = ReLU(x) = \\begin{cases}\n",
    "x  & \\text{if $x>0$,}\\\\\n",
    "0 & \\text{if $x\\leqq0$.}\n",
    "\\end{cases} %]]>\n",
    "$"
   ]
  },
  {
   "cell_type": "markdown",
   "metadata": {},
   "source": [
    "x\n",
    " : ある特徴量。スカラー\n",
    "\n",
    "\n",
    "実装上はnp.maximumを使い配列に対してまとめて計算が可能です。\n",
    "\n",
    "\n",
    "numpy.maximum — NumPy v1.15 Manual\n",
    "\n",
    "\n",
    "一方、バックプロパゲーションのための \n",
    "x\n",
    " に関する \n",
    "f\n",
    "(\n",
    "x\n",
    ")\n",
    " の微分は以下のようになります。"
   ]
  },
  {
   "cell_type": "markdown",
   "metadata": {},
   "source": [
    "$\n",
    "% <![CDATA[\n",
    "\\frac{\\partial f(x)}{\\partial x} = \\begin{cases}\n",
    "1  & \\text{if $x>0$,}\\\\\n",
    "0 & \\text{if $x\\leqq0$.}\n",
    "\\end{cases} %]]>\n",
    "$"
   ]
  },
  {
   "cell_type": "markdown",
   "metadata": {},
   "source": [
    "数学的には微分可能ではないですが、 \n",
    "x\n",
    "=\n",
    "0\n",
    " のとき \n",
    "0\n",
    " とすることで対応しています。\n",
    "\n",
    "\n",
    "フォワード時の \n",
    "x\n",
    " の正負により、勾配を逆伝播するかどうかが決まるということになります。"
   ]
  },
  {
   "cell_type": "code",
   "execution_count": 18,
   "metadata": {},
   "outputs": [],
   "source": [
    "class ReLU:\n",
    "    def __init__(self):\n",
    "        pass\n",
    "    def forward(self, X):\n",
    "        self.mask = np.where(X>0, 1, 0)\n",
    "        \n",
    "        return np.maximum(0, X)\n",
    "    \n",
    "    def backward(self, X):\n",
    "        X = X*self.mask\n",
    "        return X\n",
    "    "
   ]
  },
  {
   "cell_type": "code",
   "execution_count": 19,
   "metadata": {},
   "outputs": [],
   "source": [
    "class reluuuuuu:\n",
    "    def __init__(self):\n",
    "        self.mask = None\n",
    "    \n",
    "    def forward(self, x):\n",
    "        self.mask = (x <=0)\n",
    "        out = x.copy()\n",
    "        out[self.mask]= 0\n",
    "        \n",
    "        return out\n",
    "\n",
    "    def backward(self, dout):\n",
    "        dout[self.mask]= 0\n",
    "        dx = dout\n",
    "        \n",
    "        return dx"
   ]
  },
  {
   "cell_type": "code",
   "execution_count": null,
   "metadata": {},
   "outputs": [],
   "source": [
    "ooo = np.arange(10).reshape([5,2])\n",
    "ooo"
   ]
  },
  {
   "cell_type": "code",
   "execution_count": null,
   "metadata": {},
   "outputs": [],
   "source": [
    "reluu = ReLU()\n",
    "reluu.forward(ooo)\n",
    "reluu.backward(ooo)"
   ]
  },
  {
   "cell_type": "code",
   "execution_count": null,
   "metadata": {},
   "outputs": [],
   "source": [
    "shita= np.random.randn(3, 3)\n",
    "shita"
   ]
  },
  {
   "cell_type": "code",
   "execution_count": null,
   "metadata": {},
   "outputs": [],
   "source": [
    "reluoo = reluuuuuu()\n",
    "reluoo.forward(shita)"
   ]
  },
  {
   "cell_type": "code",
   "execution_count": null,
   "metadata": {},
   "outputs": [],
   "source": [
    "mask = (shita <=0)"
   ]
  },
  {
   "cell_type": "code",
   "execution_count": null,
   "metadata": {},
   "outputs": [],
   "source": [
    "shita[mask]=0"
   ]
  },
  {
   "cell_type": "markdown",
   "metadata": {},
   "source": [
    "# 【問題6】重みの初期値"
   ]
  },
  {
   "cell_type": "markdown",
   "metadata": {},
   "source": [
    "シグモイド関数やハイパボリックタンジェント関数のときは Xavierの初期値 （またはGlorotの初期値）、ReLUのときは Heの初期値 が使われます。"
   ]
  },
  {
   "cell_type": "markdown",
   "metadata": {},
   "source": [
    "### Xavierの初期値"
   ]
  },
  {
   "cell_type": "markdown",
   "metadata": {},
   "source": [
    "Xavierの初期値における標準偏差 \n",
    "σ\n",
    " は次の式で求められます。"
   ]
  },
  {
   "cell_type": "markdown",
   "metadata": {},
   "source": [
    "$\n",
    "\\sigma = \\frac{1}{\\sqrt{n}}\n",
    "$"
   ]
  },
  {
   "cell_type": "code",
   "execution_count": 183,
   "metadata": {},
   "outputs": [],
   "source": [
    "# Xavierをインスタンス化するときはXavier(self.n_nodes)とする\n",
    "\n",
    "class Xavier:\n",
    "    def __init__(self, n_nodes1):\n",
    "        self.n_nodes1= n_nodes1\n",
    "        self.sigma = 1/np.sqrt(self.n_nodes1)\n",
    "               \n",
    "    def W(self, n_nodes1, n_nodes2):\n",
    "        return self.sigma*np.random.randn(n_nodes1, n_nodes2)\n",
    "    \n",
    "    def B(self, n_nodes2):\n",
    "        return  self.sigma * np.random.randn(n_nodes2)"
   ]
  },
  {
   "cell_type": "markdown",
   "metadata": {},
   "source": [
    "### Heの初期値"
   ]
  },
  {
   "cell_type": "markdown",
   "metadata": {},
   "source": [
    "Heの初期値における標準偏差 \n",
    "σ\n",
    " は次の式で求められます。"
   ]
  },
  {
   "cell_type": "markdown",
   "metadata": {},
   "source": [
    "$\n",
    "\\sigma = \\sqrt{\\frac{2}{n}}\n",
    "$"
   ]
  },
  {
   "cell_type": "code",
   "execution_count": 162,
   "metadata": {},
   "outputs": [],
   "source": [
    "# Heをインスタンス化するときはXavier(self.n_nodes)とする\n",
    "class He:\n",
    "    def __init__(self, n_nodes1):\n",
    "        self.n_nodes1= n_nodes1\n",
    "        self.sigma = np.sqrt(2/self.n_nodes1)\n",
    "        \n",
    "        \n",
    "    def W(self, n_nodes1, n_nodes2):\n",
    "        return self.sigma*np.random.randn(n_nodes1, n_nodes2)\n",
    "    \n",
    "    def B(self, n_nodes2):\n",
    "        return  self.sigma * np.random.randn(n_nodes2)"
   ]
  },
  {
   "cell_type": "markdown",
   "metadata": {},
   "source": [
    "# 【問題7】最適化手法"
   ]
  },
  {
   "cell_type": "markdown",
   "metadata": {},
   "source": [
    "$\n",
    "H_i^{\\prime}  = H_i+E(\\frac{\\partial L}{\\partial W_i})×E(\\frac{\\partial L}{\\partial W_i})\\\\<br/>W_i^{\\prime} = W_i - \\alpha \\frac{1}{\\sqrt{H_i^{\\prime} }} E(\\frac{\\partial L}{\\partial W_i}) \\\\\n",
    "$"
   ]
  },
  {
   "cell_type": "code",
   "execution_count": 153,
   "metadata": {},
   "outputs": [],
   "source": [
    "class AdaGrad:\n",
    "    def __init__(self, alpha):\n",
    "        self.alpha = alpha\n",
    "        self.h_W = 0\n",
    "        self.h_B = 0\n",
    "        \n",
    "    def update(self, layer):#FCのインスタンス入る self? layer.W→self.W?\n",
    "        self.h_W = self.h_W + (layer.dW* layer.dW)\n",
    "        self.h_B = self.h_B + (np.mean(layer.dB,axis=0)* np.mean(layer.dB,axis=0))\n",
    "        layer.W = layer.W - (self.alpha*np.sqrt(1/self.h_W)) * layer.dW\n",
    "        #layer.B = layer.B - self.alpha * layer.dB.mean(axis=1)\n",
    "        layer.B = layer.B - (self.alpha*np.sqrt(1/self.h_B)) *np.mean(layer.dB,axis=0)\n",
    "        #print(layer.B.shape)\n",
    "        return layer\n",
    "    "
   ]
  },
  {
   "cell_type": "markdown",
   "metadata": {},
   "source": [
    "# 【問題8】クラスの完成"
   ]
  },
  {
   "cell_type": "code",
   "execution_count": 132,
   "metadata": {},
   "outputs": [],
   "source": [
    "class ScrachDeepNeuralNetworkRegressor():\n",
    "    \n",
    "    def __init__(self, n_epochs, batch, alpha = np.exp(-7), sigma = 0.01, n_nodes1 = 400, n_nodes2 = 200, n_output = 10):\n",
    "        self.n_epochs = n_epochs\n",
    "        self.batch = batch\n",
    "        self.n_nodes1 = n_nodes1\n",
    "        self.n_nodes2 = n_nodes2\n",
    "        self.n_output = n_output\n",
    "        self.loss = []#np.zeros(n_epochs)\n",
    "        self.val_loss = []#np.zeros(n_epochs)\n",
    "        self.alpha = alpha\n",
    "        self.sigma = sigma\n",
    "        \n",
    "    def fit(self, X, y, X_val=None, y_val=None, val=False):\n",
    "        #y = y[:, np.newaxis]\n",
    "        \n",
    "       # y_val = y_val[:,np.newaxis]\n",
    "        self.X = X\n",
    "        self.y = y\n",
    "        \n",
    "        self.n_features = self.X.shape[1]\n",
    "        train_minibatch = GetMiniBatch(self.X, y, self.batch)\n",
    "        test_minibatch = GetMiniBatch(X_val, y_val, self.batch)\n",
    "        \n",
    "        optimizer = SGD(self.alpha)\n",
    "        #optimizer1 = AdaGrad(self.alpha)\n",
    "        self.FC1 = FC(self.n_features, self.n_nodes1, SimpleInitializer(self.sigma), optimizer)\n",
    "        #self.FC1 = FC(self.n_features, self.n_nodes1, SimpleInitializer(self.sigma), optimizer1)\n",
    "        #self.activation1 = Tanh()\n",
    "        self.activation1 = ReLU()\n",
    "        #optimizer2 = AdaGrad(self.alpha)\n",
    "        self.FC2 = FC(self.n_nodes1, self.n_nodes2, SimpleInitializer(self.sigma), optimizer)\n",
    "        #self.FC2 = FC(self.n_nodes1, self.n_nodes2, SimpleInitializer(self.sigma), optimizer2)\n",
    "        #self.activation2 = Tanh()\n",
    "        self.activation2 = ReLU()\n",
    "        #optimizer3 = AdaGrad(self.alpha)\n",
    "        self.FC3 = FC(self.n_nodes2, self.n_output, SimpleInitializer(self.sigma), optimizer)\n",
    "        #self.FC3 = FC(self.n_nodes2, self.n_output, SimpleInitializer(self.sigma), optimizer3)\n",
    "        self.activation3 = Softmax_with_crossentropyloss()\n",
    "        \n",
    "        for epoch in range(self.n_epochs):\n",
    "            for mini_X, mini_y in train_minibatch:\n",
    "                X = mini_X\n",
    "                y = mini_y#[:,np.newaxis] ############\n",
    "                #フォワード\n",
    "                A1 = self.FC1.forward(X)\n",
    "                Z1 = self.activation1.forward(A1) #Tanh().forward()\n",
    "                A2 = self.FC2.forward(Z1)\n",
    "                Z2 = self.activation2.forward(A2)\n",
    "                A3 = self.FC3.forward(Z2)\n",
    "                Z3 = self.activation3.forward(A3)\n",
    "                #バックワード\n",
    "                dA3 = self.activation3.backward(y) # 交差エントロピー誤差とソフトマックスを合わせている\n",
    "                dZ2 = self.FC3.backward(dA3)\n",
    "                dA2 = self.activation2.backward(dZ2)\n",
    "                dZ1 = self.FC2.backward(dA2)\n",
    "                dA1 = self.activation1.backward(dZ1)\n",
    "                dZ0 = self.FC1.backward(dA1) # dZ0は使用しない\n",
    "            \n",
    "            print(self.X.shape)\n",
    "            A4 = self.FC1.forward(self.X)\n",
    "            print(A4.shape)\n",
    "            Z4 = self.activation1.forward(A4)\n",
    "            A5 = self.FC2.forward(Z4)\n",
    "            Z5 = self.activation2.forward(A5)\n",
    "            A6 = self.FC3.forward(Z5)\n",
    "            Z6 = self.activation3.forward(A6)\n",
    "            print(Z6.shape)\n",
    "            print(self.y.shape)\n",
    "            print(self.crossentropy(Z6, self.y))\n",
    "            self.loss.append(self.crossentropy(Z6, self.y))####?\n",
    "            \n",
    "#             print(self.X.shape)\n",
    "#             A1 = self.FC1.forward(self.X)\n",
    "#             print(A1)\n",
    "#             Z1 = self.activation1.forward(A1)\n",
    "#             A2 = self.FC2.forward(Z1)\n",
    "#             Z2 = self.activation2.forward(A2)\n",
    "#             A3 = self.FC3.forward(Z2)\n",
    "#             Z3 = self.activation3.forward(A3)\n",
    "#             print(Z3)\n",
    "#             print(y)\n",
    "#             print(self.crossentropy(Z3, y))\n",
    "#             self.loss.append(self.crossentropy(Z3, y))####?\n",
    "            \n",
    "            \n",
    "            if val:\n",
    "                A_val1 = self.FC1.forward(X_val)\n",
    "                Z_val1 = self.activation1.forward(A_val1)\n",
    "                A_val3 = self.FC2.forward(Z_val1)\n",
    "                Z_val2 = self.activation2.forward(A_val3)\n",
    "                A_val3 = self.FC3.forward(Z_val2)\n",
    "                Z_val3 = self.activation3.forward(A_val3)\n",
    "\n",
    "                self.val_loss.append(self.crossentropy(Z_val3, y_val))\n",
    "            \n",
    "                \n",
    "    def predict(self, X):\n",
    "        A1 = self.FC1.forward(X)\n",
    "        Z1 = self.activation1.forward(A1) #X,self.X\n",
    "        #print(Z1.shape)\n",
    "        A2 = self.FC2.forward(Z1)\n",
    "                #print(A2.shape)\n",
    "        Z2 = self.activation2.forward(A2)\n",
    "                #print(Z2.shape)\n",
    "        A3 = self.FC3.forward(Z2)\n",
    "                #print(A3.shape)\n",
    "        pre_final_answer = self.activation3.forward(A3)\n",
    "        pre_final_answer_answer = np.argmax(pre_final_answer, axis=1)\n",
    "        return pre_final_answer_answer\n",
    "    \n",
    "    def crossentropy(self, final_answer, y):\n",
    "        return -np.sum(y * np.log(final_answer))/(final_answer.shape[0])\n",
    "        \n",
    "                \n",
    "        \n",
    "                \n",
    "        return\n",
    "            \n",
    "                \n",
    "                \n",
    "                \n",
    "        "
   ]
  },
  {
   "cell_type": "code",
   "execution_count": 133,
   "metadata": {},
   "outputs": [],
   "source": [
    "dnnr = ScrachDeepNeuralNetworkRegressor(n_epochs=15, batch=20)"
   ]
  },
  {
   "cell_type": "code",
   "execution_count": 134,
   "metadata": {},
   "outputs": [
    {
     "name": "stdout",
     "output_type": "stream",
     "text": [
      "(48000, 784)\n",
      "(48000, 400)\n",
      "(48000, 10)\n",
      "(48000, 10)\n",
      "0.5585617583392231\n",
      "(48000, 784)\n",
      "(48000, 400)\n",
      "(48000, 10)\n",
      "(48000, 10)\n",
      "0.32817041845886796\n",
      "(48000, 784)\n",
      "(48000, 400)\n",
      "(48000, 10)\n",
      "(48000, 10)\n",
      "0.2398582959773998\n",
      "(48000, 784)\n",
      "(48000, 400)\n",
      "(48000, 10)\n",
      "(48000, 10)\n",
      "0.17905904427050254\n",
      "(48000, 784)\n",
      "(48000, 400)\n",
      "(48000, 10)\n",
      "(48000, 10)\n",
      "0.14168907383741053\n",
      "(48000, 784)\n",
      "(48000, 400)\n",
      "(48000, 10)\n",
      "(48000, 10)\n",
      "0.11560717536778242\n",
      "(48000, 784)\n",
      "(48000, 400)\n",
      "(48000, 10)\n",
      "(48000, 10)\n",
      "0.09692549525374275\n",
      "(48000, 784)\n",
      "(48000, 400)\n",
      "(48000, 10)\n",
      "(48000, 10)\n",
      "0.08228833610274441\n",
      "(48000, 784)\n",
      "(48000, 400)\n",
      "(48000, 10)\n",
      "(48000, 10)\n",
      "0.07049009658763745\n",
      "(48000, 784)\n",
      "(48000, 400)\n",
      "(48000, 10)\n",
      "(48000, 10)\n",
      "0.0610579980118431\n",
      "(48000, 784)\n",
      "(48000, 400)\n",
      "(48000, 10)\n",
      "(48000, 10)\n",
      "0.05324085897370648\n",
      "(48000, 784)\n",
      "(48000, 400)\n",
      "(48000, 10)\n",
      "(48000, 10)\n",
      "0.04652248147116744\n",
      "(48000, 784)\n",
      "(48000, 400)\n",
      "(48000, 10)\n",
      "(48000, 10)\n",
      "0.04100598938251051\n",
      "(48000, 784)\n",
      "(48000, 400)\n",
      "(48000, 10)\n",
      "(48000, 10)\n",
      "0.03611720561813446\n",
      "(48000, 784)\n",
      "(48000, 400)\n",
      "(48000, 10)\n",
      "(48000, 10)\n",
      "0.03209396226577688\n"
     ]
    }
   ],
   "source": [
    "dnnr.fit(X_train, y_train, X_val, y_val, val=True)"
   ]
  },
  {
   "cell_type": "code",
   "execution_count": 135,
   "metadata": {},
   "outputs": [
    {
     "data": {
      "text/plain": [
       "(400,)"
      ]
     },
     "execution_count": 135,
     "metadata": {},
     "output_type": "execute_result"
    }
   ],
   "source": [
    "dnnr.FC1.B.shape"
   ]
  },
  {
   "cell_type": "code",
   "execution_count": 136,
   "metadata": {},
   "outputs": [],
   "source": [
    "predict_y = dnnr.predict(X_val)\n"
   ]
  },
  {
   "cell_type": "code",
   "execution_count": 137,
   "metadata": {},
   "outputs": [
    {
     "data": {
      "text/plain": [
       "array([8, 1, 4, ..., 6, 0, 5])"
      ]
     },
     "execution_count": 137,
     "metadata": {},
     "output_type": "execute_result"
    }
   ],
   "source": [
    "predict_y"
   ]
  },
  {
   "cell_type": "code",
   "execution_count": 138,
   "metadata": {},
   "outputs": [],
   "source": [
    "from sklearn.metrics import accuracy_score"
   ]
  },
  {
   "cell_type": "code",
   "execution_count": 139,
   "metadata": {
    "scrolled": true
   },
   "outputs": [
    {
     "data": {
      "text/plain": [
       "(12000, 10)"
      ]
     },
     "execution_count": 139,
     "metadata": {},
     "output_type": "execute_result"
    }
   ],
   "source": [
    "predict_box = np.zeros((len(predict_y),10),dtype=int)\n",
    "predict_box.shape"
   ]
  },
  {
   "cell_type": "code",
   "execution_count": 140,
   "metadata": {},
   "outputs": [],
   "source": [
    "for v in range(len(predict_y)):\n",
    "    predict_box[v,predict_y[v]] = 1"
   ]
  },
  {
   "cell_type": "code",
   "execution_count": 141,
   "metadata": {},
   "outputs": [
    {
     "data": {
      "text/plain": [
       "array([[0, 0, 0, ..., 0, 1, 0],\n",
       "       [0, 1, 0, ..., 0, 0, 0],\n",
       "       [0, 0, 0, ..., 0, 0, 0],\n",
       "       ...,\n",
       "       [0, 0, 0, ..., 0, 0, 0],\n",
       "       [1, 0, 0, ..., 0, 0, 0],\n",
       "       [0, 0, 0, ..., 0, 0, 0]])"
      ]
     },
     "execution_count": 141,
     "metadata": {},
     "output_type": "execute_result"
    }
   ],
   "source": [
    "predict_box"
   ]
  },
  {
   "cell_type": "code",
   "execution_count": 142,
   "metadata": {},
   "outputs": [
    {
     "data": {
      "text/plain": [
       "0.9755"
      ]
     },
     "execution_count": 142,
     "metadata": {},
     "output_type": "execute_result"
    }
   ],
   "source": [
    "###Accuracy###\n",
    "accuracy_score(y_val, predict_box)"
   ]
  },
  {
   "cell_type": "markdown",
   "metadata": {},
   "source": [
    "# 【問題9】学習と推定"
   ]
  },
  {
   "cell_type": "markdown",
   "metadata": {},
   "source": [
    "層の数や活性化関数を変えたいくつかのネットワークを作成してください。そして、MNISTのデータを学習・推定し、Accuracyを計算してください。"
   ]
  },
  {
   "cell_type": "code",
   "execution_count": 143,
   "metadata": {
    "scrolled": true
   },
   "outputs": [
    {
     "data": {
      "text/plain": [
       "[0.5585617583392231,\n",
       " 0.32817041845886796,\n",
       " 0.2398582959773998,\n",
       " 0.17905904427050254,\n",
       " 0.14168907383741053,\n",
       " 0.11560717536778242,\n",
       " 0.09692549525374275,\n",
       " 0.08228833610274441,\n",
       " 0.07049009658763745,\n",
       " 0.0610579980118431,\n",
       " 0.05324085897370648,\n",
       " 0.04652248147116744,\n",
       " 0.04100598938251051,\n",
       " 0.03611720561813446,\n",
       " 0.03209396226577688]"
      ]
     },
     "execution_count": 143,
     "metadata": {},
     "output_type": "execute_result"
    }
   ],
   "source": [
    "dnnr.loss"
   ]
  },
  {
   "cell_type": "code",
   "execution_count": 144,
   "metadata": {},
   "outputs": [
    {
     "data": {
      "text/plain": [
       "[0.5603941482520077,\n",
       " 0.332011099583898,\n",
       " 0.24853984913202035,\n",
       " 0.19334336705915586,\n",
       " 0.16098326427426543,\n",
       " 0.13911149999612635,\n",
       " 0.12397388452544131,\n",
       " 0.1130578946905548,\n",
       " 0.10501375218272259,\n",
       " 0.09942885495296838,\n",
       " 0.09526663739625693,\n",
       " 0.09236381339711448,\n",
       " 0.09048471093014884,\n",
       " 0.08914225304408074,\n",
       " 0.08844310143929006]"
      ]
     },
     "execution_count": 144,
     "metadata": {},
     "output_type": "execute_result"
    }
   ],
   "source": [
    "dnnr.val_loss"
   ]
  },
  {
   "cell_type": "code",
   "execution_count": 145,
   "metadata": {
    "scrolled": false
   },
   "outputs": [
    {
     "data": {
      "image/png": "[encoded data removed]",
      "text/plain": [
       "<Figure size 1080x720 with 1 Axes>"
      ]
     },
     "metadata": {
      "needs_background": "light"
     },
     "output_type": "display_data"
    }
   ],
   "source": [
    "import matplotlib.pyplot as plt\n",
    "x=list(range(dnnr.n_epochs))\n",
    "plt.figure(figsize=(15,10))\n",
    "plt.scatter(x,dnnr.loss, label='train')\n",
    "plt.scatter(x, dnnr.val_loss, label='val')\n",
    "plt.legend()\n",
    "plt.show()"
   ]
  },
  {
   "cell_type": "code",
   "execution_count": 193,
   "metadata": {},
   "outputs": [],
   "source": [
    "class ScrachDeepNeuralNetworkRegressor2():\n",
    "    \n",
    "    def __init__(self, n_epochs, batch, alpha = np.exp(-7), sigma = 0.01, n_nodes1 = 400, n_nodes2 = 200, n_output = 10):\n",
    "        self.n_epochs = n_epochs\n",
    "        self.batch = batch\n",
    "        self.n_nodes1 = n_nodes1\n",
    "        self.n_nodes2 = n_nodes2\n",
    "        self.n_output = n_output\n",
    "        self.loss = []#np.zeros(n_epochs)\n",
    "        self.val_loss = []#np.zeros(n_epochs)\n",
    "        self.alpha = alpha\n",
    "        self.sigma = sigma\n",
    "        \n",
    "    def fit(self, X, y, X_val=None, y_val=None, val=False):\n",
    "        #y = y[:, np.newaxis]\n",
    "        \n",
    "       # y_val = y_val[:,np.newaxis]\n",
    "        self.X = X\n",
    "        self.y = y\n",
    "        \n",
    "        self.n_features = self.X.shape[1]\n",
    "        train_minibatch = GetMiniBatch(self.X, y, self.batch)\n",
    "        test_minibatch = GetMiniBatch(X_val, y_val, self.batch)\n",
    "        \n",
    "        optimizer = SGD(self.alpha)\n",
    "        #optimizer1 = AdaGrad(self.alpha)\n",
    "        self.FC1 = FC(self.n_features, self.n_nodes1, Xavier(self.n_nodes1), optimizer)\n",
    "        #self.FC1 = FC(self.n_features, self.n_nodes1, SimpleInitializer(self.sigma), optimizer1)\n",
    "        self.activation1 = Tanh()\n",
    "        #self.activation1 = ReLU()\n",
    "        #optimizer2 = AdaGrad(self.alpha)\n",
    "        self.FC2 = FC(self.n_nodes1, self.n_nodes2, Xavier(self.n_nodes1), optimizer)\n",
    "        #self.FC2 = FC(self.n_nodes1, self.n_nodes2, SimpleInitializer(self.sigma), optimizer2)\n",
    "        self.activation2 = Tanh()\n",
    "        #self.activation2 = ReLU()\n",
    "        #optimizer3 = AdaGrad(self.alpha)\n",
    "        self.FC3 = FC(self.n_nodes2, self.n_output, Xavier(self.n_nodes1), optimizer)\n",
    "        #self.FC3 = FC(self.n_nodes2, self.n_output, SimpleInitializer(self.sigma), optimizer3)\n",
    "        self.activation3 = Softmax_with_crossentropyloss()\n",
    "        \n",
    "        for epoch in range(self.n_epochs):\n",
    "            for mini_X, mini_y in train_minibatch:\n",
    "                X = mini_X\n",
    "                y = mini_y#[:,np.newaxis] ############\n",
    "                #フォワード\n",
    "                A1 = self.FC1.forward(X)\n",
    "                Z1 = self.activation1.forward(A1) #Tanh().forward()\n",
    "                A2 = self.FC2.forward(Z1)\n",
    "                Z2 = self.activation2.forward(A2)\n",
    "                A3 = self.FC3.forward(Z2)\n",
    "                Z3 = self.activation3.forward(A3)\n",
    "                #バックワード\n",
    "                dA3 = self.activation3.backward(y) # 交差エントロピー誤差とソフトマックスを合わせている\n",
    "                dZ2 = self.FC3.backward(dA3)\n",
    "                dA2 = self.activation2.backward(dZ2)\n",
    "                dZ1 = self.FC2.backward(dA2)\n",
    "                dA1 = self.activation1.backward(dZ1)\n",
    "                dZ0 = self.FC1.backward(dA1) # dZ0は使用しない\n",
    "            \n",
    "\n",
    "            A4 = self.FC1.forward(self.X)\n",
    "            Z4 = self.activation1.forward(A4)\n",
    "            A5 = self.FC2.forward(Z4)\n",
    "            Z5 = self.activation2.forward(A5)\n",
    "            A6 = self.FC3.forward(Z5)\n",
    "            Z6 = self.activation3.forward(A6)\n",
    "\n",
    "            self.loss.append(self.crossentropy(Z6, self.y))\n",
    "\n",
    "            \n",
    "            if val:\n",
    "                A_val1 = self.FC1.forward(X_val)\n",
    "                Z_val1 = self.activation1.forward(A_val1)\n",
    "                A_val3 = self.FC2.forward(Z_val1)\n",
    "                Z_val2 = self.activation2.forward(A_val3)\n",
    "                A_val3 = self.FC3.forward(Z_val2)\n",
    "                Z_val3 = self.activation3.forward(A_val3)\n",
    "\n",
    "                self.val_loss.append(self.crossentropy(Z_val3, y_val))\n",
    "            \n",
    "                \n",
    "    def predict(self, X):\n",
    "        A1 = self.FC1.forward(X)\n",
    "        Z1 = self.activation1.forward(A1) #X,self.X\n",
    "        #print(Z1.shape)\n",
    "        A2 = self.FC2.forward(Z1)\n",
    "                #print(A2.shape)\n",
    "        Z2 = self.activation2.forward(A2)\n",
    "                #print(Z2.shape)\n",
    "        A3 = self.FC3.forward(Z2)\n",
    "                #print(A3.shape)\n",
    "        pre_final_answer = self.activation3.forward(A3)\n",
    "        pre_final_answer_answer = np.argmax(pre_final_answer, axis=1)\n",
    "        return pre_final_answer_answer\n",
    "    \n",
    "    def crossentropy(self, final_answer, y):\n",
    "        return -np.sum(y * np.log(final_answer))/(final_answer.shape[0])\n",
    "        \n",
    "                \n",
    "        \n",
    "                \n",
    "        return\n",
    "            \n",
    "                \n",
    "                \n",
    "                \n",
    "        "
   ]
  },
  {
   "cell_type": "code",
   "execution_count": 194,
   "metadata": {},
   "outputs": [],
   "source": [
    "snnr_xavier = ScrachDeepNeuralNetworkRegressor2(n_epochs=15, batch=20)"
   ]
  },
  {
   "cell_type": "code",
   "execution_count": 195,
   "metadata": {
    "scrolled": true
   },
   "outputs": [],
   "source": [
    "snnr_xavier.fit(X_train, y_train, X_val, y_val, val=True)"
   ]
  },
  {
   "cell_type": "code",
   "execution_count": 196,
   "metadata": {},
   "outputs": [],
   "source": [
    "predict_xavier_y = snnr_xavier.predict(X_val)"
   ]
  },
  {
   "cell_type": "code",
   "execution_count": 198,
   "metadata": {
    "scrolled": true
   },
   "outputs": [
    {
     "data": {
      "text/plain": [
       "array([[0, 0, 0, ..., 0, 0, 0],\n",
       "       [0, 0, 0, ..., 0, 0, 0],\n",
       "       [0, 0, 0, ..., 0, 0, 0],\n",
       "       ...,\n",
       "       [0, 0, 0, ..., 0, 0, 0],\n",
       "       [0, 0, 0, ..., 0, 0, 0],\n",
       "       [0, 0, 0, ..., 0, 0, 0]])"
      ]
     },
     "execution_count": 198,
     "metadata": {},
     "output_type": "execute_result"
    }
   ],
   "source": [
    "predict_xavierbox = np.zeros((len(predict_xavier_y),10),dtype=int)\n",
    "predict_xavierbox"
   ]
  },
  {
   "cell_type": "code",
   "execution_count": 199,
   "metadata": {},
   "outputs": [],
   "source": [
    "for j in range(len(predict_xavier_y)):\n",
    "    predict_xavierbox[j,predict_xavier_y [j]] = 1"
   ]
  },
  {
   "cell_type": "code",
   "execution_count": 200,
   "metadata": {},
   "outputs": [
    {
     "data": {
      "text/plain": [
       "array([[0, 0, 0, ..., 0, 1, 0],\n",
       "       [0, 1, 0, ..., 0, 0, 0],\n",
       "       [0, 0, 0, ..., 0, 0, 0],\n",
       "       ...,\n",
       "       [0, 0, 0, ..., 0, 0, 0],\n",
       "       [1, 0, 0, ..., 0, 0, 0],\n",
       "       [0, 0, 0, ..., 0, 0, 0]])"
      ]
     },
     "execution_count": 200,
     "metadata": {},
     "output_type": "execute_result"
    }
   ],
   "source": [
    "predict_xavierbox"
   ]
  },
  {
   "cell_type": "code",
   "execution_count": 202,
   "metadata": {},
   "outputs": [
    {
     "data": {
      "text/plain": [
       "0.9726666666666667"
      ]
     },
     "execution_count": 202,
     "metadata": {},
     "output_type": "execute_result"
    }
   ],
   "source": [
    "###Accuracy###\n",
    "accuracy_score(y_val, predict_xavierbox)"
   ]
  },
  {
   "cell_type": "code",
   "execution_count": 203,
   "metadata": {},
   "outputs": [
    {
     "data": {
      "image/png": "[encoded data removed]",
      "text/plain": [
       "<Figure size 1080x720 with 1 Axes>"
      ]
     },
     "metadata": {
      "needs_background": "light"
     },
     "output_type": "display_data"
    }
   ],
   "source": [
    "x2=list(range(snnr_xavier.n_epochs))\n",
    "plt.figure(figsize=(15,10))\n",
    "plt.scatter(x2,snnr_xavier.loss, label='train')\n",
    "plt.scatter(x2, snnr_xavier.val_loss, label='val')\n",
    "plt.legend()\n",
    "plt.show()"
   ]
  },
  {
   "cell_type": "code",
   "execution_count": null,
   "metadata": {},
   "outputs": [],
   "source": []
  }
 ],
 "metadata": {
  "kernelspec": {
   "display_name": "Python 3",
   "language": "python",
   "name": "python3"
  },
  "language_info": {
   "codemirror_mode": {
    "name": "ipython",
    "version": 3
   },
   "file_extension": ".py",
   "mimetype": "text/x-python",
   "name": "python",
   "nbconvert_exporter": "python",
   "pygments_lexer": "ipython3",
   "version": "3.7.4"
  }
 },
 "nbformat": 4,
 "nbformat_minor": 2
}
