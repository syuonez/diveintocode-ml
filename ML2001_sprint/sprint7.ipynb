{
 "cells": [
  {
   "cell_type": "markdown",
   "metadata": {},
   "source": [
    "# Sprint アンサンブル学習"
   ]
  },
  {
   "cell_type": "markdown",
   "metadata": {},
   "source": [
    "### 小さなデータセットの用意"
   ]
  },
  {
   "cell_type": "markdown",
   "metadata": {},
   "source": [
    "以前も利用した回帰のデータセットを用意します。\n",
    "\n",
    "\n",
    "House Prices: Advanced Regression Techniques\n",
    "\n",
    "\n",
    "この中のtrain.csvをダウンロードし、目的変数としてSalePrice、説明変数として、GrLivAreaとYearBuiltを使います。\n",
    "\n",
    "\n",
    "train.csvを学習用（train）8割、検証用（val）2割に分割してください。"
   ]
  },
  {
   "cell_type": "code",
   "execution_count": 1,
   "metadata": {},
   "outputs": [],
   "source": [
    "import matplotlib.pyplot as plt\n",
    "%matplotlib inline\n",
    "import numpy as np\n",
    "import pandas as pd\n",
    "import copy\n",
    "from collections import defaultdict"
   ]
  },
  {
   "cell_type": "code",
   "execution_count": 2,
   "metadata": {},
   "outputs": [],
   "source": [
    "import matplotlib"
   ]
  },
  {
   "cell_type": "code",
   "execution_count": 3,
   "metadata": {},
   "outputs": [],
   "source": [
    "df = pd.read_csv(\"../train.csv\")\n",
    "X = df.loc[:, [\"GrLivArea\", \"YearBuilt\"]]\n",
    "y = df.loc[:, [\"SalePrice\"]]\n",
    "\n",
    "from sklearn.model_selection import train_test_split\n",
    "X_train, X_val, y_train, y_val = train_test_split(np.array(X), np.array(y), test_size=0.2, random_state=2)\n"
   ]
  },
  {
   "cell_type": "code",
   "execution_count": 4,
   "metadata": {},
   "outputs": [
    {
     "data": {
      "text/plain": [
       "array([[12.07539432],\n",
       "       [11.79433792],\n",
       "       [11.89818787],\n",
       "       ...,\n",
       "       [11.9511804 ],\n",
       "       [13.00865926],\n",
       "       [11.73606902]])"
      ]
     },
     "execution_count": 4,
     "metadata": {},
     "output_type": "execute_result"
    }
   ],
   "source": [
    "#対数変換\n",
    "y_train=np.log(y_train)\n",
    "y_train"
   ]
  },
  {
   "cell_type": "code",
   "execution_count": 5,
   "metadata": {},
   "outputs": [
    {
     "data": {
      "text/plain": [
       "array([[12.57418197],\n",
       "       [12.08953883],\n",
       "       [12.79135618],\n",
       "       [12.19095901],\n",
       "       [12.31940133],\n",
       "       [12.30591798],\n",
       "       [12.3327053 ],\n",
       "       [12.21106019],\n",
       "       [11.34450681],\n",
       "       [12.66032792],\n",
       "       [12.27839331],\n",
       "       [12.24047407],\n",
       "       [11.6784399 ],\n",
       "       [11.89818787],\n",
       "       [11.56171563],\n",
       "       [12.32385568],\n",
       "       [12.56723749],\n",
       "       [12.55672952],\n",
       "       [12.3883942 ],\n",
       "       [12.56024446],\n",
       "       [12.64432758],\n",
       "       [12.05815252],\n",
       "       [12.06681058],\n",
       "       [12.31043266],\n",
       "       [12.99175343],\n",
       "       [12.46997419],\n",
       "       [11.60823564],\n",
       "       [12.47716791],\n",
       "       [12.22587527],\n",
       "       [12.98804081],\n",
       "       [12.66191396],\n",
       "       [11.9511804 ],\n",
       "       [12.5776362 ],\n",
       "       [11.72803684],\n",
       "       [12.08107616],\n",
       "       [12.26434155],\n",
       "       [11.7905572 ],\n",
       "       [12.75995776],\n",
       "       [12.76568843],\n",
       "       [12.95512746],\n",
       "       [12.06104687],\n",
       "       [12.28995413],\n",
       "       [11.9316358 ],\n",
       "       [11.39639165],\n",
       "       [11.58896015],\n",
       "       [12.3883942 ],\n",
       "       [11.28978191],\n",
       "       [11.81303006],\n",
       "       [11.6127708 ],\n",
       "       [11.85651517],\n",
       "       [11.96400108],\n",
       "       [11.74542511],\n",
       "       [12.30817787],\n",
       "       [12.00701176],\n",
       "       [11.80931948],\n",
       "       [12.56024446],\n",
       "       [11.77143616],\n",
       "       [12.52452638],\n",
       "       [13.22956799],\n",
       "       [11.77143616],\n",
       "       [11.77528973],\n",
       "       [11.81303006],\n",
       "       [12.52416267],\n",
       "       [11.87756858],\n",
       "       [12.83201108],\n",
       "       [12.07196966],\n",
       "       [12.43987123],\n",
       "       [11.62625415],\n",
       "       [12.04355372],\n",
       "       [11.72803684],\n",
       "       [12.29910751],\n",
       "       [11.54030714],\n",
       "       [11.69940503],\n",
       "       [11.72803684],\n",
       "       [11.94470788],\n",
       "       [12.14950229],\n",
       "       [12.10071213],\n",
       "       [12.50432367],\n",
       "       [11.86709728],\n",
       "       [12.04941884],\n",
       "       [12.66665705],\n",
       "       [12.0917835 ],\n",
       "       [12.10071213],\n",
       "       [12.33929149],\n",
       "       [11.94039339],\n",
       "       [12.17818744],\n",
       "       [12.30138283],\n",
       "       [12.50539916],\n",
       "       [12.27792808],\n",
       "       [12.00150548],\n",
       "       [12.01370075],\n",
       "       [12.00762171],\n",
       "       [12.12323437],\n",
       "       [12.07767093],\n",
       "       [12.14153412],\n",
       "       [12.04941884],\n",
       "       [11.66134547],\n",
       "       [11.96400108],\n",
       "       [11.94405832],\n",
       "       [12.00089179],\n",
       "       [12.01974307],\n",
       "       [11.48246626],\n",
       "       [12.03765399],\n",
       "       [11.62625415],\n",
       "       [12.10625231],\n",
       "       [11.79810441],\n",
       "       [11.84904049],\n",
       "       [11.79433792],\n",
       "       [11.60823564],\n",
       "       [12.08672589],\n",
       "       [12.05379521],\n",
       "       [12.04355372],\n",
       "       [12.01460943],\n",
       "       [12.08953883],\n",
       "       [12.93675161],\n",
       "       [12.92391244],\n",
       "       [11.6784399 ],\n",
       "       [12.48420426],\n",
       "       [11.80931948],\n",
       "       [11.62625415],\n",
       "       [11.8493977 ],\n",
       "       [12.48156194],\n",
       "       [12.58819065],\n",
       "       [11.97603035],\n",
       "       [12.95953852],\n",
       "       [12.18075484],\n",
       "       [12.67576373],\n",
       "       [11.86358234],\n",
       "       [12.5776362 ],\n",
       "       [12.47609978],\n",
       "       [12.97154049],\n",
       "       [11.77528973],\n",
       "       [12.52441728],\n",
       "       [11.69316152],\n",
       "       [11.85651517],\n",
       "       [11.43927892],\n",
       "       [12.10348606],\n",
       "       [11.40166983],\n",
       "       [12.24288662],\n",
       "       [12.27373129],\n",
       "       [11.87059991],\n",
       "       [12.63101353],\n",
       "       [11.40756495],\n",
       "       [11.32055357],\n",
       "       [11.46163217],\n",
       "       [11.30220443],\n",
       "       [12.17044547],\n",
       "       [11.58988651],\n",
       "       [12.17818744],\n",
       "       [12.10071213],\n",
       "       [11.88448902],\n",
       "       [12.82799232],\n",
       "       [12.26434155],\n",
       "       [12.01672647],\n",
       "       [13.09190417],\n",
       "       [11.44571672],\n",
       "       [11.28853113],\n",
       "       [11.84222921],\n",
       "       [12.66032792],\n",
       "       [11.89818787],\n",
       "       [12.18586994],\n",
       "       [12.15477935],\n",
       "       [11.58524613],\n",
       "       [11.58988651],\n",
       "       [10.54270639],\n",
       "       [12.38421883],\n",
       "       [11.8313792 ],\n",
       "       [11.80484853],\n",
       "       [12.06968002],\n",
       "       [11.95053503],\n",
       "       [11.80185676],\n",
       "       [11.91839057],\n",
       "       [11.84222921],\n",
       "       [12.09458227],\n",
       "       [12.08672589],\n",
       "       [12.26904744],\n",
       "       [11.92503512],\n",
       "       [12.1281111 ],\n",
       "       [11.88448902],\n",
       "       [11.86358234],\n",
       "       [11.77528973],\n",
       "       [12.13215696],\n",
       "       [11.60823564],\n",
       "       [11.7905572 ],\n",
       "       [12.4073795 ],\n",
       "       [12.06681058],\n",
       "       [11.82407989],\n",
       "       [11.87059991],\n",
       "       [11.1124479 ],\n",
       "       [11.8277362 ],\n",
       "       [12.41105223],\n",
       "       [11.681824  ],\n",
       "       [11.97035031],\n",
       "       [11.97665948],\n",
       "       [12.01370075],\n",
       "       [12.20607265],\n",
       "       [11.69524702],\n",
       "       [12.06104687],\n",
       "       [11.8493977 ],\n",
       "       [12.20657252],\n",
       "       [12.07767093],\n",
       "       [11.68687877],\n",
       "       [12.36734079],\n",
       "       [12.20918779],\n",
       "       [11.87059991],\n",
       "       [11.90496755],\n",
       "       [12.02873863],\n",
       "       [12.04349489],\n",
       "       [11.76368418],\n",
       "       [12.34125892],\n",
       "       [12.09368751],\n",
       "       [11.81303006],\n",
       "       [11.54248427],\n",
       "       [12.07823927],\n",
       "       [12.22587527],\n",
       "       [11.6483301 ],\n",
       "       [12.38708501],\n",
       "       [10.91508846],\n",
       "       [10.97678203],\n",
       "       [11.77528973],\n",
       "       [11.85651517],\n",
       "       [12.54610995],\n",
       "       [11.81303006],\n",
       "       [12.05757264],\n",
       "       [12.34147728],\n",
       "       [11.84510278],\n",
       "       [11.99535161],\n",
       "       [11.23188794],\n",
       "       [11.73606902],\n",
       "       [11.79810441],\n",
       "       [11.6351431 ],\n",
       "       [12.21503239],\n",
       "       [11.90496755],\n",
       "       [11.8493977 ],\n",
       "       [12.01370075],\n",
       "       [12.86099861],\n",
       "       [12.4049235 ],\n",
       "       [11.98292909],\n",
       "       [12.21849517],\n",
       "       [11.87059991],\n",
       "       [11.66564655],\n",
       "       [12.53537639],\n",
       "       [12.69250311],\n",
       "       [12.42118403],\n",
       "       [11.38509209],\n",
       "       [11.4019939 ],\n",
       "       [11.42409425],\n",
       "       [12.26857785],\n",
       "       [12.09625778],\n",
       "       [11.8277362 ],\n",
       "       [11.4019939 ],\n",
       "       [11.88448902],\n",
       "       [12.13618652],\n",
       "       [12.47418956],\n",
       "       [11.89818787],\n",
       "       [12.01066585],\n",
       "       [11.9511804 ],\n",
       "       [11.87756858],\n",
       "       [12.03469103],\n",
       "       [12.37581542],\n",
       "       [12.19095901],\n",
       "       [11.98915964],\n",
       "       [11.69107165],\n",
       "       [12.09848743],\n",
       "       [11.86358234],\n",
       "       [11.72399644],\n",
       "       [11.97665948],\n",
       "       [11.73206099],\n",
       "       [12.20607265],\n",
       "       [11.8493977 ],\n",
       "       [11.53272809],\n",
       "       [12.45254202],\n",
       "       [11.77912851],\n",
       "       [11.58524613],\n",
       "       [11.68657621],\n",
       "       [12.51318963],\n",
       "       [12.29778545],\n",
       "       [12.42801548],\n",
       "       [11.04104808],\n",
       "       [13.07107008],\n",
       "       [12.27839331],\n",
       "       [12.70076889],\n",
       "       [12.07254125],\n",
       "       [11.22524339],\n",
       "       [11.69107165],\n",
       "       [11.5228758 ],\n",
       "       [12.10348606],\n",
       "       [11.8277362 ],\n",
       "       [12.08390501],\n",
       "       [12.01188092],\n",
       "       [11.75194237],\n",
       "       [12.46843691]])"
      ]
     },
     "execution_count": 5,
     "metadata": {},
     "output_type": "execute_result"
    }
   ],
   "source": [
    "y_val = np.log(y_val)\n",
    "y_val"
   ]
  },
  {
   "cell_type": "markdown",
   "metadata": {},
   "source": [
    "# 【問題1】ブレンディングのスクラッチ実装"
   ]
  },
  {
   "cell_type": "markdown",
   "metadata": {},
   "source": [
    "ブレンディング をスクラッチ実装し、単一モデルより精度があがる例を 最低3つ 示してください。精度があがるとは、検証用データに対する平均二乗誤差（MSE）が小さくなることを指します。"
   ]
  },
  {
   "cell_type": "markdown",
   "metadata": {},
   "source": [
    "ブレンディングとは?"
   ]
  },
  {
   "cell_type": "markdown",
   "metadata": {},
   "source": [
    "ブレンディングとは、N個の多様なモデルを独立して学習させ、推定結果を重み付けした上で足し合わせる方法です。最も単純には平均をとります。多様なモデルとは、以下のような条件を変化させることで作り出すものです。\n",
    "\n",
    "\n",
    "手法（例：線形回帰、SVM、決定木、ニューラルネットワークなど）\n",
    "ハイパーパラメータ（例：SVMのカーネルの種類、重みの初期値など）\n",
    "入力データの前処理の仕方（例：標準化、対数変換、PCAなど）\n",
    "\n",
    "重要なのはそれぞれのモデルが大きく異なることです。\n",
    "\n",
    "\n",
    "回帰問題でのブレンディングは非常に単純であるため、scikit-learnには用意されていません。"
   ]
  },
  {
   "cell_type": "markdown",
   "metadata": {},
   "source": [
    "《補足》\n",
    "\n",
    "\n",
    "分類問題の場合は、多数決を行います。回帰問題に比べると複雑なため、scikit-learnにはVotingClassifierが用意されています。"
   ]
  },
  {
   "cell_type": "code",
   "execution_count": 1,
   "metadata": {},
   "outputs": [],
   "source": [
    "from sklearn.model_selection import cross_val_predict\n",
    "from sklearn.metrics import mean_squared_error\n",
    "from sklearn.preprocessing import StandardScaler\n",
    "from sklearn.ensemble import RandomForestRegressor\n",
    "from sklearn import linear_model\n",
    "from sklearn.svm import SVR\n",
    "from sklearn.tree import DecisionTreeRegressor\n",
    "from sklearn.linear_model import LinearRegression"
   ]
  },
  {
   "cell_type": "code",
   "execution_count": 3,
   "metadata": {},
   "outputs": [],
   "source": [
    "housing = pd.read_csv(\"../train.csv\")"
   ]
  },
  {
   "cell_type": "code",
   "execution_count": 4,
   "metadata": {},
   "outputs": [
    {
     "data": {
      "text/html": [
       "<div>\n",
       "<style scoped>\n",
       "    .dataframe tbody tr th:only-of-type {\n",
       "        vertical-align: middle;\n",
       "    }\n",
       "\n",
       "    .dataframe tbody tr th {\n",
       "        vertical-align: top;\n",
       "    }\n",
       "\n",
       "    .dataframe thead th {\n",
       "        text-align: right;\n",
       "    }\n",
       "</style>\n",
       "<table border=\"1\" class=\"dataframe\">\n",
       "  <thead>\n",
       "    <tr style=\"text-align: right;\">\n",
       "      <th></th>\n",
       "      <th>GrLivArea</th>\n",
       "      <th>YearBuilt</th>\n",
       "    </tr>\n",
       "  </thead>\n",
       "  <tbody>\n",
       "    <tr>\n",
       "      <td>0</td>\n",
       "      <td>1710</td>\n",
       "      <td>2003</td>\n",
       "    </tr>\n",
       "    <tr>\n",
       "      <td>1</td>\n",
       "      <td>1262</td>\n",
       "      <td>1976</td>\n",
       "    </tr>\n",
       "    <tr>\n",
       "      <td>2</td>\n",
       "      <td>1786</td>\n",
       "      <td>2001</td>\n",
       "    </tr>\n",
       "    <tr>\n",
       "      <td>3</td>\n",
       "      <td>1717</td>\n",
       "      <td>1915</td>\n",
       "    </tr>\n",
       "    <tr>\n",
       "      <td>4</td>\n",
       "      <td>2198</td>\n",
       "      <td>2000</td>\n",
       "    </tr>\n",
       "  </tbody>\n",
       "</table>\n",
       "</div>"
      ],
      "text/plain": [
       "   GrLivArea  YearBuilt\n",
       "0       1710       2003\n",
       "1       1262       1976\n",
       "2       1786       2001\n",
       "3       1717       1915\n",
       "4       2198       2000"
      ]
     },
     "execution_count": 4,
     "metadata": {},
     "output_type": "execute_result"
    }
   ],
   "source": [
    "X = housing[[\"GrLivArea\", \"YearBuilt\"]]\n",
    "X.head()"
   ]
  },
  {
   "cell_type": "code",
   "execution_count": 5,
   "metadata": {},
   "outputs": [
    {
     "data": {
      "text/plain": [
       "0    208500\n",
       "1    181500\n",
       "2    223500\n",
       "3    140000\n",
       "4    250000\n",
       "Name: SalePrice, dtype: int64"
      ]
     },
     "execution_count": 5,
     "metadata": {},
     "output_type": "execute_result"
    }
   ],
   "source": [
    "y = housing[\"SalePrice\"]\n",
    "y.head()"
   ]
  },
  {
   "cell_type": "code",
   "execution_count": 6,
   "metadata": {},
   "outputs": [],
   "source": [
    "from sklearn.model_selection import train_test_split\n",
    "(X_train, X_test,\n",
    " y_train, y_test) = train_test_split(\n",
    "    X, y, test_size=0.3, random_state=0, shuffle=True\n",
    ")"
   ]
  },
  {
   "cell_type": "markdown",
   "metadata": {},
   "source": [
    "### part1"
   ]
  },
  {
   "cell_type": "code",
   "execution_count": 7,
   "metadata": {},
   "outputs": [
    {
     "name": "stdout",
     "output_type": "stream",
     "text": [
      "LinearRegression(copy_X=True, fit_intercept=True, n_jobs=None, normalize=True)\n",
      "MSE(linear_model) 2690647926.377603\n",
      "MSE(SVR) 7119069689.683064\n",
      "MSE(DecisionTreeRegressor) 2553443455.30812\n",
      "MSE(mean) 2470929971.5410113\n"
     ]
    }
   ],
   "source": [
    "LM= linear_model.LinearRegression(normalize=True)\n",
    "print(LM)\n",
    "LM.fit(X_train, y_train)\n",
    "LM_pred = LM.predict(X_test)\n",
    "print(\"MSE(linear_model)\",mean_squared_error(y_test, LM_pred))\n",
    "\n",
    "\n",
    "sc = StandardScaler()\n",
    "X_test_std = sc.fit_transform(X_test)\n",
    "X_train_std = sc.fit_transform(X_train)\n",
    "SV= SVR(kernel='rbf')\n",
    "SV.fit(X_train_std, y_train)\n",
    "SV_pred = SV.predict(X_test_std)\n",
    "print(\"MSE(SVR)\",mean_squared_error(y_test, SV_pred))\n",
    "\n",
    "\n",
    "DR = DecisionTreeRegressor(max_depth=3)\n",
    "DR.fit(X_train, y_train)\n",
    "DR_pred = DR.predict(X_test)\n",
    "print(\"MSE(DecisionTreeRegressor)\",mean_squared_error(y_test, DR_pred))\n",
    "\n",
    "mix_pred = np.vstack((LM_pred, SV_pred, DR_pred))\n",
    "mix_pred.shape\n",
    "\n",
    "mean_pred = LM_pred*0.5+SV_pred*0.1+DR_pred*0.4\n",
    "print(\"MSE(mean)\",mean_squared_error(y_test, mean_pred))"
   ]
  },
  {
   "cell_type": "markdown",
   "metadata": {},
   "source": [
    "### part2 "
   ]
  },
  {
   "cell_type": "code",
   "execution_count": 8,
   "metadata": {},
   "outputs": [
    {
     "name": "stdout",
     "output_type": "stream",
     "text": [
      "MSE(Lasso) 2690647942.4335794\n",
      "MSE(SVR) 7128920068.0851145\n",
      "MSE(DecisionTreeRegressor) 2553443455.30812\n",
      "MSE(mean) 2413207951.9277987\n"
     ]
    }
   ],
   "source": [
    "from sklearn.linear_model import Lasso\n",
    "\n",
    "Las= Lasso(alpha=0.1)\n",
    "# print(Las)\n",
    "Las.fit(X_train, y_train)\n",
    "Las_pred = Las.predict(X_test)\n",
    "print(\"MSE(Lasso)\",mean_squared_error(y_test, Las_pred))\n",
    "\n",
    "\n",
    "sc = StandardScaler()\n",
    "X_test_std = sc.fit_transform(X_test)\n",
    "X_train_std = sc.fit_transform(X_train)\n",
    "SV= SVR(kernel='rbf',C=0.5)\n",
    "# print(SV)\n",
    "SV.fit(X_train_std, y_train)\n",
    "SV_pred = SV.predict(X_test_std)\n",
    "print(\"MSE(SVR)\",mean_squared_error(y_test, SV_pred))\n",
    "\n",
    "\n",
    "DR = DecisionTreeRegressor(max_depth=3)\n",
    "DR.fit(X_train, y_train)\n",
    "DR_pred = DR.predict(X_test)\n",
    "print(\"MSE(DecisionTreeRegressor)\",mean_squared_error(y_test, DR_pred))\n",
    "\n",
    "mix_pred = np.vstack((LM_pred, SV_pred, DR_pred))\n",
    "mix_pred.shape\n",
    "\n",
    "mean_pred = Las_pred*0.5+SV_pred*0.05+DR_pred*0.45\n",
    "print(\"MSE(mean)\",mean_squared_error(y_test, mean_pred))"
   ]
  },
  {
   "cell_type": "markdown",
   "metadata": {},
   "source": [
    "### part3"
   ]
  },
  {
   "cell_type": "code",
   "execution_count": 9,
   "metadata": {},
   "outputs": [
    {
     "name": "stdout",
     "output_type": "stream",
     "text": [
      "MSE(Ridge) 2690647942.087792\n",
      "MSE(SVR) 3389628361.3601527\n",
      "MSE(DecisionTreeRegressor) 1922385503.137878\n",
      "MSE(mean) 1838951096.4708827\n"
     ]
    }
   ],
   "source": [
    "from sklearn.linear_model import Ridge\n",
    "\n",
    "Rid= Ridge(alpha=0.1)\n",
    "# print(Las)\n",
    "Rid.fit(X_train, y_train)\n",
    "Rid_pred = Rid.predict(X_test)\n",
    "print(\"MSE(Ridge)\",mean_squared_error(y_test, Rid_pred))\n",
    "\n",
    "\n",
    "sc = StandardScaler()\n",
    "X_test_std = sc.fit_transform(X_test)\n",
    "X_train_std = sc.fit_transform(X_train)\n",
    "SV= SVR(kernel='linear', C=100)\n",
    "# print(SV)\n",
    "SV.fit(X_train_std, y_train)\n",
    "SV_pred = SV.predict(X_test_std)\n",
    "print(\"MSE(SVR)\",mean_squared_error(y_test, SV_pred))\n",
    "\n",
    "\n",
    "DR = DecisionTreeRegressor(max_depth=9)\n",
    "DR.fit(X_train, y_train)\n",
    "DR_pred = DR.predict(X_test)\n",
    "print(\"MSE(DecisionTreeRegressor)\",mean_squared_error(y_test, DR_pred))\n",
    "\n",
    "mix_pred = np.vstack((LM_pred, SV_pred, DR_pred))\n",
    "mix_pred.shape\n",
    "\n",
    "mean_pred = Rid_pred*0.2+SV_pred*0.1+DR_pred*0.7\n",
    "print(\"MSE(mean)\",mean_squared_error(y_test, mean_pred))"
   ]
  },
  {
   "cell_type": "markdown",
   "metadata": {},
   "source": [
    "# 【問題2】バギングのスクラッチ実装"
   ]
  },
  {
   "cell_type": "markdown",
   "metadata": {},
   "source": [
    "バギングとは\n",
    "\n",
    "バギングは入力データの選び方を多様化する方法です。学習データから重複を許した上でランダムに抜き出すことで、N種類のサブセット（ ブートストラップサンプル ）を作り出します。それらによってモデルをN個学習し、推定結果の平均をとります。ブレンディングと異なり、それぞれの重み付けを変えることはありません。\n",
    "\n",
    "\n",
    "sklearn.model_selection.train_test_split — scikit-learn 0.21.3 documentation\n",
    "\n",
    "\n",
    "scikit-learnのtrain_test_splitを、shuffleパラメータをTrueにして使うことで、ランダムにデータを分割することができます。これによりブートストラップサンプルが手に入ります。\n",
    "\n",
    "\n",
    "推定結果の平均をとる部分はブースティングと同様の実装になります。"
   ]
  },
  {
   "cell_type": "code",
   "execution_count": 18,
   "metadata": {},
   "outputs": [],
   "source": [
    "from sklearn.ensemble import GradientBoostingRegressor\n",
    "import lightgbm as lgb"
   ]
  },
  {
   "cell_type": "code",
   "execution_count": 20,
   "metadata": {},
   "outputs": [],
   "source": [
    "import xgboost as xgb"
   ]
  },
  {
   "cell_type": "code",
   "execution_count": 21,
   "metadata": {},
   "outputs": [
    {
     "data": {
      "text/plain": [
       "(649,)"
      ]
     },
     "execution_count": 21,
     "metadata": {},
     "output_type": "execute_result"
    }
   ],
   "source": [
    "np.random.seed(1)\n",
    "rand_index = np.random.choice(X_train.index,1022, replace=True)\n",
    "np.unique(rand_index).shape"
   ]
  },
  {
   "cell_type": "code",
   "execution_count": 22,
   "metadata": {},
   "outputs": [],
   "source": [
    "np.random.seed(1)\n",
    "rand_index = np.random.choice(X_train.index,X_train.shape[0], replace=True)\n",
    "X_train1 = X_train.loc[rand_index]\n",
    "y_train1 = y_train.loc[rand_index]\n",
    "\n",
    "np.random.seed(2)\n",
    "rand_index = np.random.choice(X_train.index,X_train.shape[0], replace=True)\n",
    "X_train2 = X_train.loc[rand_index]\n",
    "y_train2 = y_train.loc[rand_index]\n",
    "\n",
    "np.random.seed(3)\n",
    "rand_index = np.random.choice(X_train.index,X_train.shape[0], replace=True).tolist()\n",
    "X_train3 = X_train.loc[rand_index]\n",
    "y_train3 = y_train.loc[rand_index]\n"
   ]
  },
  {
   "cell_type": "code",
   "execution_count": 23,
   "metadata": {},
   "outputs": [
    {
     "name": "stdout",
     "output_type": "stream",
     "text": [
      "MSE(reg1) 1955856381.8803396\n",
      "MSE(reg2) 2246120995.481195\n",
      "MSE(reg2) 1725817235.2522635\n",
      "==================\n",
      "MSE(mean) 1659935727.6287725\n"
     ]
    }
   ],
   "source": [
    "reg1 = GradientBoostingRegressor(n_estimators=100,max_depth=5).fit(X_train1, y_train1)\n",
    "y_pred1 =reg1.predict(X_test)\n",
    "print(\"MSE(reg1)\",mean_squared_error(y_test, y_pred1))\n",
    "\n",
    "reg2 = GradientBoostingRegressor(n_estimators=500,max_depth=3).fit(X_train2, y_train2)\n",
    "y_pred2 =reg2.predict(X_test)\n",
    "print(\"MSE(reg2)\",mean_squared_error(y_test, y_pred2))\n",
    "\n",
    "reg3 = GradientBoostingRegressor(n_estimators=250,max_depth=5).fit(X_train3, y_train3)\n",
    "y_pred3 =reg3.predict(X_test)\n",
    "print(\"MSE(reg2)\",mean_squared_error(y_test, y_pred3))\n",
    "print(\"==================\")\n",
    "y_pred_mean = (y_pred1 + y_pred2 + y_pred3)/3\n",
    "print(\"MSE(mean)\",mean_squared_error(y_test, y_pred_mean))"
   ]
  },
  {
   "cell_type": "code",
   "execution_count": 24,
   "metadata": {
    "scrolled": true
   },
   "outputs": [
    {
     "name": "stdout",
     "output_type": "stream",
     "text": [
      "MSE(reg1) 1955856381.8803396\n",
      "MSE(reg2) 2468960358.254284\n",
      "MSE(reg2) 1958559489.3734016\n",
      "==================\n",
      "MSE(mean) 1741647524.5251908\n"
     ]
    }
   ],
   "source": [
    "y_pred1 =reg1.predict(X_test)\n",
    "print(\"MSE(reg1)\",mean_squared_error(y_test, y_pred1))\n",
    "\n",
    "reg2 = xgb.XGBRegressor(n_estimators=500,max_depth=3).fit(X_train2, y_train2)\n",
    "y_pred2 =reg2.predict(X_test)\n",
    "print(\"MSE(reg2)\",mean_squared_error(y_test, y_pred2))\n",
    "\n",
    "reg3 = xgb.XGBRegressor(n_estimators=250,max_depth=5).fit(X_train3, y_train3)\n",
    "y_pred3 =reg3.predict(X_test)\n",
    "print(\"MSE(reg2)\",mean_squared_error(y_test, y_pred3))\n",
    "\n",
    "print(\"==================\")\n",
    "y_pred_mean = (y_pred1 + y_pred2 + y_pred3)/3\n",
    "print(\"MSE(mean)\",mean_squared_error(y_test, y_pred_mean))"
   ]
  },
  {
   "cell_type": "code",
   "execution_count": 25,
   "metadata": {},
   "outputs": [
    {
     "name": "stdout",
     "output_type": "stream",
     "text": [
      "MSE(reg1) 1996989149.286145\n",
      "MSE(reg2) 2217785612.142733\n",
      "MSE(reg2) 2337926346.668943\n",
      "==================\n",
      "MSE(mean) 2010251814.6958816\n"
     ]
    },
    {
     "data": {
      "text/plain": [
       "149261.18481853406"
      ]
     },
     "execution_count": 25,
     "metadata": {},
     "output_type": "execute_result"
    }
   ],
   "source": [
    "reg1 = lgb.LGBMRegressor(n_estimators=100,max_depth=5).fit(X_train1, y_train1)\n",
    "y_pred1 =reg1.predict(X_test)\n",
    "print(\"MSE(reg1)\",mean_squared_error(y_test, y_pred1))\n",
    "\n",
    "reg2 = lgb.LGBMRegressor(n_estimators=500,max_depth=3).fit(X_train2, y_train2)\n",
    "y_pred2 =reg2.predict(X_test)\n",
    "print(\"MSE(reg2)\",mean_squared_error(y_test, y_pred2))\n",
    "\n",
    "reg3 = lgb.LGBMRegressor(n_estimators=250,max_depth=5).fit(X_train3, y_train3)\n",
    "y_pred3 =reg3.predict(X_test)\n",
    "print(\"MSE(reg2)\",mean_squared_error(y_test, y_pred3))\n",
    "print(\"==================\")\n",
    "y_pred_mean = (y_pred1 + y_pred2 + y_pred3)/3\n",
    "print(\"MSE(mean)\",mean_squared_error(y_test, y_pred_mean))\n",
    "y_pred3[1]"
   ]
  },
  {
   "cell_type": "code",
   "execution_count": 26,
   "metadata": {},
   "outputs": [],
   "source": [
    "class Bagging:\n",
    "\n",
    "    #     def __init__(self, n_clusters, max_iter, verbose=False, tol=5, seed=0):\n",
    "    #         # ハイパーパラメータを属性として記録\n",
    "    #         self.n_clusters = n_clusters\n",
    "    #         self.seed = seed\n",
    "    #         self.n_init = n_init\n",
    "    #         self.max_iter = max_iter\n",
    "    #         self.tol= tol\n",
    "    #         self.verbose = verbose\n",
    "\n",
    "    def fit(self, models, X, y):\n",
    "        self.model_list = []\n",
    "        for j, model in enumerate(models):\n",
    "            np.random.seed(j)\n",
    "            self.rand_index = np.random.choice(X.index, X.shape[0], replace=True)\n",
    "            self.X_rand = X.loc[self.rand_index]\n",
    "            self.y_rand = y.loc[self.rand_index]\n",
    "            self.model_list.append(model.fit(self.X_rand, self.y_rand))\n",
    "\n",
    "    def predict(self, X, y):\n",
    "        print(X.shape[0])\n",
    "        print(len(self.model_list))\n",
    "        self.pred_data = np.zeros((X.shape[0], len(self.model_list)))\n",
    "        for i, model in enumerate(self.model_list):\n",
    "            self.pred = model.predict(X)\n",
    "            self.pred_data[:, i] = self.pred\n",
    "        self.final_pred = np.mean(self.pred_data, axis=1)\n",
    "        print(\"MSE(mean)\", mean_squared_error(y, self.final_pred))\n",
    "        return self.final_pred"
   ]
  },
  {
   "cell_type": "code",
   "execution_count": 27,
   "metadata": {},
   "outputs": [],
   "source": [
    "models = [xgb.XGBRegressor(n_estimators=100,max_depth=5), GradientBoostingRegressor(n_estimators=100,max_depth=5), lgb.LGBMRegressor(n_estimators=100,max_depth=5)]\n",
    "bg = Bagging()\n",
    "bg.fit(models=models, X = X_train, y = y_train)"
   ]
  },
  {
   "cell_type": "code",
   "execution_count": 28,
   "metadata": {},
   "outputs": [
    {
     "name": "stdout",
     "output_type": "stream",
     "text": [
      "438\n",
      "3\n",
      "MSE(mean) 1843004525.0391715\n"
     ]
    },
    {
     "data": {
      "text/plain": [
       "array([233606.53154969, 156557.12682114, 128544.76905402, 162812.42505345,\n",
       "       119902.95170025,  93717.61151535, 202045.47302486, 123859.74040471,\n",
       "       565346.0913109 , 148427.40559746])"
      ]
     },
     "execution_count": 28,
     "metadata": {},
     "output_type": "execute_result"
    }
   ],
   "source": [
    "bg.predict(X_test, y_test)[:10]"
   ]
  },
  {
   "cell_type": "code",
   "execution_count": 29,
   "metadata": {},
   "outputs": [],
   "source": [
    "models = [lgb.LGBMRegressor(n_estimators=100,max_depth=5), lgb.LGBMRegressor(n_estimators=100,max_depth=5), lgb.LGBMRegressor(n_estimators=100,max_depth=5)]\n",
    "bg = Bagging()\n",
    "bg.fit(models=models, X = X_train, y = y_train)"
   ]
  },
  {
   "cell_type": "code",
   "execution_count": 30,
   "metadata": {},
   "outputs": [
    {
     "name": "stdout",
     "output_type": "stream",
     "text": [
      "438\n",
      "3\n",
      "MSE(mean) 1905905323.963103\n"
     ]
    },
    {
     "data": {
      "text/plain": [
       "array([186616.01381421, 154654.02881744, 128076.41901312, 184057.70727728,\n",
       "       128618.50371924,  91991.24366953, 202164.25872405, 126932.11921891,\n",
       "       441678.27135167, 146946.96392326])"
      ]
     },
     "execution_count": 30,
     "metadata": {},
     "output_type": "execute_result"
    }
   ],
   "source": [
    "bg.predict(X_test, y_test)[:10]"
   ]
  },
  {
   "cell_type": "code",
   "execution_count": 31,
   "metadata": {},
   "outputs": [],
   "source": [
    "models = [xgb.XGBRegressor(n_estimators=100,max_depth=5), xgb.XGBRegressor(n_estimators=100,max_depth=5), xgb.XGBRegressor(n_estimators=100,max_depth=5)]\n",
    "bg = Bagging()\n",
    "bg.fit(models=models, X = X_train, y = y_train)"
   ]
  },
  {
   "cell_type": "code",
   "execution_count": 32,
   "metadata": {},
   "outputs": [
    {
     "name": "stdout",
     "output_type": "stream",
     "text": [
      "438\n",
      "3\n",
      "MSE(mean) 1881306593.3967283\n"
     ]
    },
    {
     "data": {
      "text/plain": [
       "array([254122.953125  , 149782.68229167, 126505.11197917, 151397.40625   ,\n",
       "       119442.3671875 ,  93480.6328125 , 199798.34375   , 121269.84635417,\n",
       "       585070.83333333, 147071.07291667])"
      ]
     },
     "execution_count": 32,
     "metadata": {},
     "output_type": "execute_result"
    }
   ],
   "source": [
    "bg.predict(X_test, y_test)[:10]"
   ]
  },
  {
   "cell_type": "markdown",
   "metadata": {},
   "source": [
    "# 【問題3】スタッキングのスクラッチ実装"
   ]
  },
  {
   "cell_type": "markdown",
   "metadata": {},
   "source": [
    "スタッキングとは\n",
    "スタッキングの手順は以下の通りです。最低限ステージ0とステージ1があればスタッキングは成立するため、それを実装してください。まずは \n",
    "K\n",
    "0\n",
    "=\n",
    "3\n",
    ",\n",
    "M\n",
    "0\n",
    "=\n",
    "2\n",
    " 程度にします。"
   ]
  },
  {
   "cell_type": "markdown",
   "metadata": {},
   "source": [
    "《学習時》\n",
    "\n",
    "\n",
    "（ステージ \n",
    "0\n",
    " ）\n",
    "\n",
    "\n",
    "学習データを \n",
    "K\n",
    "0\n",
    " 個に分割する。\n",
    "分割した内の \n",
    "(\n",
    "K\n",
    "0\n",
    "−\n",
    "1\n",
    ")\n",
    " 個をまとめて学習用データ、残り \n",
    "1\n",
    " 個を推定用データとする組み合わせが \n",
    "K\n",
    "0\n",
    " 個作れる。\n",
    "あるモデルのインスタンスを \n",
    "K\n",
    "0\n",
    " 個用意し、異なる学習用データを使い学習する。\n",
    "それぞれの学習済みモデルに対して、使っていない残り \n",
    "1\n",
    " 個の推定用データを入力し、推定値を得る。（これをブレンドデータと呼ぶ）\n",
    "さらに、異なるモデルのインスタンスも \n",
    "K\n",
    "0\n",
    " 個用意し、同様のことを行う。モデルが \n",
    "M\n",
    "0\n",
    " 個あれば、 \n",
    "M\n",
    "0\n",
    " 個のブレンドデータが得られる。"
   ]
  },
  {
   "cell_type": "markdown",
   "metadata": {},
   "source": [
    "\n",
    "（ステージ \n",
    "n\n",
    " ）\n",
    "\n",
    "\n",
    "ステージ \n",
    "n\n",
    "−\n",
    "1\n",
    " のブレンドデータを\n",
    "M\n",
    "n\n",
    "−\n",
    "1\n",
    " 次元の特徴量を持つ学習用データと考え、 \n",
    "K\n",
    "n\n",
    " 個に分割する。以下同様である。\n",
    "\n",
    "（ステージ \n",
    "N\n",
    " ）＊最後のステージ\n",
    "\n",
    "\n",
    "ステージ \n",
    "N\n",
    "−\n",
    "1\n",
    " の \n",
    "M\n",
    "N\n",
    "−\n",
    "1\n",
    " 個のブレンドデータを\n",
    "M\n",
    "N\n",
    "−\n",
    "1\n",
    " 次元の特徴量の入力として、1種類のモデルの学習を行う。これが最終的な推定を行うモデルとなる。"
   ]
  },
  {
   "cell_type": "markdown",
   "metadata": {},
   "source": [
    "《推定時》\n",
    "\n",
    "\n",
    "（ステージ \n",
    "0\n",
    " ）\n",
    "\n",
    "\n",
    "テストデータを \n",
    "K\n",
    "0\n",
    "×\n",
    "M\n",
    "0\n",
    " 個の学習済みモデルに入力し、\n",
    "K\n",
    "0\n",
    "×\n",
    "M\n",
    "0\n",
    " 個の推定値を得る。これを \n",
    "K\n",
    "0\n",
    " の軸で平均値を求め \n",
    "M\n",
    "0\n",
    " 次元の特徴量を持つデータを得る。（ブレンドテストと呼ぶ）\n",
    "\n",
    "（ステージ \n",
    "n\n",
    " ）\n",
    "\n",
    "\n",
    "ステージ \n",
    "n\n",
    "−\n",
    "1\n",
    " で得たブレンドテストを \n",
    "K\n",
    "n\n",
    "×\n",
    "M\n",
    "n\n",
    " 個の学習済みモデルに入力し、\n",
    "K\n",
    "n\n",
    "×\n",
    "M\n",
    "n\n",
    " 個の推定値を得る。これを \n",
    "K\n",
    "n\n",
    " の軸で平均値を求め \n",
    "M\n",
    "0\n",
    " 次元の特徴量を持つデータを得る。（ブレンドテストと呼ぶ）\n",
    "\n",
    "（ステージ \n",
    "N\n",
    " ）＊最後のステージ\n",
    "\n",
    "\n",
    "ステージ \n",
    "N\n",
    "−\n",
    "1\n",
    " で得たブレンドテストを学習済みモデルに入力し、推定値を得る。"
   ]
  },
  {
   "cell_type": "code",
   "execution_count": 54,
   "metadata": {},
   "outputs": [],
   "source": [
    "from sklearn.model_selection import KFold"
   ]
  },
  {
   "cell_type": "code",
   "execution_count": 38,
   "metadata": {},
   "outputs": [],
   "source": [
    "X1_train, X2_train, X3_train  = np.split(X_train, [340, 681])\n",
    "y1_train, y2_train, y3_train  = np.split(y_train, [340, 681])"
   ]
  },
  {
   "cell_type": "code",
   "execution_count": 39,
   "metadata": {},
   "outputs": [
    {
     "name": "stdout",
     "output_type": "stream",
     "text": [
      "MSE(reg1) 2047990274.8480294\n",
      "MSE(reg2) 2295774974.924504\n",
      "MSE(reg2) 1458207763.1083522\n"
     ]
    }
   ],
   "source": [
    "X_train1 = np.vstack((X2_train, X3_train))\n",
    "y_train1 = np.hstack((y2_train, y3_train))\n",
    "\n",
    "reg1_Gr = GradientBoostingRegressor(n_estimators=100,max_depth=5).fit(X_train1, y_train1)\n",
    "y_pred1_reg1_Gr =reg1_Gr.predict(X1_train)\n",
    "print(\"MSE(reg1)\",mean_squared_error(y1_train, y_pred1_reg1_Gr))\n",
    "\n",
    "\n",
    "X_train2 = np.vstack((X1_train, X3_train))\n",
    "y_train2 = np.hstack((y1_train, y3_train))\n",
    "\n",
    "reg2_Gr = GradientBoostingRegressor(n_estimators=500,max_depth=3).fit(X_train2, y_train2)\n",
    "y_pred2_reg2_Gr =reg2_Gr.predict(X2_train)\n",
    "print(\"MSE(reg2)\",mean_squared_error(y2_train, y_pred2_reg2_Gr))\n",
    "\n",
    "\n",
    "X_train3 = np.vstack((X1_train, X2_train))\n",
    "y_train3 = np.hstack((y1_train, y2_train))\n",
    "\n",
    "\n",
    "reg3_Gr = GradientBoostingRegressor(n_estimators=250,max_depth=5).fit(X_train3, y_train3)\n",
    "y_pred3_reg3_Gr =reg3_Gr.predict(X3_train)\n",
    "print(\"MSE(reg2)\",mean_squared_error(y3_train, y_pred3_reg3_Gr))\n",
    "\n",
    "y_train_Gr = np.hstack((y_pred1_reg1_Gr, y_pred2_reg2_Gr, y_pred2_reg2_Gr))"
   ]
  },
  {
   "cell_type": "code",
   "execution_count": 40,
   "metadata": {},
   "outputs": [
    {
     "name": "stdout",
     "output_type": "stream",
     "text": [
      "MSE(reg1) 1789291655.0779407\n",
      "MSE(reg2) 2088962682.1700788\n",
      "MSE(reg2) 1383718320.4924493\n"
     ]
    }
   ],
   "source": [
    "X_train1 = np.vstack((X2_train, X3_train))\n",
    "y_train1 = np.hstack((y2_train, y3_train))\n",
    "\n",
    "reg1_LG = lgb.LGBMRegressor(n_estimators=100,max_depth=5).fit(X_train1, y_train1)\n",
    "y_pred1_reg1_LG =reg1_LG.predict(X1_train)\n",
    "print(\"MSE(reg1)\",mean_squared_error(y1_train, y_pred1_reg1_LG))\n",
    "\n",
    "\n",
    "X_train2 = np.vstack((X1_train, X3_train))\n",
    "y_train2 = np.hstack((y1_train, y3_train))\n",
    "\n",
    "reg2_LG = lgb.LGBMRegressor(n_estimators=500,max_depth=3).fit(X_train2, y_train2)\n",
    "y_pred2_reg2_LG =reg2_LG.predict(X2_train)\n",
    "print(\"MSE(reg2)\",mean_squared_error(y2_train, y_pred2_reg2_LG))\n",
    "\n",
    "\n",
    "X_train3 = np.vstack((X1_train, X2_train))\n",
    "y_train3 = np.hstack((y1_train, y2_train))\n",
    "\n",
    "\n",
    "reg3_LG = lgb.LGBMRegressor(n_estimators=250,max_depth=5).fit(X_train3, y_train3)\n",
    "y_pred3_reg3_LG =reg3_LG.predict(X3_train)\n",
    "print(\"MSE(reg2)\",mean_squared_error(y3_train, y_pred3_reg3_LG))\n",
    "\n",
    "y_train_LG = np.hstack((y_pred1_reg1_LG, y_pred2_reg2_LG, y_pred2_reg2_LG))"
   ]
  },
  {
   "cell_type": "code",
   "execution_count": 41,
   "metadata": {},
   "outputs": [
    {
     "name": "stdout",
     "output_type": "stream",
     "text": [
      "MSE(reg1) 1973940158.6693058\n",
      "MSE(reg2) 2423912060.674026\n",
      "MSE(reg2) 1182302514.416233\n"
     ]
    }
   ],
   "source": [
    "X_train1 = np.vstack((X2_train, X3_train))\n",
    "y_train1 = np.hstack((y2_train, y3_train))\n",
    "\n",
    "reg1_RF = RandomForestRegressor(n_estimators=100,max_depth=5).fit(X_train1, y_train1)\n",
    "y_pred1_reg1_RF =reg1_RF.predict(X1_train)\n",
    "print(\"MSE(reg1)\",mean_squared_error(y1_train, y_pred1_reg1_RF))\n",
    "\n",
    "\n",
    "X_train2 = np.vstack((X1_train, X3_train))\n",
    "y_train2 = np.hstack((y1_train, y3_train))\n",
    "\n",
    "reg2_RF = RandomForestRegressor(n_estimators=500,max_depth=3).fit(X_train2, y_train2)\n",
    "y_pred2_reg2_RF =reg2_RF.predict(X2_train)\n",
    "print(\"MSE(reg2)\",mean_squared_error(y2_train, y_pred2_reg2_RF))\n",
    "\n",
    "\n",
    "X_train3 = np.vstack((X1_train, X2_train))\n",
    "y_train3 = np.hstack((y1_train, y2_train))\n",
    "\n",
    "\n",
    "reg3_RF = RandomForestRegressor(n_estimators=250,max_depth=5).fit(X_train3, y_train3)\n",
    "y_pred3_reg3_RF =reg3_RF.predict(X3_train)\n",
    "print(\"MSE(reg2)\",mean_squared_error(y3_train, y_pred3_reg3_RF))\n",
    "\n",
    "y_train_RF = np.hstack((y_pred1_reg1_RF, y_pred2_reg2_RF, y_pred2_reg2_RF))"
   ]
  },
  {
   "cell_type": "code",
   "execution_count": 42,
   "metadata": {},
   "outputs": [
    {
     "data": {
      "text/plain": [
       "(1022, 3)"
      ]
     },
     "execution_count": 42,
     "metadata": {},
     "output_type": "execute_result"
    }
   ],
   "source": [
    "train_mix = np.vstack((y_train_Gr, y_train_LG, y_train_RF)).T\n",
    "train_mix.shape"
   ]
  },
  {
   "cell_type": "code",
   "execution_count": 43,
   "metadata": {},
   "outputs": [],
   "source": [
    "xgb.XGBRegressor\n",
    "reg_end = xgb.XGBRegressor(n_estimators=250,max_depth=5).fit(train_mix, y_train)"
   ]
  },
  {
   "cell_type": "code",
   "execution_count": 44,
   "metadata": {},
   "outputs": [],
   "source": [
    "X_test1_Gr =reg1_Gr.predict(X_test)\n",
    "X_test2_Gr =reg2_Gr.predict(X_test)\n",
    "X_test3_Gr = reg3_Gr.predict(X_test)\n",
    "\n",
    "y_test_Gr = (X_test1_Gr + X_test2_Gr + X_test3_Gr) /3"
   ]
  },
  {
   "cell_type": "code",
   "execution_count": 46,
   "metadata": {},
   "outputs": [
    {
     "data": {
      "text/plain": [
       "(438,)"
      ]
     },
     "execution_count": 46,
     "metadata": {},
     "output_type": "execute_result"
    }
   ],
   "source": [
    "y_test_Gr.shape"
   ]
  },
  {
   "cell_type": "code",
   "execution_count": 47,
   "metadata": {},
   "outputs": [],
   "source": [
    "X_test1_LG =reg1_LG.predict(X_test)\n",
    "X_test2_LG =reg2_LG.predict(X_test)\n",
    "X_test3_LG = reg3_LG.predict(X_test)\n",
    "\n",
    "y_test_LG = (X_test1_LG + X_test2_LG + X_test3_LG) /3"
   ]
  },
  {
   "cell_type": "code",
   "execution_count": 48,
   "metadata": {},
   "outputs": [
    {
     "data": {
      "text/plain": [
       "(438,)"
      ]
     },
     "execution_count": 48,
     "metadata": {},
     "output_type": "execute_result"
    }
   ],
   "source": [
    "y_test_LG.shape"
   ]
  },
  {
   "cell_type": "code",
   "execution_count": 49,
   "metadata": {},
   "outputs": [],
   "source": [
    "X_test1_RF =reg1_RF.predict(X_test)\n",
    "X_test2_RF =reg2_RF.predict(X_test)\n",
    "X_test3_RF = reg3_RF.predict(X_test)\n",
    "\n",
    "y_test_RF = (X_test1_RF + X_test2_RF + X_test3_RF) /3"
   ]
  },
  {
   "cell_type": "code",
   "execution_count": 50,
   "metadata": {},
   "outputs": [
    {
     "data": {
      "text/plain": [
       "(438,)"
      ]
     },
     "execution_count": 50,
     "metadata": {},
     "output_type": "execute_result"
    }
   ],
   "source": [
    "y_test_RF.shape"
   ]
  },
  {
   "cell_type": "code",
   "execution_count": 51,
   "metadata": {},
   "outputs": [
    {
     "data": {
      "text/plain": [
       "(438, 3)"
      ]
     },
     "execution_count": 51,
     "metadata": {},
     "output_type": "execute_result"
    }
   ],
   "source": [
    "X_test_end = np.vstack((y_test_Gr,y_test_LG,y_test_RF)).T\n",
    "X_test_end.shape"
   ]
  },
  {
   "cell_type": "code",
   "execution_count": 52,
   "metadata": {},
   "outputs": [
    {
     "data": {
      "text/plain": [
       "(438,)"
      ]
     },
     "execution_count": 52,
     "metadata": {},
     "output_type": "execute_result"
    }
   ],
   "source": [
    "y_pred_end = reg_end.predict(X_test_end)\n",
    "y_pred_end.shape"
   ]
  },
  {
   "cell_type": "code",
   "execution_count": 53,
   "metadata": {},
   "outputs": [
    {
     "name": "stdout",
     "output_type": "stream",
     "text": [
      "MSE(Stacking) 3572015419.653251\n"
     ]
    }
   ],
   "source": [
    "print(\"MSE(Stacking)\",mean_squared_error(y_test, y_pred_end))"
   ]
  },
  {
   "cell_type": "code",
   "execution_count": 55,
   "metadata": {},
   "outputs": [],
   "source": [
    "class Stacking:\n",
    "    def __init__(self, models, end_model):\n",
    "        self.models = models\n",
    "        self.end_model = end_model\n",
    "\n",
    "    def fit(self, X, y, K, seed):\n",
    "        self.K = K\n",
    "        KF = KFold(n_splits=K, random_state=seed, shuffle=True)\n",
    "        self.pred_data = np.array([])\n",
    "\n",
    "        X = np.array(X)\n",
    "        y = np.array(y)\n",
    "        self.preds = np.array([])\n",
    "        self.model_list = []\n",
    "        for i, model in enumerate(self.models):\n",
    "            for train_index, test_index in KF.split(X):\n",
    "\n",
    "                self.model_list.append(model.fit(X[train_index], y[train_index]))\n",
    "                y_pred = model.predict(X[test_index])\n",
    "\n",
    "                self.preds = np.append(self.preds, y_pred)\n",
    "        self.preds = self.preds.reshape(len(self.models), X.shape[0]).T\n",
    "        self.end_model.fit(self.preds, y)\n",
    "\n",
    "    #         print(self.end_model)\n",
    "\n",
    "    def predict(self, X, y):\n",
    "        X = np.array(X)\n",
    "        y = np.array(y)\n",
    "        self.test_array = np.array([])\n",
    "        self.final_test = np.zeros((X.shape[0], self.K))\n",
    "        for model in self.model_list:\n",
    "            y_pred_test = model.predict(X)\n",
    "            self.test_array = np.append(self.test_array, y_pred_test)\n",
    "        #             print(self.test_array.shape,\"test_array\")\n",
    "        self.test_array = self.test_array.reshape(\n",
    "            len(self.models) * self.K, X.shape[0]\n",
    "        ).T\n",
    "        print(self.test_array.shape, \"test_array\")\n",
    "        for j, i in enumerate(range(0, len(self.models) * self.K - self.K, self.K)):\n",
    "            self.mean_pred = np.mean(self.test_array[:, i : i + self.K], axis=1)\n",
    "            self.final_test[:, j] = self.mean_pred\n",
    "        self.final_pred = self.end_model.predict(self.final_test)\n",
    "        print(self.final_test.shape, \"final_test\")\n",
    "        return self.final_pred"
   ]
  },
  {
   "cell_type": "code",
   "execution_count": 56,
   "metadata": {},
   "outputs": [],
   "source": [
    "models = [xgb.XGBRegressor(n_estimators=100,max_depth=5), GradientBoostingRegressor(n_estimators=100,max_depth=5), lgb.LGBMRegressor(n_estimators=100,max_depth=5)]"
   ]
  },
  {
   "cell_type": "code",
   "execution_count": 57,
   "metadata": {},
   "outputs": [
    {
     "data": {
      "text/plain": [
       "(0,)"
      ]
     },
     "execution_count": 57,
     "metadata": {},
     "output_type": "execute_result"
    }
   ],
   "source": [
    "St = Stacking(models,end_model=GradientBoostingRegressor(n_estimators=100,max_depth=5))\n",
    "St.fit(X=X_train, y=y_train,K=3,seed=0)\n",
    "St.pred_data.shape"
   ]
  },
  {
   "cell_type": "code",
   "execution_count": 58,
   "metadata": {},
   "outputs": [
    {
     "name": "stdout",
     "output_type": "stream",
     "text": [
      "(438, 9) test_array\n",
      "(438, 3) final_test\n",
      "MSE(Stacking) 13057076528.599543\n"
     ]
    }
   ],
   "source": [
    "y_pred_end = St.predict(X_test, y_test)\n",
    "print(\"MSE(Stacking)\",mean_squared_error(y_test, y_pred_end))"
   ]
  },
  {
   "cell_type": "code",
   "execution_count": null,
   "metadata": {},
   "outputs": [],
   "source": []
  }
 ],
 "metadata": {
  "kernelspec": {
   "display_name": "Python 3",
   "language": "python",
   "name": "python3"
  },
  "language_info": {
   "codemirror_mode": {
    "name": "ipython",
    "version": 3
   },
   "file_extension": ".py",
   "mimetype": "text/x-python",
   "name": "python",
   "nbconvert_exporter": "python",
   "pygments_lexer": "ipython3",
   "version": "3.7.4"
  },
  "toc": {
   "base_numbering": 1,
   "nav_menu": {},
   "number_sections": true,
   "sideBar": true,
   "skip_h1_title": false,
   "title_cell": "Table of Contents",
   "title_sidebar": "Contents",
   "toc_cell": false,
   "toc_position": {},
   "toc_section_display": true,
   "toc_window_display": false
  },
  "varInspector": {
   "cols": {
    "lenName": 16,
    "lenType": 16,
    "lenVar": 40
   },
   "kernels_config": {
    "python": {
     "delete_cmd_postfix": "",
     "delete_cmd_prefix": "del ",
     "library": "var_list.py",
     "varRefreshCmd": "print(var_dic_list())"
    },
    "r": {
     "delete_cmd_postfix": ") ",
     "delete_cmd_prefix": "rm(",
     "library": "var_list.r",
     "varRefreshCmd": "cat(var_dic_list()) "
    }
   },
   "types_to_exclude": [
    "module",
    "function",
    "builtin_function_or_method",
    "instance",
    "_Feature"
   ],
   "window_display": false
  }
 },
 "nbformat": 4,
 "nbformat_minor": 4
}
