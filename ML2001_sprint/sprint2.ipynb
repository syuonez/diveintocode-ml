{
 "cells": [
  {
   "cell_type": "markdown",
   "metadata": {},
   "source": [
    "# 機械学習　線形回帰スクラッチ"
   ]
  },
  {
   "cell_type": "code",
   "execution_count": 264,
   "metadata": {},
   "outputs": [],
   "source": [
    "import numpy as np\n",
    "import matplotlib.pyplot as plt\n",
    "import pandas as pd\n",
    "import seaborn as sns\n",
    "import missingno as msno"
   ]
  },
  {
   "cell_type": "code",
   "execution_count": 670,
   "metadata": {},
   "outputs": [],
   "source": [
    "class ScratchLinearRegression():\n",
    "    \"\"\"\n",
    "    線形回帰のスクラッチ実装\n",
    "\n",
    "    Parameters\n",
    "    ----------\n",
    "    num_iter : int\n",
    "      イテレーション数\n",
    "    lr : float\n",
    "      学習率\n",
    "    no_bias : bool\n",
    "      バイアス項を入れない場合はTrue\n",
    "    verbose : bool\n",
    "      学習過程を出力する場合はTrue\n",
    "\n",
    "    Attributes\n",
    "    ----------\n",
    "    self.coef_ : 次の形のndarray, shape (n_features,)\n",
    "      パラメータ\n",
    "    self.loss : 次の形のndarray, shape (self.iter,)\n",
    "      学習用データに対する損失の記録\n",
    "    self.val_loss : 次の形のndarray, shape (self.iter,)\n",
    "      検証用データに対する損失の記録\n",
    "\n",
    "    \"\"\"\n",
    "\n",
    "    def __init__(self, num_iter, lr, no_bias, verbose):\n",
    "        # ハイパーパラメータを属性として記録\n",
    "        self.iter = num_iter\n",
    "        self.lr = lr\n",
    "        self.no_bias = no_bias\n",
    "        self.verbose = verbose\n",
    "        # 損失を記録する配列を用意\n",
    "        self.loss = np.zeros(self.iter)\n",
    "        self.val_loss = np.zeros(self.iter)\n",
    "        \n",
    "       #重みシータ 更新していく \n",
    "        self.coef = None \n",
    "        \n",
    "    def fit(self, X, y, X_val=None, y_val=None, val=False):\n",
    "        \"\"\"\n",
    "        線形回帰を学習する。検証用データが入力された場合はそれに対する損失と精度もイテレーションごとに計算する。\n",
    "\n",
    "        Parameters\n",
    "        ----------\n",
    "        X : 次の形のndarray, shape (n_samples, n_features)\n",
    "            学習用データの特徴量\n",
    "        y : 次の形のndarray, shape (n_samples, )\n",
    "            学習用データの正解値\n",
    "        X_val : 次の形のndarray, shape (n_samples, n_features)\n",
    "            検証用データの特徴量\n",
    "        y_val : 次の形のndarray, shape (n_samples, )\n",
    "            検証用データの正解値\n",
    "        \"\"\"\n",
    "        \n",
    "        self.X_train =X\n",
    "        self.y = y\n",
    "        self.X_val = X_val\n",
    "        self.y_val = y_val\n",
    "        \n",
    "        \n",
    "        \n",
    "            \n",
    "        if not self.no_bias:\n",
    "            X_bias= np.ones((self.X_train.shape[0],1))\n",
    "            X_train_bias = np.concatenate([X_bias,self.X_train], 1)\n",
    "            print(X_train_bias.shape)\n",
    "            print(y.shape)\n",
    "            #y = np.random.rand(X_train_bias.shape[0],1)\n",
    "            if val:\n",
    "                X_val_bias_b= np.ones((self.X_val.shape[0],1))\n",
    "                print( X_val_bias_b.shape)\n",
    "                X_val_bias = np.concatenate([X_val_bias_b,self.X_val], 1)\n",
    "                print(X_val_bias.shape)\n",
    "                #y_val = np.random.rand(X_val_bias.shape[0],1)\n",
    "        #coefの初期値だけ作る\n",
    "        self.coef = np.random.randn(X_train_bias.shape[1],1) #heta 平均0、分散1（標準偏差1）の正規分布（標準正規分布）に従う乱数を返す。      \n",
    "        \n",
    "\n",
    "        for i in range(self.iter):\n",
    "            #予測した住宅価格(仮定関数)\n",
    "            hyho = self._linear_hypothesis(X_train_bias) \n",
    "            # error (予測と実測の誤差)\n",
    "#             print(hyho.shape)\n",
    "#             print(self.y.shape)\n",
    "#             print(type(self.y))\n",
    "#             self.y = self.y.values.reshape(hyho.shape)\n",
    "#             print(self.y.shape)\n",
    "            error = (hyho) - self.y\n",
    "            #coef更新\n",
    "            self.coef = self._gradient_descent(X_train_bias, error)\n",
    "\n",
    "            #MSEに必要なy_predを予測するためにdef predict\n",
    "            pred_y = self.predict(X_train_bias) #y_pred更新\n",
    "            #目的関数（損失関数）\n",
    "            self.loss[i] = self.mse(pred_y, self.y) / 2\n",
    "            if val:\n",
    "                hyho_val= self._linear_hypothesis(X_val_bias)\n",
    "                error_val = (hyho_val) - self.y_val\n",
    "                self.coef = self._gradient_descent(X_val_bias, error_val)\n",
    "                #???\n",
    "                pred_y_val = self.predict(X_val_bias) \n",
    "                self.val_loss[i] = self.mse(pred_y_val, self.y_val) / 2\n",
    "            if (self.verbose) & (i % 100 == 0):\n",
    "                print(f'train：{self.loss[i]}')\n",
    "                if val:\n",
    "                    print(f'val：{self.val_loss[i]}')\n",
    "        \n",
    "        \n",
    "        \n",
    "        \n",
    "        \n",
    "    def predict(self, X): \n",
    "        \"\"\"\n",
    "        線形回帰を使い推定する。\n",
    "\n",
    "        Parameters\n",
    "        ----------\n",
    "        X : 次の形のndarray, shape (n_samples, n_features)\n",
    "            サンプル\n",
    "\n",
    "        Returns\n",
    "        -------\n",
    "            次の形のndarray, shape (n_samples, 1)\n",
    "            線形回帰による推定結果\n",
    "        \"\"\"\n",
    "        # ベストな固定値coefを使う\n",
    "        y_pred = np.dot(X, self.coef) #ベストなthetaとテストデータで目的関数y_predを予測　X=X_test\n",
    "        \n",
    "        \n",
    "        return y_pred\n",
    "    \n",
    "    \n",
    "      \n",
    "    \n",
    "    def _linear_hypothesis(self,X):\n",
    "        \"\"\"\n",
    "        線形の仮定関数を計算する\n",
    "\n",
    "        Parameters\n",
    "        ----------\n",
    "        X : 次の形のndarray, shape (n_samples, n_features)\n",
    "          学習データ\n",
    "\n",
    "        Returns\n",
    "        -------\n",
    "          次の形のndarray, shape (n_samples, 1)\n",
    "          線形の仮定関数による推定結果\n",
    "\n",
    "        \"\"\"\n",
    "        hyho = np.dot(X, self.coef) # 内積して  線形回帰の仮定関数 \n",
    "       \n",
    "        return hyho\n",
    "    \n",
    "    def _gradient_descent(self,X, error):\n",
    "        \"\"\"\n",
    "        説明を記述\n",
    "        \"\"\"\n",
    "        \n",
    "\n",
    "        #  式を実装\n",
    "        grad = np.dot(X.T, error)\n",
    "\n",
    "        nanka = (self.lr/X.shape[0])*grad\n",
    "\n",
    "        self.coef = self.coef - nanka\n",
    "        #更新するcoef\n",
    "        return self.coef\n",
    "    \n",
    "    def mse(self,y_pred, y):\n",
    "        \"\"\"\n",
    "        平均二乗誤差の計算\n",
    "\n",
    "        Parameters\n",
    "        ----------\n",
    "        y_pred : 次の形のndarray, shape (n_samples,)\n",
    "          推定した値\n",
    "        y : 次の形のndarray, shape (n_samples,)\n",
    "          正解値\n",
    "\n",
    "        Returns\n",
    "        ----------\n",
    "        mse : numpy.float\n",
    "          平均二乗誤差\n",
    "        \"\"\"\n",
    "        return np.mean(np.power(y_pred - y, 2))\n",
    "  \n",
    "        \n",
    "\n",
    "       \n",
    "        return"
   ]
  },
  {
   "cell_type": "code",
   "execution_count": 671,
   "metadata": {},
   "outputs": [],
   "source": [
    "from sklearn.datasets import load_boston\n",
    "\n",
    "boston = load_boston()\n",
    "X = boston['data']\n",
    "y = boston['target']"
   ]
  },
  {
   "cell_type": "code",
   "execution_count": null,
   "metadata": {},
   "outputs": [],
   "source": []
  },
  {
   "cell_type": "code",
   "execution_count": 672,
   "metadata": {},
   "outputs": [],
   "source": [
    "my_lr = ScratchLinearRegression(2000, 0.000000000001, no_bias=False,verbose=True)"
   ]
  },
  {
   "cell_type": "code",
   "execution_count": 673,
   "metadata": {
    "scrolled": true
   },
   "outputs": [
    {
     "name": "stdout",
     "output_type": "stream",
     "text": [
      "(506, 14)\n",
      "(506,)\n",
      "train：458470.43626058364\n",
      "train：458442.0934848504\n",
      "train：458413.75248185\n",
      "train：458385.4132514715\n",
      "train：458357.07579360425\n",
      "train：458328.74010813684\n",
      "train：458300.40619495854\n",
      "train：458272.0740539584\n",
      "train：458243.74368502555\n",
      "train：458215.41508804885\n",
      "train：458187.0882629175\n",
      "train：458158.76320952066\n",
      "train：458130.4399277473\n",
      "train：458102.11841748666\n",
      "train：458073.7986786278\n",
      "train：458045.4807110598\n",
      "train：458017.1645146719\n",
      "train：457988.8500893528\n",
      "train：457960.5374349922\n",
      "train：457932.2265514789\n"
     ]
    }
   ],
   "source": [
    "my_lr.fit(X, y)"
   ]
  },
  {
   "cell_type": "code",
   "execution_count": null,
   "metadata": {},
   "outputs": [],
   "source": []
  },
  {
   "cell_type": "markdown",
   "metadata": {},
   "source": [
    "# 【問題1】仮定関数"
   ]
  },
  {
   "cell_type": "markdown",
   "metadata": {},
   "source": [
    "以下の数式で表される線形回帰の仮定関数を実装してください。メソッドの雛形を用意してあります"
   ]
  },
  {
   "cell_type": "markdown",
   "metadata": {},
   "source": [
    "# 【問題2】最急降下法"
   ]
  },
  {
   "cell_type": "markdown",
   "metadata": {},
   "source": [
    "最急降下法により学習させる実装を行なってください。以下の式で表されるパラメータの更新式のメソッド_gradient_descentを追加し、fit\n",
    "メソッドから呼び出すようにしてください"
   ]
  },
  {
   "cell_type": "markdown",
   "metadata": {},
   "source": [
    "# 【問題3】推定"
   ]
  },
  {
   "cell_type": "markdown",
   "metadata": {},
   "source": [
    "推定する仕組みを実装してください。ScratchLinearRegressionクラスの雛形に含まれるpredictメソッドに書き加えてください。"
   ]
  },
  {
   "cell_type": "markdown",
   "metadata": {},
   "source": [
    "# 【問題4】平均二乗誤差"
   ]
  },
  {
   "cell_type": "markdown",
   "metadata": {},
   "source": [
    "線形回帰の指標値として用いられる平均二乗誤差（mean square error, MSE）の関数を作成してください。\n",
    "\n",
    "平均二乗誤差関数は回帰問題全般で使える関数のため、ScratchLinearRegressionクラスのメソッドではなく、別の関数として作成してください。雛形を用意してあります。\n",
    "\n",
    "平均二乗誤差は以下の数式で表されます。"
   ]
  },
  {
   "cell_type": "markdown",
   "metadata": {},
   "source": [
    "＊上に記載"
   ]
  },
  {
   "cell_type": "markdown",
   "metadata": {},
   "source": [
    "# 【問題5】目的関数"
   ]
  },
  {
   "cell_type": "markdown",
   "metadata": {},
   "source": [
    "以下の数式で表される線形回帰の 目的関数（損失関数） を実装してください。そして、これをself.loss, self.val_lossに記録するようにしてください。\n",
    "\n",
    "目的関数（損失関数） は次の式です。"
   ]
  },
  {
   "cell_type": "markdown",
   "metadata": {},
   "source": [
    "# 【問題6】学習と推定"
   ]
  },
  {
   "cell_type": "markdown",
   "metadata": {},
   "source": [
    "機械学習スクラッチ入門のSprintで用意したHouse Pricesコンペティションのデータに対してスクラッチ実装の学習と推定を行なってください。\n",
    "\n",
    "scikit-learnによる実装と比べ、正しく動いているかを確認してください。"
   ]
  },
  {
   "cell_type": "code",
   "execution_count": 674,
   "metadata": {
    "scrolled": true
   },
   "outputs": [],
   "source": [
    "train = pd.read_csv('h_train.csv')\n",
    "test = pd.read_csv('h_test.csv')\n",
    "y_ = train['SalePrice']\n",
    "del train['SalePrice']\n",
    "train = train.select_dtypes(include=['int', 'float'])\n",
    "test = test.select_dtypes(include=['int', 'float'])\n",
    "train = train.replace(np.inf, np.nan).fillna(0)\n",
    "test = test.replace(np.inf, np.nan).fillna(0)\n",
    "\n",
    "\n",
    "\n",
    "\n",
    "from sklearn.preprocessing import StandardScaler\n",
    "sc = StandardScaler()\n",
    "train = sc.fit_transform(train)\n",
    "test = sc.transform(test)"
   ]
  },
  {
   "cell_type": "code",
   "execution_count": 675,
   "metadata": {},
   "outputs": [
    {
     "data": {
      "text/plain": [
       "0       208500\n",
       "1       181500\n",
       "2       223500\n",
       "3       140000\n",
       "4       250000\n",
       "         ...  \n",
       "1455    175000\n",
       "1456    210000\n",
       "1457    266500\n",
       "1458    142125\n",
       "1459    147500\n",
       "Name: SalePrice, Length: 1460, dtype: int64"
      ]
     },
     "execution_count": 675,
     "metadata": {},
     "output_type": "execute_result"
    }
   ],
   "source": [
    "y_"
   ]
  },
  {
   "cell_type": "code",
   "execution_count": 676,
   "metadata": {},
   "outputs": [],
   "source": [
    "#y_.values.reshape([1460,1])"
   ]
  },
  {
   "cell_type": "code",
   "execution_count": 677,
   "metadata": {},
   "outputs": [],
   "source": [
    "#y_[:, np.newaxis]"
   ]
  },
  {
   "cell_type": "code",
   "execution_count": 678,
   "metadata": {
    "scrolled": true
   },
   "outputs": [
    {
     "name": "stdout",
     "output_type": "stream",
     "text": [
      "(978, 37)\n",
      "(482, 37)\n",
      "(978,)\n",
      "(482,)\n"
     ]
    }
   ],
   "source": [
    "from sklearn.model_selection import train_test_split\n",
    "train, val_train, train_y, val_y = train_test_split(train, y_, test_size=0.33, random_state=42)\n",
    "print(train.shape)\n",
    "print(val_train.shape)\n",
    "print(train_y.shape)\n",
    "print(val_y.shape)\n"
   ]
  },
  {
   "cell_type": "code",
   "execution_count": 679,
   "metadata": {
    "scrolled": true
   },
   "outputs": [],
   "source": [
    "#train_y[:, np.newaxis].shape\n",
    "train_y = train_y[:, np.newaxis]\n"
   ]
  },
  {
   "cell_type": "code",
   "execution_count": 680,
   "metadata": {},
   "outputs": [],
   "source": [
    "# val_y[:, np.newaxis].shape\n",
    "val_y = val_y[:, np.newaxis]"
   ]
  },
  {
   "cell_type": "code",
   "execution_count": 695,
   "metadata": {
    "scrolled": true
   },
   "outputs": [],
   "source": [
    "my_lr2 = ScratchLinearRegression(10000, 0.0001, no_bias=False, verbose=True)\n"
   ]
  },
  {
   "cell_type": "code",
   "execution_count": 696,
   "metadata": {
    "scrolled": true
   },
   "outputs": [
    {
     "name": "stdout",
     "output_type": "stream",
     "text": [
      "(978, 38)\n",
      "(978, 1)\n",
      "(482, 1)\n",
      "(482, 38)\n",
      "train：19281060818.321342\n",
      "val：19977781621.18117\n",
      "train：18072698342.558083\n",
      "val：18760506712.97765\n",
      "train：17024397458.62692\n",
      "val：17702212804.02037\n",
      "train：16103007277.304386\n",
      "val：16769712534.698132\n",
      "train：15283106205.495659\n",
      "val：15937644079.868963\n",
      "train：14545157646.766224\n",
      "val：15186586913.572618\n",
      "train：13874108009.168015\n",
      "val：14501632403.433615\n",
      "train：13258320764.468458\n",
      "val：13871299480.585407\n",
      "train：12688765851.206984\n",
      "val：13286712100.04664\n",
      "train：12158403116.075077\n",
      "val：12740975295.064579\n",
      "train：11661713223.098913\n",
      "val：12228701874.567364\n",
      "train：11194340651.093634\n",
      "val：11745653382.656391\n",
      "train：10752821899.618795\n",
      "val：11288467718.945518\n",
      "train：10334378479.70321\n",
      "val：10854452480.974787\n",
      "train：9936759169.593824\n",
      "val：10441428145.317656\n",
      "train：9558119741.05869\n",
      "val：10047609039.78515\n",
      "train：9196931191.840206\n",
      "val：9671512969.366123\n",
      "train：8851909669.9942\n",
      "val：9311892566.41543\n",
      "train：8521962909.549731\n",
      "val：8967683110.502645\n",
      "train：8206149238.338467\n",
      "val：8637962833.821463\n",
      "train：7903646162.261295\n",
      "val：8321922691.699523\n",
      "train：7613726247.293971\n",
      "val：8018843308.581934\n",
      "train：7335738565.573774\n",
      "val：7728077364.076739\n",
      "train：7069094386.266098\n",
      "val：7449036103.882845\n",
      "train：6813256106.964537\n",
      "val：7181178979.023343\n",
      "train：6567728660.967574\n",
      "val：6924005658.325921\n",
      "train：6332052818.00851\n",
      "val：6677049842.151736\n",
      "train：6105799934.650701\n",
      "val：6439874444.102575\n",
      "train：5888567816.052429\n",
      "val：6212067812.5531435\n",
      "train：5679977431.096007\n",
      "val：5993240743.488699\n",
      "train：5479670284.00292\n",
      "val：5783024096.446413\n",
      "train：5287306292.10724\n",
      "val：5581066871.036613\n",
      "train：5102562054.921459\n",
      "val：5387034636.10435\n",
      "train：4925129426.653555\n",
      "val：5200608229.771369\n",
      "train：4754714324.936441\n",
      "val：5021482668.410818\n",
      "train：4591035724.245658\n",
      "val：4849366217.598748\n",
      "train：4433824794.471989\n",
      "val：4683979589.426502\n",
      "train：4282824154.2715707\n",
      "val：4525055239.135428\n",
      "train：4137787215.810792\n",
      "val：4372336740.521336\n",
      "train：3998477602.8708005\n",
      "val：4225578224.459904\n",
      "train：3864668628.3679233\n",
      "val：4084543868.611683\n",
      "train：3736142820.4793706\n",
      "val：3949007429.1680903\n",
      "train：3612691488.96518\n",
      "val：3818751807.618847\n",
      "train：3494114325.120219\n",
      "val：3693568647.123763\n",
      "train：3380219030.205824\n",
      "val：3573257954.2839303\n",
      "train：3270820968.3004465\n",
      "val：3457627743.0255265\n",
      "train：3165742840.3478775\n",
      "val：3346493698.0043235\n",
      "train：3064814376.830131\n",
      "val：3239678855.4670873\n",
      "train：2967872046.993769\n",
      "val：3137013299.9071217\n",
      "train：2874758782.947313\n",
      "val：3038333875.1568213\n",
      "train：2785323717.2504435\n",
      "val：2943483908.794222\n",
      "train：2699421932.8517513\n",
      "val：2852312948.919935\n",
      "train：2616914224.4170403\n",
      "val：2764676512.4996467\n",
      "train：2537666870.235912\n",
      "val：2680435844.575265\n",
      "train：2461551414.0095677\n",
      "val：2599457687.7323318\n",
      "train：2388444455.9146385\n",
      "val：2521614061.278424\n",
      "train：2318227452.411016\n",
      "val：2446782049.640715\n",
      "train：2250786524.3213577\n",
      "val：2374843599.5347834\n",
      "train：2186012272.75781\n",
      "val：2305685325.492332\n",
      "train：2123799602.511364\n",
      "val：2239198323.3656898\n",
      "train：2064047552.5519369\n",
      "val：2175277991.4523296\n",
      "train：2006659133.3150632\n",
      "val：2113823858.9048402\n",
      "train：1951541170.4741328\n",
      "val：2054739421.1107807\n",
      "train：1898604154.917432\n",
      "val：1997931981.744306\n",
      "train：1847762098.6664143\n",
      "val：1943312501.206592\n",
      "train：1798932396.4869633\n",
      "val：1890795451.1863067\n",
      "train：1752035692.958936\n",
      "val：1840298675.0842257\n",
      "train：1706995754.7812302\n",
      "val：1791743254.0578766\n",
      "train：1663739348.1010053\n",
      "val：1745053378.4537084\n",
      "train：1622196120.6649394\n",
      "val：1700156224.4038844\n",
      "train：1582298488.6005402\n",
      "val：1656981835.3756592\n",
      "train：1543981527.6432996\n",
      "val：1615463008.4697564\n",
      "train：1507182868.633764\n",
      "val：1575535185.2733312\n",
      "train：1471842597.116123\n",
      "val：1537136347.0815167\n",
      "train：1437903156.8766494\n",
      "val：1500206914.3092563\n",
      "train：1405309257.2672722\n",
      "val：1464689649.9229312\n",
      "train：1374007784.1655753\n",
      "val：1430529566.728322\n",
      "train：1343947714.428644\n",
      "val：1397673838.3584185\n",
      "train：1315080033.703883\n",
      "val：1366071713.8112001\n",
      "train：1287357657.4652398\n",
      "val：1335674435.3936267\n",
      "train：1260735355.1485798\n",
      "val：1306435159.9342527\n",
      "train：1235169677.264831\n",
      "val：1278308883.1324382\n",
      "train：1210618885.3743415\n",
      "val：1251252366.917715\n",
      "train：1187042884.8104568\n",
      "val：1225224069.698103\n",
      "train：1164403160.0446553\n",
      "val：1200184079.3811078\n",
      "train：1142662712.5897684\n",
      "val：1176094049.055918\n",
      "train：1121786001.3419633\n",
      "val：1152917135.2300494\n",
      "train：1101738885.2658577\n",
      "val：1130617938.517812\n",
      "train：1082488568.3310585\n",
      "val：1109162446.682476\n",
      "train：1064003546.6118294\n",
      "val：1088517979.9377575\n",
      "train：1046253557.4651386\n",
      "val：1068653138.4182888\n",
      "train：1029209530.7055418\n",
      "val：1049537751.7322527\n",
      "train：1012843541.6986741\n",
      "val：1031142830.5130752\n",
      "train：997128766.2980622\n",
      "val：1013440519.8903282\n",
      "train：982039437.5528919\n",
      "val：996404054.8031526\n",
      "train：967550804.1173381\n",
      "val：980007717.0828894\n",
      "train：953639090.2946323\n",
      "val：964226794.2342948\n",
      "train：940281457.6516514\n",
      "val：949037539.8476568\n",
      "train：927455968.1424239\n",
      "val：934417135.5769212\n",
      "train：915141548.6813695\n",
      "val：920343654.6215788\n"
     ]
    }
   ],
   "source": [
    "my_lr2.fit(train, train_y, val_train, val_y, val=True)"
   ]
  },
  {
   "cell_type": "markdown",
   "metadata": {},
   "source": [
    "# 【問題7】学習曲線のプロット"
   ]
  },
  {
   "cell_type": "markdown",
   "metadata": {},
   "source": [
    "学習曲線を表示する関数を作成し、実行してください。グラフを見て損失が適切に下がっているかどうか確認してください。\n",
    "\n",
    "線形回帰クラスの雛形ではself.loss, self.val_lossに損失を記録しておくようになっているため、入力にはこれを利用してください。"
   ]
  },
  {
   "cell_type": "code",
   "execution_count": 697,
   "metadata": {},
   "outputs": [],
   "source": [
    "x=list(range(len(my_lr2.loss)))"
   ]
  },
  {
   "cell_type": "code",
   "execution_count": 698,
   "metadata": {},
   "outputs": [
    {
     "data": {
      "image/png": "[encoded data removed]",
      "text/plain": [
       "<Figure size 1080x720 with 1 Axes>"
      ]
     },
     "metadata": {
      "needs_background": "light"
     },
     "output_type": "display_data"
    }
   ],
   "source": [
    "import matplotlib.pyplot as plt\n",
    "plt.figure(figsize=(15,10))\n",
    "plt.scatter(x, my_lr2.val_loss, label='val')\n",
    "plt.scatter(x,my_lr2.loss, label='train')\n",
    "plt.legend()\n",
    "plt.show()"
   ]
  },
  {
   "cell_type": "code",
   "execution_count": null,
   "metadata": {},
   "outputs": [],
   "source": []
  }
 ],
 "metadata": {
  "kernelspec": {
   "display_name": "Python 3",
   "language": "python",
   "name": "python3"
  },
  "language_info": {
   "codemirror_mode": {
    "name": "ipython",
    "version": 3
   },
   "file_extension": ".py",
   "mimetype": "text/x-python",
   "name": "python",
   "nbconvert_exporter": "python",
   "pygments_lexer": "ipython3",
   "version": "3.7.4"
  }
 },
 "nbformat": 4,
 "nbformat_minor": 2
}
